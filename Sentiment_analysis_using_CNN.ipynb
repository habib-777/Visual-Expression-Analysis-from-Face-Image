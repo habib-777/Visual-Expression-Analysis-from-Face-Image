{
  "nbformat": 4,
  "nbformat_minor": 0,
  "metadata": {
    "colab": {
      "name": "Sentiment analysis using CNN (maam).ipynb",
      "provenance": [],
      "collapsed_sections": []
    },
    "kernelspec": {
      "name": "python3",
      "display_name": "Python 3"
    },
    "accelerator": "TPU"
  },
  "cells": [
    {
      "cell_type": "markdown",
      "metadata": {
        "id": "z1YSJEMtXIX2"
      },
      "source": [
        "***Final code for thesis book***"
      ]
    },
    {
      "cell_type": "code",
      "metadata": {
        "colab": {
          "base_uri": "https://localhost:8080/"
        },
        "id": "-UzdqGDBHyKx",
        "outputId": "726260ea-ff86-47ba-ebcc-a89ff016a1f9"
      },
      "source": [
        "from google.colab import drive\n",
        "drive.mount('/content/drive')"
      ],
      "execution_count": null,
      "outputs": [
        {
          "output_type": "stream",
          "text": [
            "Mounted at /content/drive\n"
          ],
          "name": "stdout"
        }
      ]
    },
    {
      "cell_type": "code",
      "metadata": {
        "id": "WKMKRFSzH8zl"
      },
      "source": [
        "import os\n",
        "input_path = '/content/drive/MyDrive/Temporary/train_modi_ck'"
      ],
      "execution_count": null,
      "outputs": []
    },
    {
      "cell_type": "code",
      "metadata": {
        "id": "JlgSd8wRI1Q5"
      },
      "source": [
        "# Ignore  the warnings\n",
        "import warnings\n",
        "\n",
        "warnings.filterwarnings('always')\n",
        "warnings.filterwarnings('ignore')\n",
        "\n",
        "\n",
        "# data visualisation and manipulation\n",
        "import numpy as np\n",
        "import pandas as pd\n",
        "import matplotlib.pyplot as plt\n",
        "from matplotlib import style\n",
        "import seaborn as sns\n",
        "style.use('fivethirtyeight')\n",
        "sns.set(style='whitegrid', color_codes=True, font_scale=1.5)\n",
        "\n",
        "# model selection\n",
        "from sklearn.model_selection import train_test_split\n",
        "from sklearn.model_selection import KFold\n",
        "from sklearn.metrics import accuracy_score, precision_score, recall_score, confusion_matrix, roc_curve, roc_auc_score\n",
        "from sklearn.model_selection import GridSearchCV\n",
        "from sklearn.preprocessing import LabelEncoder\n",
        "# preprocess.\n",
        "from keras.preprocessing.image import ImageDataGenerator\n",
        "\n",
        "# dl libraraies\n",
        "from keras import backend as K\n",
        "from keras.models import Sequential\n",
        "from keras.layers import Dense\n",
        "from keras.optimizers import Adam, SGD, Adagrad, Adadelta, RMSprop\n",
        "from keras.utils import to_categorical\n",
        "\n",
        "# specifically for cnn\n",
        "from keras.layers import Dropout, Flatten, Activation\n",
        "from keras.layers import Conv2D,BatchNormalization , MaxPooling2D, GlobalAveragePooling2D\n",
        "\n",
        "import tensorflow as tf\n",
        "import random as rn\n",
        "# specifically for manipulating zipped images and getting numpy arrays of pixel values of images.\n",
        "import cv2\n",
        "from imutils import paths\n",
        "import numpy as np\n",
        "from tqdm import tqdm\n",
        "import os\n",
        "from random import shuffle\n",
        "from zipfile import ZipFile\n",
        "from PIL import Image\n",
        "\n",
        "from skimage.color import rgb2gray\n",
        "from skimage.morphology import erosion, dilation, opening, closing, white_tophat\n",
        "from skimage.morphology import disk\n"
      ],
      "execution_count": null,
      "outputs": []
    },
    {
      "cell_type": "code",
      "metadata": {
        "colab": {
          "base_uri": "https://localhost:8080/"
        },
        "id": "50Mi56bAJUh8",
        "outputId": "b317216b-2107-4a02-c78b-0bbaa41f1c10"
      },
      "source": [
        "for dir_ in os.listdir(input_path):\n",
        "\n",
        "    count = 0\n",
        "    for f in os.listdir(input_path + \"/\"+ dir_ ):\n",
        "        count += 1\n",
        "    print(f\"{dir_} has {count} number of images\")"
      ],
      "execution_count": null,
      "outputs": [
        {
          "output_type": "stream",
          "text": [
            "sad has 204 number of images\n",
            "happy has 216 number of images\n",
            "angry has 160 number of images\n",
            "surprise has 224 number of images\n"
          ],
          "name": "stdout"
        }
      ]
    },
    {
      "cell_type": "code",
      "metadata": {
        "colab": {
          "base_uri": "https://localhost:8080/"
        },
        "id": "4tQZlkS9JZtM",
        "outputId": "23b39656-8d87-4be0-a611-8ca311a82898"
      },
      "source": [
        "!pip install mtcnn"
      ],
      "execution_count": null,
      "outputs": [
        {
          "output_type": "stream",
          "text": [
            "Collecting mtcnn\n",
            "\u001b[?25l  Downloading https://files.pythonhosted.org/packages/67/43/abee91792797c609c1bf30f1112117f7a87a713ebaa6ec5201d5555a73ef/mtcnn-0.1.0-py3-none-any.whl (2.3MB)\n",
            "\u001b[K     |████████████████████████████████| 2.3MB 6.7MB/s \n",
            "\u001b[?25hRequirement already satisfied: opencv-python>=4.1.0 in /usr/local/lib/python3.7/dist-packages (from mtcnn) (4.1.2.30)\n",
            "Requirement already satisfied: keras>=2.0.0 in /usr/local/lib/python3.7/dist-packages (from mtcnn) (2.4.3)\n",
            "Requirement already satisfied: numpy>=1.14.5 in /usr/local/lib/python3.7/dist-packages (from opencv-python>=4.1.0->mtcnn) (1.19.5)\n",
            "Requirement already satisfied: scipy>=0.14 in /usr/local/lib/python3.7/dist-packages (from keras>=2.0.0->mtcnn) (1.4.1)\n",
            "Requirement already satisfied: pyyaml in /usr/local/lib/python3.7/dist-packages (from keras>=2.0.0->mtcnn) (3.13)\n",
            "Requirement already satisfied: h5py in /usr/local/lib/python3.7/dist-packages (from keras>=2.0.0->mtcnn) (2.10.0)\n",
            "Requirement already satisfied: six in /usr/local/lib/python3.7/dist-packages (from h5py->keras>=2.0.0->mtcnn) (1.15.0)\n",
            "Installing collected packages: mtcnn\n",
            "Successfully installed mtcnn-0.1.0\n"
          ],
          "name": "stdout"
        }
      ]
    },
    {
      "cell_type": "code",
      "metadata": {
        "id": "nD1VE6LZJeFE"
      },
      "source": [
        "from mtcnn.mtcnn import MTCNN\n",
        "\n",
        "detector = MTCNN()\n",
        "X = []              #  initilize a list for image array\n",
        "Z = []              #  initialize a list for image label\n",
        "\n",
        "ANGER_DIR='/content/drive/MyDrive/Temporary/train_modi_ck/angry'\n",
        "HAPPY_DIR='/content/drive/MyDrive/Temporary/train_modi_ck/happy'\n",
        "SADNESS_DIR='/content/drive/MyDrive/Temporary/train_modi_ck/sad'\n",
        "SURPRISE_DIR='/content/drive/MyDrive/Temporary/train_modi_ck/surprise'\n",
        "\n",
        "\n",
        "def assign_label(img, emotion_type):\n",
        "    return emotion_type\n",
        "\n",
        "def make_train_data(emotion_type, DIR,c,b,f):\n",
        "    \n",
        "    for img in tqdm(os.listdir(DIR)):\n",
        "        c=c+1\n",
        "        label = assign_label(img, emotion_type)             #   emotion class of the selected image assign into the 'label' variable\n",
        "        \n",
        "        path = os.path.join(DIR, img)\n",
        "        img =  cv2.imread(path)[:,:,::-1]\n",
        "        # fig, axes = plt.subplots(1,4,figsize = (8,4))\n",
        "        # ax = axes.ravel()   \n",
        "        \n",
        "        faces = detector.detect_faces(img)\n",
        "        if faces:\n",
        "          b=b+1\n",
        "        #   print(\"True\")\n",
        "       \n",
        "          twidth, theight = 0,0\n",
        "          for result in faces:\n",
        "            \n",
        "            # get coordinates\n",
        "            x, y, width, height = result['box']\n",
        "            print(f\"x = {x}, y = {y}, w = {width}, h = {height}\")\n",
        "            if width > twidth and height >theight:\n",
        "              twidth , theight = width , height\n",
        "              x2,y2= x+twidth , y+theight\n",
        "              roi = img[ y:y2 , x:x2 ]\n",
        "              roi = roi[:,:,::-1]\n",
        "              roi_gray = cv2.cvtColor(roi, cv2.COLOR_RGB2GRAY)\n",
        "              roi_gray = cv2.resize(roi_gray, (120,120))\n",
        "              selem = disk(20)\n",
        "              eroted_img = erosion(roi_gray , selem)\n",
        "              new_img = roi_gray - eroted_img\n",
        "            else:\n",
        "              continue\n",
        "            \n",
        "          \n",
        "          # ax[0].imshow(roi)\n",
        "          # ax[0].set_title('Roi')\n",
        "\n",
        "          # ax[1].imshow(roi_gray, cmap=plt.cm.gray)\n",
        "          # ax[1].set_title('Roi_Gray')\n",
        "\n",
        "          # ax[2].imshow(new_img)\n",
        "          # ax[2].set_title('erosion_subtracted')\n",
        "\n",
        "          # ax[3].imshow(img[:,:,::-1])\n",
        "          # ax[3].set_title( \"Detected face\")\n",
        "\n",
        "          \n",
        "          # plt.show()\n",
        "\n",
        "\n",
        "          X.append(np.array(new_img))\n",
        "          Z.append(str(label))\n",
        "        else:\n",
        "          f=f+1\n",
        "          print(\"False\")     \n",
        "         \n",
        "    return c,b,f   \n",
        "   \n",
        "warnings.filterwarnings('always')\n",
        "warnings.filterwarnings('ignore')"
      ],
      "execution_count": null,
      "outputs": []
    },
    {
      "cell_type": "code",
      "metadata": {
        "colab": {
          "base_uri": "https://localhost:8080/"
        },
        "id": "bgRK7GRGMPVy",
        "outputId": "c4522f52-95c1-450a-b69d-1b6986cd0821"
      },
      "source": [
        "c,b,f = 0,0,0\n",
        "c,b,f=make_train_data('Anger', ANGER_DIR,c,b,f)\n",
        "print(f\"c ={c}\\nb = {b}\\nf = {f}\")"
      ],
      "execution_count": null,
      "outputs": [
        {
          "output_type": "stream",
          "text": [
            "  1%|          | 1/160 [00:02<05:19,  2.01s/it]"
          ],
          "name": "stderr"
        },
        {
          "output_type": "stream",
          "text": [
            "True\n",
            "x = 167, y = 179, w = 149, h = 194\n"
          ],
          "name": "stdout"
        },
        {
          "output_type": "stream",
          "text": [
            "\r  1%|▏         | 2/160 [00:03<04:37,  1.75s/it]"
          ],
          "name": "stderr"
        },
        {
          "output_type": "stream",
          "text": [
            "True\n",
            "x = 163, y = 135, w = 169, h = 218\n"
          ],
          "name": "stdout"
        },
        {
          "output_type": "stream",
          "text": [
            "\r  2%|▏         | 3/160 [00:04<04:07,  1.58s/it]"
          ],
          "name": "stderr"
        },
        {
          "output_type": "stream",
          "text": [
            "True\n",
            "x = 159, y = 156, w = 167, h = 214\n"
          ],
          "name": "stdout"
        },
        {
          "output_type": "stream",
          "text": [
            "\r  2%|▎         | 4/160 [00:05<03:45,  1.45s/it]"
          ],
          "name": "stderr"
        },
        {
          "output_type": "stream",
          "text": [
            "True\n",
            "x = 164, y = 144, w = 163, h = 193\n"
          ],
          "name": "stdout"
        },
        {
          "output_type": "stream",
          "text": [
            "\r  3%|▎         | 5/160 [00:06<03:22,  1.31s/it]"
          ],
          "name": "stderr"
        },
        {
          "output_type": "stream",
          "text": [
            "True\n",
            "x = 167, y = 179, w = 149, h = 194\n"
          ],
          "name": "stdout"
        },
        {
          "output_type": "stream",
          "text": [
            "\r  4%|▍         | 6/160 [00:07<03:12,  1.25s/it]"
          ],
          "name": "stderr"
        },
        {
          "output_type": "stream",
          "text": [
            "True\n",
            "x = 175, y = 130, w = 162, h = 207\n"
          ],
          "name": "stdout"
        },
        {
          "output_type": "stream",
          "text": [
            "\r  4%|▍         | 7/160 [00:08<02:59,  1.17s/it]"
          ],
          "name": "stderr"
        },
        {
          "output_type": "stream",
          "text": [
            "True\n",
            "x = 165, y = 152, w = 160, h = 198\n"
          ],
          "name": "stdout"
        },
        {
          "output_type": "stream",
          "text": [
            "\r  5%|▌         | 8/160 [00:09<02:57,  1.17s/it]"
          ],
          "name": "stderr"
        },
        {
          "output_type": "stream",
          "text": [
            "True\n",
            "x = 149, y = 134, w = 177, h = 243\n"
          ],
          "name": "stdout"
        },
        {
          "output_type": "stream",
          "text": [
            "\r  6%|▌         | 9/160 [00:10<02:47,  1.11s/it]"
          ],
          "name": "stderr"
        },
        {
          "output_type": "stream",
          "text": [
            "True\n",
            "x = 159, y = 156, w = 167, h = 214\n"
          ],
          "name": "stdout"
        },
        {
          "output_type": "stream",
          "text": [
            "\r  6%|▋         | 10/160 [00:11<02:44,  1.10s/it]"
          ],
          "name": "stderr"
        },
        {
          "output_type": "stream",
          "text": [
            "True\n",
            "x = 165, y = 152, w = 160, h = 198\n"
          ],
          "name": "stdout"
        },
        {
          "output_type": "stream",
          "text": [
            "\r  7%|▋         | 11/160 [00:12<02:36,  1.05s/it]"
          ],
          "name": "stderr"
        },
        {
          "output_type": "stream",
          "text": [
            "True\n",
            "x = 175, y = 130, w = 162, h = 207\n"
          ],
          "name": "stdout"
        },
        {
          "output_type": "stream",
          "text": [
            "\r  8%|▊         | 12/160 [00:13<02:44,  1.11s/it]"
          ],
          "name": "stderr"
        },
        {
          "output_type": "stream",
          "text": [
            "True\n",
            "x = 172, y = 158, w = 175, h = 213\n",
            "x = 396, y = 327, w = 78, h = 97\n"
          ],
          "name": "stdout"
        },
        {
          "output_type": "stream",
          "text": [
            "\r  8%|▊         | 13/160 [00:15<02:40,  1.09s/it]"
          ],
          "name": "stderr"
        },
        {
          "output_type": "stream",
          "text": [
            "True\n",
            "x = 163, y = 135, w = 169, h = 218\n"
          ],
          "name": "stdout"
        },
        {
          "output_type": "stream",
          "text": [
            "\r  9%|▉         | 14/160 [00:15<02:31,  1.04s/it]"
          ],
          "name": "stderr"
        },
        {
          "output_type": "stream",
          "text": [
            "True\n",
            "x = 172, y = 158, w = 175, h = 213\n",
            "x = 396, y = 327, w = 78, h = 97\n"
          ],
          "name": "stdout"
        },
        {
          "output_type": "stream",
          "text": [
            "\r  9%|▉         | 15/160 [00:16<02:27,  1.02s/it]"
          ],
          "name": "stderr"
        },
        {
          "output_type": "stream",
          "text": [
            "True\n",
            "x = 149, y = 134, w = 177, h = 243\n"
          ],
          "name": "stdout"
        },
        {
          "output_type": "stream",
          "text": [
            "\r 10%|█         | 16/160 [00:17<02:24,  1.00s/it]"
          ],
          "name": "stderr"
        },
        {
          "output_type": "stream",
          "text": [
            "True\n",
            "x = 164, y = 144, w = 163, h = 193\n"
          ],
          "name": "stdout"
        },
        {
          "output_type": "stream",
          "text": [
            "\r 11%|█         | 17/160 [00:18<02:28,  1.04s/it]"
          ],
          "name": "stderr"
        },
        {
          "output_type": "stream",
          "text": [
            "True\n",
            "x = 195, y = 140, w = 140, h = 188\n"
          ],
          "name": "stdout"
        },
        {
          "output_type": "stream",
          "text": [
            "\r 11%|█▏        | 18/160 [00:20<02:36,  1.10s/it]"
          ],
          "name": "stderr"
        },
        {
          "output_type": "stream",
          "text": [
            "True\n",
            "x = 166, y = 145, w = 140, h = 186\n"
          ],
          "name": "stdout"
        },
        {
          "output_type": "stream",
          "text": [
            "\r 12%|█▏        | 19/160 [00:21<02:35,  1.10s/it]"
          ],
          "name": "stderr"
        },
        {
          "output_type": "stream",
          "text": [
            "True\n",
            "x = 176, y = 165, w = 169, h = 208\n"
          ],
          "name": "stdout"
        },
        {
          "output_type": "stream",
          "text": [
            "\r 12%|█▎        | 20/160 [00:22<02:27,  1.05s/it]"
          ],
          "name": "stderr"
        },
        {
          "output_type": "stream",
          "text": [
            "True\n",
            "x = 167, y = 138, w = 148, h = 195\n",
            "x = 16, y = 165, w = 91, h = 112\n"
          ],
          "name": "stdout"
        },
        {
          "output_type": "stream",
          "text": [
            "\r 13%|█▎        | 21/160 [00:23<02:23,  1.03s/it]"
          ],
          "name": "stderr"
        },
        {
          "output_type": "stream",
          "text": [
            "True\n",
            "x = 168, y = 157, w = 151, h = 196\n"
          ],
          "name": "stdout"
        },
        {
          "output_type": "stream",
          "text": [
            "\r 14%|█▍        | 22/160 [00:24<02:29,  1.08s/it]"
          ],
          "name": "stderr"
        },
        {
          "output_type": "stream",
          "text": [
            "True\n",
            "x = 161, y = 135, w = 154, h = 188\n"
          ],
          "name": "stdout"
        },
        {
          "output_type": "stream",
          "text": [
            "\r 14%|█▍        | 23/160 [00:25<02:36,  1.14s/it]"
          ],
          "name": "stderr"
        },
        {
          "output_type": "stream",
          "text": [
            "True\n",
            "x = 172, y = 143, w = 161, h = 198\n",
            "x = 236, y = 329, w = 64, h = 67\n"
          ],
          "name": "stdout"
        },
        {
          "output_type": "stream",
          "text": [
            "\r 15%|█▌        | 24/160 [00:26<02:37,  1.16s/it]"
          ],
          "name": "stderr"
        },
        {
          "output_type": "stream",
          "text": [
            "True\n",
            "x = 171, y = 174, w = 156, h = 200\n"
          ],
          "name": "stdout"
        },
        {
          "output_type": "stream",
          "text": [
            "\r 16%|█▌        | 25/160 [00:28<02:34,  1.15s/it]"
          ],
          "name": "stderr"
        },
        {
          "output_type": "stream",
          "text": [
            "True\n",
            "x = 166, y = 146, w = 173, h = 222\n"
          ],
          "name": "stdout"
        },
        {
          "output_type": "stream",
          "text": [
            "\r 16%|█▋        | 26/160 [00:28<02:24,  1.08s/it]"
          ],
          "name": "stderr"
        },
        {
          "output_type": "stream",
          "text": [
            "True\n",
            "x = 167, y = 138, w = 148, h = 195\n",
            "x = 16, y = 165, w = 91, h = 112\n"
          ],
          "name": "stdout"
        },
        {
          "output_type": "stream",
          "text": [
            "\r 17%|█▋        | 27/160 [00:30<02:25,  1.09s/it]"
          ],
          "name": "stderr"
        },
        {
          "output_type": "stream",
          "text": [
            "True\n",
            "x = 153, y = 189, w = 157, h = 209\n"
          ],
          "name": "stdout"
        },
        {
          "output_type": "stream",
          "text": [
            "\r 18%|█▊        | 28/160 [00:31<02:29,  1.13s/it]"
          ],
          "name": "stderr"
        },
        {
          "output_type": "stream",
          "text": [
            "True\n",
            "x = 151, y = 128, w = 154, h = 207\n"
          ],
          "name": "stdout"
        },
        {
          "output_type": "stream",
          "text": [
            "\r 18%|█▊        | 29/160 [00:32<02:28,  1.13s/it]"
          ],
          "name": "stderr"
        },
        {
          "output_type": "stream",
          "text": [
            "True\n",
            "x = 157, y = 155, w = 173, h = 226\n"
          ],
          "name": "stdout"
        },
        {
          "output_type": "stream",
          "text": [
            "\r 19%|█▉        | 30/160 [00:33<02:26,  1.13s/it]"
          ],
          "name": "stderr"
        },
        {
          "output_type": "stream",
          "text": [
            "True\n",
            "x = 181, y = 146, w = 149, h = 197\n"
          ],
          "name": "stdout"
        },
        {
          "output_type": "stream",
          "text": [
            "\r 19%|█▉        | 31/160 [00:34<02:31,  1.17s/it]"
          ],
          "name": "stderr"
        },
        {
          "output_type": "stream",
          "text": [
            "True\n",
            "x = 155, y = 130, w = 161, h = 199\n"
          ],
          "name": "stdout"
        },
        {
          "output_type": "stream",
          "text": [
            "\r 20%|██        | 32/160 [00:36<02:29,  1.17s/it]"
          ],
          "name": "stderr"
        },
        {
          "output_type": "stream",
          "text": [
            "True\n",
            "x = 185, y = 152, w = 130, h = 167\n"
          ],
          "name": "stdout"
        },
        {
          "output_type": "stream",
          "text": [
            "\r 21%|██        | 33/160 [00:37<02:27,  1.16s/it]"
          ],
          "name": "stderr"
        },
        {
          "output_type": "stream",
          "text": [
            "True\n",
            "x = 169, y = 206, w = 161, h = 186\n"
          ],
          "name": "stdout"
        },
        {
          "output_type": "stream",
          "text": [
            "\r 21%|██▏       | 34/160 [00:38<02:24,  1.15s/it]"
          ],
          "name": "stderr"
        },
        {
          "output_type": "stream",
          "text": [
            "True\n",
            "x = 159, y = 148, w = 149, h = 202\n"
          ],
          "name": "stdout"
        },
        {
          "output_type": "stream",
          "text": [
            "\r 22%|██▏       | 35/160 [00:39<02:23,  1.14s/it]"
          ],
          "name": "stderr"
        },
        {
          "output_type": "stream",
          "text": [
            "True\n",
            "x = 170, y = 173, w = 143, h = 190\n"
          ],
          "name": "stdout"
        },
        {
          "output_type": "stream",
          "text": [
            "\r 22%|██▎       | 36/160 [00:40<02:22,  1.15s/it]"
          ],
          "name": "stderr"
        },
        {
          "output_type": "stream",
          "text": [
            "True\n",
            "x = 158, y = 145, w = 148, h = 176\n"
          ],
          "name": "stdout"
        },
        {
          "output_type": "stream",
          "text": [
            "\r 23%|██▎       | 37/160 [00:41<02:20,  1.14s/it]"
          ],
          "name": "stderr"
        },
        {
          "output_type": "stream",
          "text": [
            "True\n",
            "x = 162, y = 150, w = 171, h = 228\n"
          ],
          "name": "stdout"
        },
        {
          "output_type": "stream",
          "text": [
            "\r 24%|██▍       | 38/160 [00:42<02:18,  1.14s/it]"
          ],
          "name": "stderr"
        },
        {
          "output_type": "stream",
          "text": [
            "True\n",
            "x = 142, y = 142, w = 159, h = 216\n"
          ],
          "name": "stdout"
        },
        {
          "output_type": "stream",
          "text": [
            "\r 24%|██▍       | 39/160 [00:43<02:16,  1.12s/it]"
          ],
          "name": "stderr"
        },
        {
          "output_type": "stream",
          "text": [
            "True\n",
            "x = 184, y = 140, w = 155, h = 215\n"
          ],
          "name": "stdout"
        },
        {
          "output_type": "stream",
          "text": [
            "\r 25%|██▌       | 40/160 [00:45<02:14,  1.12s/it]"
          ],
          "name": "stderr"
        },
        {
          "output_type": "stream",
          "text": [
            "True\n",
            "x = 155, y = 124, w = 177, h = 234\n"
          ],
          "name": "stdout"
        },
        {
          "output_type": "stream",
          "text": [
            "\r 26%|██▌       | 41/160 [00:46<02:15,  1.14s/it]"
          ],
          "name": "stderr"
        },
        {
          "output_type": "stream",
          "text": [
            "True\n",
            "x = 190, y = 153, w = 144, h = 188\n"
          ],
          "name": "stdout"
        },
        {
          "output_type": "stream",
          "text": [
            "\r 26%|██▋       | 42/160 [00:47<02:15,  1.15s/it]"
          ],
          "name": "stderr"
        },
        {
          "output_type": "stream",
          "text": [
            "True\n",
            "x = 169, y = 147, w = 169, h = 214\n"
          ],
          "name": "stdout"
        },
        {
          "output_type": "stream",
          "text": [
            "\r 27%|██▋       | 43/160 [00:48<02:07,  1.09s/it]"
          ],
          "name": "stderr"
        },
        {
          "output_type": "stream",
          "text": [
            "True\n",
            "x = 172, y = 143, w = 161, h = 198\n",
            "x = 236, y = 329, w = 64, h = 67\n"
          ],
          "name": "stdout"
        },
        {
          "output_type": "stream",
          "text": [
            "\r 28%|██▊       | 44/160 [00:49<02:11,  1.14s/it]"
          ],
          "name": "stderr"
        },
        {
          "output_type": "stream",
          "text": [
            "True\n",
            "x = 187, y = 157, w = 136, h = 183\n"
          ],
          "name": "stdout"
        },
        {
          "output_type": "stream",
          "text": [
            "\r 28%|██▊       | 45/160 [00:50<02:15,  1.18s/it]"
          ],
          "name": "stderr"
        },
        {
          "output_type": "stream",
          "text": [
            "True\n",
            "x = 171, y = 147, w = 173, h = 222\n"
          ],
          "name": "stdout"
        },
        {
          "output_type": "stream",
          "text": [
            "\r 29%|██▉       | 46/160 [00:51<02:11,  1.15s/it]"
          ],
          "name": "stderr"
        },
        {
          "output_type": "stream",
          "text": [
            "True\n",
            "x = 165, y = 149, w = 151, h = 177\n"
          ],
          "name": "stdout"
        },
        {
          "output_type": "stream",
          "text": [
            "\r 29%|██▉       | 47/160 [00:52<02:02,  1.09s/it]"
          ],
          "name": "stderr"
        },
        {
          "output_type": "stream",
          "text": [
            "True\n",
            "x = 162, y = 150, w = 171, h = 228\n"
          ],
          "name": "stdout"
        },
        {
          "output_type": "stream",
          "text": [
            "\r 30%|███       | 48/160 [00:53<01:59,  1.07s/it]"
          ],
          "name": "stderr"
        },
        {
          "output_type": "stream",
          "text": [
            "True\n",
            "x = 175, y = 147, w = 135, h = 179\n"
          ],
          "name": "stdout"
        },
        {
          "output_type": "stream",
          "text": [
            "\r 31%|███       | 49/160 [00:54<01:53,  1.03s/it]"
          ],
          "name": "stderr"
        },
        {
          "output_type": "stream",
          "text": [
            "True\n",
            "x = 157, y = 155, w = 173, h = 226\n"
          ],
          "name": "stdout"
        },
        {
          "output_type": "stream",
          "text": [
            "\r 31%|███▏      | 50/160 [00:56<02:04,  1.13s/it]"
          ],
          "name": "stderr"
        },
        {
          "output_type": "stream",
          "text": [
            "True\n",
            "x = 163, y = 202, w = 152, h = 195\n"
          ],
          "name": "stdout"
        },
        {
          "output_type": "stream",
          "text": [
            "\r 32%|███▏      | 51/160 [00:57<02:01,  1.11s/it]"
          ],
          "name": "stderr"
        },
        {
          "output_type": "stream",
          "text": [
            "True\n",
            "x = 172, y = 146, w = 155, h = 187\n"
          ],
          "name": "stdout"
        },
        {
          "output_type": "stream",
          "text": [
            "\r 32%|███▎      | 52/160 [00:58<02:06,  1.17s/it]"
          ],
          "name": "stderr"
        },
        {
          "output_type": "stream",
          "text": [
            "True\n",
            "x = 177, y = 130, w = 141, h = 182\n"
          ],
          "name": "stdout"
        },
        {
          "output_type": "stream",
          "text": [
            "\r 33%|███▎      | 53/160 [00:59<02:09,  1.21s/it]"
          ],
          "name": "stderr"
        },
        {
          "output_type": "stream",
          "text": [
            "True\n",
            "x = 159, y = 159, w = 143, h = 174\n"
          ],
          "name": "stdout"
        },
        {
          "output_type": "stream",
          "text": [
            "\r 34%|███▍      | 54/160 [01:01<02:09,  1.22s/it]"
          ],
          "name": "stderr"
        },
        {
          "output_type": "stream",
          "text": [
            "True\n",
            "x = 159, y = 165, w = 159, h = 201\n"
          ],
          "name": "stdout"
        },
        {
          "output_type": "stream",
          "text": [
            "\r 34%|███▍      | 55/160 [01:02<02:09,  1.23s/it]"
          ],
          "name": "stderr"
        },
        {
          "output_type": "stream",
          "text": [
            "True\n",
            "x = 154, y = 123, w = 169, h = 222\n"
          ],
          "name": "stdout"
        },
        {
          "output_type": "stream",
          "text": [
            "\r 35%|███▌      | 56/160 [01:03<02:06,  1.22s/it]"
          ],
          "name": "stderr"
        },
        {
          "output_type": "stream",
          "text": [
            "True\n",
            "x = 217, y = 143, w = 147, h = 198\n"
          ],
          "name": "stdout"
        },
        {
          "output_type": "stream",
          "text": [
            "\r 36%|███▌      | 57/160 [01:04<02:06,  1.23s/it]"
          ],
          "name": "stderr"
        },
        {
          "output_type": "stream",
          "text": [
            "True\n",
            "x = 157, y = 109, w = 176, h = 253\n"
          ],
          "name": "stdout"
        },
        {
          "output_type": "stream",
          "text": [
            "\r 36%|███▋      | 58/160 [01:05<01:56,  1.14s/it]"
          ],
          "name": "stderr"
        },
        {
          "output_type": "stream",
          "text": [
            "True\n",
            "x = 171, y = 147, w = 173, h = 222\n"
          ],
          "name": "stdout"
        },
        {
          "output_type": "stream",
          "text": [
            "\r 37%|███▋      | 59/160 [01:06<01:53,  1.13s/it]"
          ],
          "name": "stderr"
        },
        {
          "output_type": "stream",
          "text": [
            "True\n",
            "x = 159, y = 148, w = 149, h = 202\n"
          ],
          "name": "stdout"
        },
        {
          "output_type": "stream",
          "text": [
            "\r 38%|███▊      | 60/160 [01:07<01:49,  1.09s/it]"
          ],
          "name": "stderr"
        },
        {
          "output_type": "stream",
          "text": [
            "True\n",
            "x = 155, y = 139, w = 153, h = 206\n"
          ],
          "name": "stdout"
        },
        {
          "output_type": "stream",
          "text": [
            "\r 38%|███▊      | 61/160 [01:08<01:42,  1.04s/it]"
          ],
          "name": "stderr"
        },
        {
          "output_type": "stream",
          "text": [
            "True\n",
            "x = 155, y = 139, w = 153, h = 206\n"
          ],
          "name": "stdout"
        },
        {
          "output_type": "stream",
          "text": [
            "\r 39%|███▉      | 62/160 [01:10<01:47,  1.09s/it]"
          ],
          "name": "stderr"
        },
        {
          "output_type": "stream",
          "text": [
            "True\n",
            "x = 171, y = 160, w = 161, h = 215\n",
            "x = 42, y = 463, w = 20, h = 25\n"
          ],
          "name": "stdout"
        },
        {
          "output_type": "stream",
          "text": [
            "\r 39%|███▉      | 63/160 [01:11<01:48,  1.12s/it]"
          ],
          "name": "stderr"
        },
        {
          "output_type": "stream",
          "text": [
            "True\n",
            "x = 160, y = 166, w = 156, h = 207\n"
          ],
          "name": "stdout"
        },
        {
          "output_type": "stream",
          "text": [
            "\r 40%|████      | 64/160 [01:12<01:48,  1.13s/it]"
          ],
          "name": "stderr"
        },
        {
          "output_type": "stream",
          "text": [
            "True\n",
            "x = 155, y = 162, w = 164, h = 216\n"
          ],
          "name": "stdout"
        },
        {
          "output_type": "stream",
          "text": [
            "\r 41%|████      | 65/160 [01:13<01:42,  1.08s/it]"
          ],
          "name": "stderr"
        },
        {
          "output_type": "stream",
          "text": [
            "True\n",
            "x = 176, y = 165, w = 169, h = 208\n"
          ],
          "name": "stdout"
        },
        {
          "output_type": "stream",
          "text": [
            "\r 41%|████▏     | 66/160 [01:14<01:42,  1.09s/it]"
          ],
          "name": "stderr"
        },
        {
          "output_type": "stream",
          "text": [
            "True\n",
            "x = 171, y = 154, w = 147, h = 190\n"
          ],
          "name": "stdout"
        },
        {
          "output_type": "stream",
          "text": [
            "\r 42%|████▏     | 67/160 [01:15<01:42,  1.11s/it]"
          ],
          "name": "stderr"
        },
        {
          "output_type": "stream",
          "text": [
            "True\n",
            "x = 185, y = 144, w = 132, h = 177\n"
          ],
          "name": "stdout"
        },
        {
          "output_type": "stream",
          "text": [
            "\r 42%|████▎     | 68/160 [01:16<01:42,  1.12s/it]"
          ],
          "name": "stderr"
        },
        {
          "output_type": "stream",
          "text": [
            "True\n",
            "x = 142, y = 176, w = 169, h = 207\n"
          ],
          "name": "stdout"
        },
        {
          "output_type": "stream",
          "text": [
            "\r 43%|████▎     | 69/160 [01:17<01:41,  1.12s/it]"
          ],
          "name": "stderr"
        },
        {
          "output_type": "stream",
          "text": [
            "True\n",
            "x = 163, y = 202, w = 152, h = 195\n"
          ],
          "name": "stdout"
        },
        {
          "output_type": "stream",
          "text": [
            "\r 44%|████▍     | 70/160 [01:19<01:42,  1.14s/it]"
          ],
          "name": "stderr"
        },
        {
          "output_type": "stream",
          "text": [
            "True\n",
            "x = 173, y = 166, w = 136, h = 184\n"
          ],
          "name": "stdout"
        },
        {
          "output_type": "stream",
          "text": [
            "\r 44%|████▍     | 71/160 [01:19<01:36,  1.09s/it]"
          ],
          "name": "stderr"
        },
        {
          "output_type": "stream",
          "text": [
            "True\n",
            "x = 185, y = 144, w = 132, h = 177\n"
          ],
          "name": "stdout"
        },
        {
          "output_type": "stream",
          "text": [
            "\r 45%|████▌     | 72/160 [01:21<01:34,  1.07s/it]"
          ],
          "name": "stderr"
        },
        {
          "output_type": "stream",
          "text": [
            "True\n",
            "x = 217, y = 143, w = 147, h = 198\n"
          ],
          "name": "stdout"
        },
        {
          "output_type": "stream",
          "text": [
            "\r 46%|████▌     | 73/160 [01:22<01:35,  1.09s/it]"
          ],
          "name": "stderr"
        },
        {
          "output_type": "stream",
          "text": [
            "True\n",
            "x = 154, y = 173, w = 174, h = 207\n"
          ],
          "name": "stdout"
        },
        {
          "output_type": "stream",
          "text": [
            "\r 46%|████▋     | 74/160 [01:23<01:34,  1.10s/it]"
          ],
          "name": "stderr"
        },
        {
          "output_type": "stream",
          "text": [
            "True\n",
            "x = 173, y = 166, w = 136, h = 184\n"
          ],
          "name": "stdout"
        },
        {
          "output_type": "stream",
          "text": [
            "\r 47%|████▋     | 75/160 [01:24<01:35,  1.13s/it]"
          ],
          "name": "stderr"
        },
        {
          "output_type": "stream",
          "text": [
            "True\n",
            "x = 161, y = 142, w = 167, h = 214\n"
          ],
          "name": "stdout"
        },
        {
          "output_type": "stream",
          "text": [
            "\r 48%|████▊     | 76/160 [01:25<01:35,  1.14s/it]"
          ],
          "name": "stderr"
        },
        {
          "output_type": "stream",
          "text": [
            "True\n",
            "x = 155, y = 144, w = 163, h = 222\n"
          ],
          "name": "stdout"
        },
        {
          "output_type": "stream",
          "text": [
            "\r 48%|████▊     | 77/160 [01:26<01:34,  1.14s/it]"
          ],
          "name": "stderr"
        },
        {
          "output_type": "stream",
          "text": [
            "True\n",
            "x = 191, y = 184, w = 132, h = 183\n"
          ],
          "name": "stdout"
        },
        {
          "output_type": "stream",
          "text": [
            "\r 49%|████▉     | 78/160 [01:27<01:30,  1.10s/it]"
          ],
          "name": "stderr"
        },
        {
          "output_type": "stream",
          "text": [
            "True\n",
            "x = 162, y = 156, w = 158, h = 201\n"
          ],
          "name": "stdout"
        },
        {
          "output_type": "stream",
          "text": [
            "\r 49%|████▉     | 79/160 [01:28<01:27,  1.08s/it]"
          ],
          "name": "stderr"
        },
        {
          "output_type": "stream",
          "text": [
            "True\n",
            "x = 184, y = 140, w = 155, h = 215\n"
          ],
          "name": "stdout"
        },
        {
          "output_type": "stream",
          "text": [
            "\r 50%|█████     | 80/160 [01:30<01:30,  1.13s/it]"
          ],
          "name": "stderr"
        },
        {
          "output_type": "stream",
          "text": [
            "True\n",
            "x = 155, y = 144, w = 163, h = 222\n"
          ],
          "name": "stdout"
        },
        {
          "output_type": "stream",
          "text": [
            "\r 51%|█████     | 81/160 [01:31<01:26,  1.09s/it]"
          ],
          "name": "stderr"
        },
        {
          "output_type": "stream",
          "text": [
            "True\n",
            "x = 171, y = 174, w = 156, h = 200\n"
          ],
          "name": "stdout"
        },
        {
          "output_type": "stream",
          "text": [
            "\r 51%|█████▏    | 82/160 [01:32<01:26,  1.11s/it]"
          ],
          "name": "stderr"
        },
        {
          "output_type": "stream",
          "text": [
            "True\n",
            "x = 163, y = 171, w = 168, h = 214\n"
          ],
          "name": "stdout"
        },
        {
          "output_type": "stream",
          "text": [
            "\r 52%|█████▏    | 83/160 [01:33<01:21,  1.06s/it]"
          ],
          "name": "stderr"
        },
        {
          "output_type": "stream",
          "text": [
            "True\n",
            "x = 142, y = 142, w = 159, h = 216\n"
          ],
          "name": "stdout"
        },
        {
          "output_type": "stream",
          "text": [
            "\r 52%|█████▎    | 84/160 [01:34<01:18,  1.03s/it]"
          ],
          "name": "stderr"
        },
        {
          "output_type": "stream",
          "text": [
            "True\n",
            "x = 160, y = 166, w = 156, h = 207\n"
          ],
          "name": "stdout"
        },
        {
          "output_type": "stream",
          "text": [
            "\r 53%|█████▎    | 85/160 [01:35<01:15,  1.00s/it]"
          ],
          "name": "stderr"
        },
        {
          "output_type": "stream",
          "text": [
            "True\n",
            "x = 163, y = 171, w = 168, h = 214\n"
          ],
          "name": "stdout"
        },
        {
          "output_type": "stream",
          "text": [
            "\r 54%|█████▍    | 86/160 [01:36<01:13,  1.00it/s]"
          ],
          "name": "stderr"
        },
        {
          "output_type": "stream",
          "text": [
            "True\n",
            "x = 154, y = 123, w = 169, h = 222\n"
          ],
          "name": "stdout"
        },
        {
          "output_type": "stream",
          "text": [
            "\r 54%|█████▍    | 87/160 [01:37<01:12,  1.00it/s]"
          ],
          "name": "stderr"
        },
        {
          "output_type": "stream",
          "text": [
            "True\n",
            "x = 187, y = 157, w = 136, h = 183\n"
          ],
          "name": "stdout"
        },
        {
          "output_type": "stream",
          "text": [
            "\r 55%|█████▌    | 88/160 [01:38<01:12,  1.01s/it]"
          ],
          "name": "stderr"
        },
        {
          "output_type": "stream",
          "text": [
            "True\n",
            "x = 161, y = 135, w = 154, h = 188\n"
          ],
          "name": "stdout"
        },
        {
          "output_type": "stream",
          "text": [
            "\r 56%|█████▌    | 89/160 [01:39<01:15,  1.07s/it]"
          ],
          "name": "stderr"
        },
        {
          "output_type": "stream",
          "text": [
            "True\n",
            "x = 180, y = 180, w = 151, h = 197\n"
          ],
          "name": "stdout"
        },
        {
          "output_type": "stream",
          "text": [
            "\r 56%|█████▋    | 90/160 [01:40<01:12,  1.04s/it]"
          ],
          "name": "stderr"
        },
        {
          "output_type": "stream",
          "text": [
            "True\n",
            "x = 165, y = 149, w = 151, h = 177\n"
          ],
          "name": "stdout"
        },
        {
          "output_type": "stream",
          "text": [
            "\r 57%|█████▋    | 91/160 [01:41<01:10,  1.03s/it]"
          ],
          "name": "stderr"
        },
        {
          "output_type": "stream",
          "text": [
            "True\n",
            "x = 190, y = 153, w = 144, h = 188\n"
          ],
          "name": "stdout"
        },
        {
          "output_type": "stream",
          "text": [
            "\r 57%|█████▊    | 92/160 [01:42<01:08,  1.01s/it]"
          ],
          "name": "stderr"
        },
        {
          "output_type": "stream",
          "text": [
            "True\n",
            "x = 150, y = 127, w = 186, h = 238\n"
          ],
          "name": "stdout"
        },
        {
          "output_type": "stream",
          "text": [
            "\r 58%|█████▊    | 93/160 [01:43<01:09,  1.04s/it]"
          ],
          "name": "stderr"
        },
        {
          "output_type": "stream",
          "text": [
            "True\n",
            "x = 167, y = 148, w = 136, h = 180\n"
          ],
          "name": "stdout"
        },
        {
          "output_type": "stream",
          "text": [
            "\r 59%|█████▉    | 94/160 [01:44<01:07,  1.02s/it]"
          ],
          "name": "stderr"
        },
        {
          "output_type": "stream",
          "text": [
            "True\n",
            "x = 170, y = 173, w = 143, h = 190\n"
          ],
          "name": "stdout"
        },
        {
          "output_type": "stream",
          "text": [
            "\r 59%|█████▉    | 95/160 [01:45<01:05,  1.01s/it]"
          ],
          "name": "stderr"
        },
        {
          "output_type": "stream",
          "text": [
            "True\n",
            "x = 169, y = 147, w = 169, h = 214\n"
          ],
          "name": "stdout"
        },
        {
          "output_type": "stream",
          "text": [
            "\r 60%|██████    | 96/160 [01:46<01:04,  1.01s/it]"
          ],
          "name": "stderr"
        },
        {
          "output_type": "stream",
          "text": [
            "True\n",
            "x = 177, y = 130, w = 141, h = 182\n"
          ],
          "name": "stdout"
        },
        {
          "output_type": "stream",
          "text": [
            "\r 61%|██████    | 97/160 [01:47<01:02,  1.01it/s]"
          ],
          "name": "stderr"
        },
        {
          "output_type": "stream",
          "text": [
            "True\n",
            "x = 162, y = 156, w = 158, h = 201\n"
          ],
          "name": "stdout"
        },
        {
          "output_type": "stream",
          "text": [
            "\r 61%|██████▏   | 98/160 [01:48<01:01,  1.02it/s]"
          ],
          "name": "stderr"
        },
        {
          "output_type": "stream",
          "text": [
            "True\n",
            "x = 157, y = 109, w = 176, h = 253\n"
          ],
          "name": "stdout"
        },
        {
          "output_type": "stream",
          "text": [
            "\r 62%|██████▏   | 99/160 [01:49<00:58,  1.04it/s]"
          ],
          "name": "stderr"
        },
        {
          "output_type": "stream",
          "text": [
            "True\n",
            "x = 154, y = 173, w = 174, h = 207\n"
          ],
          "name": "stdout"
        },
        {
          "output_type": "stream",
          "text": [
            "\r 62%|██████▎   | 100/160 [01:50<01:01,  1.02s/it]"
          ],
          "name": "stderr"
        },
        {
          "output_type": "stream",
          "text": [
            "True\n",
            "x = 150, y = 127, w = 186, h = 238\n"
          ],
          "name": "stdout"
        },
        {
          "output_type": "stream",
          "text": [
            "\r 63%|██████▎   | 101/160 [01:51<01:01,  1.04s/it]"
          ],
          "name": "stderr"
        },
        {
          "output_type": "stream",
          "text": [
            "True\n",
            "x = 171, y = 154, w = 147, h = 190\n"
          ],
          "name": "stdout"
        },
        {
          "output_type": "stream",
          "text": [
            "\r 64%|██████▍   | 102/160 [01:52<00:59,  1.02s/it]"
          ],
          "name": "stderr"
        },
        {
          "output_type": "stream",
          "text": [
            "True\n",
            "x = 181, y = 149, w = 139, h = 186\n"
          ],
          "name": "stdout"
        },
        {
          "output_type": "stream",
          "text": [
            "\r 64%|██████▍   | 103/160 [01:53<00:56,  1.02it/s]"
          ],
          "name": "stderr"
        },
        {
          "output_type": "stream",
          "text": [
            "True\n",
            "x = 191, y = 184, w = 132, h = 183\n"
          ],
          "name": "stdout"
        },
        {
          "output_type": "stream",
          "text": [
            "\r 65%|██████▌   | 104/160 [01:54<00:53,  1.04it/s]"
          ],
          "name": "stderr"
        },
        {
          "output_type": "stream",
          "text": [
            "True\n",
            "x = 167, y = 148, w = 136, h = 180\n"
          ],
          "name": "stdout"
        },
        {
          "output_type": "stream",
          "text": [
            "\r 66%|██████▌   | 105/160 [01:55<00:59,  1.09s/it]"
          ],
          "name": "stderr"
        },
        {
          "output_type": "stream",
          "text": [
            "True\n",
            "x = 171, y = 123, w = 155, h = 216\n"
          ],
          "name": "stdout"
        },
        {
          "output_type": "stream",
          "text": [
            "\r 66%|██████▋   | 106/160 [01:56<00:57,  1.07s/it]"
          ],
          "name": "stderr"
        },
        {
          "output_type": "stream",
          "text": [
            "True\n",
            "x = 171, y = 160, w = 161, h = 215\n",
            "x = 42, y = 463, w = 20, h = 25\n"
          ],
          "name": "stdout"
        },
        {
          "output_type": "stream",
          "text": [
            "\r 67%|██████▋   | 107/160 [01:57<00:55,  1.05s/it]"
          ],
          "name": "stderr"
        },
        {
          "output_type": "stream",
          "text": [
            "True\n",
            "x = 172, y = 146, w = 155, h = 187\n"
          ],
          "name": "stdout"
        },
        {
          "output_type": "stream",
          "text": [
            "\r 68%|██████▊   | 108/160 [01:58<00:55,  1.07s/it]"
          ],
          "name": "stderr"
        },
        {
          "output_type": "stream",
          "text": [
            "True\n",
            "x = 163, y = 115, w = 164, h = 203\n"
          ],
          "name": "stdout"
        },
        {
          "output_type": "stream",
          "text": [
            "\r 68%|██████▊   | 109/160 [01:59<00:52,  1.04s/it]"
          ],
          "name": "stderr"
        },
        {
          "output_type": "stream",
          "text": [
            "True\n",
            "x = 181, y = 149, w = 139, h = 186\n"
          ],
          "name": "stdout"
        },
        {
          "output_type": "stream",
          "text": [
            "\r 69%|██████▉   | 110/160 [02:00<00:50,  1.01s/it]"
          ],
          "name": "stderr"
        },
        {
          "output_type": "stream",
          "text": [
            "True\n",
            "x = 166, y = 146, w = 173, h = 222\n"
          ],
          "name": "stdout"
        },
        {
          "output_type": "stream",
          "text": [
            "\r 69%|██████▉   | 111/160 [02:01<00:49,  1.01s/it]"
          ],
          "name": "stderr"
        },
        {
          "output_type": "stream",
          "text": [
            "True\n",
            "x = 153, y = 189, w = 157, h = 209\n"
          ],
          "name": "stdout"
        },
        {
          "output_type": "stream",
          "text": [
            "\r 70%|███████   | 112/160 [02:02<00:47,  1.00it/s]"
          ],
          "name": "stderr"
        },
        {
          "output_type": "stream",
          "text": [
            "True\n",
            "x = 185, y = 152, w = 130, h = 167\n"
          ],
          "name": "stdout"
        },
        {
          "output_type": "stream",
          "text": [
            "\r 71%|███████   | 113/160 [02:03<00:46,  1.01it/s]"
          ],
          "name": "stderr"
        },
        {
          "output_type": "stream",
          "text": [
            "True\n",
            "x = 181, y = 146, w = 149, h = 197\n"
          ],
          "name": "stdout"
        },
        {
          "output_type": "stream",
          "text": [
            "\r 71%|███████▏  | 114/160 [02:04<00:44,  1.02it/s]"
          ],
          "name": "stderr"
        },
        {
          "output_type": "stream",
          "text": [
            "True\n",
            "x = 166, y = 145, w = 140, h = 186\n"
          ],
          "name": "stdout"
        },
        {
          "output_type": "stream",
          "text": [
            "\r 72%|███████▏  | 115/160 [02:05<00:43,  1.03it/s]"
          ],
          "name": "stderr"
        },
        {
          "output_type": "stream",
          "text": [
            "True\n",
            "x = 155, y = 162, w = 164, h = 216\n"
          ],
          "name": "stdout"
        },
        {
          "output_type": "stream",
          "text": [
            "\r 72%|███████▎  | 116/160 [02:06<00:43,  1.01it/s]"
          ],
          "name": "stderr"
        },
        {
          "output_type": "stream",
          "text": [
            "True\n",
            "x = 159, y = 165, w = 159, h = 201\n"
          ],
          "name": "stdout"
        },
        {
          "output_type": "stream",
          "text": [
            "\r 73%|███████▎  | 117/160 [02:07<00:43,  1.00s/it]"
          ],
          "name": "stderr"
        },
        {
          "output_type": "stream",
          "text": [
            "True\n",
            "x = 158, y = 145, w = 148, h = 176\n"
          ],
          "name": "stdout"
        },
        {
          "output_type": "stream",
          "text": [
            "\r 74%|███████▍  | 118/160 [02:08<00:41,  1.02it/s]"
          ],
          "name": "stderr"
        },
        {
          "output_type": "stream",
          "text": [
            "True\n",
            "x = 151, y = 128, w = 154, h = 207\n"
          ],
          "name": "stdout"
        },
        {
          "output_type": "stream",
          "text": [
            "\r 74%|███████▍  | 119/160 [02:09<00:40,  1.02it/s]"
          ],
          "name": "stderr"
        },
        {
          "output_type": "stream",
          "text": [
            "True\n",
            "x = 168, y = 157, w = 151, h = 196\n"
          ],
          "name": "stdout"
        },
        {
          "output_type": "stream",
          "text": [
            "\r 75%|███████▌  | 120/160 [02:10<00:38,  1.03it/s]"
          ],
          "name": "stderr"
        },
        {
          "output_type": "stream",
          "text": [
            "True\n",
            "x = 163, y = 115, w = 164, h = 203\n"
          ],
          "name": "stdout"
        },
        {
          "output_type": "stream",
          "text": [
            "\r 76%|███████▌  | 121/160 [02:11<00:38,  1.02it/s]"
          ],
          "name": "stderr"
        },
        {
          "output_type": "stream",
          "text": [
            "True\n",
            "x = 155, y = 124, w = 177, h = 234\n"
          ],
          "name": "stdout"
        },
        {
          "output_type": "stream",
          "text": [
            "\r 76%|███████▋  | 122/160 [02:12<00:38,  1.01s/it]"
          ],
          "name": "stderr"
        },
        {
          "output_type": "stream",
          "text": [
            "True\n",
            "x = 159, y = 159, w = 143, h = 174\n"
          ],
          "name": "stdout"
        },
        {
          "output_type": "stream",
          "text": [
            "\r 77%|███████▋  | 123/160 [02:13<00:38,  1.03s/it]"
          ],
          "name": "stderr"
        },
        {
          "output_type": "stream",
          "text": [
            "True\n",
            "x = 161, y = 142, w = 167, h = 214\n"
          ],
          "name": "stdout"
        },
        {
          "output_type": "stream",
          "text": [
            "\r 78%|███████▊  | 124/160 [02:14<00:36,  1.03s/it]"
          ],
          "name": "stderr"
        },
        {
          "output_type": "stream",
          "text": [
            "True\n",
            "x = 180, y = 180, w = 151, h = 197\n"
          ],
          "name": "stdout"
        },
        {
          "output_type": "stream",
          "text": [
            "\r 78%|███████▊  | 125/160 [02:15<00:35,  1.00s/it]"
          ],
          "name": "stderr"
        },
        {
          "output_type": "stream",
          "text": [
            "True\n",
            "x = 155, y = 130, w = 161, h = 199\n"
          ],
          "name": "stdout"
        },
        {
          "output_type": "stream",
          "text": [
            "\r 79%|███████▉  | 126/160 [02:16<00:33,  1.00it/s]"
          ],
          "name": "stderr"
        },
        {
          "output_type": "stream",
          "text": [
            "True\n",
            "x = 175, y = 147, w = 135, h = 179\n"
          ],
          "name": "stdout"
        },
        {
          "output_type": "stream",
          "text": [
            "\r 79%|███████▉  | 127/160 [02:17<00:35,  1.07s/it]"
          ],
          "name": "stderr"
        },
        {
          "output_type": "stream",
          "text": [
            "True\n",
            "x = 156, y = 162, w = 168, h = 221\n"
          ],
          "name": "stdout"
        },
        {
          "output_type": "stream",
          "text": [
            "\r 80%|████████  | 128/160 [02:18<00:34,  1.08s/it]"
          ],
          "name": "stderr"
        },
        {
          "output_type": "stream",
          "text": [
            "True\n",
            "x = 195, y = 140, w = 140, h = 188\n"
          ],
          "name": "stdout"
        },
        {
          "output_type": "stream",
          "text": [
            "\r 81%|████████  | 129/160 [02:19<00:32,  1.03s/it]"
          ],
          "name": "stderr"
        },
        {
          "output_type": "stream",
          "text": [
            "True\n",
            "x = 171, y = 123, w = 155, h = 216\n"
          ],
          "name": "stdout"
        },
        {
          "output_type": "stream",
          "text": [
            "\r 81%|████████▏ | 130/160 [02:20<00:30,  1.02s/it]"
          ],
          "name": "stderr"
        },
        {
          "output_type": "stream",
          "text": [
            "True\n",
            "x = 156, y = 162, w = 168, h = 221\n"
          ],
          "name": "stdout"
        },
        {
          "output_type": "stream",
          "text": [
            "\r 82%|████████▏ | 131/160 [02:21<00:30,  1.05s/it]"
          ],
          "name": "stderr"
        },
        {
          "output_type": "stream",
          "text": [
            "True\n",
            "x = 142, y = 176, w = 169, h = 207\n"
          ],
          "name": "stdout"
        },
        {
          "output_type": "stream",
          "text": [
            "\r 82%|████████▎ | 132/160 [02:22<00:28,  1.02s/it]"
          ],
          "name": "stderr"
        },
        {
          "output_type": "stream",
          "text": [
            "True\n",
            "x = 169, y = 206, w = 161, h = 186\n"
          ],
          "name": "stdout"
        },
        {
          "output_type": "stream",
          "text": [
            "\r 83%|████████▎ | 133/160 [02:23<00:28,  1.05s/it]"
          ],
          "name": "stderr"
        },
        {
          "output_type": "stream",
          "text": [
            "True\n",
            "x = 178, y = 149, w = 158, h = 211\n"
          ],
          "name": "stdout"
        },
        {
          "output_type": "stream",
          "text": [
            "\r 84%|████████▍ | 134/160 [02:25<00:28,  1.09s/it]"
          ],
          "name": "stderr"
        },
        {
          "output_type": "stream",
          "text": [
            "True\n",
            "x = 159, y = 151, w = 150, h = 200\n"
          ],
          "name": "stdout"
        },
        {
          "output_type": "stream",
          "text": [
            "\r 84%|████████▍ | 135/160 [02:26<00:27,  1.10s/it]"
          ],
          "name": "stderr"
        },
        {
          "output_type": "stream",
          "text": [
            "True\n",
            "x = 156, y = 158, w = 169, h = 235\n"
          ],
          "name": "stdout"
        },
        {
          "output_type": "stream",
          "text": [
            "\r 85%|████████▌ | 136/160 [02:27<00:26,  1.09s/it]"
          ],
          "name": "stderr"
        },
        {
          "output_type": "stream",
          "text": [
            "True\n",
            "x = 167, y = 166, w = 148, h = 193\n"
          ],
          "name": "stdout"
        },
        {
          "output_type": "stream",
          "text": [
            "\r 86%|████████▌ | 137/160 [02:28<00:24,  1.06s/it]"
          ],
          "name": "stderr"
        },
        {
          "output_type": "stream",
          "text": [
            "True\n",
            "x = 159, y = 151, w = 150, h = 200\n"
          ],
          "name": "stdout"
        },
        {
          "output_type": "stream",
          "text": [
            "\r 86%|████████▋ | 138/160 [02:29<00:23,  1.05s/it]"
          ],
          "name": "stderr"
        },
        {
          "output_type": "stream",
          "text": [
            "True\n",
            "x = 162, y = 141, w = 174, h = 220\n"
          ],
          "name": "stdout"
        },
        {
          "output_type": "stream",
          "text": [
            "\r 87%|████████▋ | 139/160 [02:30<00:22,  1.08s/it]"
          ],
          "name": "stderr"
        },
        {
          "output_type": "stream",
          "text": [
            "True\n",
            "x = 181, y = 154, w = 131, h = 166\n"
          ],
          "name": "stdout"
        },
        {
          "output_type": "stream",
          "text": [
            "\r 88%|████████▊ | 140/160 [02:31<00:20,  1.04s/it]"
          ],
          "name": "stderr"
        },
        {
          "output_type": "stream",
          "text": [
            "True\n",
            "x = 178, y = 149, w = 158, h = 211\n"
          ],
          "name": "stdout"
        },
        {
          "output_type": "stream",
          "text": [
            "\r 88%|████████▊ | 141/160 [02:32<00:20,  1.09s/it]"
          ],
          "name": "stderr"
        },
        {
          "output_type": "stream",
          "text": [
            "True\n",
            "x = 164, y = 166, w = 156, h = 209\n"
          ],
          "name": "stdout"
        },
        {
          "output_type": "stream",
          "text": [
            "\r 89%|████████▉ | 142/160 [02:33<00:18,  1.05s/it]"
          ],
          "name": "stderr"
        },
        {
          "output_type": "stream",
          "text": [
            "True\n",
            "x = 156, y = 158, w = 169, h = 235\n"
          ],
          "name": "stdout"
        },
        {
          "output_type": "stream",
          "text": [
            "\r 89%|████████▉ | 143/160 [02:34<00:18,  1.08s/it]"
          ],
          "name": "stderr"
        },
        {
          "output_type": "stream",
          "text": [
            "True\n",
            "x = 156, y = 173, w = 152, h = 209\n"
          ],
          "name": "stdout"
        },
        {
          "output_type": "stream",
          "text": [
            "\r 90%|█████████ | 144/160 [02:35<00:16,  1.03s/it]"
          ],
          "name": "stderr"
        },
        {
          "output_type": "stream",
          "text": [
            "True\n",
            "x = 156, y = 173, w = 152, h = 209\n"
          ],
          "name": "stdout"
        },
        {
          "output_type": "stream",
          "text": [
            "\r 91%|█████████ | 145/160 [02:36<00:15,  1.06s/it]"
          ],
          "name": "stderr"
        },
        {
          "output_type": "stream",
          "text": [
            "True\n",
            "x = 167, y = 166, w = 148, h = 193\n"
          ],
          "name": "stdout"
        },
        {
          "output_type": "stream",
          "text": [
            "\r 91%|█████████▏| 146/160 [02:37<00:14,  1.04s/it]"
          ],
          "name": "stderr"
        },
        {
          "output_type": "stream",
          "text": [
            "True\n",
            "x = 164, y = 166, w = 156, h = 209\n"
          ],
          "name": "stdout"
        },
        {
          "output_type": "stream",
          "text": [
            "\r 92%|█████████▏| 147/160 [02:38<00:13,  1.03s/it]"
          ],
          "name": "stderr"
        },
        {
          "output_type": "stream",
          "text": [
            "True\n",
            "x = 181, y = 154, w = 131, h = 166\n"
          ],
          "name": "stdout"
        },
        {
          "output_type": "stream",
          "text": [
            "\r 92%|█████████▎| 148/160 [02:39<00:12,  1.02s/it]"
          ],
          "name": "stderr"
        },
        {
          "output_type": "stream",
          "text": [
            "True\n",
            "x = 162, y = 141, w = 174, h = 220\n"
          ],
          "name": "stdout"
        },
        {
          "output_type": "stream",
          "text": [
            "\r 93%|█████████▎| 149/160 [02:40<00:10,  1.04it/s]"
          ],
          "name": "stderr"
        },
        {
          "output_type": "stream",
          "text": [
            "True\n",
            "x = 139, y = 44, w = 83, h = 114\n"
          ],
          "name": "stdout"
        },
        {
          "output_type": "stream",
          "text": [
            "\r 94%|█████████▍| 150/160 [02:41<00:09,  1.10it/s]"
          ],
          "name": "stderr"
        },
        {
          "output_type": "stream",
          "text": [
            "True\n",
            "x = 139, y = 44, w = 83, h = 114\n"
          ],
          "name": "stdout"
        },
        {
          "output_type": "stream",
          "text": [
            "\r 94%|█████████▍| 151/160 [02:54<00:40,  4.48s/it]"
          ],
          "name": "stderr"
        },
        {
          "output_type": "stream",
          "text": [
            "True\n",
            "x = 2151, y = 679, w = 1071, h = 1422\n"
          ],
          "name": "stdout"
        },
        {
          "output_type": "stream",
          "text": [
            "\r 95%|█████████▌| 152/160 [03:06<00:53,  6.72s/it]"
          ],
          "name": "stderr"
        },
        {
          "output_type": "stream",
          "text": [
            "True\n",
            "x = 2151, y = 679, w = 1071, h = 1422\n"
          ],
          "name": "stdout"
        },
        {
          "output_type": "stream",
          "text": [
            "\r 96%|█████████▌| 153/160 [03:20<01:02,  8.93s/it]"
          ],
          "name": "stderr"
        },
        {
          "output_type": "stream",
          "text": [
            "True\n",
            "x = 2492, y = 1116, w = 762, h = 901\n"
          ],
          "name": "stdout"
        },
        {
          "output_type": "stream",
          "text": [
            "\r 96%|█████████▋| 154/160 [03:34<01:02, 10.42s/it]"
          ],
          "name": "stderr"
        },
        {
          "output_type": "stream",
          "text": [
            "True\n",
            "x = 2492, y = 1116, w = 762, h = 901\n"
          ],
          "name": "stdout"
        },
        {
          "output_type": "stream",
          "text": [
            "\r 97%|█████████▋| 155/160 [04:02<01:19, 15.82s/it]"
          ],
          "name": "stderr"
        },
        {
          "output_type": "stream",
          "text": [
            "True\n",
            "x = 2480, y = 433, w = 933, h = 1185\n"
          ],
          "name": "stdout"
        },
        {
          "output_type": "stream",
          "text": [
            "\r 98%|█████████▊| 156/160 [04:30<01:17, 19.45s/it]"
          ],
          "name": "stderr"
        },
        {
          "output_type": "stream",
          "text": [
            "True\n",
            "x = 2480, y = 433, w = 933, h = 1185\n"
          ],
          "name": "stdout"
        },
        {
          "output_type": "stream",
          "text": [
            "\r 98%|█████████▊| 157/160 [04:56<01:03, 21.33s/it]"
          ],
          "name": "stderr"
        },
        {
          "output_type": "stream",
          "text": [
            "True\n",
            "x = 3063, y = 1345, w = 1541, h = 2289\n"
          ],
          "name": "stdout"
        },
        {
          "output_type": "stream",
          "text": [
            "\r 99%|█████████▉| 158/160 [05:21<00:44, 22.49s/it]"
          ],
          "name": "stderr"
        },
        {
          "output_type": "stream",
          "text": [
            "True\n",
            "x = 3063, y = 1345, w = 1541, h = 2289\n"
          ],
          "name": "stdout"
        },
        {
          "output_type": "stream",
          "text": [
            "\r 99%|█████████▉| 159/160 [05:22<00:16, 16.08s/it]"
          ],
          "name": "stderr"
        },
        {
          "output_type": "stream",
          "text": [
            "True\n",
            "x = 182, y = 56, w = 109, h = 141\n"
          ],
          "name": "stdout"
        },
        {
          "output_type": "stream",
          "text": [
            "100%|██████████| 160/160 [05:23<00:00,  2.02s/it]"
          ],
          "name": "stderr"
        },
        {
          "output_type": "stream",
          "text": [
            "True\n",
            "x = 182, y = 56, w = 109, h = 141\n",
            "c =160\n",
            "b = 160\n",
            "f = 0\n"
          ],
          "name": "stdout"
        },
        {
          "output_type": "stream",
          "text": [
            "\n"
          ],
          "name": "stderr"
        }
      ]
    },
    {
      "cell_type": "code",
      "metadata": {
        "colab": {
          "base_uri": "https://localhost:8080/"
        },
        "id": "2f0LRl8hNocv",
        "outputId": "a2190cee-0d4e-4b3e-fd93-b53323b6b9ef"
      },
      "source": [
        "c,b,f=make_train_data('Happy', HAPPY_DIR,c,b,f)\n",
        "print(f\"c ={c}\\nb = {b}\\nf = {f}\")"
      ],
      "execution_count": null,
      "outputs": [
        {
          "output_type": "stream",
          "text": [
            "  0%|          | 1/216 [00:01<05:12,  1.45s/it]"
          ],
          "name": "stderr"
        },
        {
          "output_type": "stream",
          "text": [
            "True\n",
            "x = 426, y = 130, w = 283, h = 419\n"
          ],
          "name": "stdout"
        },
        {
          "output_type": "stream",
          "text": [
            "\r  1%|          | 2/216 [00:02<04:56,  1.39s/it]"
          ],
          "name": "stderr"
        },
        {
          "output_type": "stream",
          "text": [
            "True\n",
            "x = 426, y = 130, w = 283, h = 419\n"
          ],
          "name": "stdout"
        },
        {
          "output_type": "stream",
          "text": [
            "\r  1%|▏         | 3/216 [00:04<04:52,  1.37s/it]"
          ],
          "name": "stderr"
        },
        {
          "output_type": "stream",
          "text": [
            "True\n",
            "x = 275, y = 96, w = 157, h = 198\n"
          ],
          "name": "stdout"
        },
        {
          "output_type": "stream",
          "text": [
            "\r  2%|▏         | 4/216 [00:05<04:43,  1.34s/it]"
          ],
          "name": "stderr"
        },
        {
          "output_type": "stream",
          "text": [
            "True\n",
            "x = 275, y = 96, w = 157, h = 198\n"
          ],
          "name": "stdout"
        },
        {
          "output_type": "stream",
          "text": [
            "\r  2%|▏         | 5/216 [00:06<05:00,  1.42s/it]"
          ],
          "name": "stderr"
        },
        {
          "output_type": "stream",
          "text": [
            "True\n",
            "x = 145, y = 145, w = 477, h = 678\n",
            "x = 580, y = 219, w = 338, h = 451\n"
          ],
          "name": "stdout"
        },
        {
          "output_type": "stream",
          "text": [
            "\r  3%|▎         | 6/216 [00:08<05:05,  1.46s/it]"
          ],
          "name": "stderr"
        },
        {
          "output_type": "stream",
          "text": [
            "True\n",
            "x = 145, y = 145, w = 477, h = 678\n",
            "x = 580, y = 219, w = 338, h = 451\n"
          ],
          "name": "stdout"
        },
        {
          "output_type": "stream",
          "text": [
            "\r  3%|▎         | 7/216 [00:09<04:42,  1.35s/it]"
          ],
          "name": "stderr"
        },
        {
          "output_type": "stream",
          "text": [
            "True\n",
            "x = 167, y = 143, w = 145, h = 208\n"
          ],
          "name": "stdout"
        },
        {
          "output_type": "stream",
          "text": [
            "\r  4%|▎         | 8/216 [00:10<04:32,  1.31s/it]"
          ],
          "name": "stderr"
        },
        {
          "output_type": "stream",
          "text": [
            "True\n",
            "x = 160, y = 129, w = 159, h = 211\n"
          ],
          "name": "stdout"
        },
        {
          "output_type": "stream",
          "text": [
            "\r  4%|▍         | 9/216 [00:11<04:17,  1.25s/it]"
          ],
          "name": "stderr"
        },
        {
          "output_type": "stream",
          "text": [
            "True\n",
            "x = 174, y = 136, w = 141, h = 178\n"
          ],
          "name": "stdout"
        },
        {
          "output_type": "stream",
          "text": [
            "\r  5%|▍         | 10/216 [00:12<04:04,  1.19s/it]"
          ],
          "name": "stderr"
        },
        {
          "output_type": "stream",
          "text": [
            "True\n",
            "x = 169, y = 139, w = 145, h = 187\n"
          ],
          "name": "stdout"
        },
        {
          "output_type": "stream",
          "text": [
            "\r  5%|▌         | 11/216 [00:14<04:00,  1.17s/it]"
          ],
          "name": "stderr"
        },
        {
          "output_type": "stream",
          "text": [
            "True\n",
            "x = 147, y = 152, w = 182, h = 220\n"
          ],
          "name": "stdout"
        },
        {
          "output_type": "stream",
          "text": [
            "\r  6%|▌         | 12/216 [00:15<03:49,  1.12s/it]"
          ],
          "name": "stderr"
        },
        {
          "output_type": "stream",
          "text": [
            "True\n",
            "x = 153, y = 147, w = 163, h = 225\n"
          ],
          "name": "stdout"
        },
        {
          "output_type": "stream",
          "text": [
            "\r  6%|▌         | 13/216 [00:16<03:55,  1.16s/it]"
          ],
          "name": "stderr"
        },
        {
          "output_type": "stream",
          "text": [
            "True\n",
            "x = 156, y = 141, w = 169, h = 236\n"
          ],
          "name": "stdout"
        },
        {
          "output_type": "stream",
          "text": [
            "\r  6%|▋         | 14/216 [00:17<03:49,  1.13s/it]"
          ],
          "name": "stderr"
        },
        {
          "output_type": "stream",
          "text": [
            "True\n",
            "x = 154, y = 146, w = 172, h = 234\n"
          ],
          "name": "stdout"
        },
        {
          "output_type": "stream",
          "text": [
            "\r  7%|▋         | 15/216 [00:18<03:49,  1.14s/it]"
          ],
          "name": "stderr"
        },
        {
          "output_type": "stream",
          "text": [
            "True\n",
            "x = 151, y = 137, w = 166, h = 235\n"
          ],
          "name": "stdout"
        },
        {
          "output_type": "stream",
          "text": [
            "\r  7%|▋         | 16/216 [00:19<03:42,  1.11s/it]"
          ],
          "name": "stderr"
        },
        {
          "output_type": "stream",
          "text": [
            "True\n",
            "x = 156, y = 141, w = 169, h = 236\n"
          ],
          "name": "stdout"
        },
        {
          "output_type": "stream",
          "text": [
            "\r  8%|▊         | 17/216 [00:20<03:44,  1.13s/it]"
          ],
          "name": "stderr"
        },
        {
          "output_type": "stream",
          "text": [
            "True\n",
            "x = 161, y = 168, w = 166, h = 212\n"
          ],
          "name": "stdout"
        },
        {
          "output_type": "stream",
          "text": [
            "\r  8%|▊         | 18/216 [00:21<03:45,  1.14s/it]"
          ],
          "name": "stderr"
        },
        {
          "output_type": "stream",
          "text": [
            "True\n",
            "x = 151, y = 137, w = 166, h = 235\n"
          ],
          "name": "stdout"
        },
        {
          "output_type": "stream",
          "text": [
            "\r  9%|▉         | 19/216 [00:22<03:41,  1.13s/it]"
          ],
          "name": "stderr"
        },
        {
          "output_type": "stream",
          "text": [
            "True\n",
            "x = 158, y = 145, w = 157, h = 218\n"
          ],
          "name": "stdout"
        },
        {
          "output_type": "stream",
          "text": [
            "\r  9%|▉         | 20/216 [00:24<03:41,  1.13s/it]"
          ],
          "name": "stderr"
        },
        {
          "output_type": "stream",
          "text": [
            "True\n",
            "x = 178, y = 133, w = 163, h = 228\n"
          ],
          "name": "stdout"
        },
        {
          "output_type": "stream",
          "text": [
            "\r 10%|▉         | 21/216 [00:25<03:49,  1.17s/it]"
          ],
          "name": "stderr"
        },
        {
          "output_type": "stream",
          "text": [
            "True\n",
            "x = 167, y = 136, w = 170, h = 218\n"
          ],
          "name": "stdout"
        },
        {
          "output_type": "stream",
          "text": [
            "\r 10%|█         | 22/216 [00:26<03:41,  1.14s/it]"
          ],
          "name": "stderr"
        },
        {
          "output_type": "stream",
          "text": [
            "True\n",
            "x = 149, y = 143, w = 164, h = 217\n"
          ],
          "name": "stdout"
        },
        {
          "output_type": "stream",
          "text": [
            "\r 11%|█         | 23/216 [00:27<03:33,  1.11s/it]"
          ],
          "name": "stderr"
        },
        {
          "output_type": "stream",
          "text": [
            "True\n",
            "x = 152, y = 160, w = 163, h = 206\n"
          ],
          "name": "stdout"
        },
        {
          "output_type": "stream",
          "text": [
            "\r 11%|█         | 24/216 [00:28<03:37,  1.13s/it]"
          ],
          "name": "stderr"
        },
        {
          "output_type": "stream",
          "text": [
            "True\n",
            "x = 172, y = 164, w = 165, h = 214\n"
          ],
          "name": "stdout"
        },
        {
          "output_type": "stream",
          "text": [
            "\r 12%|█▏        | 25/216 [00:30<03:47,  1.19s/it]"
          ],
          "name": "stderr"
        },
        {
          "output_type": "stream",
          "text": [
            "True\n",
            "x = 167, y = 149, w = 166, h = 211\n"
          ],
          "name": "stdout"
        },
        {
          "output_type": "stream",
          "text": [
            "\r 12%|█▏        | 26/216 [00:31<03:39,  1.16s/it]"
          ],
          "name": "stderr"
        },
        {
          "output_type": "stream",
          "text": [
            "True\n",
            "x = 160, y = 104, w = 182, h = 244\n"
          ],
          "name": "stdout"
        },
        {
          "output_type": "stream",
          "text": [
            "\r 12%|█▎        | 27/216 [00:32<03:27,  1.10s/it]"
          ],
          "name": "stderr"
        },
        {
          "output_type": "stream",
          "text": [
            "True\n",
            "x = 154, y = 146, w = 172, h = 234\n"
          ],
          "name": "stdout"
        },
        {
          "output_type": "stream",
          "text": [
            "\r 13%|█▎        | 28/216 [00:33<03:18,  1.06s/it]"
          ],
          "name": "stderr"
        },
        {
          "output_type": "stream",
          "text": [
            "True\n",
            "x = 153, y = 147, w = 163, h = 225\n"
          ],
          "name": "stdout"
        },
        {
          "output_type": "stream",
          "text": [
            "\r 13%|█▎        | 29/216 [00:34<03:15,  1.05s/it]"
          ],
          "name": "stderr"
        },
        {
          "output_type": "stream",
          "text": [
            "True\n",
            "x = 154, y = 130, w = 163, h = 205\n"
          ],
          "name": "stdout"
        },
        {
          "output_type": "stream",
          "text": [
            "\r 14%|█▍        | 30/216 [00:35<03:12,  1.04s/it]"
          ],
          "name": "stderr"
        },
        {
          "output_type": "stream",
          "text": [
            "True\n",
            "x = 152, y = 141, w = 168, h = 227\n"
          ],
          "name": "stdout"
        },
        {
          "output_type": "stream",
          "text": [
            "\r 14%|█▍        | 31/216 [00:36<03:08,  1.02s/it]"
          ],
          "name": "stderr"
        },
        {
          "output_type": "stream",
          "text": [
            "True\n",
            "x = 156, y = 162, w = 161, h = 202\n"
          ],
          "name": "stdout"
        },
        {
          "output_type": "stream",
          "text": [
            "\r 15%|█▍        | 32/216 [00:37<03:19,  1.08s/it]"
          ],
          "name": "stderr"
        },
        {
          "output_type": "stream",
          "text": [
            "True\n",
            "x = 168, y = 131, w = 158, h = 216\n"
          ],
          "name": "stdout"
        },
        {
          "output_type": "stream",
          "text": [
            "\r 15%|█▌        | 33/216 [00:38<03:11,  1.04s/it]"
          ],
          "name": "stderr"
        },
        {
          "output_type": "stream",
          "text": [
            "True\n",
            "x = 169, y = 139, w = 145, h = 187\n"
          ],
          "name": "stdout"
        },
        {
          "output_type": "stream",
          "text": [
            "\r 16%|█▌        | 34/216 [00:39<03:05,  1.02s/it]"
          ],
          "name": "stderr"
        },
        {
          "output_type": "stream",
          "text": [
            "True\n",
            "x = 161, y = 168, w = 166, h = 212\n"
          ],
          "name": "stdout"
        },
        {
          "output_type": "stream",
          "text": [
            "\r 16%|█▌        | 35/216 [00:40<02:58,  1.02it/s]"
          ],
          "name": "stderr"
        },
        {
          "output_type": "stream",
          "text": [
            "True\n",
            "x = 174, y = 136, w = 141, h = 178\n"
          ],
          "name": "stdout"
        },
        {
          "output_type": "stream",
          "text": [
            "\r 17%|█▋        | 36/216 [00:41<03:10,  1.06s/it]"
          ],
          "name": "stderr"
        },
        {
          "output_type": "stream",
          "text": [
            "True\n",
            "x = 158, y = 145, w = 157, h = 218\n"
          ],
          "name": "stdout"
        },
        {
          "output_type": "stream",
          "text": [
            "\r 17%|█▋        | 37/216 [00:42<03:05,  1.04s/it]"
          ],
          "name": "stderr"
        },
        {
          "output_type": "stream",
          "text": [
            "True\n",
            "x = 149, y = 143, w = 164, h = 217\n"
          ],
          "name": "stdout"
        },
        {
          "output_type": "stream",
          "text": [
            "\r 18%|█▊        | 38/216 [00:43<03:06,  1.05s/it]"
          ],
          "name": "stderr"
        },
        {
          "output_type": "stream",
          "text": [
            "True\n",
            "x = 162, y = 126, w = 165, h = 224\n"
          ],
          "name": "stdout"
        },
        {
          "output_type": "stream",
          "text": [
            "\r 18%|█▊        | 39/216 [00:44<03:08,  1.07s/it]"
          ],
          "name": "stderr"
        },
        {
          "output_type": "stream",
          "text": [
            "True\n",
            "x = 164, y = 125, w = 159, h = 220\n"
          ],
          "name": "stdout"
        },
        {
          "output_type": "stream",
          "text": [
            "\r 19%|█▊        | 40/216 [00:45<03:09,  1.08s/it]"
          ],
          "name": "stderr"
        },
        {
          "output_type": "stream",
          "text": [
            "True\n",
            "x = 145, y = 135, w = 158, h = 197\n"
          ],
          "name": "stdout"
        },
        {
          "output_type": "stream",
          "text": [
            "\r 19%|█▉        | 41/216 [00:46<03:00,  1.03s/it]"
          ],
          "name": "stderr"
        },
        {
          "output_type": "stream",
          "text": [
            "True\n",
            "x = 147, y = 152, w = 182, h = 220\n"
          ],
          "name": "stdout"
        },
        {
          "output_type": "stream",
          "text": [
            "\r 19%|█▉        | 42/216 [00:47<03:12,  1.10s/it]"
          ],
          "name": "stderr"
        },
        {
          "output_type": "stream",
          "text": [
            "True\n",
            "x = 169, y = 127, w = 169, h = 222\n"
          ],
          "name": "stdout"
        },
        {
          "output_type": "stream",
          "text": [
            "\r 20%|█▉        | 43/216 [00:48<03:07,  1.09s/it]"
          ],
          "name": "stderr"
        },
        {
          "output_type": "stream",
          "text": [
            "True\n",
            "x = 164, y = 156, w = 160, h = 212\n"
          ],
          "name": "stdout"
        },
        {
          "output_type": "stream",
          "text": [
            "\r 20%|██        | 44/216 [00:49<03:07,  1.09s/it]"
          ],
          "name": "stderr"
        },
        {
          "output_type": "stream",
          "text": [
            "True\n",
            "x = 160, y = 104, w = 182, h = 244\n"
          ],
          "name": "stdout"
        },
        {
          "output_type": "stream",
          "text": [
            "\r 21%|██        | 45/216 [00:50<02:57,  1.04s/it]"
          ],
          "name": "stderr"
        },
        {
          "output_type": "stream",
          "text": [
            "True\n",
            "x = 154, y = 130, w = 163, h = 205\n"
          ],
          "name": "stdout"
        },
        {
          "output_type": "stream",
          "text": [
            "\r 21%|██▏       | 46/216 [00:51<02:50,  1.00s/it]"
          ],
          "name": "stderr"
        },
        {
          "output_type": "stream",
          "text": [
            "True\n",
            "x = 169, y = 127, w = 169, h = 222\n"
          ],
          "name": "stdout"
        },
        {
          "output_type": "stream",
          "text": [
            "\r 22%|██▏       | 47/216 [00:52<02:51,  1.01s/it]"
          ],
          "name": "stderr"
        },
        {
          "output_type": "stream",
          "text": [
            "True\n",
            "x = 189, y = 144, w = 144, h = 190\n"
          ],
          "name": "stdout"
        },
        {
          "output_type": "stream",
          "text": [
            "\r 22%|██▏       | 48/216 [00:53<02:49,  1.01s/it]"
          ],
          "name": "stderr"
        },
        {
          "output_type": "stream",
          "text": [
            "True\n",
            "x = 163, y = 153, w = 158, h = 188\n"
          ],
          "name": "stdout"
        },
        {
          "output_type": "stream",
          "text": [
            "\r 23%|██▎       | 49/216 [00:55<02:59,  1.07s/it]"
          ],
          "name": "stderr"
        },
        {
          "output_type": "stream",
          "text": [
            "True\n",
            "x = 157, y = 132, w = 174, h = 214\n",
            "x = 113, y = 9, w = 24, h = 28\n"
          ],
          "name": "stdout"
        },
        {
          "output_type": "stream",
          "text": [
            "\r 23%|██▎       | 50/216 [00:55<02:51,  1.03s/it]"
          ],
          "name": "stderr"
        },
        {
          "output_type": "stream",
          "text": [
            "True\n",
            "x = 167, y = 143, w = 145, h = 208\n"
          ],
          "name": "stdout"
        },
        {
          "output_type": "stream",
          "text": [
            "\r 24%|██▎       | 51/216 [00:57<02:53,  1.05s/it]"
          ],
          "name": "stderr"
        },
        {
          "output_type": "stream",
          "text": [
            "True\n",
            "x = 167, y = 136, w = 170, h = 218\n"
          ],
          "name": "stdout"
        },
        {
          "output_type": "stream",
          "text": [
            "\r 24%|██▍       | 52/216 [00:58<02:47,  1.02s/it]"
          ],
          "name": "stderr"
        },
        {
          "output_type": "stream",
          "text": [
            "True\n",
            "x = 145, y = 135, w = 158, h = 197\n"
          ],
          "name": "stdout"
        },
        {
          "output_type": "stream",
          "text": [
            "\r 25%|██▍       | 53/216 [00:59<02:52,  1.06s/it]"
          ],
          "name": "stderr"
        },
        {
          "output_type": "stream",
          "text": [
            "True\n",
            "x = 171, y = 152, w = 154, h = 181\n"
          ],
          "name": "stdout"
        },
        {
          "output_type": "stream",
          "text": [
            "\r 25%|██▌       | 54/216 [01:00<02:54,  1.08s/it]"
          ],
          "name": "stderr"
        },
        {
          "output_type": "stream",
          "text": [
            "True\n",
            "x = 163, y = 141, w = 155, h = 223\n"
          ],
          "name": "stdout"
        },
        {
          "output_type": "stream",
          "text": [
            "\r 25%|██▌       | 55/216 [01:01<02:46,  1.03s/it]"
          ],
          "name": "stderr"
        },
        {
          "output_type": "stream",
          "text": [
            "True\n",
            "x = 156, y = 162, w = 161, h = 202\n"
          ],
          "name": "stdout"
        },
        {
          "output_type": "stream",
          "text": [
            "\r 26%|██▌       | 56/216 [01:02<02:56,  1.10s/it]"
          ],
          "name": "stderr"
        },
        {
          "output_type": "stream",
          "text": [
            "True\n",
            "x = 154, y = 120, w = 176, h = 237\n"
          ],
          "name": "stdout"
        },
        {
          "output_type": "stream",
          "text": [
            "\r 26%|██▋       | 57/216 [01:03<02:56,  1.11s/it]"
          ],
          "name": "stderr"
        },
        {
          "output_type": "stream",
          "text": [
            "True\n",
            "x = 172, y = 164, w = 165, h = 214\n"
          ],
          "name": "stdout"
        },
        {
          "output_type": "stream",
          "text": [
            "\r 27%|██▋       | 58/216 [01:04<02:48,  1.06s/it]"
          ],
          "name": "stderr"
        },
        {
          "output_type": "stream",
          "text": [
            "True\n",
            "x = 157, y = 132, w = 174, h = 214\n",
            "x = 113, y = 9, w = 24, h = 28\n"
          ],
          "name": "stdout"
        },
        {
          "output_type": "stream",
          "text": [
            "\r 27%|██▋       | 59/216 [01:05<02:51,  1.09s/it]"
          ],
          "name": "stderr"
        },
        {
          "output_type": "stream",
          "text": [
            "True\n",
            "x = 175, y = 156, w = 163, h = 208\n"
          ],
          "name": "stdout"
        },
        {
          "output_type": "stream",
          "text": [
            "\r 28%|██▊       | 60/216 [01:06<02:56,  1.13s/it]"
          ],
          "name": "stderr"
        },
        {
          "output_type": "stream",
          "text": [
            "True\n",
            "x = 182, y = 159, w = 125, h = 173\n"
          ],
          "name": "stdout"
        },
        {
          "output_type": "stream",
          "text": [
            "\r 28%|██▊       | 61/216 [01:08<02:53,  1.12s/it]"
          ],
          "name": "stderr"
        },
        {
          "output_type": "stream",
          "text": [
            "True\n",
            "x = 167, y = 145, w = 169, h = 217\n"
          ],
          "name": "stdout"
        },
        {
          "output_type": "stream",
          "text": [
            "\r 29%|██▊       | 62/216 [01:09<02:53,  1.13s/it]"
          ],
          "name": "stderr"
        },
        {
          "output_type": "stream",
          "text": [
            "True\n",
            "x = 167, y = 149, w = 166, h = 211\n"
          ],
          "name": "stdout"
        },
        {
          "output_type": "stream",
          "text": [
            "\r 29%|██▉       | 63/216 [01:10<02:49,  1.11s/it]"
          ],
          "name": "stderr"
        },
        {
          "output_type": "stream",
          "text": [
            "True\n",
            "x = 168, y = 152, w = 161, h = 206\n"
          ],
          "name": "stdout"
        },
        {
          "output_type": "stream",
          "text": [
            "\r 30%|██▉       | 64/216 [01:11<02:42,  1.07s/it]"
          ],
          "name": "stderr"
        },
        {
          "output_type": "stream",
          "text": [
            "True\n",
            "x = 167, y = 145, w = 169, h = 217\n"
          ],
          "name": "stdout"
        },
        {
          "output_type": "stream",
          "text": [
            "\r 30%|███       | 65/216 [01:12<02:41,  1.07s/it]"
          ],
          "name": "stderr"
        },
        {
          "output_type": "stream",
          "text": [
            "True\n",
            "x = 163, y = 141, w = 155, h = 223\n"
          ],
          "name": "stdout"
        },
        {
          "output_type": "stream",
          "text": [
            "\r 31%|███       | 66/216 [01:13<02:38,  1.06s/it]"
          ],
          "name": "stderr"
        },
        {
          "output_type": "stream",
          "text": [
            "True\n",
            "x = 173, y = 143, w = 150, h = 191\n"
          ],
          "name": "stdout"
        },
        {
          "output_type": "stream",
          "text": [
            "\r 31%|███       | 67/216 [01:14<02:48,  1.13s/it]"
          ],
          "name": "stderr"
        },
        {
          "output_type": "stream",
          "text": [
            "True\n",
            "x = 173, y = 168, w = 154, h = 204\n"
          ],
          "name": "stdout"
        },
        {
          "output_type": "stream",
          "text": [
            "\r 31%|███▏      | 68/216 [01:15<02:50,  1.15s/it]"
          ],
          "name": "stderr"
        },
        {
          "output_type": "stream",
          "text": [
            "True\n",
            "x = 147, y = 169, w = 166, h = 198\n"
          ],
          "name": "stdout"
        },
        {
          "output_type": "stream",
          "text": [
            "\r 32%|███▏      | 69/216 [01:16<02:42,  1.11s/it]"
          ],
          "name": "stderr"
        },
        {
          "output_type": "stream",
          "text": [
            "True\n",
            "x = 178, y = 133, w = 163, h = 228\n"
          ],
          "name": "stdout"
        },
        {
          "output_type": "stream",
          "text": [
            "\r 32%|███▏      | 70/216 [01:18<02:44,  1.13s/it]"
          ],
          "name": "stderr"
        },
        {
          "output_type": "stream",
          "text": [
            "True\n",
            "x = 151, y = 165, w = 178, h = 215\n",
            "x = 56, y = 288, w = 111, h = 136\n"
          ],
          "name": "stdout"
        },
        {
          "output_type": "stream",
          "text": [
            "\r 33%|███▎      | 71/216 [01:18<02:36,  1.08s/it]"
          ],
          "name": "stderr"
        },
        {
          "output_type": "stream",
          "text": [
            "True\n",
            "x = 163, y = 153, w = 158, h = 188\n"
          ],
          "name": "stdout"
        },
        {
          "output_type": "stream",
          "text": [
            "\r 33%|███▎      | 72/216 [01:19<02:29,  1.03s/it]"
          ],
          "name": "stderr"
        },
        {
          "output_type": "stream",
          "text": [
            "True\n",
            "x = 168, y = 131, w = 158, h = 216\n"
          ],
          "name": "stdout"
        },
        {
          "output_type": "stream",
          "text": [
            "\r 34%|███▍      | 73/216 [01:21<02:31,  1.06s/it]"
          ],
          "name": "stderr"
        },
        {
          "output_type": "stream",
          "text": [
            "True\n",
            "x = 164, y = 156, w = 160, h = 212\n"
          ],
          "name": "stdout"
        },
        {
          "output_type": "stream",
          "text": [
            "\r 34%|███▍      | 74/216 [01:22<02:27,  1.04s/it]"
          ],
          "name": "stderr"
        },
        {
          "output_type": "stream",
          "text": [
            "True\n",
            "x = 147, y = 169, w = 166, h = 198\n"
          ],
          "name": "stdout"
        },
        {
          "output_type": "stream",
          "text": [
            "\r 35%|███▍      | 75/216 [01:23<02:33,  1.09s/it]"
          ],
          "name": "stderr"
        },
        {
          "output_type": "stream",
          "text": [
            "True\n",
            "x = 160, y = 129, w = 159, h = 211\n"
          ],
          "name": "stdout"
        },
        {
          "output_type": "stream",
          "text": [
            "\r 35%|███▌      | 76/216 [01:24<02:28,  1.06s/it]"
          ],
          "name": "stderr"
        },
        {
          "output_type": "stream",
          "text": [
            "True\n",
            "x = 173, y = 168, w = 154, h = 204\n"
          ],
          "name": "stdout"
        },
        {
          "output_type": "stream",
          "text": [
            "\r 36%|███▌      | 77/216 [01:25<02:28,  1.07s/it]"
          ],
          "name": "stderr"
        },
        {
          "output_type": "stream",
          "text": [
            "True\n",
            "x = 169, y = 174, w = 170, h = 200\n"
          ],
          "name": "stdout"
        },
        {
          "output_type": "stream",
          "text": [
            "\r 36%|███▌      | 78/216 [01:26<02:24,  1.05s/it]"
          ],
          "name": "stderr"
        },
        {
          "output_type": "stream",
          "text": [
            "True\n",
            "x = 169, y = 174, w = 170, h = 200\n"
          ],
          "name": "stdout"
        },
        {
          "output_type": "stream",
          "text": [
            "\r 37%|███▋      | 79/216 [01:27<02:28,  1.08s/it]"
          ],
          "name": "stderr"
        },
        {
          "output_type": "stream",
          "text": [
            "True\n",
            "x = 154, y = 120, w = 176, h = 237\n"
          ],
          "name": "stdout"
        },
        {
          "output_type": "stream",
          "text": [
            "\r 37%|███▋      | 80/216 [01:28<02:22,  1.04s/it]"
          ],
          "name": "stderr"
        },
        {
          "output_type": "stream",
          "text": [
            "True\n",
            "x = 189, y = 144, w = 144, h = 190\n"
          ],
          "name": "stdout"
        },
        {
          "output_type": "stream",
          "text": [
            "\r 38%|███▊      | 81/216 [01:29<02:23,  1.07s/it]"
          ],
          "name": "stderr"
        },
        {
          "output_type": "stream",
          "text": [
            "True\n",
            "x = 168, y = 152, w = 161, h = 206\n"
          ],
          "name": "stdout"
        },
        {
          "output_type": "stream",
          "text": [
            "\r 38%|███▊      | 82/216 [01:30<02:20,  1.05s/it]"
          ],
          "name": "stderr"
        },
        {
          "output_type": "stream",
          "text": [
            "True\n",
            "x = 152, y = 160, w = 163, h = 206\n"
          ],
          "name": "stdout"
        },
        {
          "output_type": "stream",
          "text": [
            "\r 38%|███▊      | 83/216 [01:31<02:16,  1.03s/it]"
          ],
          "name": "stderr"
        },
        {
          "output_type": "stream",
          "text": [
            "True\n",
            "x = 152, y = 141, w = 168, h = 227\n"
          ],
          "name": "stdout"
        },
        {
          "output_type": "stream",
          "text": [
            "\r 39%|███▉      | 84/216 [01:32<02:14,  1.02s/it]"
          ],
          "name": "stderr"
        },
        {
          "output_type": "stream",
          "text": [
            "True\n",
            "x = 151, y = 165, w = 178, h = 215\n",
            "x = 56, y = 288, w = 111, h = 136\n"
          ],
          "name": "stdout"
        },
        {
          "output_type": "stream",
          "text": [
            "\r 39%|███▉      | 85/216 [01:33<02:11,  1.00s/it]"
          ],
          "name": "stderr"
        },
        {
          "output_type": "stream",
          "text": [
            "True\n",
            "x = 164, y = 125, w = 159, h = 220\n"
          ],
          "name": "stdout"
        },
        {
          "output_type": "stream",
          "text": [
            "\r 40%|███▉      | 86/216 [01:34<02:09,  1.00it/s]"
          ],
          "name": "stderr"
        },
        {
          "output_type": "stream",
          "text": [
            "True\n",
            "x = 171, y = 152, w = 154, h = 181\n"
          ],
          "name": "stdout"
        },
        {
          "output_type": "stream",
          "text": [
            "\r 40%|████      | 87/216 [01:35<02:10,  1.01s/it]"
          ],
          "name": "stderr"
        },
        {
          "output_type": "stream",
          "text": [
            "True\n",
            "x = 182, y = 159, w = 125, h = 173\n"
          ],
          "name": "stdout"
        },
        {
          "output_type": "stream",
          "text": [
            "\r 41%|████      | 88/216 [01:36<02:14,  1.05s/it]"
          ],
          "name": "stderr"
        },
        {
          "output_type": "stream",
          "text": [
            "True\n",
            "x = 162, y = 126, w = 165, h = 224\n"
          ],
          "name": "stdout"
        },
        {
          "output_type": "stream",
          "text": [
            "\r 41%|████      | 89/216 [01:37<02:09,  1.02s/it]"
          ],
          "name": "stderr"
        },
        {
          "output_type": "stream",
          "text": [
            "True\n",
            "x = 175, y = 156, w = 163, h = 208\n"
          ],
          "name": "stdout"
        },
        {
          "output_type": "stream",
          "text": [
            "\r 42%|████▏     | 90/216 [01:38<02:05,  1.00it/s]"
          ],
          "name": "stderr"
        },
        {
          "output_type": "stream",
          "text": [
            "True\n",
            "x = 173, y = 143, w = 150, h = 191\n"
          ],
          "name": "stdout"
        },
        {
          "output_type": "stream",
          "text": [
            "\r 42%|████▏     | 91/216 [01:39<02:05,  1.01s/it]"
          ],
          "name": "stderr"
        },
        {
          "output_type": "stream",
          "text": [
            "True\n",
            "x = 156, y = 144, w = 147, h = 179\n"
          ],
          "name": "stdout"
        },
        {
          "output_type": "stream",
          "text": [
            "\r 43%|████▎     | 92/216 [01:40<02:11,  1.06s/it]"
          ],
          "name": "stderr"
        },
        {
          "output_type": "stream",
          "text": [
            "True\n",
            "x = 159, y = 154, w = 166, h = 208\n"
          ],
          "name": "stdout"
        },
        {
          "output_type": "stream",
          "text": [
            "\r 43%|████▎     | 93/216 [01:42<02:23,  1.17s/it]"
          ],
          "name": "stderr"
        },
        {
          "output_type": "stream",
          "text": [
            "True\n",
            "x = 175, y = 149, w = 132, h = 179\n"
          ],
          "name": "stdout"
        },
        {
          "output_type": "stream",
          "text": [
            "\r 44%|████▎     | 94/216 [01:43<02:21,  1.16s/it]"
          ],
          "name": "stderr"
        },
        {
          "output_type": "stream",
          "text": [
            "True\n",
            "x = 163, y = 148, w = 173, h = 225\n"
          ],
          "name": "stdout"
        },
        {
          "output_type": "stream",
          "text": [
            "\r 44%|████▍     | 95/216 [01:44<02:21,  1.17s/it]"
          ],
          "name": "stderr"
        },
        {
          "output_type": "stream",
          "text": [
            "True\n",
            "x = 156, y = 146, w = 180, h = 219\n"
          ],
          "name": "stdout"
        },
        {
          "output_type": "stream",
          "text": [
            "\r 44%|████▍     | 96/216 [01:45<02:16,  1.13s/it]"
          ],
          "name": "stderr"
        },
        {
          "output_type": "stream",
          "text": [
            "True\n",
            "x = 172, y = 143, w = 141, h = 194\n"
          ],
          "name": "stdout"
        },
        {
          "output_type": "stream",
          "text": [
            "\r 45%|████▍     | 97/216 [01:46<02:13,  1.12s/it]"
          ],
          "name": "stderr"
        },
        {
          "output_type": "stream",
          "text": [
            "True\n",
            "x = 161, y = 157, w = 164, h = 227\n"
          ],
          "name": "stdout"
        },
        {
          "output_type": "stream",
          "text": [
            "\r 45%|████▌     | 98/216 [01:47<02:13,  1.13s/it]"
          ],
          "name": "stderr"
        },
        {
          "output_type": "stream",
          "text": [
            "True\n",
            "x = 174, y = 106, w = 141, h = 212\n"
          ],
          "name": "stdout"
        },
        {
          "output_type": "stream",
          "text": [
            "\r 46%|████▌     | 99/216 [01:48<02:09,  1.11s/it]"
          ],
          "name": "stderr"
        },
        {
          "output_type": "stream",
          "text": [
            "True\n",
            "x = 179, y = 177, w = 135, h = 191\n"
          ],
          "name": "stdout"
        },
        {
          "output_type": "stream",
          "text": [
            "\r 46%|████▋     | 100/216 [01:50<02:09,  1.12s/it]"
          ],
          "name": "stderr"
        },
        {
          "output_type": "stream",
          "text": [
            "True\n",
            "x = 159, y = 162, w = 165, h = 213\n"
          ],
          "name": "stdout"
        },
        {
          "output_type": "stream",
          "text": [
            "\r 47%|████▋     | 101/216 [01:51<02:13,  1.16s/it]"
          ],
          "name": "stderr"
        },
        {
          "output_type": "stream",
          "text": [
            "True\n",
            "x = 159, y = 134, w = 162, h = 193\n"
          ],
          "name": "stdout"
        },
        {
          "output_type": "stream",
          "text": [
            "\r 47%|████▋     | 102/216 [01:52<02:14,  1.18s/it]"
          ],
          "name": "stderr"
        },
        {
          "output_type": "stream",
          "text": [
            "True\n",
            "x = 154, y = 122, w = 179, h = 239\n"
          ],
          "name": "stdout"
        },
        {
          "output_type": "stream",
          "text": [
            "\r 48%|████▊     | 103/216 [01:53<02:18,  1.23s/it]"
          ],
          "name": "stderr"
        },
        {
          "output_type": "stream",
          "text": [
            "True\n",
            "x = 151, y = 160, w = 169, h = 211\n"
          ],
          "name": "stdout"
        },
        {
          "output_type": "stream",
          "text": [
            "\r 48%|████▊     | 104/216 [01:54<02:14,  1.20s/it]"
          ],
          "name": "stderr"
        },
        {
          "output_type": "stream",
          "text": [
            "True\n",
            "x = 169, y = 119, w = 141, h = 200\n"
          ],
          "name": "stdout"
        },
        {
          "output_type": "stream",
          "text": [
            "\r 49%|████▊     | 105/216 [01:55<02:06,  1.14s/it]"
          ],
          "name": "stderr"
        },
        {
          "output_type": "stream",
          "text": [
            "True\n",
            "x = 174, y = 146, w = 152, h = 215\n"
          ],
          "name": "stdout"
        },
        {
          "output_type": "stream",
          "text": [
            "\r 49%|████▉     | 106/216 [01:56<01:59,  1.09s/it]"
          ],
          "name": "stderr"
        },
        {
          "output_type": "stream",
          "text": [
            "True\n",
            "x = 174, y = 126, w = 147, h = 188\n"
          ],
          "name": "stdout"
        },
        {
          "output_type": "stream",
          "text": [
            "\r 50%|████▉     | 107/216 [01:58<01:58,  1.09s/it]"
          ],
          "name": "stderr"
        },
        {
          "output_type": "stream",
          "text": [
            "True\n",
            "x = 177, y = 112, w = 150, h = 198\n"
          ],
          "name": "stdout"
        },
        {
          "output_type": "stream",
          "text": [
            "\r 50%|█████     | 108/216 [01:59<02:07,  1.18s/it]"
          ],
          "name": "stderr"
        },
        {
          "output_type": "stream",
          "text": [
            "True\n",
            "x = 173, y = 138, w = 149, h = 182\n",
            "x = 419, y = 325, w = 80, h = 115\n"
          ],
          "name": "stdout"
        },
        {
          "output_type": "stream",
          "text": [
            "\r 50%|█████     | 109/216 [02:00<02:04,  1.16s/it]"
          ],
          "name": "stderr"
        },
        {
          "output_type": "stream",
          "text": [
            "True\n",
            "x = 165, y = 155, w = 169, h = 209\n"
          ],
          "name": "stdout"
        },
        {
          "output_type": "stream",
          "text": [
            "\r 51%|█████     | 110/216 [02:01<02:01,  1.14s/it]"
          ],
          "name": "stderr"
        },
        {
          "output_type": "stream",
          "text": [
            "True\n",
            "x = 179, y = 155, w = 163, h = 203\n"
          ],
          "name": "stdout"
        },
        {
          "output_type": "stream",
          "text": [
            "\r 51%|█████▏    | 111/216 [02:02<02:04,  1.19s/it]"
          ],
          "name": "stderr"
        },
        {
          "output_type": "stream",
          "text": [
            "True\n",
            "x = 163, y = 146, w = 159, h = 210\n"
          ],
          "name": "stdout"
        },
        {
          "output_type": "stream",
          "text": [
            "\r 52%|█████▏    | 112/216 [02:04<02:00,  1.16s/it]"
          ],
          "name": "stderr"
        },
        {
          "output_type": "stream",
          "text": [
            "True\n",
            "x = 168, y = 127, w = 157, h = 206\n"
          ],
          "name": "stdout"
        },
        {
          "output_type": "stream",
          "text": [
            "\r 52%|█████▏    | 113/216 [02:05<01:54,  1.11s/it]"
          ],
          "name": "stderr"
        },
        {
          "output_type": "stream",
          "text": [
            "True\n",
            "x = 180, y = 130, w = 132, h = 178\n"
          ],
          "name": "stdout"
        },
        {
          "output_type": "stream",
          "text": [
            "\r 53%|█████▎    | 114/216 [02:06<01:54,  1.12s/it]"
          ],
          "name": "stderr"
        },
        {
          "output_type": "stream",
          "text": [
            "True\n",
            "x = 182, y = 132, w = 137, h = 196\n"
          ],
          "name": "stdout"
        },
        {
          "output_type": "stream",
          "text": [
            "\r 53%|█████▎    | 115/216 [02:07<01:48,  1.08s/it]"
          ],
          "name": "stderr"
        },
        {
          "output_type": "stream",
          "text": [
            "True\n",
            "x = 176, y = 125, w = 129, h = 163\n"
          ],
          "name": "stdout"
        },
        {
          "output_type": "stream",
          "text": [
            "\r 54%|█████▎    | 116/216 [02:08<01:45,  1.05s/it]"
          ],
          "name": "stderr"
        },
        {
          "output_type": "stream",
          "text": [
            "True\n",
            "x = 168, y = 127, w = 157, h = 206\n"
          ],
          "name": "stdout"
        },
        {
          "output_type": "stream",
          "text": [
            "\r 54%|█████▍    | 117/216 [02:09<01:41,  1.02s/it]"
          ],
          "name": "stderr"
        },
        {
          "output_type": "stream",
          "text": [
            "True\n",
            "x = 157, y = 109, w = 172, h = 224\n"
          ],
          "name": "stdout"
        },
        {
          "output_type": "stream",
          "text": [
            "\r 55%|█████▍    | 118/216 [02:10<01:42,  1.04s/it]"
          ],
          "name": "stderr"
        },
        {
          "output_type": "stream",
          "text": [
            "True\n",
            "x = 152, y = 106, w = 185, h = 233\n"
          ],
          "name": "stdout"
        },
        {
          "output_type": "stream",
          "text": [
            "\r 55%|█████▌    | 119/216 [02:11<01:43,  1.07s/it]"
          ],
          "name": "stderr"
        },
        {
          "output_type": "stream",
          "text": [
            "True\n",
            "x = 156, y = 151, w = 173, h = 216\n"
          ],
          "name": "stdout"
        },
        {
          "output_type": "stream",
          "text": [
            "\r 56%|█████▌    | 120/216 [02:12<01:39,  1.04s/it]"
          ],
          "name": "stderr"
        },
        {
          "output_type": "stream",
          "text": [
            "True\n",
            "x = 157, y = 109, w = 172, h = 224\n"
          ],
          "name": "stdout"
        },
        {
          "output_type": "stream",
          "text": [
            "\r 56%|█████▌    | 121/216 [02:13<01:40,  1.06s/it]"
          ],
          "name": "stderr"
        },
        {
          "output_type": "stream",
          "text": [
            "True\n",
            "x = 159, y = 162, w = 165, h = 213\n"
          ],
          "name": "stdout"
        },
        {
          "output_type": "stream",
          "text": [
            "\r 56%|█████▋    | 122/216 [02:14<01:36,  1.03s/it]"
          ],
          "name": "stderr"
        },
        {
          "output_type": "stream",
          "text": [
            "True\n",
            "x = 172, y = 143, w = 141, h = 194\n"
          ],
          "name": "stdout"
        },
        {
          "output_type": "stream",
          "text": [
            "\r 57%|█████▋    | 123/216 [02:15<01:38,  1.06s/it]"
          ],
          "name": "stderr"
        },
        {
          "output_type": "stream",
          "text": [
            "True\n",
            "x = 166, y = 115, w = 160, h = 206\n"
          ],
          "name": "stdout"
        },
        {
          "output_type": "stream",
          "text": [
            "\r 57%|█████▋    | 124/216 [02:16<01:43,  1.13s/it]"
          ],
          "name": "stderr"
        },
        {
          "output_type": "stream",
          "text": [
            "True\n",
            "x = 185, y = 139, w = 144, h = 184\n"
          ],
          "name": "stdout"
        },
        {
          "output_type": "stream",
          "text": [
            "\r 58%|█████▊    | 125/216 [02:17<01:43,  1.14s/it]"
          ],
          "name": "stderr"
        },
        {
          "output_type": "stream",
          "text": [
            "True\n",
            "x = 139, y = 152, w = 178, h = 229\n"
          ],
          "name": "stdout"
        },
        {
          "output_type": "stream",
          "text": [
            "\r 58%|█████▊    | 126/216 [02:18<01:39,  1.10s/it]"
          ],
          "name": "stderr"
        },
        {
          "output_type": "stream",
          "text": [
            "True\n",
            "x = 175, y = 134, w = 143, h = 190\n"
          ],
          "name": "stdout"
        },
        {
          "output_type": "stream",
          "text": [
            "\r 59%|█████▉    | 127/216 [02:20<01:38,  1.10s/it]"
          ],
          "name": "stderr"
        },
        {
          "output_type": "stream",
          "text": [
            "True\n",
            "x = 189, y = 128, w = 136, h = 176\n"
          ],
          "name": "stdout"
        },
        {
          "output_type": "stream",
          "text": [
            "\r 59%|█████▉    | 128/216 [02:21<01:35,  1.08s/it]"
          ],
          "name": "stderr"
        },
        {
          "output_type": "stream",
          "text": [
            "True\n",
            "x = 159, y = 139, w = 161, h = 209\n"
          ],
          "name": "stdout"
        },
        {
          "output_type": "stream",
          "text": [
            "\r 60%|█████▉    | 129/216 [02:22<01:30,  1.04s/it]"
          ],
          "name": "stderr"
        },
        {
          "output_type": "stream",
          "text": [
            "True\n",
            "x = 161, y = 149, w = 151, h = 201\n"
          ],
          "name": "stdout"
        },
        {
          "output_type": "stream",
          "text": [
            "\r 60%|██████    | 130/216 [02:23<01:27,  1.02s/it]"
          ],
          "name": "stderr"
        },
        {
          "output_type": "stream",
          "text": [
            "True\n",
            "x = 159, y = 134, w = 162, h = 193\n"
          ],
          "name": "stdout"
        },
        {
          "output_type": "stream",
          "text": [
            "\r 61%|██████    | 131/216 [02:24<01:30,  1.06s/it]"
          ],
          "name": "stderr"
        },
        {
          "output_type": "stream",
          "text": [
            "True\n",
            "x = 163, y = 124, w = 179, h = 228\n"
          ],
          "name": "stdout"
        },
        {
          "output_type": "stream",
          "text": [
            "\r 61%|██████    | 132/216 [02:25<01:32,  1.10s/it]"
          ],
          "name": "stderr"
        },
        {
          "output_type": "stream",
          "text": [
            "True\n",
            "x = 165, y = 155, w = 169, h = 209\n"
          ],
          "name": "stdout"
        },
        {
          "output_type": "stream",
          "text": [
            "\r 62%|██████▏   | 133/216 [02:26<01:31,  1.10s/it]"
          ],
          "name": "stderr"
        },
        {
          "output_type": "stream",
          "text": [
            "True\n",
            "x = 176, y = 133, w = 146, h = 203\n"
          ],
          "name": "stdout"
        },
        {
          "output_type": "stream",
          "text": [
            "\r 62%|██████▏   | 134/216 [02:27<01:28,  1.07s/it]"
          ],
          "name": "stderr"
        },
        {
          "output_type": "stream",
          "text": [
            "True\n",
            "x = 151, y = 160, w = 169, h = 211\n"
          ],
          "name": "stdout"
        },
        {
          "output_type": "stream",
          "text": [
            "\r 62%|██████▎   | 135/216 [02:28<01:25,  1.05s/it]"
          ],
          "name": "stderr"
        },
        {
          "output_type": "stream",
          "text": [
            "True\n",
            "x = 151, y = 157, w = 174, h = 226\n"
          ],
          "name": "stdout"
        },
        {
          "output_type": "stream",
          "text": [
            "\r 63%|██████▎   | 136/216 [02:29<01:21,  1.02s/it]"
          ],
          "name": "stderr"
        },
        {
          "output_type": "stream",
          "text": [
            "True\n",
            "x = 174, y = 146, w = 152, h = 215\n"
          ],
          "name": "stdout"
        },
        {
          "output_type": "stream",
          "text": [
            "\r 63%|██████▎   | 137/216 [02:30<01:26,  1.10s/it]"
          ],
          "name": "stderr"
        },
        {
          "output_type": "stream",
          "text": [
            "True\n",
            "x = 175, y = 151, w = 157, h = 192\n"
          ],
          "name": "stdout"
        },
        {
          "output_type": "stream",
          "text": [
            "\r 64%|██████▍   | 138/216 [02:31<01:26,  1.11s/it]"
          ],
          "name": "stderr"
        },
        {
          "output_type": "stream",
          "text": [
            "True\n",
            "x = 174, y = 106, w = 141, h = 212\n"
          ],
          "name": "stdout"
        },
        {
          "output_type": "stream",
          "text": [
            "\r 64%|██████▍   | 139/216 [02:32<01:23,  1.08s/it]"
          ],
          "name": "stderr"
        },
        {
          "output_type": "stream",
          "text": [
            "True\n",
            "x = 188, y = 143, w = 133, h = 174\n"
          ],
          "name": "stdout"
        },
        {
          "output_type": "stream",
          "text": [
            "\r 65%|██████▍   | 140/216 [02:34<01:24,  1.11s/it]"
          ],
          "name": "stderr"
        },
        {
          "output_type": "stream",
          "text": [
            "True\n",
            "x = 169, y = 164, w = 151, h = 195\n"
          ],
          "name": "stdout"
        },
        {
          "output_type": "stream",
          "text": [
            "\r 65%|██████▌   | 141/216 [02:35<01:26,  1.15s/it]"
          ],
          "name": "stderr"
        },
        {
          "output_type": "stream",
          "text": [
            "True\n",
            "x = 172, y = 113, w = 153, h = 199\n"
          ],
          "name": "stdout"
        },
        {
          "output_type": "stream",
          "text": [
            "\r 66%|██████▌   | 142/216 [02:36<01:25,  1.15s/it]"
          ],
          "name": "stderr"
        },
        {
          "output_type": "stream",
          "text": [
            "True\n",
            "x = 151, y = 130, w = 154, h = 216\n"
          ],
          "name": "stdout"
        },
        {
          "output_type": "stream",
          "text": [
            "\r 66%|██████▌   | 143/216 [02:37<01:21,  1.12s/it]"
          ],
          "name": "stderr"
        },
        {
          "output_type": "stream",
          "text": [
            "True\n",
            "x = 179, y = 165, w = 136, h = 163\n"
          ],
          "name": "stdout"
        },
        {
          "output_type": "stream",
          "text": [
            "\r 67%|██████▋   | 144/216 [02:38<01:21,  1.14s/it]"
          ],
          "name": "stderr"
        },
        {
          "output_type": "stream",
          "text": [
            "True\n",
            "x = 168, y = 137, w = 174, h = 226\n"
          ],
          "name": "stdout"
        },
        {
          "output_type": "stream",
          "text": [
            "\r 67%|██████▋   | 145/216 [02:39<01:21,  1.14s/it]"
          ],
          "name": "stderr"
        },
        {
          "output_type": "stream",
          "text": [
            "True\n",
            "x = 175, y = 149, w = 132, h = 179\n"
          ],
          "name": "stdout"
        },
        {
          "output_type": "stream",
          "text": [
            "\r 68%|██████▊   | 146/216 [02:40<01:16,  1.09s/it]"
          ],
          "name": "stderr"
        },
        {
          "output_type": "stream",
          "text": [
            "True\n",
            "x = 154, y = 122, w = 179, h = 239\n"
          ],
          "name": "stdout"
        },
        {
          "output_type": "stream",
          "text": [
            "\r 68%|██████▊   | 147/216 [02:41<01:12,  1.06s/it]"
          ],
          "name": "stderr"
        },
        {
          "output_type": "stream",
          "text": [
            "True\n",
            "x = 165, y = 135, w = 158, h = 191\n"
          ],
          "name": "stdout"
        },
        {
          "output_type": "stream",
          "text": [
            "\r 69%|██████▊   | 148/216 [02:43<01:16,  1.13s/it]"
          ],
          "name": "stderr"
        },
        {
          "output_type": "stream",
          "text": [
            "True\n",
            "x = 150, y = 100, w = 178, h = 232\n"
          ],
          "name": "stdout"
        },
        {
          "output_type": "stream",
          "text": [
            "\r 69%|██████▉   | 149/216 [02:44<01:12,  1.08s/it]"
          ],
          "name": "stderr"
        },
        {
          "output_type": "stream",
          "text": [
            "True\n",
            "x = 164, y = 117, w = 172, h = 229\n"
          ],
          "name": "stdout"
        },
        {
          "output_type": "stream",
          "text": [
            "\r 69%|██████▉   | 150/216 [02:45<01:11,  1.08s/it]"
          ],
          "name": "stderr"
        },
        {
          "output_type": "stream",
          "text": [
            "True\n",
            "x = 151, y = 130, w = 154, h = 216\n"
          ],
          "name": "stdout"
        },
        {
          "output_type": "stream",
          "text": [
            "\r 70%|██████▉   | 151/216 [02:46<01:06,  1.03s/it]"
          ],
          "name": "stderr"
        },
        {
          "output_type": "stream",
          "text": [
            "True\n",
            "x = 172, y = 113, w = 153, h = 199\n"
          ],
          "name": "stdout"
        },
        {
          "output_type": "stream",
          "text": [
            "\r 70%|███████   | 152/216 [02:47<01:08,  1.08s/it]"
          ],
          "name": "stderr"
        },
        {
          "output_type": "stream",
          "text": [
            "True\n",
            "x = 165, y = 138, w = 149, h = 202\n"
          ],
          "name": "stdout"
        },
        {
          "output_type": "stream",
          "text": [
            "\r 71%|███████   | 153/216 [02:48<01:05,  1.05s/it]"
          ],
          "name": "stderr"
        },
        {
          "output_type": "stream",
          "text": [
            "True\n",
            "x = 174, y = 126, w = 147, h = 188\n"
          ],
          "name": "stdout"
        },
        {
          "output_type": "stream",
          "text": [
            "\r 71%|███████▏  | 154/216 [02:49<01:03,  1.02s/it]"
          ],
          "name": "stderr"
        },
        {
          "output_type": "stream",
          "text": [
            "True\n",
            "x = 179, y = 177, w = 135, h = 191\n"
          ],
          "name": "stdout"
        },
        {
          "output_type": "stream",
          "text": [
            "\r 72%|███████▏  | 155/216 [02:50<01:00,  1.00it/s]"
          ],
          "name": "stderr"
        },
        {
          "output_type": "stream",
          "text": [
            "True\n",
            "x = 168, y = 137, w = 174, h = 226\n"
          ],
          "name": "stdout"
        },
        {
          "output_type": "stream",
          "text": [
            "\r 72%|███████▏  | 156/216 [02:51<01:00,  1.01s/it]"
          ],
          "name": "stderr"
        },
        {
          "output_type": "stream",
          "text": [
            "True\n",
            "x = 160, y = 143, w = 151, h = 199\n"
          ],
          "name": "stdout"
        },
        {
          "output_type": "stream",
          "text": [
            "\r 73%|███████▎  | 157/216 [02:52<00:57,  1.02it/s]"
          ],
          "name": "stderr"
        },
        {
          "output_type": "stream",
          "text": [
            "True\n",
            "x = 161, y = 149, w = 151, h = 201\n"
          ],
          "name": "stdout"
        },
        {
          "output_type": "stream",
          "text": [
            "\r 73%|███████▎  | 158/216 [02:53<01:00,  1.04s/it]"
          ],
          "name": "stderr"
        },
        {
          "output_type": "stream",
          "text": [
            "True\n",
            "x = 164, y = 139, w = 155, h = 195\n"
          ],
          "name": "stdout"
        },
        {
          "output_type": "stream",
          "text": [
            "\r 74%|███████▎  | 159/216 [03:14<06:45,  7.12s/it]"
          ],
          "name": "stderr"
        },
        {
          "output_type": "stream",
          "text": [
            "True\n",
            "x = 167, y = 145, w = 147, h = 181\n",
            "x = 14, y = 174, w = 92, h = 113\n"
          ],
          "name": "stdout"
        },
        {
          "output_type": "stream",
          "text": [
            "\r 74%|███████▍  | 160/216 [03:15<04:57,  5.31s/it]"
          ],
          "name": "stderr"
        },
        {
          "output_type": "stream",
          "text": [
            "True\n",
            "x = 175, y = 129, w = 142, h = 196\n"
          ],
          "name": "stdout"
        },
        {
          "output_type": "stream",
          "text": [
            "\r 75%|███████▍  | 161/216 [03:16<03:40,  4.02s/it]"
          ],
          "name": "stderr"
        },
        {
          "output_type": "stream",
          "text": [
            "True\n",
            "x = 188, y = 143, w = 133, h = 174\n"
          ],
          "name": "stdout"
        },
        {
          "output_type": "stream",
          "text": [
            "\r 75%|███████▌  | 162/216 [03:17<02:48,  3.12s/it]"
          ],
          "name": "stderr"
        },
        {
          "output_type": "stream",
          "text": [
            "True\n",
            "x = 149, y = 122, w = 162, h = 203\n"
          ],
          "name": "stdout"
        },
        {
          "output_type": "stream",
          "text": [
            "\r 75%|███████▌  | 163/216 [03:18<02:11,  2.48s/it]"
          ],
          "name": "stderr"
        },
        {
          "output_type": "stream",
          "text": [
            "True\n",
            "x = 175, y = 129, w = 142, h = 196\n"
          ],
          "name": "stdout"
        },
        {
          "output_type": "stream",
          "text": [
            "\r 76%|███████▌  | 164/216 [03:19<01:48,  2.09s/it]"
          ],
          "name": "stderr"
        },
        {
          "output_type": "stream",
          "text": [
            "True\n",
            "x = 164, y = 139, w = 155, h = 195\n"
          ],
          "name": "stdout"
        },
        {
          "output_type": "stream",
          "text": [
            "\r 76%|███████▋  | 165/216 [03:20<01:29,  1.76s/it]"
          ],
          "name": "stderr"
        },
        {
          "output_type": "stream",
          "text": [
            "True\n",
            "x = 151, y = 163, w = 161, h = 198\n"
          ],
          "name": "stdout"
        },
        {
          "output_type": "stream",
          "text": [
            "\r 77%|███████▋  | 166/216 [03:21<01:16,  1.53s/it]"
          ],
          "name": "stderr"
        },
        {
          "output_type": "stream",
          "text": [
            "True\n",
            "x = 165, y = 138, w = 149, h = 202\n"
          ],
          "name": "stdout"
        },
        {
          "output_type": "stream",
          "text": [
            "\r 77%|███████▋  | 167/216 [03:22<01:06,  1.36s/it]"
          ],
          "name": "stderr"
        },
        {
          "output_type": "stream",
          "text": [
            "True\n",
            "x = 151, y = 163, w = 161, h = 198\n"
          ],
          "name": "stdout"
        },
        {
          "output_type": "stream",
          "text": [
            "\r 78%|███████▊  | 168/216 [03:23<00:59,  1.24s/it]"
          ],
          "name": "stderr"
        },
        {
          "output_type": "stream",
          "text": [
            "True\n",
            "x = 159, y = 139, w = 161, h = 209\n"
          ],
          "name": "stdout"
        },
        {
          "output_type": "stream",
          "text": [
            "\r 78%|███████▊  | 169/216 [03:24<00:54,  1.16s/it]"
          ],
          "name": "stderr"
        },
        {
          "output_type": "stream",
          "text": [
            "True\n",
            "x = 180, y = 130, w = 132, h = 178\n"
          ],
          "name": "stdout"
        },
        {
          "output_type": "stream",
          "text": [
            "\r 79%|███████▊  | 170/216 [03:25<00:52,  1.14s/it]"
          ],
          "name": "stderr"
        },
        {
          "output_type": "stream",
          "text": [
            "True\n",
            "x = 175, y = 151, w = 157, h = 192\n"
          ],
          "name": "stdout"
        },
        {
          "output_type": "stream",
          "text": [
            "\r 79%|███████▉  | 171/216 [03:26<00:49,  1.10s/it]"
          ],
          "name": "stderr"
        },
        {
          "output_type": "stream",
          "text": [
            "True\n",
            "x = 166, y = 115, w = 160, h = 206\n"
          ],
          "name": "stdout"
        },
        {
          "output_type": "stream",
          "text": [
            "\r 80%|███████▉  | 172/216 [03:27<00:46,  1.06s/it]"
          ],
          "name": "stderr"
        },
        {
          "output_type": "stream",
          "text": [
            "True\n",
            "x = 150, y = 100, w = 178, h = 232\n"
          ],
          "name": "stdout"
        },
        {
          "output_type": "stream",
          "text": [
            "\r 80%|████████  | 173/216 [03:28<00:47,  1.11s/it]"
          ],
          "name": "stderr"
        },
        {
          "output_type": "stream",
          "text": [
            "True\n",
            "x = 150, y = 168, w = 162, h = 203\n"
          ],
          "name": "stdout"
        },
        {
          "output_type": "stream",
          "text": [
            "\r 81%|████████  | 174/216 [03:30<00:48,  1.15s/it]"
          ],
          "name": "stderr"
        },
        {
          "output_type": "stream",
          "text": [
            "True\n",
            "x = 183, y = 146, w = 177, h = 220\n"
          ],
          "name": "stdout"
        },
        {
          "output_type": "stream",
          "text": [
            "\r 81%|████████  | 175/216 [03:31<00:45,  1.11s/it]"
          ],
          "name": "stderr"
        },
        {
          "output_type": "stream",
          "text": [
            "True\n",
            "x = 161, y = 157, w = 164, h = 227\n"
          ],
          "name": "stdout"
        },
        {
          "output_type": "stream",
          "text": [
            "\r 81%|████████▏ | 176/216 [03:32<00:44,  1.10s/it]"
          ],
          "name": "stderr"
        },
        {
          "output_type": "stream",
          "text": [
            "True\n",
            "x = 150, y = 168, w = 162, h = 203\n"
          ],
          "name": "stdout"
        },
        {
          "output_type": "stream",
          "text": [
            "\r 82%|████████▏ | 177/216 [03:33<00:42,  1.09s/it]"
          ],
          "name": "stderr"
        },
        {
          "output_type": "stream",
          "text": [
            "True\n",
            "x = 159, y = 154, w = 166, h = 208\n"
          ],
          "name": "stdout"
        },
        {
          "output_type": "stream",
          "text": [
            "\r 82%|████████▏ | 178/216 [03:34<00:40,  1.06s/it]"
          ],
          "name": "stderr"
        },
        {
          "output_type": "stream",
          "text": [
            "True\n",
            "x = 169, y = 119, w = 141, h = 200\n"
          ],
          "name": "stdout"
        },
        {
          "output_type": "stream",
          "text": [
            "\r 83%|████████▎ | 179/216 [03:35<00:38,  1.04s/it]"
          ],
          "name": "stderr"
        },
        {
          "output_type": "stream",
          "text": [
            "True\n",
            "x = 149, y = 122, w = 162, h = 203\n"
          ],
          "name": "stdout"
        },
        {
          "output_type": "stream",
          "text": [
            "\r 83%|████████▎ | 180/216 [03:36<00:37,  1.04s/it]"
          ],
          "name": "stderr"
        },
        {
          "output_type": "stream",
          "text": [
            "True\n",
            "x = 156, y = 151, w = 173, h = 216\n"
          ],
          "name": "stdout"
        },
        {
          "output_type": "stream",
          "text": [
            "\r 84%|████████▍ | 181/216 [03:37<00:35,  1.02s/it]"
          ],
          "name": "stderr"
        },
        {
          "output_type": "stream",
          "text": [
            "True\n",
            "x = 169, y = 164, w = 151, h = 195\n"
          ],
          "name": "stdout"
        },
        {
          "output_type": "stream",
          "text": [
            "\r 84%|████████▍ | 182/216 [03:38<00:34,  1.01s/it]"
          ],
          "name": "stderr"
        },
        {
          "output_type": "stream",
          "text": [
            "True\n",
            "x = 178, y = 146, w = 151, h = 203\n"
          ],
          "name": "stdout"
        },
        {
          "output_type": "stream",
          "text": [
            "\r 85%|████████▍ | 183/216 [03:39<00:33,  1.02s/it]"
          ],
          "name": "stderr"
        },
        {
          "output_type": "stream",
          "text": [
            "True\n",
            "x = 182, y = 132, w = 137, h = 196\n"
          ],
          "name": "stdout"
        },
        {
          "output_type": "stream",
          "text": [
            "\r 85%|████████▌ | 184/216 [03:40<00:31,  1.01it/s]"
          ],
          "name": "stderr"
        },
        {
          "output_type": "stream",
          "text": [
            "True\n",
            "x = 189, y = 128, w = 136, h = 176\n"
          ],
          "name": "stdout"
        },
        {
          "output_type": "stream",
          "text": [
            "\r 86%|████████▌ | 185/216 [03:41<00:33,  1.07s/it]"
          ],
          "name": "stderr"
        },
        {
          "output_type": "stream",
          "text": [
            "True\n",
            "x = 181, y = 166, w = 157, h = 206\n",
            "x = 10, y = 439, w = 60, h = 68\n",
            "x = 17, y = 186, w = 39, h = 63\n"
          ],
          "name": "stdout"
        },
        {
          "output_type": "stream",
          "text": [
            "\r 86%|████████▌ | 186/216 [03:42<00:32,  1.07s/it]"
          ],
          "name": "stderr"
        },
        {
          "output_type": "stream",
          "text": [
            "True\n",
            "x = 159, y = 163, w = 150, h = 182\n"
          ],
          "name": "stdout"
        },
        {
          "output_type": "stream",
          "text": [
            "\r 87%|████████▋ | 187/216 [03:43<00:30,  1.04s/it]"
          ],
          "name": "stderr"
        },
        {
          "output_type": "stream",
          "text": [
            "True\n",
            "x = 156, y = 144, w = 147, h = 179\n"
          ],
          "name": "stdout"
        },
        {
          "output_type": "stream",
          "text": [
            "\r 87%|████████▋ | 188/216 [03:44<00:28,  1.02s/it]"
          ],
          "name": "stderr"
        },
        {
          "output_type": "stream",
          "text": [
            "True\n",
            "x = 165, y = 135, w = 158, h = 191\n"
          ],
          "name": "stdout"
        },
        {
          "output_type": "stream",
          "text": [
            "\r 88%|████████▊ | 189/216 [03:45<00:26,  1.00it/s]"
          ],
          "name": "stderr"
        },
        {
          "output_type": "stream",
          "text": [
            "True\n",
            "x = 159, y = 163, w = 150, h = 182\n"
          ],
          "name": "stdout"
        },
        {
          "output_type": "stream",
          "text": [
            "\r 88%|████████▊ | 190/216 [03:46<00:26,  1.02s/it]"
          ],
          "name": "stderr"
        },
        {
          "output_type": "stream",
          "text": [
            "True\n",
            "x = 183, y = 146, w = 177, h = 220\n"
          ],
          "name": "stdout"
        },
        {
          "output_type": "stream",
          "text": [
            "\r 88%|████████▊ | 191/216 [03:47<00:27,  1.08s/it]"
          ],
          "name": "stderr"
        },
        {
          "output_type": "stream",
          "text": [
            "True\n",
            "x = 185, y = 139, w = 144, h = 184\n"
          ],
          "name": "stdout"
        },
        {
          "output_type": "stream",
          "text": [
            "\r 89%|████████▉ | 192/216 [03:48<00:25,  1.05s/it]"
          ],
          "name": "stderr"
        },
        {
          "output_type": "stream",
          "text": [
            "True\n",
            "x = 179, y = 165, w = 136, h = 163\n"
          ],
          "name": "stdout"
        },
        {
          "output_type": "stream",
          "text": [
            "\r 89%|████████▉ | 193/216 [03:49<00:23,  1.04s/it]"
          ],
          "name": "stderr"
        },
        {
          "output_type": "stream",
          "text": [
            "True\n",
            "x = 151, y = 157, w = 174, h = 226\n"
          ],
          "name": "stdout"
        },
        {
          "output_type": "stream",
          "text": [
            "\r 90%|████████▉ | 194/216 [03:50<00:22,  1.00s/it]"
          ],
          "name": "stderr"
        },
        {
          "output_type": "stream",
          "text": [
            "True\n",
            "x = 167, y = 145, w = 147, h = 181\n",
            "x = 14, y = 174, w = 92, h = 113\n"
          ],
          "name": "stdout"
        },
        {
          "output_type": "stream",
          "text": [
            "\r 90%|█████████ | 195/216 [03:52<00:23,  1.12s/it]"
          ],
          "name": "stderr"
        },
        {
          "output_type": "stream",
          "text": [
            "True\n",
            "x = 171, y = 163, w = 160, h = 231\n"
          ],
          "name": "stdout"
        },
        {
          "output_type": "stream",
          "text": [
            "\r 91%|█████████ | 196/216 [03:53<00:21,  1.07s/it]"
          ],
          "name": "stderr"
        },
        {
          "output_type": "stream",
          "text": [
            "True\n",
            "x = 164, y = 117, w = 172, h = 229\n"
          ],
          "name": "stdout"
        },
        {
          "output_type": "stream",
          "text": [
            "\r 91%|█████████ | 197/216 [03:54<00:20,  1.06s/it]"
          ],
          "name": "stderr"
        },
        {
          "output_type": "stream",
          "text": [
            "True\n",
            "x = 181, y = 166, w = 157, h = 206\n",
            "x = 10, y = 439, w = 60, h = 68\n",
            "x = 17, y = 186, w = 39, h = 63\n"
          ],
          "name": "stdout"
        },
        {
          "output_type": "stream",
          "text": [
            "\r 92%|█████████▏| 198/216 [03:55<00:19,  1.08s/it]"
          ],
          "name": "stderr"
        },
        {
          "output_type": "stream",
          "text": [
            "True\n",
            "x = 155, y = 153, w = 171, h = 228\n"
          ],
          "name": "stdout"
        },
        {
          "output_type": "stream",
          "text": [
            "\r 92%|█████████▏| 199/216 [03:56<00:17,  1.03s/it]"
          ],
          "name": "stderr"
        },
        {
          "output_type": "stream",
          "text": [
            "True\n",
            "x = 156, y = 146, w = 180, h = 219\n"
          ],
          "name": "stdout"
        },
        {
          "output_type": "stream",
          "text": [
            "\r 93%|█████████▎| 200/216 [03:57<00:16,  1.01s/it]"
          ],
          "name": "stderr"
        },
        {
          "output_type": "stream",
          "text": [
            "True\n",
            "x = 176, y = 133, w = 146, h = 203\n"
          ],
          "name": "stdout"
        },
        {
          "output_type": "stream",
          "text": [
            "\r 93%|█████████▎| 201/216 [03:58<00:15,  1.00s/it]"
          ],
          "name": "stderr"
        },
        {
          "output_type": "stream",
          "text": [
            "True\n",
            "x = 175, y = 134, w = 143, h = 190\n"
          ],
          "name": "stdout"
        },
        {
          "output_type": "stream",
          "text": [
            "\r 94%|█████████▎| 202/216 [03:59<00:13,  1.01it/s]"
          ],
          "name": "stderr"
        },
        {
          "output_type": "stream",
          "text": [
            "True\n",
            "x = 176, y = 125, w = 129, h = 163\n"
          ],
          "name": "stdout"
        },
        {
          "output_type": "stream",
          "text": [
            "\r 94%|█████████▍| 203/216 [03:59<00:12,  1.02it/s]"
          ],
          "name": "stderr"
        },
        {
          "output_type": "stream",
          "text": [
            "True\n",
            "x = 160, y = 143, w = 151, h = 199\n"
          ],
          "name": "stdout"
        },
        {
          "output_type": "stream",
          "text": [
            "\r 94%|█████████▍| 204/216 [04:00<00:11,  1.05it/s]"
          ],
          "name": "stderr"
        },
        {
          "output_type": "stream",
          "text": [
            "True\n",
            "x = 178, y = 146, w = 151, h = 203\n"
          ],
          "name": "stdout"
        },
        {
          "output_type": "stream",
          "text": [
            "\r 95%|█████████▍| 205/216 [04:01<00:10,  1.06it/s]"
          ],
          "name": "stderr"
        },
        {
          "output_type": "stream",
          "text": [
            "True\n",
            "x = 155, y = 153, w = 171, h = 228\n"
          ],
          "name": "stdout"
        },
        {
          "output_type": "stream",
          "text": [
            "\r 95%|█████████▌| 206/216 [04:02<00:09,  1.06it/s]"
          ],
          "name": "stderr"
        },
        {
          "output_type": "stream",
          "text": [
            "True\n",
            "x = 163, y = 124, w = 179, h = 228\n"
          ],
          "name": "stdout"
        },
        {
          "output_type": "stream",
          "text": [
            "\r 96%|█████████▌| 207/216 [04:03<00:08,  1.05it/s]"
          ],
          "name": "stderr"
        },
        {
          "output_type": "stream",
          "text": [
            "True\n",
            "x = 163, y = 146, w = 159, h = 210\n"
          ],
          "name": "stdout"
        },
        {
          "output_type": "stream",
          "text": [
            "\r 96%|█████████▋| 208/216 [04:04<00:07,  1.01it/s]"
          ],
          "name": "stderr"
        },
        {
          "output_type": "stream",
          "text": [
            "True\n",
            "x = 179, y = 155, w = 163, h = 203\n"
          ],
          "name": "stdout"
        },
        {
          "output_type": "stream",
          "text": [
            "\r 97%|█████████▋| 209/216 [04:05<00:06,  1.02it/s]"
          ],
          "name": "stderr"
        },
        {
          "output_type": "stream",
          "text": [
            "True\n",
            "x = 171, y = 163, w = 160, h = 231\n"
          ],
          "name": "stdout"
        },
        {
          "output_type": "stream",
          "text": [
            "\r 97%|█████████▋| 210/216 [04:06<00:06,  1.00s/it]"
          ],
          "name": "stderr"
        },
        {
          "output_type": "stream",
          "text": [
            "True\n",
            "x = 152, y = 106, w = 185, h = 233\n"
          ],
          "name": "stdout"
        },
        {
          "output_type": "stream",
          "text": [
            "\r 98%|█████████▊| 211/216 [04:07<00:04,  1.01it/s]"
          ],
          "name": "stderr"
        },
        {
          "output_type": "stream",
          "text": [
            "True\n",
            "x = 163, y = 148, w = 173, h = 225\n"
          ],
          "name": "stdout"
        },
        {
          "output_type": "stream",
          "text": [
            "\r 98%|█████████▊| 212/216 [04:08<00:04,  1.02s/it]"
          ],
          "name": "stderr"
        },
        {
          "output_type": "stream",
          "text": [
            "True\n",
            "x = 172, y = 129, w = 164, h = 212\n"
          ],
          "name": "stdout"
        },
        {
          "output_type": "stream",
          "text": [
            "\r 99%|█████████▊| 213/216 [04:09<00:03,  1.02s/it]"
          ],
          "name": "stderr"
        },
        {
          "output_type": "stream",
          "text": [
            "True\n",
            "x = 177, y = 112, w = 150, h = 198\n"
          ],
          "name": "stdout"
        },
        {
          "output_type": "stream",
          "text": [
            "\r 99%|█████████▉| 214/216 [04:10<00:02,  1.02s/it]"
          ],
          "name": "stderr"
        },
        {
          "output_type": "stream",
          "text": [
            "True\n",
            "x = 172, y = 129, w = 164, h = 212\n"
          ],
          "name": "stdout"
        },
        {
          "output_type": "stream",
          "text": [
            "\r100%|█████████▉| 215/216 [04:12<00:01,  1.06s/it]"
          ],
          "name": "stderr"
        },
        {
          "output_type": "stream",
          "text": [
            "True\n",
            "x = 139, y = 152, w = 178, h = 229\n"
          ],
          "name": "stdout"
        },
        {
          "output_type": "stream",
          "text": [
            "100%|██████████| 216/216 [04:13<00:00,  1.17s/it]"
          ],
          "name": "stderr"
        },
        {
          "output_type": "stream",
          "text": [
            "True\n",
            "x = 173, y = 138, w = 149, h = 182\n",
            "x = 419, y = 325, w = 80, h = 115\n",
            "c =376\n",
            "b = 376\n",
            "f = 0\n"
          ],
          "name": "stdout"
        },
        {
          "output_type": "stream",
          "text": [
            "\n"
          ],
          "name": "stderr"
        }
      ]
    },
    {
      "cell_type": "code",
      "metadata": {
        "colab": {
          "base_uri": "https://localhost:8080/"
        },
        "id": "9ke9k9Kxb3KN",
        "outputId": "3b82081b-ac39-4b83-d5ce-afc5573466d1"
      },
      "source": [
        "c,b,f=make_train_data('Sadness', SADNESS_DIR,c,b,f)\n",
        "print(f\"c ={c}\\nb = {b}\\nf = {f}\")"
      ],
      "execution_count": null,
      "outputs": [
        {
          "output_type": "stream",
          "text": [
            "  0%|          | 1/204 [00:01<03:55,  1.16s/it]"
          ],
          "name": "stderr"
        },
        {
          "output_type": "stream",
          "text": [
            "True\n",
            "x = 158, y = 169, w = 161, h = 203\n"
          ],
          "name": "stdout"
        },
        {
          "output_type": "stream",
          "text": [
            "\r  1%|          | 2/204 [00:02<03:42,  1.10s/it]"
          ],
          "name": "stderr"
        },
        {
          "output_type": "stream",
          "text": [
            "True\n",
            "x = 158, y = 169, w = 161, h = 203\n"
          ],
          "name": "stdout"
        },
        {
          "output_type": "stream",
          "text": [
            "\r  1%|▏         | 3/204 [00:03<03:32,  1.06s/it]"
          ],
          "name": "stderr"
        },
        {
          "output_type": "stream",
          "text": [
            "True\n",
            "x = 158, y = 169, w = 161, h = 203\n"
          ],
          "name": "stdout"
        },
        {
          "output_type": "stream",
          "text": [
            "\r  2%|▏         | 4/204 [00:04<03:36,  1.08s/it]"
          ],
          "name": "stderr"
        },
        {
          "output_type": "stream",
          "text": [
            "True\n",
            "x = 163, y = 129, w = 171, h = 238\n"
          ],
          "name": "stdout"
        },
        {
          "output_type": "stream",
          "text": [
            "\r  2%|▏         | 5/204 [00:05<03:42,  1.12s/it]"
          ],
          "name": "stderr"
        },
        {
          "output_type": "stream",
          "text": [
            "True\n",
            "x = 162, y = 163, w = 162, h = 195\n"
          ],
          "name": "stdout"
        },
        {
          "output_type": "stream",
          "text": [
            "\r  3%|▎         | 6/204 [00:06<03:44,  1.13s/it]"
          ],
          "name": "stderr"
        },
        {
          "output_type": "stream",
          "text": [
            "True\n",
            "x = 166, y = 163, w = 153, h = 198\n"
          ],
          "name": "stdout"
        },
        {
          "output_type": "stream",
          "text": [
            "\r  3%|▎         | 7/204 [00:07<03:34,  1.09s/it]"
          ],
          "name": "stderr"
        },
        {
          "output_type": "stream",
          "text": [
            "True\n",
            "x = 162, y = 127, w = 177, h = 238\n"
          ],
          "name": "stdout"
        },
        {
          "output_type": "stream",
          "text": [
            "\r  4%|▍         | 8/204 [00:08<03:35,  1.10s/it]"
          ],
          "name": "stderr"
        },
        {
          "output_type": "stream",
          "text": [
            "True\n",
            "x = 155, y = 165, w = 158, h = 212\n"
          ],
          "name": "stdout"
        },
        {
          "output_type": "stream",
          "text": [
            "\r  4%|▍         | 9/204 [00:09<03:24,  1.05s/it]"
          ],
          "name": "stderr"
        },
        {
          "output_type": "stream",
          "text": [
            "True\n",
            "x = 162, y = 127, w = 177, h = 238\n"
          ],
          "name": "stdout"
        },
        {
          "output_type": "stream",
          "text": [
            "\r  5%|▍         | 10/204 [00:10<03:27,  1.07s/it]"
          ],
          "name": "stderr"
        },
        {
          "output_type": "stream",
          "text": [
            "True\n",
            "x = 152, y = 123, w = 183, h = 243\n"
          ],
          "name": "stdout"
        },
        {
          "output_type": "stream",
          "text": [
            "\r  5%|▌         | 11/204 [00:12<03:41,  1.15s/it]"
          ],
          "name": "stderr"
        },
        {
          "output_type": "stream",
          "text": [
            "True\n",
            "x = 140, y = 130, w = 177, h = 223\n"
          ],
          "name": "stdout"
        },
        {
          "output_type": "stream",
          "text": [
            "\r  6%|▌         | 12/204 [00:13<03:36,  1.13s/it]"
          ],
          "name": "stderr"
        },
        {
          "output_type": "stream",
          "text": [
            "True\n",
            "x = 162, y = 147, w = 182, h = 229\n"
          ],
          "name": "stdout"
        },
        {
          "output_type": "stream",
          "text": [
            "\r  6%|▋         | 13/204 [00:14<03:47,  1.19s/it]"
          ],
          "name": "stderr"
        },
        {
          "output_type": "stream",
          "text": [
            "True\n",
            "x = 146, y = 130, w = 174, h = 249\n"
          ],
          "name": "stdout"
        },
        {
          "output_type": "stream",
          "text": [
            "\r  7%|▋         | 14/204 [00:15<03:42,  1.17s/it]"
          ],
          "name": "stderr"
        },
        {
          "output_type": "stream",
          "text": [
            "True\n",
            "x = 155, y = 165, w = 158, h = 212\n"
          ],
          "name": "stdout"
        },
        {
          "output_type": "stream",
          "text": [
            "\r  7%|▋         | 15/204 [00:16<03:28,  1.11s/it]"
          ],
          "name": "stderr"
        },
        {
          "output_type": "stream",
          "text": [
            "True\n",
            "x = 162, y = 147, w = 182, h = 229\n"
          ],
          "name": "stdout"
        },
        {
          "output_type": "stream",
          "text": [
            "\r  8%|▊         | 16/204 [00:17<03:31,  1.12s/it]"
          ],
          "name": "stderr"
        },
        {
          "output_type": "stream",
          "text": [
            "True\n",
            "x = 160, y = 140, w = 154, h = 216\n"
          ],
          "name": "stdout"
        },
        {
          "output_type": "stream",
          "text": [
            "\r  8%|▊         | 17/204 [00:18<03:23,  1.09s/it]"
          ],
          "name": "stderr"
        },
        {
          "output_type": "stream",
          "text": [
            "True\n",
            "x = 160, y = 140, w = 154, h = 216\n"
          ],
          "name": "stdout"
        },
        {
          "output_type": "stream",
          "text": [
            "\r  9%|▉         | 18/204 [00:19<03:28,  1.12s/it]"
          ],
          "name": "stderr"
        },
        {
          "output_type": "stream",
          "text": [
            "True\n",
            "x = 176, y = 147, w = 166, h = 219\n"
          ],
          "name": "stdout"
        },
        {
          "output_type": "stream",
          "text": [
            "\r  9%|▉         | 19/204 [00:21<03:30,  1.14s/it]"
          ],
          "name": "stderr"
        },
        {
          "output_type": "stream",
          "text": [
            "True\n",
            "x = 173, y = 152, w = 166, h = 218\n"
          ],
          "name": "stdout"
        },
        {
          "output_type": "stream",
          "text": [
            "\r 10%|▉         | 20/204 [00:22<03:36,  1.18s/it]"
          ],
          "name": "stderr"
        },
        {
          "output_type": "stream",
          "text": [
            "True\n",
            "x = 171, y = 172, w = 132, h = 173\n"
          ],
          "name": "stdout"
        },
        {
          "output_type": "stream",
          "text": [
            "\r 10%|█         | 21/204 [00:23<03:29,  1.14s/it]"
          ],
          "name": "stderr"
        },
        {
          "output_type": "stream",
          "text": [
            "True\n",
            "x = 146, y = 130, w = 174, h = 249\n"
          ],
          "name": "stdout"
        },
        {
          "output_type": "stream",
          "text": [
            "\r 11%|█         | 22/204 [00:24<03:35,  1.18s/it]"
          ],
          "name": "stderr"
        },
        {
          "output_type": "stream",
          "text": [
            "True\n",
            "x = 171, y = 172, w = 132, h = 173\n"
          ],
          "name": "stdout"
        },
        {
          "output_type": "stream",
          "text": [
            "\r 11%|█▏        | 23/204 [00:25<03:26,  1.14s/it]"
          ],
          "name": "stderr"
        },
        {
          "output_type": "stream",
          "text": [
            "True\n",
            "x = 163, y = 129, w = 171, h = 238\n"
          ],
          "name": "stdout"
        },
        {
          "output_type": "stream",
          "text": [
            "\r 12%|█▏        | 24/204 [00:26<03:21,  1.12s/it]"
          ],
          "name": "stderr"
        },
        {
          "output_type": "stream",
          "text": [
            "True\n",
            "x = 174, y = 161, w = 146, h = 181\n"
          ],
          "name": "stdout"
        },
        {
          "output_type": "stream",
          "text": [
            "\r 12%|█▏        | 25/204 [00:28<03:24,  1.14s/it]"
          ],
          "name": "stderr"
        },
        {
          "output_type": "stream",
          "text": [
            "True\n",
            "x = 164, y = 138, w = 179, h = 217\n"
          ],
          "name": "stdout"
        },
        {
          "output_type": "stream",
          "text": [
            "\r 13%|█▎        | 26/204 [00:29<03:15,  1.10s/it]"
          ],
          "name": "stderr"
        },
        {
          "output_type": "stream",
          "text": [
            "True\n",
            "x = 176, y = 147, w = 166, h = 219\n"
          ],
          "name": "stdout"
        },
        {
          "output_type": "stream",
          "text": [
            "\r 13%|█▎        | 27/204 [00:30<03:09,  1.07s/it]"
          ],
          "name": "stderr"
        },
        {
          "output_type": "stream",
          "text": [
            "True\n",
            "x = 140, y = 130, w = 177, h = 223\n"
          ],
          "name": "stdout"
        },
        {
          "output_type": "stream",
          "text": [
            "\r 14%|█▎        | 28/204 [00:31<03:04,  1.05s/it]"
          ],
          "name": "stderr"
        },
        {
          "output_type": "stream",
          "text": [
            "True\n",
            "x = 152, y = 123, w = 183, h = 243\n"
          ],
          "name": "stdout"
        },
        {
          "output_type": "stream",
          "text": [
            "\r 14%|█▍        | 29/204 [00:32<03:03,  1.05s/it]"
          ],
          "name": "stderr"
        },
        {
          "output_type": "stream",
          "text": [
            "True\n",
            "x = 187, y = 121, w = 174, h = 211\n"
          ],
          "name": "stdout"
        },
        {
          "output_type": "stream",
          "text": [
            "\r 15%|█▍        | 30/204 [00:33<03:13,  1.11s/it]"
          ],
          "name": "stderr"
        },
        {
          "output_type": "stream",
          "text": [
            "True\n",
            "x = 146, y = 130, w = 174, h = 249\n"
          ],
          "name": "stdout"
        },
        {
          "output_type": "stream",
          "text": [
            "\r 15%|█▌        | 31/204 [00:34<03:05,  1.07s/it]"
          ],
          "name": "stderr"
        },
        {
          "output_type": "stream",
          "text": [
            "True\n",
            "x = 176, y = 147, w = 166, h = 219\n"
          ],
          "name": "stdout"
        },
        {
          "output_type": "stream",
          "text": [
            "\r 16%|█▌        | 32/204 [00:35<02:57,  1.03s/it]"
          ],
          "name": "stderr"
        },
        {
          "output_type": "stream",
          "text": [
            "True\n",
            "x = 187, y = 121, w = 174, h = 211\n"
          ],
          "name": "stdout"
        },
        {
          "output_type": "stream",
          "text": [
            "\r 16%|█▌        | 33/204 [00:36<02:59,  1.05s/it]"
          ],
          "name": "stderr"
        },
        {
          "output_type": "stream",
          "text": [
            "True\n",
            "x = 169, y = 145, w = 156, h = 203\n"
          ],
          "name": "stdout"
        },
        {
          "output_type": "stream",
          "text": [
            "\r 17%|█▋        | 34/204 [00:37<02:57,  1.04s/it]"
          ],
          "name": "stderr"
        },
        {
          "output_type": "stream",
          "text": [
            "True\n",
            "x = 162, y = 163, w = 162, h = 195\n"
          ],
          "name": "stdout"
        },
        {
          "output_type": "stream",
          "text": [
            "\r 17%|█▋        | 35/204 [00:38<03:03,  1.09s/it]"
          ],
          "name": "stderr"
        },
        {
          "output_type": "stream",
          "text": [
            "True\n",
            "x = 166, y = 163, w = 153, h = 198\n"
          ],
          "name": "stdout"
        },
        {
          "output_type": "stream",
          "text": [
            "\r 18%|█▊        | 36/204 [00:39<03:00,  1.07s/it]"
          ],
          "name": "stderr"
        },
        {
          "output_type": "stream",
          "text": [
            "True\n",
            "x = 162, y = 163, w = 162, h = 195\n"
          ],
          "name": "stdout"
        },
        {
          "output_type": "stream",
          "text": [
            "\r 18%|█▊        | 37/204 [00:40<02:52,  1.03s/it]"
          ],
          "name": "stderr"
        },
        {
          "output_type": "stream",
          "text": [
            "True\n",
            "x = 187, y = 121, w = 174, h = 211\n"
          ],
          "name": "stdout"
        },
        {
          "output_type": "stream",
          "text": [
            "\r 19%|█▊        | 38/204 [00:41<02:49,  1.02s/it]"
          ],
          "name": "stderr"
        },
        {
          "output_type": "stream",
          "text": [
            "True\n",
            "x = 169, y = 145, w = 156, h = 203\n"
          ],
          "name": "stdout"
        },
        {
          "output_type": "stream",
          "text": [
            "\r 19%|█▉        | 39/204 [00:42<02:47,  1.01s/it]"
          ],
          "name": "stderr"
        },
        {
          "output_type": "stream",
          "text": [
            "True\n",
            "x = 163, y = 129, w = 171, h = 238\n"
          ],
          "name": "stdout"
        },
        {
          "output_type": "stream",
          "text": [
            "\r 20%|█▉        | 40/204 [00:43<02:49,  1.03s/it]"
          ],
          "name": "stderr"
        },
        {
          "output_type": "stream",
          "text": [
            "True\n",
            "x = 166, y = 163, w = 153, h = 198\n"
          ],
          "name": "stdout"
        },
        {
          "output_type": "stream",
          "text": [
            "\r 20%|██        | 41/204 [00:44<02:46,  1.02s/it]"
          ],
          "name": "stderr"
        },
        {
          "output_type": "stream",
          "text": [
            "True\n",
            "x = 140, y = 130, w = 177, h = 223\n"
          ],
          "name": "stdout"
        },
        {
          "output_type": "stream",
          "text": [
            "\r 21%|██        | 42/204 [00:45<02:48,  1.04s/it]"
          ],
          "name": "stderr"
        },
        {
          "output_type": "stream",
          "text": [
            "True\n",
            "x = 169, y = 145, w = 156, h = 203\n"
          ],
          "name": "stdout"
        },
        {
          "output_type": "stream",
          "text": [
            "\r 21%|██        | 43/204 [00:46<02:46,  1.04s/it]"
          ],
          "name": "stderr"
        },
        {
          "output_type": "stream",
          "text": [
            "True\n",
            "x = 173, y = 152, w = 166, h = 218\n"
          ],
          "name": "stdout"
        },
        {
          "output_type": "stream",
          "text": [
            "\r 22%|██▏       | 44/204 [00:47<02:41,  1.01s/it]"
          ],
          "name": "stderr"
        },
        {
          "output_type": "stream",
          "text": [
            "True\n",
            "x = 164, y = 138, w = 179, h = 217\n"
          ],
          "name": "stdout"
        },
        {
          "output_type": "stream",
          "text": [
            "\r 22%|██▏       | 45/204 [00:48<02:37,  1.01it/s]"
          ],
          "name": "stderr"
        },
        {
          "output_type": "stream",
          "text": [
            "True\n",
            "x = 174, y = 161, w = 146, h = 181\n"
          ],
          "name": "stdout"
        },
        {
          "output_type": "stream",
          "text": [
            "\r 23%|██▎       | 46/204 [00:49<02:37,  1.00it/s]"
          ],
          "name": "stderr"
        },
        {
          "output_type": "stream",
          "text": [
            "True\n",
            "x = 160, y = 140, w = 154, h = 216\n"
          ],
          "name": "stdout"
        },
        {
          "output_type": "stream",
          "text": [
            "\r 23%|██▎       | 47/204 [00:50<02:36,  1.00it/s]"
          ],
          "name": "stderr"
        },
        {
          "output_type": "stream",
          "text": [
            "True\n",
            "x = 173, y = 152, w = 166, h = 218\n"
          ],
          "name": "stdout"
        },
        {
          "output_type": "stream",
          "text": [
            "\r 24%|██▎       | 48/204 [00:51<02:34,  1.01it/s]"
          ],
          "name": "stderr"
        },
        {
          "output_type": "stream",
          "text": [
            "True\n",
            "x = 174, y = 161, w = 146, h = 181\n"
          ],
          "name": "stdout"
        },
        {
          "output_type": "stream",
          "text": [
            "\r 24%|██▍       | 49/204 [00:52<02:35,  1.00s/it]"
          ],
          "name": "stderr"
        },
        {
          "output_type": "stream",
          "text": [
            "True\n",
            "x = 162, y = 127, w = 177, h = 238\n"
          ],
          "name": "stdout"
        },
        {
          "output_type": "stream",
          "text": [
            "\r 25%|██▍       | 50/204 [00:53<02:35,  1.01s/it]"
          ],
          "name": "stderr"
        },
        {
          "output_type": "stream",
          "text": [
            "True\n",
            "x = 171, y = 172, w = 132, h = 173\n"
          ],
          "name": "stdout"
        },
        {
          "output_type": "stream",
          "text": [
            "\r 25%|██▌       | 51/204 [00:54<02:32,  1.01it/s]"
          ],
          "name": "stderr"
        },
        {
          "output_type": "stream",
          "text": [
            "True\n",
            "x = 164, y = 138, w = 179, h = 217\n"
          ],
          "name": "stdout"
        },
        {
          "output_type": "stream",
          "text": [
            "\r 25%|██▌       | 52/204 [00:55<02:28,  1.02it/s]"
          ],
          "name": "stderr"
        },
        {
          "output_type": "stream",
          "text": [
            "True\n",
            "x = 162, y = 147, w = 182, h = 229\n"
          ],
          "name": "stdout"
        },
        {
          "output_type": "stream",
          "text": [
            "\r 26%|██▌       | 53/204 [00:56<02:28,  1.02it/s]"
          ],
          "name": "stderr"
        },
        {
          "output_type": "stream",
          "text": [
            "True\n",
            "x = 155, y = 165, w = 158, h = 212\n"
          ],
          "name": "stdout"
        },
        {
          "output_type": "stream",
          "text": [
            "\r 26%|██▋       | 54/204 [00:57<02:26,  1.02it/s]"
          ],
          "name": "stderr"
        },
        {
          "output_type": "stream",
          "text": [
            "True\n",
            "x = 152, y = 123, w = 183, h = 243\n"
          ],
          "name": "stdout"
        },
        {
          "output_type": "stream",
          "text": [
            "\r 27%|██▋       | 55/204 [00:58<02:37,  1.06s/it]"
          ],
          "name": "stderr"
        },
        {
          "output_type": "stream",
          "text": [
            "True\n",
            "x = 170, y = 172, w = 161, h = 209\n",
            "x = 201, y = 58, w = 42, h = 49\n"
          ],
          "name": "stdout"
        },
        {
          "output_type": "stream",
          "text": [
            "\r 27%|██▋       | 56/204 [00:59<02:39,  1.08s/it]"
          ],
          "name": "stderr"
        },
        {
          "output_type": "stream",
          "text": [
            "True\n",
            "x = 150, y = 159, w = 165, h = 222\n"
          ],
          "name": "stdout"
        },
        {
          "output_type": "stream",
          "text": [
            "\r 28%|██▊       | 57/204 [01:01<02:50,  1.16s/it]"
          ],
          "name": "stderr"
        },
        {
          "output_type": "stream",
          "text": [
            "True\n",
            "x = 145, y = 148, w = 154, h = 205\n"
          ],
          "name": "stdout"
        },
        {
          "output_type": "stream",
          "text": [
            "\r 28%|██▊       | 58/204 [01:02<02:46,  1.14s/it]"
          ],
          "name": "stderr"
        },
        {
          "output_type": "stream",
          "text": [
            "True\n",
            "x = 174, y = 153, w = 147, h = 186\n"
          ],
          "name": "stdout"
        },
        {
          "output_type": "stream",
          "text": [
            "\r 29%|██▉       | 59/204 [01:03<02:54,  1.20s/it]"
          ],
          "name": "stderr"
        },
        {
          "output_type": "stream",
          "text": [
            "True\n",
            "x = 194, y = 165, w = 126, h = 174\n"
          ],
          "name": "stdout"
        },
        {
          "output_type": "stream",
          "text": [
            "\r 29%|██▉       | 60/204 [01:04<02:54,  1.21s/it]"
          ],
          "name": "stderr"
        },
        {
          "output_type": "stream",
          "text": [
            "True\n",
            "x = 192, y = 142, w = 126, h = 191\n"
          ],
          "name": "stdout"
        },
        {
          "output_type": "stream",
          "text": [
            "\r 30%|██▉       | 61/204 [01:06<02:51,  1.20s/it]"
          ],
          "name": "stderr"
        },
        {
          "output_type": "stream",
          "text": [
            "True\n",
            "x = 172, y = 161, w = 129, h = 172\n"
          ],
          "name": "stdout"
        },
        {
          "output_type": "stream",
          "text": [
            "\r 30%|███       | 62/204 [01:07<02:48,  1.19s/it]"
          ],
          "name": "stderr"
        },
        {
          "output_type": "stream",
          "text": [
            "True\n",
            "x = 167, y = 162, w = 160, h = 210\n"
          ],
          "name": "stdout"
        },
        {
          "output_type": "stream",
          "text": [
            "\r 31%|███       | 63/204 [01:08<02:43,  1.16s/it]"
          ],
          "name": "stderr"
        },
        {
          "output_type": "stream",
          "text": [
            "True\n",
            "x = 169, y = 130, w = 137, h = 182\n"
          ],
          "name": "stdout"
        },
        {
          "output_type": "stream",
          "text": [
            "\r 31%|███▏      | 64/204 [01:09<02:40,  1.15s/it]"
          ],
          "name": "stderr"
        },
        {
          "output_type": "stream",
          "text": [
            "True\n",
            "x = 147, y = 153, w = 151, h = 202\n"
          ],
          "name": "stdout"
        },
        {
          "output_type": "stream",
          "text": [
            "\r 32%|███▏      | 65/204 [01:10<02:33,  1.11s/it]"
          ],
          "name": "stderr"
        },
        {
          "output_type": "stream",
          "text": [
            "True\n",
            "x = 194, y = 165, w = 126, h = 174\n"
          ],
          "name": "stdout"
        },
        {
          "output_type": "stream",
          "text": [
            "\r 32%|███▏      | 66/204 [01:11<02:34,  1.12s/it]"
          ],
          "name": "stderr"
        },
        {
          "output_type": "stream",
          "text": [
            "True\n",
            "x = 160, y = 135, w = 177, h = 239\n"
          ],
          "name": "stdout"
        },
        {
          "output_type": "stream",
          "text": [
            "\r 33%|███▎      | 67/204 [01:12<02:35,  1.14s/it]"
          ],
          "name": "stderr"
        },
        {
          "output_type": "stream",
          "text": [
            "True\n",
            "x = 181, y = 134, w = 143, h = 195\n"
          ],
          "name": "stdout"
        },
        {
          "output_type": "stream",
          "text": [
            "\r 33%|███▎      | 68/204 [01:13<02:34,  1.14s/it]"
          ],
          "name": "stderr"
        },
        {
          "output_type": "stream",
          "text": [
            "True\n",
            "x = 170, y = 128, w = 153, h = 209\n"
          ],
          "name": "stdout"
        },
        {
          "output_type": "stream",
          "text": [
            "\r 34%|███▍      | 69/204 [01:14<02:28,  1.10s/it]"
          ],
          "name": "stderr"
        },
        {
          "output_type": "stream",
          "text": [
            "True\n",
            "x = 164, y = 185, w = 152, h = 194\n"
          ],
          "name": "stdout"
        },
        {
          "output_type": "stream",
          "text": [
            "\r 34%|███▍      | 70/204 [01:16<02:27,  1.10s/it]"
          ],
          "name": "stderr"
        },
        {
          "output_type": "stream",
          "text": [
            "True\n",
            "x = 165, y = 153, w = 157, h = 189\n"
          ],
          "name": "stdout"
        },
        {
          "output_type": "stream",
          "text": [
            "\r 35%|███▍      | 71/204 [01:17<02:30,  1.13s/it]"
          ],
          "name": "stderr"
        },
        {
          "output_type": "stream",
          "text": [
            "True\n",
            "x = 154, y = 179, w = 150, h = 198\n"
          ],
          "name": "stdout"
        },
        {
          "output_type": "stream",
          "text": [
            "\r 35%|███▌      | 72/204 [01:18<02:24,  1.10s/it]"
          ],
          "name": "stderr"
        },
        {
          "output_type": "stream",
          "text": [
            "True\n",
            "x = 164, y = 149, w = 152, h = 180\n"
          ],
          "name": "stdout"
        },
        {
          "output_type": "stream",
          "text": [
            "\r 36%|███▌      | 73/204 [01:19<02:20,  1.07s/it]"
          ],
          "name": "stderr"
        },
        {
          "output_type": "stream",
          "text": [
            "True\n",
            "x = 164, y = 149, w = 152, h = 180\n"
          ],
          "name": "stdout"
        },
        {
          "output_type": "stream",
          "text": [
            "\r 36%|███▋      | 74/204 [01:20<02:21,  1.09s/it]"
          ],
          "name": "stderr"
        },
        {
          "output_type": "stream",
          "text": [
            "True\n",
            "x = 170, y = 121, w = 151, h = 205\n"
          ],
          "name": "stdout"
        },
        {
          "output_type": "stream",
          "text": [
            "\r 37%|███▋      | 75/204 [01:21<02:27,  1.15s/it]"
          ],
          "name": "stderr"
        },
        {
          "output_type": "stream",
          "text": [
            "True\n",
            "x = 168, y = 141, w = 156, h = 196\n"
          ],
          "name": "stdout"
        },
        {
          "output_type": "stream",
          "text": [
            "\r 37%|███▋      | 76/204 [01:22<02:22,  1.11s/it]"
          ],
          "name": "stderr"
        },
        {
          "output_type": "stream",
          "text": [
            "True\n",
            "x = 174, y = 143, w = 151, h = 202\n"
          ],
          "name": "stdout"
        },
        {
          "output_type": "stream",
          "text": [
            "\r 38%|███▊      | 77/204 [01:24<02:27,  1.16s/it]"
          ],
          "name": "stderr"
        },
        {
          "output_type": "stream",
          "text": [
            "True\n",
            "x = 156, y = 144, w = 163, h = 214\n"
          ],
          "name": "stdout"
        },
        {
          "output_type": "stream",
          "text": [
            "\r 38%|███▊      | 78/204 [01:25<02:31,  1.20s/it]"
          ],
          "name": "stderr"
        },
        {
          "output_type": "stream",
          "text": [
            "True\n",
            "x = 166, y = 99, w = 167, h = 218\n"
          ],
          "name": "stdout"
        },
        {
          "output_type": "stream",
          "text": [
            "\r 39%|███▊      | 79/204 [01:26<02:25,  1.16s/it]"
          ],
          "name": "stderr"
        },
        {
          "output_type": "stream",
          "text": [
            "True\n",
            "x = 145, y = 148, w = 154, h = 205\n"
          ],
          "name": "stdout"
        },
        {
          "output_type": "stream",
          "text": [
            "\r 39%|███▉      | 80/204 [01:27<02:23,  1.16s/it]"
          ],
          "name": "stderr"
        },
        {
          "output_type": "stream",
          "text": [
            "True\n",
            "x = 165, y = 133, w = 164, h = 224\n"
          ],
          "name": "stdout"
        },
        {
          "output_type": "stream",
          "text": [
            "\r 40%|███▉      | 81/204 [01:28<02:17,  1.12s/it]"
          ],
          "name": "stderr"
        },
        {
          "output_type": "stream",
          "text": [
            "True\n",
            "x = 168, y = 141, w = 156, h = 196\n"
          ],
          "name": "stdout"
        },
        {
          "output_type": "stream",
          "text": [
            "\r 40%|████      | 82/204 [01:29<02:20,  1.15s/it]"
          ],
          "name": "stderr"
        },
        {
          "output_type": "stream",
          "text": [
            "True\n",
            "x = 174, y = 143, w = 151, h = 202\n"
          ],
          "name": "stdout"
        },
        {
          "output_type": "stream",
          "text": [
            "\r 41%|████      | 83/204 [01:30<02:16,  1.13s/it]"
          ],
          "name": "stderr"
        },
        {
          "output_type": "stream",
          "text": [
            "True\n",
            "x = 146, y = 134, w = 180, h = 246\n"
          ],
          "name": "stdout"
        },
        {
          "output_type": "stream",
          "text": [
            "\r 41%|████      | 84/204 [01:32<02:22,  1.19s/it]"
          ],
          "name": "stderr"
        },
        {
          "output_type": "stream",
          "text": [
            "True\n",
            "x = 162, y = 200, w = 155, h = 192\n"
          ],
          "name": "stdout"
        },
        {
          "output_type": "stream",
          "text": [
            "\r 42%|████▏     | 85/204 [01:33<02:14,  1.13s/it]"
          ],
          "name": "stderr"
        },
        {
          "output_type": "stream",
          "text": [
            "True\n",
            "x = 160, y = 135, w = 177, h = 239\n"
          ],
          "name": "stdout"
        },
        {
          "output_type": "stream",
          "text": [
            "\r 42%|████▏     | 86/204 [01:34<02:14,  1.14s/it]"
          ],
          "name": "stderr"
        },
        {
          "output_type": "stream",
          "text": [
            "True\n",
            "x = 150, y = 190, w = 164, h = 193\n"
          ],
          "name": "stdout"
        },
        {
          "output_type": "stream",
          "text": [
            "\r 43%|████▎     | 87/204 [01:35<02:12,  1.13s/it]"
          ],
          "name": "stderr"
        },
        {
          "output_type": "stream",
          "text": [
            "True\n",
            "x = 162, y = 200, w = 155, h = 192\n"
          ],
          "name": "stdout"
        },
        {
          "output_type": "stream",
          "text": [
            "\r 43%|████▎     | 88/204 [01:36<02:12,  1.14s/it]"
          ],
          "name": "stderr"
        },
        {
          "output_type": "stream",
          "text": [
            "True\n",
            "x = 144, y = 149, w = 182, h = 237\n"
          ],
          "name": "stdout"
        },
        {
          "output_type": "stream",
          "text": [
            "\r 44%|████▎     | 89/204 [01:37<02:10,  1.13s/it]"
          ],
          "name": "stderr"
        },
        {
          "output_type": "stream",
          "text": [
            "True\n",
            "x = 145, y = 148, w = 154, h = 205\n"
          ],
          "name": "stdout"
        },
        {
          "output_type": "stream",
          "text": [
            "\r 44%|████▍     | 90/204 [01:38<02:10,  1.14s/it]"
          ],
          "name": "stderr"
        },
        {
          "output_type": "stream",
          "text": [
            "True\n",
            "x = 165, y = 155, w = 157, h = 198\n"
          ],
          "name": "stdout"
        },
        {
          "output_type": "stream",
          "text": [
            "\r 45%|████▍     | 91/204 [01:39<02:07,  1.13s/it]"
          ],
          "name": "stderr"
        },
        {
          "output_type": "stream",
          "text": [
            "True\n",
            "x = 156, y = 153, w = 149, h = 184\n"
          ],
          "name": "stdout"
        },
        {
          "output_type": "stream",
          "text": [
            "\r 45%|████▌     | 92/204 [01:41<02:08,  1.15s/it]"
          ],
          "name": "stderr"
        },
        {
          "output_type": "stream",
          "text": [
            "True\n",
            "x = 174, y = 138, w = 161, h = 198\n"
          ],
          "name": "stdout"
        },
        {
          "output_type": "stream",
          "text": [
            "\r 46%|████▌     | 93/204 [01:42<02:08,  1.15s/it]"
          ],
          "name": "stderr"
        },
        {
          "output_type": "stream",
          "text": [
            "True\n",
            "x = 164, y = 138, w = 163, h = 221\n"
          ],
          "name": "stdout"
        },
        {
          "output_type": "stream",
          "text": [
            "\r 46%|████▌     | 94/204 [01:43<01:59,  1.09s/it]"
          ],
          "name": "stderr"
        },
        {
          "output_type": "stream",
          "text": [
            "True\n",
            "x = 168, y = 141, w = 156, h = 196\n"
          ],
          "name": "stdout"
        },
        {
          "output_type": "stream",
          "text": [
            "\r 47%|████▋     | 95/204 [01:44<02:00,  1.10s/it]"
          ],
          "name": "stderr"
        },
        {
          "output_type": "stream",
          "text": [
            "True\n",
            "x = 165, y = 135, w = 158, h = 223\n"
          ],
          "name": "stdout"
        },
        {
          "output_type": "stream",
          "text": [
            "\r 47%|████▋     | 96/204 [01:45<01:54,  1.06s/it]"
          ],
          "name": "stderr"
        },
        {
          "output_type": "stream",
          "text": [
            "True\n",
            "x = 165, y = 155, w = 157, h = 198\n"
          ],
          "name": "stdout"
        },
        {
          "output_type": "stream",
          "text": [
            "\r 48%|████▊     | 97/204 [01:46<01:55,  1.08s/it]"
          ],
          "name": "stderr"
        },
        {
          "output_type": "stream",
          "text": [
            "True\n",
            "x = 150, y = 190, w = 164, h = 193\n"
          ],
          "name": "stdout"
        },
        {
          "output_type": "stream",
          "text": [
            "\r 48%|████▊     | 98/204 [01:47<01:56,  1.10s/it]"
          ],
          "name": "stderr"
        },
        {
          "output_type": "stream",
          "text": [
            "True\n",
            "x = 167, y = 162, w = 160, h = 210\n"
          ],
          "name": "stdout"
        },
        {
          "output_type": "stream",
          "text": [
            "\r 49%|████▊     | 99/204 [01:48<01:54,  1.09s/it]"
          ],
          "name": "stderr"
        },
        {
          "output_type": "stream",
          "text": [
            "True\n",
            "x = 170, y = 172, w = 161, h = 209\n",
            "x = 201, y = 58, w = 42, h = 49\n"
          ],
          "name": "stdout"
        },
        {
          "output_type": "stream",
          "text": [
            "\r 49%|████▉     | 100/204 [01:49<01:48,  1.05s/it]"
          ],
          "name": "stderr"
        },
        {
          "output_type": "stream",
          "text": [
            "True\n",
            "x = 147, y = 153, w = 151, h = 202\n"
          ],
          "name": "stdout"
        },
        {
          "output_type": "stream",
          "text": [
            "\r 50%|████▉     | 101/204 [01:50<01:49,  1.06s/it]"
          ],
          "name": "stderr"
        },
        {
          "output_type": "stream",
          "text": [
            "True\n",
            "x = 166, y = 152, w = 164, h = 212\n"
          ],
          "name": "stdout"
        },
        {
          "output_type": "stream",
          "text": [
            "\r 50%|█████     | 102/204 [01:51<01:44,  1.03s/it]"
          ],
          "name": "stderr"
        },
        {
          "output_type": "stream",
          "text": [
            "True\n",
            "x = 150, y = 190, w = 164, h = 193\n"
          ],
          "name": "stdout"
        },
        {
          "output_type": "stream",
          "text": [
            "\r 50%|█████     | 103/204 [01:52<01:42,  1.01s/it]"
          ],
          "name": "stderr"
        },
        {
          "output_type": "stream",
          "text": [
            "True\n",
            "x = 170, y = 121, w = 151, h = 205\n"
          ],
          "name": "stdout"
        },
        {
          "output_type": "stream",
          "text": [
            "\r 51%|█████     | 104/204 [01:53<01:41,  1.02s/it]"
          ],
          "name": "stderr"
        },
        {
          "output_type": "stream",
          "text": [
            "True\n",
            "x = 170, y = 128, w = 153, h = 209\n"
          ],
          "name": "stdout"
        },
        {
          "output_type": "stream",
          "text": [
            "\r 51%|█████▏    | 105/204 [01:54<01:45,  1.06s/it]"
          ],
          "name": "stderr"
        },
        {
          "output_type": "stream",
          "text": [
            "True\n",
            "x = 156, y = 118, w = 181, h = 237\n"
          ],
          "name": "stdout"
        },
        {
          "output_type": "stream",
          "text": [
            "\r 52%|█████▏    | 106/204 [01:55<01:43,  1.06s/it]"
          ],
          "name": "stderr"
        },
        {
          "output_type": "stream",
          "text": [
            "True\n",
            "x = 170, y = 159, w = 170, h = 212\n"
          ],
          "name": "stdout"
        },
        {
          "output_type": "stream",
          "text": [
            "\r 52%|█████▏    | 107/204 [01:56<01:39,  1.03s/it]"
          ],
          "name": "stderr"
        },
        {
          "output_type": "stream",
          "text": [
            "True\n",
            "x = 150, y = 159, w = 165, h = 222\n"
          ],
          "name": "stdout"
        },
        {
          "output_type": "stream",
          "text": [
            "\r 53%|█████▎    | 108/204 [01:58<01:50,  1.15s/it]"
          ],
          "name": "stderr"
        },
        {
          "output_type": "stream",
          "text": [
            "True\n",
            "x = 189, y = 149, w = 131, h = 166\n"
          ],
          "name": "stdout"
        },
        {
          "output_type": "stream",
          "text": [
            "\r 53%|█████▎    | 109/204 [01:59<01:44,  1.10s/it]"
          ],
          "name": "stderr"
        },
        {
          "output_type": "stream",
          "text": [
            "True\n",
            "x = 189, y = 149, w = 131, h = 166\n"
          ],
          "name": "stdout"
        },
        {
          "output_type": "stream",
          "text": [
            "\r 54%|█████▍    | 110/204 [02:00<01:38,  1.05s/it]"
          ],
          "name": "stderr"
        },
        {
          "output_type": "stream",
          "text": [
            "True\n",
            "x = 147, y = 153, w = 151, h = 202\n"
          ],
          "name": "stdout"
        },
        {
          "output_type": "stream",
          "text": [
            "\r 54%|█████▍    | 111/204 [02:01<01:37,  1.04s/it]"
          ],
          "name": "stderr"
        },
        {
          "output_type": "stream",
          "text": [
            "True\n",
            "x = 172, y = 161, w = 129, h = 172\n"
          ],
          "name": "stdout"
        },
        {
          "output_type": "stream",
          "text": [
            "\r 55%|█████▍    | 112/204 [02:02<01:37,  1.06s/it]"
          ],
          "name": "stderr"
        },
        {
          "output_type": "stream",
          "text": [
            "True\n",
            "x = 164, y = 185, w = 152, h = 194\n"
          ],
          "name": "stdout"
        },
        {
          "output_type": "stream",
          "text": [
            "\r 55%|█████▌    | 113/204 [02:03<01:36,  1.05s/it]"
          ],
          "name": "stderr"
        },
        {
          "output_type": "stream",
          "text": [
            "True\n",
            "x = 162, y = 200, w = 155, h = 192\n"
          ],
          "name": "stdout"
        },
        {
          "output_type": "stream",
          "text": [
            "\r 56%|█████▌    | 114/204 [02:04<01:34,  1.05s/it]"
          ],
          "name": "stderr"
        },
        {
          "output_type": "stream",
          "text": [
            "True\n",
            "x = 164, y = 149, w = 152, h = 180\n"
          ],
          "name": "stdout"
        },
        {
          "output_type": "stream",
          "text": [
            "\r 56%|█████▋    | 115/204 [02:05<01:31,  1.03s/it]"
          ],
          "name": "stderr"
        },
        {
          "output_type": "stream",
          "text": [
            "True\n",
            "x = 156, y = 144, w = 163, h = 214\n"
          ],
          "name": "stdout"
        },
        {
          "output_type": "stream",
          "text": [
            "\r 57%|█████▋    | 116/204 [02:06<01:29,  1.02s/it]"
          ],
          "name": "stderr"
        },
        {
          "output_type": "stream",
          "text": [
            "True\n",
            "x = 181, y = 134, w = 143, h = 195\n"
          ],
          "name": "stdout"
        },
        {
          "output_type": "stream",
          "text": [
            "\r 57%|█████▋    | 117/204 [02:07<01:27,  1.01s/it]"
          ],
          "name": "stderr"
        },
        {
          "output_type": "stream",
          "text": [
            "True\n",
            "x = 170, y = 121, w = 151, h = 205\n"
          ],
          "name": "stdout"
        },
        {
          "output_type": "stream",
          "text": [
            "\r 58%|█████▊    | 118/204 [02:08<01:35,  1.11s/it]"
          ],
          "name": "stderr"
        },
        {
          "output_type": "stream",
          "text": [
            "True\n",
            "x = 136, y = 137, w = 189, h = 261\n"
          ],
          "name": "stdout"
        },
        {
          "output_type": "stream",
          "text": [
            "\r 58%|█████▊    | 119/204 [02:09<01:33,  1.10s/it]"
          ],
          "name": "stderr"
        },
        {
          "output_type": "stream",
          "text": [
            "True\n",
            "x = 164, y = 160, w = 162, h = 211\n"
          ],
          "name": "stdout"
        },
        {
          "output_type": "stream",
          "text": [
            "\r 59%|█████▉    | 120/204 [02:10<01:31,  1.09s/it]"
          ],
          "name": "stderr"
        },
        {
          "output_type": "stream",
          "text": [
            "True\n",
            "x = 174, y = 143, w = 151, h = 202\n"
          ],
          "name": "stdout"
        },
        {
          "output_type": "stream",
          "text": [
            "\r 59%|█████▉    | 121/204 [02:11<01:28,  1.07s/it]"
          ],
          "name": "stderr"
        },
        {
          "output_type": "stream",
          "text": [
            "True\n",
            "x = 146, y = 134, w = 180, h = 246\n"
          ],
          "name": "stdout"
        },
        {
          "output_type": "stream",
          "text": [
            "\r 60%|█████▉    | 122/204 [02:12<01:26,  1.05s/it]"
          ],
          "name": "stderr"
        },
        {
          "output_type": "stream",
          "text": [
            "True\n",
            "x = 164, y = 138, w = 163, h = 221\n"
          ],
          "name": "stdout"
        },
        {
          "output_type": "stream",
          "text": [
            "\r 60%|██████    | 123/204 [02:13<01:23,  1.03s/it]"
          ],
          "name": "stderr"
        },
        {
          "output_type": "stream",
          "text": [
            "True\n",
            "x = 166, y = 152, w = 164, h = 212\n"
          ],
          "name": "stdout"
        },
        {
          "output_type": "stream",
          "text": [
            "\r 61%|██████    | 124/204 [02:14<01:21,  1.02s/it]"
          ],
          "name": "stderr"
        },
        {
          "output_type": "stream",
          "text": [
            "True\n",
            "x = 165, y = 133, w = 164, h = 224\n"
          ],
          "name": "stdout"
        },
        {
          "output_type": "stream",
          "text": [
            "\r 61%|██████▏   | 125/204 [02:15<01:21,  1.03s/it]"
          ],
          "name": "stderr"
        },
        {
          "output_type": "stream",
          "text": [
            "True\n",
            "x = 151, y = 122, w = 165, h = 219\n"
          ],
          "name": "stdout"
        },
        {
          "output_type": "stream",
          "text": [
            "\r 62%|██████▏   | 126/204 [02:16<01:19,  1.02s/it]"
          ],
          "name": "stderr"
        },
        {
          "output_type": "stream",
          "text": [
            "True\n",
            "x = 192, y = 142, w = 126, h = 191\n"
          ],
          "name": "stdout"
        },
        {
          "output_type": "stream",
          "text": [
            "\r 62%|██████▏   | 127/204 [02:17<01:16,  1.00it/s]"
          ],
          "name": "stderr"
        },
        {
          "output_type": "stream",
          "text": [
            "True\n",
            "x = 165, y = 135, w = 158, h = 223\n"
          ],
          "name": "stdout"
        },
        {
          "output_type": "stream",
          "text": [
            "\r 63%|██████▎   | 128/204 [02:18<01:14,  1.02it/s]"
          ],
          "name": "stderr"
        },
        {
          "output_type": "stream",
          "text": [
            "True\n",
            "x = 170, y = 128, w = 153, h = 209\n"
          ],
          "name": "stdout"
        },
        {
          "output_type": "stream",
          "text": [
            "\r 63%|██████▎   | 129/204 [02:19<01:15,  1.00s/it]"
          ],
          "name": "stderr"
        },
        {
          "output_type": "stream",
          "text": [
            "True\n",
            "x = 170, y = 172, w = 161, h = 209\n",
            "x = 201, y = 58, w = 42, h = 49\n"
          ],
          "name": "stdout"
        },
        {
          "output_type": "stream",
          "text": [
            "\r 64%|██████▎   | 130/204 [02:20<01:14,  1.01s/it]"
          ],
          "name": "stderr"
        },
        {
          "output_type": "stream",
          "text": [
            "True\n",
            "x = 165, y = 153, w = 157, h = 189\n"
          ],
          "name": "stdout"
        },
        {
          "output_type": "stream",
          "text": [
            "\r 64%|██████▍   | 131/204 [02:22<01:19,  1.08s/it]"
          ],
          "name": "stderr"
        },
        {
          "output_type": "stream",
          "text": [
            "True\n",
            "x = 165, y = 155, w = 157, h = 198\n"
          ],
          "name": "stdout"
        },
        {
          "output_type": "stream",
          "text": [
            "\r 65%|██████▍   | 132/204 [02:23<01:16,  1.06s/it]"
          ],
          "name": "stderr"
        },
        {
          "output_type": "stream",
          "text": [
            "True\n",
            "x = 150, y = 159, w = 165, h = 222\n"
          ],
          "name": "stdout"
        },
        {
          "output_type": "stream",
          "text": [
            "\r 65%|██████▌   | 133/204 [02:24<01:18,  1.10s/it]"
          ],
          "name": "stderr"
        },
        {
          "output_type": "stream",
          "text": [
            "True\n",
            "x = 164, y = 160, w = 162, h = 211\n"
          ],
          "name": "stdout"
        },
        {
          "output_type": "stream",
          "text": [
            "\r 66%|██████▌   | 134/204 [02:25<01:15,  1.08s/it]"
          ],
          "name": "stderr"
        },
        {
          "output_type": "stream",
          "text": [
            "True\n",
            "x = 167, y = 162, w = 160, h = 210\n"
          ],
          "name": "stdout"
        },
        {
          "output_type": "stream",
          "text": [
            "\r 66%|██████▌   | 135/204 [02:26<01:15,  1.10s/it]"
          ],
          "name": "stderr"
        },
        {
          "output_type": "stream",
          "text": [
            "True\n",
            "x = 146, y = 134, w = 180, h = 246\n"
          ],
          "name": "stdout"
        },
        {
          "output_type": "stream",
          "text": [
            "\r 67%|██████▋   | 136/204 [02:27<01:13,  1.08s/it]"
          ],
          "name": "stderr"
        },
        {
          "output_type": "stream",
          "text": [
            "True\n",
            "x = 174, y = 138, w = 161, h = 198\n"
          ],
          "name": "stdout"
        },
        {
          "output_type": "stream",
          "text": [
            "\r 67%|██████▋   | 137/204 [02:28<01:11,  1.07s/it]"
          ],
          "name": "stderr"
        },
        {
          "output_type": "stream",
          "text": [
            "True\n",
            "x = 136, y = 137, w = 189, h = 261\n"
          ],
          "name": "stdout"
        },
        {
          "output_type": "stream",
          "text": [
            "\r 68%|██████▊   | 138/204 [02:29<01:09,  1.05s/it]"
          ],
          "name": "stderr"
        },
        {
          "output_type": "stream",
          "text": [
            "True\n",
            "x = 156, y = 153, w = 149, h = 184\n"
          ],
          "name": "stdout"
        },
        {
          "output_type": "stream",
          "text": [
            "\r 68%|██████▊   | 139/204 [02:30<01:06,  1.02s/it]"
          ],
          "name": "stderr"
        },
        {
          "output_type": "stream",
          "text": [
            "True\n",
            "x = 144, y = 149, w = 182, h = 237\n"
          ],
          "name": "stdout"
        },
        {
          "output_type": "stream",
          "text": [
            "\r 69%|██████▊   | 140/204 [02:31<01:04,  1.00s/it]"
          ],
          "name": "stderr"
        },
        {
          "output_type": "stream",
          "text": [
            "True\n",
            "x = 151, y = 122, w = 165, h = 219\n"
          ],
          "name": "stdout"
        },
        {
          "output_type": "stream",
          "text": [
            "\r 69%|██████▉   | 141/204 [02:32<01:02,  1.01it/s]"
          ],
          "name": "stderr"
        },
        {
          "output_type": "stream",
          "text": [
            "True\n",
            "x = 151, y = 122, w = 165, h = 219\n"
          ],
          "name": "stdout"
        },
        {
          "output_type": "stream",
          "text": [
            "\r 70%|██████▉   | 142/204 [02:33<01:01,  1.00it/s]"
          ],
          "name": "stderr"
        },
        {
          "output_type": "stream",
          "text": [
            "True\n",
            "x = 136, y = 137, w = 189, h = 261\n"
          ],
          "name": "stdout"
        },
        {
          "output_type": "stream",
          "text": [
            "\r 70%|███████   | 143/204 [02:34<00:59,  1.02it/s]"
          ],
          "name": "stderr"
        },
        {
          "output_type": "stream",
          "text": [
            "True\n",
            "x = 164, y = 160, w = 162, h = 211\n"
          ],
          "name": "stdout"
        },
        {
          "output_type": "stream",
          "text": [
            "\r 71%|███████   | 144/204 [02:35<00:59,  1.01it/s]"
          ],
          "name": "stderr"
        },
        {
          "output_type": "stream",
          "text": [
            "True\n",
            "x = 189, y = 149, w = 131, h = 166\n"
          ],
          "name": "stdout"
        },
        {
          "output_type": "stream",
          "text": [
            "\r 71%|███████   | 145/204 [02:36<00:59,  1.00s/it]"
          ],
          "name": "stderr"
        },
        {
          "output_type": "stream",
          "text": [
            "True\n",
            "x = 154, y = 179, w = 150, h = 198\n"
          ],
          "name": "stdout"
        },
        {
          "output_type": "stream",
          "text": [
            "\r 72%|███████▏  | 146/204 [02:37<00:57,  1.00it/s]"
          ],
          "name": "stderr"
        },
        {
          "output_type": "stream",
          "text": [
            "True\n",
            "x = 181, y = 134, w = 143, h = 195\n"
          ],
          "name": "stdout"
        },
        {
          "output_type": "stream",
          "text": [
            "\r 72%|███████▏  | 147/204 [02:38<00:56,  1.01it/s]"
          ],
          "name": "stderr"
        },
        {
          "output_type": "stream",
          "text": [
            "True\n",
            "x = 166, y = 99, w = 167, h = 218\n"
          ],
          "name": "stdout"
        },
        {
          "output_type": "stream",
          "text": [
            "\r 73%|███████▎  | 148/204 [02:39<00:55,  1.01it/s]"
          ],
          "name": "stderr"
        },
        {
          "output_type": "stream",
          "text": [
            "True\n",
            "x = 165, y = 153, w = 157, h = 189\n"
          ],
          "name": "stdout"
        },
        {
          "output_type": "stream",
          "text": [
            "\r 73%|███████▎  | 149/204 [02:40<00:54,  1.01it/s]"
          ],
          "name": "stderr"
        },
        {
          "output_type": "stream",
          "text": [
            "True\n",
            "x = 174, y = 138, w = 161, h = 198\n"
          ],
          "name": "stdout"
        },
        {
          "output_type": "stream",
          "text": [
            "\r 74%|███████▎  | 150/204 [02:41<00:53,  1.00it/s]"
          ],
          "name": "stderr"
        },
        {
          "output_type": "stream",
          "text": [
            "True\n",
            "x = 164, y = 138, w = 163, h = 221\n"
          ],
          "name": "stdout"
        },
        {
          "output_type": "stream",
          "text": [
            "\r 74%|███████▍  | 151/204 [02:42<00:52,  1.00it/s]"
          ],
          "name": "stderr"
        },
        {
          "output_type": "stream",
          "text": [
            "True\n",
            "x = 174, y = 153, w = 147, h = 186\n"
          ],
          "name": "stdout"
        },
        {
          "output_type": "stream",
          "text": [
            "\r 75%|███████▍  | 152/204 [02:43<00:51,  1.02it/s]"
          ],
          "name": "stderr"
        },
        {
          "output_type": "stream",
          "text": [
            "True\n",
            "x = 144, y = 149, w = 182, h = 237\n"
          ],
          "name": "stdout"
        },
        {
          "output_type": "stream",
          "text": [
            "\r 75%|███████▌  | 153/204 [02:44<00:50,  1.00it/s]"
          ],
          "name": "stderr"
        },
        {
          "output_type": "stream",
          "text": [
            "True\n",
            "x = 164, y = 185, w = 152, h = 194\n"
          ],
          "name": "stdout"
        },
        {
          "output_type": "stream",
          "text": [
            "\r 75%|███████▌  | 154/204 [02:45<00:51,  1.03s/it]"
          ],
          "name": "stderr"
        },
        {
          "output_type": "stream",
          "text": [
            "True\n",
            "x = 170, y = 159, w = 170, h = 212\n"
          ],
          "name": "stdout"
        },
        {
          "output_type": "stream",
          "text": [
            "\r 76%|███████▌  | 155/204 [02:46<00:49,  1.01s/it]"
          ],
          "name": "stderr"
        },
        {
          "output_type": "stream",
          "text": [
            "True\n",
            "x = 156, y = 118, w = 181, h = 237\n"
          ],
          "name": "stdout"
        },
        {
          "output_type": "stream",
          "text": [
            "\r 76%|███████▋  | 156/204 [02:47<00:50,  1.05s/it]"
          ],
          "name": "stderr"
        },
        {
          "output_type": "stream",
          "text": [
            "True\n",
            "x = 154, y = 179, w = 150, h = 198\n"
          ],
          "name": "stdout"
        },
        {
          "output_type": "stream",
          "text": [
            "\r 77%|███████▋  | 157/204 [02:48<00:49,  1.05s/it]"
          ],
          "name": "stderr"
        },
        {
          "output_type": "stream",
          "text": [
            "True\n",
            "x = 169, y = 130, w = 137, h = 182\n"
          ],
          "name": "stdout"
        },
        {
          "output_type": "stream",
          "text": [
            "\r 77%|███████▋  | 158/204 [02:49<00:49,  1.08s/it]"
          ],
          "name": "stderr"
        },
        {
          "output_type": "stream",
          "text": [
            "True\n",
            "x = 165, y = 135, w = 158, h = 223\n"
          ],
          "name": "stdout"
        },
        {
          "output_type": "stream",
          "text": [
            "\r 78%|███████▊  | 159/204 [02:50<00:49,  1.09s/it]"
          ],
          "name": "stderr"
        },
        {
          "output_type": "stream",
          "text": [
            "True\n",
            "x = 160, y = 135, w = 177, h = 239\n"
          ],
          "name": "stdout"
        },
        {
          "output_type": "stream",
          "text": [
            "\r 78%|███████▊  | 160/204 [02:51<00:46,  1.06s/it]"
          ],
          "name": "stderr"
        },
        {
          "output_type": "stream",
          "text": [
            "True\n",
            "x = 169, y = 130, w = 137, h = 182\n"
          ],
          "name": "stdout"
        },
        {
          "output_type": "stream",
          "text": [
            "\r 79%|███████▉  | 161/204 [02:52<00:44,  1.03s/it]"
          ],
          "name": "stderr"
        },
        {
          "output_type": "stream",
          "text": [
            "True\n",
            "x = 174, y = 153, w = 147, h = 186\n"
          ],
          "name": "stdout"
        },
        {
          "output_type": "stream",
          "text": [
            "\r 79%|███████▉  | 162/204 [02:53<00:42,  1.01s/it]"
          ],
          "name": "stderr"
        },
        {
          "output_type": "stream",
          "text": [
            "True\n",
            "x = 165, y = 133, w = 164, h = 224\n"
          ],
          "name": "stdout"
        },
        {
          "output_type": "stream",
          "text": [
            "\r 80%|███████▉  | 163/204 [02:54<00:41,  1.00s/it]"
          ],
          "name": "stderr"
        },
        {
          "output_type": "stream",
          "text": [
            "True\n",
            "x = 156, y = 144, w = 163, h = 214\n"
          ],
          "name": "stdout"
        },
        {
          "output_type": "stream",
          "text": [
            "\r 80%|████████  | 164/204 [02:55<00:39,  1.01it/s]"
          ],
          "name": "stderr"
        },
        {
          "output_type": "stream",
          "text": [
            "True\n",
            "x = 170, y = 159, w = 170, h = 212\n"
          ],
          "name": "stdout"
        },
        {
          "output_type": "stream",
          "text": [
            "\r 81%|████████  | 165/204 [02:56<00:38,  1.01it/s]"
          ],
          "name": "stderr"
        },
        {
          "output_type": "stream",
          "text": [
            "True\n",
            "x = 194, y = 165, w = 126, h = 174\n"
          ],
          "name": "stdout"
        },
        {
          "output_type": "stream",
          "text": [
            "\r 81%|████████▏ | 166/204 [02:57<00:37,  1.03it/s]"
          ],
          "name": "stderr"
        },
        {
          "output_type": "stream",
          "text": [
            "True\n",
            "x = 166, y = 99, w = 167, h = 218\n"
          ],
          "name": "stdout"
        },
        {
          "output_type": "stream",
          "text": [
            "\r 82%|████████▏ | 167/204 [02:58<00:35,  1.03it/s]"
          ],
          "name": "stderr"
        },
        {
          "output_type": "stream",
          "text": [
            "True\n",
            "x = 156, y = 118, w = 181, h = 237\n"
          ],
          "name": "stdout"
        },
        {
          "output_type": "stream",
          "text": [
            "\r 82%|████████▏ | 168/204 [02:59<00:35,  1.02it/s]"
          ],
          "name": "stderr"
        },
        {
          "output_type": "stream",
          "text": [
            "True\n",
            "x = 166, y = 152, w = 164, h = 212\n"
          ],
          "name": "stdout"
        },
        {
          "output_type": "stream",
          "text": [
            "\r 83%|████████▎ | 169/204 [03:00<00:35,  1.03s/it]"
          ],
          "name": "stderr"
        },
        {
          "output_type": "stream",
          "text": [
            "True\n",
            "x = 156, y = 153, w = 149, h = 184\n"
          ],
          "name": "stdout"
        },
        {
          "output_type": "stream",
          "text": [
            "\r 83%|████████▎ | 170/204 [03:01<00:34,  1.02s/it]"
          ],
          "name": "stderr"
        },
        {
          "output_type": "stream",
          "text": [
            "True\n",
            "x = 192, y = 142, w = 126, h = 191\n"
          ],
          "name": "stdout"
        },
        {
          "output_type": "stream",
          "text": [
            "\r 84%|████████▍ | 171/204 [03:02<00:33,  1.01s/it]"
          ],
          "name": "stderr"
        },
        {
          "output_type": "stream",
          "text": [
            "True\n",
            "x = 172, y = 161, w = 129, h = 172\n"
          ],
          "name": "stdout"
        },
        {
          "output_type": "stream",
          "text": [
            "\r 84%|████████▍ | 172/204 [03:03<00:30,  1.06it/s]"
          ],
          "name": "stderr"
        },
        {
          "output_type": "stream",
          "text": [
            "True\n",
            "x = 94, y = 43, w = 64, h = 93\n"
          ],
          "name": "stdout"
        },
        {
          "output_type": "stream",
          "text": [
            "\r 85%|████████▍ | 173/204 [03:04<00:27,  1.14it/s]"
          ],
          "name": "stderr"
        },
        {
          "output_type": "stream",
          "text": [
            "True\n",
            "x = 94, y = 43, w = 64, h = 93\n"
          ],
          "name": "stdout"
        },
        {
          "output_type": "stream",
          "text": [
            "\r 85%|████████▌ | 174/204 [03:05<00:24,  1.21it/s]"
          ],
          "name": "stderr"
        },
        {
          "output_type": "stream",
          "text": [
            "True\n",
            "x = 94, y = 43, w = 64, h = 93\n"
          ],
          "name": "stdout"
        },
        {
          "output_type": "stream",
          "text": [
            "\r 86%|████████▌ | 175/204 [03:05<00:23,  1.23it/s]"
          ],
          "name": "stderr"
        },
        {
          "output_type": "stream",
          "text": [
            "True\n",
            "x = 128, y = 42, w = 53, h = 71\n"
          ],
          "name": "stdout"
        },
        {
          "output_type": "stream",
          "text": [
            "\r 86%|████████▋ | 176/204 [03:06<00:21,  1.29it/s]"
          ],
          "name": "stderr"
        },
        {
          "output_type": "stream",
          "text": [
            "True\n",
            "x = 128, y = 42, w = 53, h = 71\n"
          ],
          "name": "stdout"
        },
        {
          "output_type": "stream",
          "text": [
            "\r 87%|████████▋ | 177/204 [03:07<00:20,  1.34it/s]"
          ],
          "name": "stderr"
        },
        {
          "output_type": "stream",
          "text": [
            "True\n",
            "x = 128, y = 42, w = 53, h = 71\n"
          ],
          "name": "stdout"
        },
        {
          "output_type": "stream",
          "text": [
            "\r 87%|████████▋ | 178/204 [03:08<00:20,  1.29it/s]"
          ],
          "name": "stderr"
        },
        {
          "output_type": "stream",
          "text": [
            "True\n",
            "x = 83, y = 41, w = 57, h = 77\n"
          ],
          "name": "stdout"
        },
        {
          "output_type": "stream",
          "text": [
            "\r 88%|████████▊ | 179/204 [03:08<00:18,  1.34it/s]"
          ],
          "name": "stderr"
        },
        {
          "output_type": "stream",
          "text": [
            "True\n",
            "x = 83, y = 41, w = 57, h = 77\n"
          ],
          "name": "stdout"
        },
        {
          "output_type": "stream",
          "text": [
            "\r 88%|████████▊ | 180/204 [03:09<00:17,  1.36it/s]"
          ],
          "name": "stderr"
        },
        {
          "output_type": "stream",
          "text": [
            "True\n",
            "x = 83, y = 41, w = 57, h = 77\n"
          ],
          "name": "stdout"
        },
        {
          "output_type": "stream",
          "text": [
            "\r 89%|████████▊ | 181/204 [03:10<00:17,  1.34it/s]"
          ],
          "name": "stderr"
        },
        {
          "output_type": "stream",
          "text": [
            "True\n",
            "x = 93, y = 26, w = 74, h = 110\n"
          ],
          "name": "stdout"
        },
        {
          "output_type": "stream",
          "text": [
            "\r 89%|████████▉ | 182/204 [03:10<00:16,  1.36it/s]"
          ],
          "name": "stderr"
        },
        {
          "output_type": "stream",
          "text": [
            "True\n",
            "x = 93, y = 26, w = 74, h = 110\n"
          ],
          "name": "stdout"
        },
        {
          "output_type": "stream",
          "text": [
            "\r 90%|████████▉ | 183/204 [03:11<00:15,  1.38it/s]"
          ],
          "name": "stderr"
        },
        {
          "output_type": "stream",
          "text": [
            "True\n",
            "x = 93, y = 26, w = 74, h = 110\n"
          ],
          "name": "stdout"
        },
        {
          "output_type": "stream",
          "text": [
            "\r 90%|█████████ | 184/204 [03:12<00:14,  1.36it/s]"
          ],
          "name": "stderr"
        },
        {
          "output_type": "stream",
          "text": [
            "True\n",
            "x = 45, y = 30, w = 115, h = 140\n"
          ],
          "name": "stdout"
        },
        {
          "output_type": "stream",
          "text": [
            "\r 91%|█████████ | 185/204 [03:13<00:13,  1.39it/s]"
          ],
          "name": "stderr"
        },
        {
          "output_type": "stream",
          "text": [
            "True\n",
            "x = 45, y = 30, w = 115, h = 140\n"
          ],
          "name": "stdout"
        },
        {
          "output_type": "stream",
          "text": [
            "\r 91%|█████████ | 186/204 [03:13<00:12,  1.40it/s]"
          ],
          "name": "stderr"
        },
        {
          "output_type": "stream",
          "text": [
            "True\n",
            "x = 45, y = 30, w = 115, h = 140\n"
          ],
          "name": "stdout"
        },
        {
          "output_type": "stream",
          "text": [
            "\r 92%|█████████▏| 187/204 [03:14<00:13,  1.22it/s]"
          ],
          "name": "stderr"
        },
        {
          "output_type": "stream",
          "text": [
            "True\n",
            "x = 124, y = 36, w = 167, h = 234\n"
          ],
          "name": "stdout"
        },
        {
          "output_type": "stream",
          "text": [
            "\r 92%|█████████▏| 188/204 [03:15<00:14,  1.11it/s]"
          ],
          "name": "stderr"
        },
        {
          "output_type": "stream",
          "text": [
            "True\n",
            "x = 124, y = 36, w = 167, h = 234\n"
          ],
          "name": "stdout"
        },
        {
          "output_type": "stream",
          "text": [
            "\r 93%|█████████▎| 189/204 [03:16<00:13,  1.12it/s]"
          ],
          "name": "stderr"
        },
        {
          "output_type": "stream",
          "text": [
            "True\n",
            "x = 124, y = 36, w = 167, h = 234\n"
          ],
          "name": "stdout"
        },
        {
          "output_type": "stream",
          "text": [
            "\r 93%|█████████▎| 190/204 [03:17<00:12,  1.11it/s]"
          ],
          "name": "stderr"
        },
        {
          "output_type": "stream",
          "text": [
            "True\n",
            "x = 150, y = 127, w = 137, h = 196\n"
          ],
          "name": "stdout"
        },
        {
          "output_type": "stream",
          "text": [
            "\r 94%|█████████▎| 191/204 [03:18<00:11,  1.12it/s]"
          ],
          "name": "stderr"
        },
        {
          "output_type": "stream",
          "text": [
            "True\n",
            "x = 150, y = 127, w = 137, h = 196\n"
          ],
          "name": "stdout"
        },
        {
          "output_type": "stream",
          "text": [
            "\r 94%|█████████▍| 192/204 [03:19<00:10,  1.14it/s]"
          ],
          "name": "stderr"
        },
        {
          "output_type": "stream",
          "text": [
            "True\n",
            "x = 150, y = 127, w = 137, h = 196\n"
          ],
          "name": "stdout"
        },
        {
          "output_type": "stream",
          "text": [
            "\r 95%|█████████▍| 193/204 [03:21<00:13,  1.22s/it]"
          ],
          "name": "stderr"
        },
        {
          "output_type": "stream",
          "text": [
            "True\n",
            "x = 298, y = -35, w = 825, h = 1063\n"
          ],
          "name": "stdout"
        },
        {
          "output_type": "stream",
          "text": [
            "\r 95%|█████████▌| 194/204 [03:23<00:13,  1.39s/it]"
          ],
          "name": "stderr"
        },
        {
          "output_type": "stream",
          "text": [
            "True\n",
            "x = 298, y = -35, w = 825, h = 1063\n"
          ],
          "name": "stdout"
        },
        {
          "output_type": "stream",
          "text": [
            "\r 96%|█████████▌| 195/204 [03:24<00:13,  1.47s/it]"
          ],
          "name": "stderr"
        },
        {
          "output_type": "stream",
          "text": [
            "True\n",
            "x = 298, y = -35, w = 825, h = 1063\n"
          ],
          "name": "stdout"
        },
        {
          "output_type": "stream",
          "text": [
            "\r 96%|█████████▌| 196/204 [03:26<00:11,  1.48s/it]"
          ],
          "name": "stderr"
        },
        {
          "output_type": "stream",
          "text": [
            "True\n",
            "x = 335, y = 129, w = 418, h = 590\n"
          ],
          "name": "stdout"
        },
        {
          "output_type": "stream",
          "text": [
            "\r 97%|█████████▋| 197/204 [03:27<00:09,  1.42s/it]"
          ],
          "name": "stderr"
        },
        {
          "output_type": "stream",
          "text": [
            "True\n",
            "x = 335, y = 129, w = 418, h = 590\n"
          ],
          "name": "stdout"
        },
        {
          "output_type": "stream",
          "text": [
            "\r 97%|█████████▋| 198/204 [03:28<00:08,  1.38s/it]"
          ],
          "name": "stderr"
        },
        {
          "output_type": "stream",
          "text": [
            "True\n",
            "x = 335, y = 129, w = 418, h = 590\n"
          ],
          "name": "stdout"
        },
        {
          "output_type": "stream",
          "text": [
            "\r 98%|█████████▊| 199/204 [03:31<00:08,  1.70s/it]"
          ],
          "name": "stderr"
        },
        {
          "output_type": "stream",
          "text": [
            "True\n",
            "x = 249, y = 194, w = 815, h = 1142\n"
          ],
          "name": "stdout"
        },
        {
          "output_type": "stream",
          "text": [
            "\r 98%|█████████▊| 200/204 [03:33<00:07,  1.82s/it]"
          ],
          "name": "stderr"
        },
        {
          "output_type": "stream",
          "text": [
            "True\n",
            "x = 249, y = 194, w = 815, h = 1142\n"
          ],
          "name": "stdout"
        },
        {
          "output_type": "stream",
          "text": [
            "\r 99%|█████████▊| 201/204 [03:35<00:05,  1.95s/it]"
          ],
          "name": "stderr"
        },
        {
          "output_type": "stream",
          "text": [
            "True\n",
            "x = 249, y = 194, w = 815, h = 1142\n"
          ],
          "name": "stdout"
        },
        {
          "output_type": "stream",
          "text": [
            "\r 99%|█████████▉| 202/204 [03:37<00:03,  1.79s/it]"
          ],
          "name": "stderr"
        },
        {
          "output_type": "stream",
          "text": [
            "True\n",
            "x = 331, y = 559, w = 199, h = 266\n"
          ],
          "name": "stdout"
        },
        {
          "output_type": "stream",
          "text": [
            "\r100%|█████████▉| 203/204 [03:38<00:01,  1.67s/it]"
          ],
          "name": "stderr"
        },
        {
          "output_type": "stream",
          "text": [
            "True\n",
            "x = 331, y = 559, w = 199, h = 266\n"
          ],
          "name": "stdout"
        },
        {
          "output_type": "stream",
          "text": [
            "100%|██████████| 204/204 [03:39<00:00,  1.08s/it]"
          ],
          "name": "stderr"
        },
        {
          "output_type": "stream",
          "text": [
            "True\n",
            "x = 331, y = 559, w = 199, h = 266\n",
            "c =580\n",
            "b = 580\n",
            "f = 0\n"
          ],
          "name": "stdout"
        },
        {
          "output_type": "stream",
          "text": [
            "\n"
          ],
          "name": "stderr"
        }
      ]
    },
    {
      "cell_type": "code",
      "metadata": {
        "colab": {
          "base_uri": "https://localhost:8080/"
        },
        "id": "DAx5ltH8eg4T",
        "outputId": "610770ee-9a8c-48ae-bebb-3a485a0b7b0d"
      },
      "source": [
        "c,b,f=make_train_data('Surprise', SURPRISE_DIR,c,b,f)\n",
        "print(f\"c ={c}\\nb = {b}\\nf = {f}\")"
      ],
      "execution_count": null,
      "outputs": [
        {
          "output_type": "stream",
          "text": [
            "  0%|          | 1/224 [00:01<04:58,  1.34s/it]"
          ],
          "name": "stderr"
        },
        {
          "output_type": "stream",
          "text": [
            "True\n",
            "x = 156, y = 144, w = 173, h = 227\n"
          ],
          "name": "stdout"
        },
        {
          "output_type": "stream",
          "text": [
            "\r  1%|          | 2/224 [00:02<04:47,  1.29s/it]"
          ],
          "name": "stderr"
        },
        {
          "output_type": "stream",
          "text": [
            "True\n",
            "x = 167, y = 144, w = 161, h = 219\n"
          ],
          "name": "stdout"
        },
        {
          "output_type": "stream",
          "text": [
            "\r  1%|▏         | 3/224 [00:03<04:34,  1.24s/it]"
          ],
          "name": "stderr"
        },
        {
          "output_type": "stream",
          "text": [
            "True\n",
            "x = 176, y = 121, w = 161, h = 224\n"
          ],
          "name": "stdout"
        },
        {
          "output_type": "stream",
          "text": [
            "\r  2%|▏         | 4/224 [00:04<04:29,  1.22s/it]"
          ],
          "name": "stderr"
        },
        {
          "output_type": "stream",
          "text": [
            "True\n",
            "x = 165, y = 127, w = 156, h = 217\n"
          ],
          "name": "stdout"
        },
        {
          "output_type": "stream",
          "text": [
            "\r  2%|▏         | 5/224 [00:06<04:37,  1.27s/it]"
          ],
          "name": "stderr"
        },
        {
          "output_type": "stream",
          "text": [
            "True\n",
            "x = 154, y = 155, w = 166, h = 226\n"
          ],
          "name": "stdout"
        },
        {
          "output_type": "stream",
          "text": [
            "\r  3%|▎         | 6/224 [00:07<04:41,  1.29s/it]"
          ],
          "name": "stderr"
        },
        {
          "output_type": "stream",
          "text": [
            "True\n",
            "x = 159, y = 115, w = 164, h = 239\n"
          ],
          "name": "stdout"
        },
        {
          "output_type": "stream",
          "text": [
            "\r  3%|▎         | 7/224 [00:08<04:40,  1.29s/it]"
          ],
          "name": "stderr"
        },
        {
          "output_type": "stream",
          "text": [
            "True\n",
            "x = 165, y = 132, w = 165, h = 224\n"
          ],
          "name": "stdout"
        },
        {
          "output_type": "stream",
          "text": [
            "\r  4%|▎         | 8/224 [00:10<04:33,  1.27s/it]"
          ],
          "name": "stderr"
        },
        {
          "output_type": "stream",
          "text": [
            "True\n",
            "x = 176, y = 135, w = 164, h = 250\n",
            "x = 11, y = 407, w = 113, h = 145\n"
          ],
          "name": "stdout"
        },
        {
          "output_type": "stream",
          "text": [
            "\r  4%|▍         | 9/224 [00:11<04:23,  1.23s/it]"
          ],
          "name": "stderr"
        },
        {
          "output_type": "stream",
          "text": [
            "True\n",
            "x = 179, y = 127, w = 166, h = 233\n"
          ],
          "name": "stdout"
        },
        {
          "output_type": "stream",
          "text": [
            "\r  4%|▍         | 10/224 [00:12<04:15,  1.19s/it]"
          ],
          "name": "stderr"
        },
        {
          "output_type": "stream",
          "text": [
            "True\n",
            "x = 175, y = 165, w = 145, h = 177\n",
            "x = 85, y = 161, w = 16, h = 18\n"
          ],
          "name": "stdout"
        },
        {
          "output_type": "stream",
          "text": [
            "\r  5%|▍         | 11/224 [00:13<03:59,  1.13s/it]"
          ],
          "name": "stderr"
        },
        {
          "output_type": "stream",
          "text": [
            "True\n",
            "x = 165, y = 127, w = 156, h = 217\n"
          ],
          "name": "stdout"
        },
        {
          "output_type": "stream",
          "text": [
            "\r  5%|▌         | 12/224 [00:14<03:53,  1.10s/it]"
          ],
          "name": "stderr"
        },
        {
          "output_type": "stream",
          "text": [
            "True\n",
            "x = 161, y = 147, w = 163, h = 214\n"
          ],
          "name": "stdout"
        },
        {
          "output_type": "stream",
          "text": [
            "\r  6%|▌         | 13/224 [00:15<03:50,  1.09s/it]"
          ],
          "name": "stderr"
        },
        {
          "output_type": "stream",
          "text": [
            "True\n",
            "x = 152, y = 126, w = 164, h = 244\n"
          ],
          "name": "stdout"
        },
        {
          "output_type": "stream",
          "text": [
            "\r  6%|▋         | 14/224 [00:16<04:00,  1.15s/it]"
          ],
          "name": "stderr"
        },
        {
          "output_type": "stream",
          "text": [
            "True\n",
            "x = 160, y = 114, w = 180, h = 257\n"
          ],
          "name": "stdout"
        },
        {
          "output_type": "stream",
          "text": [
            "\r  7%|▋         | 15/224 [00:17<04:02,  1.16s/it]"
          ],
          "name": "stderr"
        },
        {
          "output_type": "stream",
          "text": [
            "True\n",
            "x = 157, y = 119, w = 169, h = 248\n",
            "x = 110, y = 213, w = 59, h = 83\n"
          ],
          "name": "stdout"
        },
        {
          "output_type": "stream",
          "text": [
            "\r  7%|▋         | 16/224 [00:18<03:58,  1.15s/it]"
          ],
          "name": "stderr"
        },
        {
          "output_type": "stream",
          "text": [
            "True\n",
            "x = 171, y = 116, w = 151, h = 218\n"
          ],
          "name": "stdout"
        },
        {
          "output_type": "stream",
          "text": [
            "\r  8%|▊         | 17/224 [00:20<04:09,  1.21s/it]"
          ],
          "name": "stderr"
        },
        {
          "output_type": "stream",
          "text": [
            "True\n",
            "x = 142, y = 129, w = 180, h = 244\n",
            "x = 331, y = 313, w = 57, h = 76\n",
            "x = 126, y = 311, w = 41, h = 61\n"
          ],
          "name": "stdout"
        },
        {
          "output_type": "stream",
          "text": [
            "\r  8%|▊         | 18/224 [00:21<04:07,  1.20s/it]"
          ],
          "name": "stderr"
        },
        {
          "output_type": "stream",
          "text": [
            "True\n",
            "x = 176, y = 149, w = 151, h = 201\n"
          ],
          "name": "stdout"
        },
        {
          "output_type": "stream",
          "text": [
            "\r  8%|▊         | 19/224 [00:22<03:55,  1.15s/it]"
          ],
          "name": "stderr"
        },
        {
          "output_type": "stream",
          "text": [
            "True\n",
            "x = 156, y = 133, w = 169, h = 239\n"
          ],
          "name": "stdout"
        },
        {
          "output_type": "stream",
          "text": [
            "\r  9%|▉         | 20/224 [00:23<03:44,  1.10s/it]"
          ],
          "name": "stderr"
        },
        {
          "output_type": "stream",
          "text": [
            "True\n",
            "x = 160, y = 114, w = 180, h = 257\n"
          ],
          "name": "stdout"
        },
        {
          "output_type": "stream",
          "text": [
            "\r  9%|▉         | 21/224 [00:24<03:47,  1.12s/it]"
          ],
          "name": "stderr"
        },
        {
          "output_type": "stream",
          "text": [
            "True\n",
            "x = 141, y = 141, w = 172, h = 221\n"
          ],
          "name": "stdout"
        },
        {
          "output_type": "stream",
          "text": [
            "\r 10%|▉         | 22/224 [00:26<04:02,  1.20s/it]"
          ],
          "name": "stderr"
        },
        {
          "output_type": "stream",
          "text": [
            "True\n",
            "x = 172, y = 150, w = 153, h = 186\n"
          ],
          "name": "stdout"
        },
        {
          "output_type": "stream",
          "text": [
            "\r 10%|█         | 23/224 [00:27<03:56,  1.18s/it]"
          ],
          "name": "stderr"
        },
        {
          "output_type": "stream",
          "text": [
            "True\n",
            "x = 133, y = 146, w = 180, h = 219\n"
          ],
          "name": "stdout"
        },
        {
          "output_type": "stream",
          "text": [
            "\r 11%|█         | 24/224 [00:28<03:56,  1.18s/it]"
          ],
          "name": "stderr"
        },
        {
          "output_type": "stream",
          "text": [
            "True\n",
            "x = 151, y = 121, w = 177, h = 241\n"
          ],
          "name": "stdout"
        },
        {
          "output_type": "stream",
          "text": [
            "\r 11%|█         | 25/224 [00:29<03:53,  1.17s/it]"
          ],
          "name": "stderr"
        },
        {
          "output_type": "stream",
          "text": [
            "True\n",
            "x = 171, y = 150, w = 164, h = 224\n"
          ],
          "name": "stdout"
        },
        {
          "output_type": "stream",
          "text": [
            "\r 12%|█▏        | 26/224 [00:30<03:39,  1.11s/it]"
          ],
          "name": "stderr"
        },
        {
          "output_type": "stream",
          "text": [
            "True\n",
            "x = 176, y = 121, w = 161, h = 224\n"
          ],
          "name": "stdout"
        },
        {
          "output_type": "stream",
          "text": [
            "\r 12%|█▏        | 27/224 [00:31<03:44,  1.14s/it]"
          ],
          "name": "stderr"
        },
        {
          "output_type": "stream",
          "text": [
            "True\n",
            "x = 179, y = 120, w = 172, h = 254\n",
            "x = 408, y = 215, w = 64, h = 73\n"
          ],
          "name": "stdout"
        },
        {
          "output_type": "stream",
          "text": [
            "\r 12%|█▎        | 28/224 [00:32<03:44,  1.15s/it]"
          ],
          "name": "stderr"
        },
        {
          "output_type": "stream",
          "text": [
            "True\n",
            "x = 156, y = 143, w = 176, h = 255\n"
          ],
          "name": "stdout"
        },
        {
          "output_type": "stream",
          "text": [
            "\r 13%|█▎        | 29/224 [00:34<03:44,  1.15s/it]"
          ],
          "name": "stderr"
        },
        {
          "output_type": "stream",
          "text": [
            "True\n",
            "x = 174, y = 114, w = 164, h = 247\n"
          ],
          "name": "stdout"
        },
        {
          "output_type": "stream",
          "text": [
            "\r 13%|█▎        | 30/224 [00:35<03:35,  1.11s/it]"
          ],
          "name": "stderr"
        },
        {
          "output_type": "stream",
          "text": [
            "True\n",
            "x = 179, y = 120, w = 172, h = 254\n",
            "x = 408, y = 215, w = 64, h = 73\n"
          ],
          "name": "stdout"
        },
        {
          "output_type": "stream",
          "text": [
            "\r 14%|█▍        | 31/224 [00:36<03:26,  1.07s/it]"
          ],
          "name": "stderr"
        },
        {
          "output_type": "stream",
          "text": [
            "True\n",
            "x = 167, y = 144, w = 161, h = 219\n"
          ],
          "name": "stdout"
        },
        {
          "output_type": "stream",
          "text": [
            "\r 14%|█▍        | 32/224 [00:37<03:28,  1.09s/it]"
          ],
          "name": "stderr"
        },
        {
          "output_type": "stream",
          "text": [
            "True\n",
            "x = 174, y = 114, w = 164, h = 247\n"
          ],
          "name": "stdout"
        },
        {
          "output_type": "stream",
          "text": [
            "\r 15%|█▍        | 33/224 [00:38<03:26,  1.08s/it]"
          ],
          "name": "stderr"
        },
        {
          "output_type": "stream",
          "text": [
            "True\n",
            "x = 179, y = 127, w = 166, h = 233\n"
          ],
          "name": "stdout"
        },
        {
          "output_type": "stream",
          "text": [
            "\r 15%|█▌        | 34/224 [00:39<03:41,  1.17s/it]"
          ],
          "name": "stderr"
        },
        {
          "output_type": "stream",
          "text": [
            "True\n",
            "x = 156, y = 144, w = 173, h = 227\n"
          ],
          "name": "stdout"
        },
        {
          "output_type": "stream",
          "text": [
            "\r 16%|█▌        | 35/224 [00:40<03:34,  1.14s/it]"
          ],
          "name": "stderr"
        },
        {
          "output_type": "stream",
          "text": [
            "True\n",
            "x = 171, y = 116, w = 151, h = 218\n"
          ],
          "name": "stdout"
        },
        {
          "output_type": "stream",
          "text": [
            "\r 16%|█▌        | 36/224 [00:41<03:40,  1.17s/it]"
          ],
          "name": "stderr"
        },
        {
          "output_type": "stream",
          "text": [
            "True\n",
            "x = 141, y = 151, w = 178, h = 223\n"
          ],
          "name": "stdout"
        },
        {
          "output_type": "stream",
          "text": [
            "\r 17%|█▋        | 37/224 [00:42<03:29,  1.12s/it]"
          ],
          "name": "stderr"
        },
        {
          "output_type": "stream",
          "text": [
            "True\n",
            "x = 178, y = 113, w = 161, h = 224\n"
          ],
          "name": "stdout"
        },
        {
          "output_type": "stream",
          "text": [
            "\r 17%|█▋        | 38/224 [00:43<03:25,  1.10s/it]"
          ],
          "name": "stderr"
        },
        {
          "output_type": "stream",
          "text": [
            "True\n",
            "x = 156, y = 143, w = 176, h = 255\n"
          ],
          "name": "stdout"
        },
        {
          "output_type": "stream",
          "text": [
            "\r 17%|█▋        | 39/224 [00:44<03:18,  1.07s/it]"
          ],
          "name": "stderr"
        },
        {
          "output_type": "stream",
          "text": [
            "True\n",
            "x = 178, y = 113, w = 161, h = 224\n"
          ],
          "name": "stdout"
        },
        {
          "output_type": "stream",
          "text": [
            "\r 18%|█▊        | 40/224 [00:45<03:11,  1.04s/it]"
          ],
          "name": "stderr"
        },
        {
          "output_type": "stream",
          "text": [
            "True\n",
            "x = 172, y = 150, w = 153, h = 186\n"
          ],
          "name": "stdout"
        },
        {
          "output_type": "stream",
          "text": [
            "\r 18%|█▊        | 41/224 [00:46<03:09,  1.03s/it]"
          ],
          "name": "stderr"
        },
        {
          "output_type": "stream",
          "text": [
            "True\n",
            "x = 154, y = 155, w = 166, h = 226\n"
          ],
          "name": "stdout"
        },
        {
          "output_type": "stream",
          "text": [
            "\r 19%|█▉        | 42/224 [00:48<03:36,  1.19s/it]"
          ],
          "name": "stderr"
        },
        {
          "output_type": "stream",
          "text": [
            "True\n",
            "x = 176, y = 135, w = 164, h = 250\n",
            "x = 11, y = 407, w = 113, h = 145\n"
          ],
          "name": "stdout"
        },
        {
          "output_type": "stream",
          "text": [
            "\r 19%|█▉        | 43/224 [00:49<03:21,  1.12s/it]"
          ],
          "name": "stderr"
        },
        {
          "output_type": "stream",
          "text": [
            "True\n",
            "x = 176, y = 149, w = 151, h = 201\n"
          ],
          "name": "stdout"
        },
        {
          "output_type": "stream",
          "text": [
            "\r 20%|█▉        | 44/224 [00:50<03:14,  1.08s/it]"
          ],
          "name": "stderr"
        },
        {
          "output_type": "stream",
          "text": [
            "True\n",
            "x = 157, y = 119, w = 169, h = 248\n",
            "x = 110, y = 213, w = 59, h = 83\n"
          ],
          "name": "stdout"
        },
        {
          "output_type": "stream",
          "text": [
            "\r 20%|██        | 45/224 [00:51<03:16,  1.10s/it]"
          ],
          "name": "stderr"
        },
        {
          "output_type": "stream",
          "text": [
            "True\n",
            "x = 161, y = 144, w = 163, h = 242\n"
          ],
          "name": "stdout"
        },
        {
          "output_type": "stream",
          "text": [
            "\r 21%|██        | 46/224 [00:52<03:21,  1.13s/it]"
          ],
          "name": "stderr"
        },
        {
          "output_type": "stream",
          "text": [
            "True\n",
            "x = 157, y = 144, w = 144, h = 202\n"
          ],
          "name": "stdout"
        },
        {
          "output_type": "stream",
          "text": [
            "\r 21%|██        | 47/224 [00:53<03:12,  1.09s/it]"
          ],
          "name": "stderr"
        },
        {
          "output_type": "stream",
          "text": [
            "True\n",
            "x = 165, y = 132, w = 165, h = 224\n"
          ],
          "name": "stdout"
        },
        {
          "output_type": "stream",
          "text": [
            "\r 21%|██▏       | 48/224 [00:54<03:03,  1.04s/it]"
          ],
          "name": "stderr"
        },
        {
          "output_type": "stream",
          "text": [
            "True\n",
            "x = 133, y = 146, w = 180, h = 219\n"
          ],
          "name": "stdout"
        },
        {
          "output_type": "stream",
          "text": [
            "\r 22%|██▏       | 49/224 [00:55<03:02,  1.04s/it]"
          ],
          "name": "stderr"
        },
        {
          "output_type": "stream",
          "text": [
            "True\n",
            "x = 169, y = 119, w = 165, h = 214\n"
          ],
          "name": "stdout"
        },
        {
          "output_type": "stream",
          "text": [
            "\r 22%|██▏       | 50/224 [00:56<02:56,  1.02s/it]"
          ],
          "name": "stderr"
        },
        {
          "output_type": "stream",
          "text": [
            "True\n",
            "x = 157, y = 144, w = 144, h = 202\n"
          ],
          "name": "stdout"
        },
        {
          "output_type": "stream",
          "text": [
            "\r 23%|██▎       | 51/224 [00:57<02:53,  1.00s/it]"
          ],
          "name": "stderr"
        },
        {
          "output_type": "stream",
          "text": [
            "True\n",
            "x = 141, y = 141, w = 172, h = 221\n"
          ],
          "name": "stdout"
        },
        {
          "output_type": "stream",
          "text": [
            "\r 23%|██▎       | 52/224 [00:58<03:03,  1.06s/it]"
          ],
          "name": "stderr"
        },
        {
          "output_type": "stream",
          "text": [
            "True\n",
            "x = 161, y = 106, w = 170, h = 240\n"
          ],
          "name": "stdout"
        },
        {
          "output_type": "stream",
          "text": [
            "\r 24%|██▎       | 53/224 [00:59<03:04,  1.08s/it]"
          ],
          "name": "stderr"
        },
        {
          "output_type": "stream",
          "text": [
            "True\n",
            "x = 176, y = 136, w = 168, h = 240\n"
          ],
          "name": "stdout"
        },
        {
          "output_type": "stream",
          "text": [
            "\r 24%|██▍       | 54/224 [01:01<03:00,  1.06s/it]"
          ],
          "name": "stderr"
        },
        {
          "output_type": "stream",
          "text": [
            "True\n",
            "x = 161, y = 106, w = 170, h = 240\n"
          ],
          "name": "stdout"
        },
        {
          "output_type": "stream",
          "text": [
            "\r 25%|██▍       | 55/224 [01:02<03:08,  1.11s/it]"
          ],
          "name": "stderr"
        },
        {
          "output_type": "stream",
          "text": [
            "True\n",
            "x = 168, y = 153, w = 177, h = 228\n"
          ],
          "name": "stdout"
        },
        {
          "output_type": "stream",
          "text": [
            "\r 25%|██▌       | 56/224 [01:03<03:06,  1.11s/it]"
          ],
          "name": "stderr"
        },
        {
          "output_type": "stream",
          "text": [
            "True\n",
            "x = 142, y = 129, w = 180, h = 244\n",
            "x = 331, y = 313, w = 57, h = 76\n",
            "x = 126, y = 311, w = 41, h = 61\n"
          ],
          "name": "stdout"
        },
        {
          "output_type": "stream",
          "text": [
            "\r 25%|██▌       | 57/224 [01:04<02:59,  1.08s/it]"
          ],
          "name": "stderr"
        },
        {
          "output_type": "stream",
          "text": [
            "True\n",
            "x = 141, y = 151, w = 178, h = 223\n"
          ],
          "name": "stdout"
        },
        {
          "output_type": "stream",
          "text": [
            "\r 26%|██▌       | 58/224 [01:05<03:01,  1.09s/it]"
          ],
          "name": "stderr"
        },
        {
          "output_type": "stream",
          "text": [
            "True\n",
            "x = 161, y = 147, w = 163, h = 214\n"
          ],
          "name": "stdout"
        },
        {
          "output_type": "stream",
          "text": [
            "\r 26%|██▋       | 59/224 [01:06<03:10,  1.15s/it]"
          ],
          "name": "stderr"
        },
        {
          "output_type": "stream",
          "text": [
            "True\n",
            "x = 150, y = 131, w = 180, h = 255\n"
          ],
          "name": "stdout"
        },
        {
          "output_type": "stream",
          "text": [
            "\r 27%|██▋       | 60/224 [01:07<03:07,  1.14s/it]"
          ],
          "name": "stderr"
        },
        {
          "output_type": "stream",
          "text": [
            "True\n",
            "x = 171, y = 150, w = 164, h = 224\n"
          ],
          "name": "stdout"
        },
        {
          "output_type": "stream",
          "text": [
            "\r 27%|██▋       | 61/224 [01:08<02:59,  1.10s/it]"
          ],
          "name": "stderr"
        },
        {
          "output_type": "stream",
          "text": [
            "True\n",
            "x = 175, y = 165, w = 145, h = 177\n",
            "x = 85, y = 161, w = 16, h = 18\n"
          ],
          "name": "stdout"
        },
        {
          "output_type": "stream",
          "text": [
            "\r 28%|██▊       | 62/224 [01:09<02:53,  1.07s/it]"
          ],
          "name": "stderr"
        },
        {
          "output_type": "stream",
          "text": [
            "True\n",
            "x = 168, y = 153, w = 177, h = 228\n"
          ],
          "name": "stdout"
        },
        {
          "output_type": "stream",
          "text": [
            "\r 28%|██▊       | 63/224 [01:10<02:50,  1.06s/it]"
          ],
          "name": "stderr"
        },
        {
          "output_type": "stream",
          "text": [
            "True\n",
            "x = 176, y = 136, w = 168, h = 240\n"
          ],
          "name": "stdout"
        },
        {
          "output_type": "stream",
          "text": [
            "\r 29%|██▊       | 64/224 [01:11<02:45,  1.03s/it]"
          ],
          "name": "stderr"
        },
        {
          "output_type": "stream",
          "text": [
            "True\n",
            "x = 150, y = 131, w = 180, h = 255\n"
          ],
          "name": "stdout"
        },
        {
          "output_type": "stream",
          "text": [
            "\r 29%|██▉       | 65/224 [01:12<02:41,  1.02s/it]"
          ],
          "name": "stderr"
        },
        {
          "output_type": "stream",
          "text": [
            "True\n",
            "x = 161, y = 144, w = 163, h = 242\n"
          ],
          "name": "stdout"
        },
        {
          "output_type": "stream",
          "text": [
            "\r 29%|██▉       | 66/224 [01:13<02:37,  1.00it/s]"
          ],
          "name": "stderr"
        },
        {
          "output_type": "stream",
          "text": [
            "True\n",
            "x = 159, y = 115, w = 164, h = 239\n"
          ],
          "name": "stdout"
        },
        {
          "output_type": "stream",
          "text": [
            "\r 30%|██▉       | 67/224 [01:14<02:37,  1.01s/it]"
          ],
          "name": "stderr"
        },
        {
          "output_type": "stream",
          "text": [
            "True\n",
            "x = 156, y = 133, w = 169, h = 239\n"
          ],
          "name": "stdout"
        },
        {
          "output_type": "stream",
          "text": [
            "\r 30%|███       | 68/224 [01:15<02:35,  1.00it/s]"
          ],
          "name": "stderr"
        },
        {
          "output_type": "stream",
          "text": [
            "True\n",
            "x = 169, y = 119, w = 165, h = 214\n"
          ],
          "name": "stdout"
        },
        {
          "output_type": "stream",
          "text": [
            "\r 31%|███       | 69/224 [01:17<02:41,  1.04s/it]"
          ],
          "name": "stderr"
        },
        {
          "output_type": "stream",
          "text": [
            "True\n",
            "x = 151, y = 121, w = 177, h = 241\n"
          ],
          "name": "stdout"
        },
        {
          "output_type": "stream",
          "text": [
            "\r 31%|███▏      | 70/224 [01:17<02:37,  1.03s/it]"
          ],
          "name": "stderr"
        },
        {
          "output_type": "stream",
          "text": [
            "True\n",
            "x = 152, y = 126, w = 164, h = 244\n"
          ],
          "name": "stdout"
        },
        {
          "output_type": "stream",
          "text": [
            "\r 32%|███▏      | 71/224 [01:19<02:40,  1.05s/it]"
          ],
          "name": "stderr"
        },
        {
          "output_type": "stream",
          "text": [
            "True\n",
            "x = 168, y = 131, w = 153, h = 200\n"
          ],
          "name": "stdout"
        },
        {
          "output_type": "stream",
          "text": [
            "\r 32%|███▏      | 72/224 [01:20<02:43,  1.08s/it]"
          ],
          "name": "stderr"
        },
        {
          "output_type": "stream",
          "text": [
            "True\n",
            "x = 133, y = 110, w = 189, h = 238\n"
          ],
          "name": "stdout"
        },
        {
          "output_type": "stream",
          "text": [
            "\r 33%|███▎      | 73/224 [01:21<02:39,  1.05s/it]"
          ],
          "name": "stderr"
        },
        {
          "output_type": "stream",
          "text": [
            "True\n",
            "x = 161, y = 142, w = 168, h = 231\n"
          ],
          "name": "stdout"
        },
        {
          "output_type": "stream",
          "text": [
            "\r 33%|███▎      | 74/224 [01:22<02:44,  1.10s/it]"
          ],
          "name": "stderr"
        },
        {
          "output_type": "stream",
          "text": [
            "True\n",
            "x = 168, y = 190, w = 153, h = 191\n"
          ],
          "name": "stdout"
        },
        {
          "output_type": "stream",
          "text": [
            "\r 33%|███▎      | 75/224 [01:23<02:40,  1.07s/it]"
          ],
          "name": "stderr"
        },
        {
          "output_type": "stream",
          "text": [
            "True\n",
            "x = 161, y = 182, w = 162, h = 204\n"
          ],
          "name": "stdout"
        },
        {
          "output_type": "stream",
          "text": [
            "\r 34%|███▍      | 76/224 [01:24<02:41,  1.09s/it]"
          ],
          "name": "stderr"
        },
        {
          "output_type": "stream",
          "text": [
            "True\n",
            "x = 171, y = 143, w = 170, h = 239\n"
          ],
          "name": "stdout"
        },
        {
          "output_type": "stream",
          "text": [
            "\r 34%|███▍      | 77/224 [01:25<02:41,  1.10s/it]"
          ],
          "name": "stderr"
        },
        {
          "output_type": "stream",
          "text": [
            "True\n",
            "x = 151, y = 140, w = 174, h = 248\n"
          ],
          "name": "stdout"
        },
        {
          "output_type": "stream",
          "text": [
            "\r 35%|███▍      | 78/224 [01:26<02:37,  1.08s/it]"
          ],
          "name": "stderr"
        },
        {
          "output_type": "stream",
          "text": [
            "True\n",
            "x = 150, y = 153, w = 172, h = 243\n"
          ],
          "name": "stdout"
        },
        {
          "output_type": "stream",
          "text": [
            "\r 35%|███▌      | 79/224 [01:27<02:38,  1.09s/it]"
          ],
          "name": "stderr"
        },
        {
          "output_type": "stream",
          "text": [
            "True\n",
            "x = 139, y = 161, w = 181, h = 236\n"
          ],
          "name": "stdout"
        },
        {
          "output_type": "stream",
          "text": [
            "\r 36%|███▌      | 80/224 [01:29<02:42,  1.13s/it]"
          ],
          "name": "stderr"
        },
        {
          "output_type": "stream",
          "text": [
            "True\n",
            "x = 170, y = 138, w = 188, h = 279\n"
          ],
          "name": "stdout"
        },
        {
          "output_type": "stream",
          "text": [
            "\r 36%|███▌      | 81/224 [01:30<02:36,  1.09s/it]"
          ],
          "name": "stderr"
        },
        {
          "output_type": "stream",
          "text": [
            "True\n",
            "x = 171, y = 143, w = 170, h = 239\n"
          ],
          "name": "stdout"
        },
        {
          "output_type": "stream",
          "text": [
            "\r 37%|███▋      | 82/224 [01:31<02:35,  1.10s/it]"
          ],
          "name": "stderr"
        },
        {
          "output_type": "stream",
          "text": [
            "True\n",
            "x = 153, y = 128, w = 161, h = 236\n"
          ],
          "name": "stdout"
        },
        {
          "output_type": "stream",
          "text": [
            "\r 37%|███▋      | 83/224 [01:32<02:33,  1.09s/it]"
          ],
          "name": "stderr"
        },
        {
          "output_type": "stream",
          "text": [
            "True\n",
            "x = 179, y = 146, w = 153, h = 205\n"
          ],
          "name": "stdout"
        },
        {
          "output_type": "stream",
          "text": [
            "\r 38%|███▊      | 84/224 [01:33<02:45,  1.18s/it]"
          ],
          "name": "stderr"
        },
        {
          "output_type": "stream",
          "text": [
            "True\n",
            "x = 168, y = 162, w = 150, h = 226\n"
          ],
          "name": "stdout"
        },
        {
          "output_type": "stream",
          "text": [
            "\r 38%|███▊      | 85/224 [01:34<02:43,  1.18s/it]"
          ],
          "name": "stderr"
        },
        {
          "output_type": "stream",
          "text": [
            "True\n",
            "x = 159, y = 138, w = 152, h = 189\n"
          ],
          "name": "stdout"
        },
        {
          "output_type": "stream",
          "text": [
            "\r 38%|███▊      | 86/224 [01:36<02:42,  1.18s/it]"
          ],
          "name": "stderr"
        },
        {
          "output_type": "stream",
          "text": [
            "True\n",
            "x = 177, y = 112, w = 136, h = 179\n"
          ],
          "name": "stdout"
        },
        {
          "output_type": "stream",
          "text": [
            "\r 39%|███▉      | 87/224 [01:37<02:41,  1.18s/it]"
          ],
          "name": "stderr"
        },
        {
          "output_type": "stream",
          "text": [
            "True\n",
            "x = 170, y = 132, w = 148, h = 206\n"
          ],
          "name": "stdout"
        },
        {
          "output_type": "stream",
          "text": [
            "\r 39%|███▉      | 88/224 [01:38<02:32,  1.12s/it]"
          ],
          "name": "stderr"
        },
        {
          "output_type": "stream",
          "text": [
            "True\n",
            "x = 165, y = 87, w = 185, h = 260\n"
          ],
          "name": "stdout"
        },
        {
          "output_type": "stream",
          "text": [
            "\r 40%|███▉      | 89/224 [01:39<02:37,  1.16s/it]"
          ],
          "name": "stderr"
        },
        {
          "output_type": "stream",
          "text": [
            "True\n",
            "x = 188, y = 115, w = 140, h = 198\n"
          ],
          "name": "stdout"
        },
        {
          "output_type": "stream",
          "text": [
            "\r 40%|████      | 90/224 [01:40<02:33,  1.14s/it]"
          ],
          "name": "stderr"
        },
        {
          "output_type": "stream",
          "text": [
            "True\n",
            "x = 164, y = 127, w = 161, h = 232\n"
          ],
          "name": "stdout"
        },
        {
          "output_type": "stream",
          "text": [
            "\r 41%|████      | 91/224 [01:41<02:32,  1.14s/it]"
          ],
          "name": "stderr"
        },
        {
          "output_type": "stream",
          "text": [
            "True\n",
            "x = 153, y = 136, w = 186, h = 254\n"
          ],
          "name": "stdout"
        },
        {
          "output_type": "stream",
          "text": [
            "\r 41%|████      | 92/224 [01:42<02:31,  1.15s/it]"
          ],
          "name": "stderr"
        },
        {
          "output_type": "stream",
          "text": [
            "True\n",
            "x = 188, y = 158, w = 167, h = 207\n"
          ],
          "name": "stdout"
        },
        {
          "output_type": "stream",
          "text": [
            "\r 42%|████▏     | 93/224 [01:44<02:32,  1.17s/it]"
          ],
          "name": "stderr"
        },
        {
          "output_type": "stream",
          "text": [
            "True\n",
            "x = 159, y = 154, w = 153, h = 220\n"
          ],
          "name": "stdout"
        },
        {
          "output_type": "stream",
          "text": [
            "\r 42%|████▏     | 94/224 [01:45<02:32,  1.17s/it]"
          ],
          "name": "stderr"
        },
        {
          "output_type": "stream",
          "text": [
            "True\n",
            "x = 150, y = 150, w = 148, h = 205\n"
          ],
          "name": "stdout"
        },
        {
          "output_type": "stream",
          "text": [
            "\r 42%|████▏     | 95/224 [01:46<02:29,  1.16s/it]"
          ],
          "name": "stderr"
        },
        {
          "output_type": "stream",
          "text": [
            "True\n",
            "x = 149, y = 99, w = 178, h = 270\n"
          ],
          "name": "stdout"
        },
        {
          "output_type": "stream",
          "text": [
            "\r 43%|████▎     | 96/224 [01:47<02:30,  1.18s/it]"
          ],
          "name": "stderr"
        },
        {
          "output_type": "stream",
          "text": [
            "True\n",
            "x = 174, y = 148, w = 149, h = 200\n"
          ],
          "name": "stdout"
        },
        {
          "output_type": "stream",
          "text": [
            "\r 43%|████▎     | 97/224 [01:48<02:23,  1.13s/it]"
          ],
          "name": "stderr"
        },
        {
          "output_type": "stream",
          "text": [
            "True\n",
            "x = 169, y = 130, w = 150, h = 207\n"
          ],
          "name": "stdout"
        },
        {
          "output_type": "stream",
          "text": [
            "\r 44%|████▍     | 98/224 [01:49<02:16,  1.09s/it]"
          ],
          "name": "stderr"
        },
        {
          "output_type": "stream",
          "text": [
            "True\n",
            "x = 154, y = 113, w = 147, h = 189\n"
          ],
          "name": "stdout"
        },
        {
          "output_type": "stream",
          "text": [
            "\r 44%|████▍     | 99/224 [01:50<02:19,  1.11s/it]"
          ],
          "name": "stderr"
        },
        {
          "output_type": "stream",
          "text": [
            "True\n",
            "x = 170, y = 137, w = 177, h = 247\n"
          ],
          "name": "stdout"
        },
        {
          "output_type": "stream",
          "text": [
            "\r 45%|████▍     | 100/224 [01:51<02:12,  1.07s/it]"
          ],
          "name": "stderr"
        },
        {
          "output_type": "stream",
          "text": [
            "True\n",
            "x = 154, y = 113, w = 147, h = 189\n"
          ],
          "name": "stdout"
        },
        {
          "output_type": "stream",
          "text": [
            "\r 45%|████▌     | 101/224 [01:52<02:09,  1.05s/it]"
          ],
          "name": "stderr"
        },
        {
          "output_type": "stream",
          "text": [
            "True\n",
            "x = 139, y = 161, w = 181, h = 236\n"
          ],
          "name": "stdout"
        },
        {
          "output_type": "stream",
          "text": [
            "\r 46%|████▌     | 102/224 [01:53<02:06,  1.04s/it]"
          ],
          "name": "stderr"
        },
        {
          "output_type": "stream",
          "text": [
            "True\n",
            "x = 174, y = 148, w = 149, h = 200\n"
          ],
          "name": "stdout"
        },
        {
          "output_type": "stream",
          "text": [
            "\r 46%|████▌     | 103/224 [01:54<02:09,  1.07s/it]"
          ],
          "name": "stderr"
        },
        {
          "output_type": "stream",
          "text": [
            "True\n",
            "x = 153, y = 135, w = 165, h = 214\n"
          ],
          "name": "stdout"
        },
        {
          "output_type": "stream",
          "text": [
            "\r 46%|████▋     | 104/224 [01:55<02:06,  1.05s/it]"
          ],
          "name": "stderr"
        },
        {
          "output_type": "stream",
          "text": [
            "True\n",
            "x = 159, y = 147, w = 165, h = 223\n"
          ],
          "name": "stdout"
        },
        {
          "output_type": "stream",
          "text": [
            "\r 47%|████▋     | 105/224 [01:57<02:08,  1.08s/it]"
          ],
          "name": "stderr"
        },
        {
          "output_type": "stream",
          "text": [
            "True\n",
            "x = 158, y = 133, w = 181, h = 243\n"
          ],
          "name": "stdout"
        },
        {
          "output_type": "stream",
          "text": [
            "\r 47%|████▋     | 106/224 [01:58<02:07,  1.08s/it]"
          ],
          "name": "stderr"
        },
        {
          "output_type": "stream",
          "text": [
            "True\n",
            "x = 172, y = 168, w = 150, h = 207\n"
          ],
          "name": "stdout"
        },
        {
          "output_type": "stream",
          "text": [
            "\r 48%|████▊     | 107/224 [01:59<02:06,  1.08s/it]"
          ],
          "name": "stderr"
        },
        {
          "output_type": "stream",
          "text": [
            "True\n",
            "x = 186, y = 134, w = 170, h = 244\n"
          ],
          "name": "stdout"
        },
        {
          "output_type": "stream",
          "text": [
            "\r 48%|████▊     | 108/224 [02:00<02:01,  1.04s/it]"
          ],
          "name": "stderr"
        },
        {
          "output_type": "stream",
          "text": [
            "True\n",
            "x = 150, y = 153, w = 172, h = 243\n"
          ],
          "name": "stdout"
        },
        {
          "output_type": "stream",
          "text": [
            "\r 49%|████▊     | 109/224 [02:01<01:58,  1.03s/it]"
          ],
          "name": "stderr"
        },
        {
          "output_type": "stream",
          "text": [
            "True\n",
            "x = 170, y = 138, w = 188, h = 279\n"
          ],
          "name": "stdout"
        },
        {
          "output_type": "stream",
          "text": [
            "\r 49%|████▉     | 110/224 [02:02<01:57,  1.03s/it]"
          ],
          "name": "stderr"
        },
        {
          "output_type": "stream",
          "text": [
            "True\n",
            "x = 172, y = 124, w = 134, h = 179\n"
          ],
          "name": "stdout"
        },
        {
          "output_type": "stream",
          "text": [
            "\r 50%|████▉     | 111/224 [02:03<02:00,  1.07s/it]"
          ],
          "name": "stderr"
        },
        {
          "output_type": "stream",
          "text": [
            "True\n",
            "x = 170, y = 138, w = 153, h = 198\n",
            "x = 42, y = 266, w = 49, h = 62\n"
          ],
          "name": "stdout"
        },
        {
          "output_type": "stream",
          "text": [
            "\r 50%|█████     | 112/224 [02:04<01:58,  1.06s/it]"
          ],
          "name": "stderr"
        },
        {
          "output_type": "stream",
          "text": [
            "True\n",
            "x = 170, y = 133, w = 158, h = 222\n"
          ],
          "name": "stdout"
        },
        {
          "output_type": "stream",
          "text": [
            "\r 50%|█████     | 113/224 [02:05<01:55,  1.04s/it]"
          ],
          "name": "stderr"
        },
        {
          "output_type": "stream",
          "text": [
            "True\n",
            "x = 169, y = 133, w = 155, h = 210\n"
          ],
          "name": "stdout"
        },
        {
          "output_type": "stream",
          "text": [
            "\r 51%|█████     | 114/224 [02:06<01:57,  1.07s/it]"
          ],
          "name": "stderr"
        },
        {
          "output_type": "stream",
          "text": [
            "True\n",
            "x = 162, y = 121, w = 157, h = 238\n"
          ],
          "name": "stdout"
        },
        {
          "output_type": "stream",
          "text": [
            "\r 51%|█████▏    | 115/224 [02:07<01:57,  1.08s/it]"
          ],
          "name": "stderr"
        },
        {
          "output_type": "stream",
          "text": [
            "True\n",
            "x = 174, y = 134, w = 160, h = 247\n"
          ],
          "name": "stdout"
        },
        {
          "output_type": "stream",
          "text": [
            "\r 52%|█████▏    | 116/224 [02:08<01:56,  1.08s/it]"
          ],
          "name": "stderr"
        },
        {
          "output_type": "stream",
          "text": [
            "True\n",
            "x = 164, y = 128, w = 158, h = 237\n"
          ],
          "name": "stdout"
        },
        {
          "output_type": "stream",
          "text": [
            "\r 52%|█████▏    | 117/224 [02:09<01:52,  1.05s/it]"
          ],
          "name": "stderr"
        },
        {
          "output_type": "stream",
          "text": [
            "True\n",
            "x = 133, y = 110, w = 189, h = 238\n"
          ],
          "name": "stdout"
        },
        {
          "output_type": "stream",
          "text": [
            "\r 53%|█████▎    | 118/224 [02:10<01:49,  1.04s/it]"
          ],
          "name": "stderr"
        },
        {
          "output_type": "stream",
          "text": [
            "True\n",
            "x = 169, y = 116, w = 187, h = 260\n"
          ],
          "name": "stdout"
        },
        {
          "output_type": "stream",
          "text": [
            "\r 53%|█████▎    | 119/224 [02:11<01:47,  1.02s/it]"
          ],
          "name": "stderr"
        },
        {
          "output_type": "stream",
          "text": [
            "True\n",
            "x = 168, y = 131, w = 153, h = 200\n"
          ],
          "name": "stdout"
        },
        {
          "output_type": "stream",
          "text": [
            "\r 54%|█████▎    | 120/224 [02:12<01:50,  1.06s/it]"
          ],
          "name": "stderr"
        },
        {
          "output_type": "stream",
          "text": [
            "True\n",
            "x = 176, y = 137, w = 148, h = 194\n"
          ],
          "name": "stdout"
        },
        {
          "output_type": "stream",
          "text": [
            "\r 54%|█████▍    | 121/224 [02:14<01:52,  1.09s/it]"
          ],
          "name": "stderr"
        },
        {
          "output_type": "stream",
          "text": [
            "True\n",
            "x = 156, y = 145, w = 176, h = 235\n"
          ],
          "name": "stdout"
        },
        {
          "output_type": "stream",
          "text": [
            "\r 54%|█████▍    | 122/224 [02:15<01:54,  1.13s/it]"
          ],
          "name": "stderr"
        },
        {
          "output_type": "stream",
          "text": [
            "True\n",
            "x = 161, y = 138, w = 154, h = 196\n"
          ],
          "name": "stdout"
        },
        {
          "output_type": "stream",
          "text": [
            "\r 55%|█████▍    | 123/224 [02:16<01:52,  1.12s/it]"
          ],
          "name": "stderr"
        },
        {
          "output_type": "stream",
          "text": [
            "True\n",
            "x = 164, y = 146, w = 151, h = 204\n"
          ],
          "name": "stdout"
        },
        {
          "output_type": "stream",
          "text": [
            "\r 55%|█████▌    | 124/224 [02:18<02:11,  1.31s/it]"
          ],
          "name": "stderr"
        },
        {
          "output_type": "stream",
          "text": [
            "True\n",
            "x = 186, y = 142, w = 146, h = 213\n"
          ],
          "name": "stdout"
        },
        {
          "output_type": "stream",
          "text": [
            "\r 56%|█████▌    | 125/224 [02:19<02:11,  1.33s/it]"
          ],
          "name": "stderr"
        },
        {
          "output_type": "stream",
          "text": [
            "True\n",
            "x = 178, y = 139, w = 165, h = 242\n"
          ],
          "name": "stdout"
        },
        {
          "output_type": "stream",
          "text": [
            "\r 56%|█████▋    | 126/224 [02:20<02:08,  1.31s/it]"
          ],
          "name": "stderr"
        },
        {
          "output_type": "stream",
          "text": [
            "True\n",
            "x = 145, y = 113, w = 193, h = 264\n"
          ],
          "name": "stdout"
        },
        {
          "output_type": "stream",
          "text": [
            "\r 57%|█████▋    | 127/224 [02:21<02:03,  1.27s/it]"
          ],
          "name": "stderr"
        },
        {
          "output_type": "stream",
          "text": [
            "True\n",
            "x = 170, y = 141, w = 138, h = 196\n",
            "x = 13, y = 308, w = 54, h = 62\n"
          ],
          "name": "stdout"
        },
        {
          "output_type": "stream",
          "text": [
            "\r 57%|█████▋    | 128/224 [02:22<01:52,  1.17s/it]"
          ],
          "name": "stderr"
        },
        {
          "output_type": "stream",
          "text": [
            "True\n",
            "x = 169, y = 133, w = 155, h = 210\n"
          ],
          "name": "stdout"
        },
        {
          "output_type": "stream",
          "text": [
            "\r 58%|█████▊    | 129/224 [02:23<01:46,  1.12s/it]"
          ],
          "name": "stderr"
        },
        {
          "output_type": "stream",
          "text": [
            "True\n",
            "x = 170, y = 138, w = 153, h = 198\n",
            "x = 42, y = 266, w = 49, h = 62\n"
          ],
          "name": "stdout"
        },
        {
          "output_type": "stream",
          "text": [
            "\r 58%|█████▊    | 130/224 [02:24<01:43,  1.10s/it]"
          ],
          "name": "stderr"
        },
        {
          "output_type": "stream",
          "text": [
            "True\n",
            "x = 147, y = 123, w = 146, h = 201\n"
          ],
          "name": "stdout"
        },
        {
          "output_type": "stream",
          "text": [
            "\r 58%|█████▊    | 131/224 [02:25<01:39,  1.07s/it]"
          ],
          "name": "stderr"
        },
        {
          "output_type": "stream",
          "text": [
            "True\n",
            "x = 151, y = 140, w = 174, h = 248\n"
          ],
          "name": "stdout"
        },
        {
          "output_type": "stream",
          "text": [
            "\r 59%|█████▉    | 132/224 [02:26<01:36,  1.05s/it]"
          ],
          "name": "stderr"
        },
        {
          "output_type": "stream",
          "text": [
            "True\n",
            "x = 168, y = 162, w = 150, h = 226\n"
          ],
          "name": "stdout"
        },
        {
          "output_type": "stream",
          "text": [
            "\r 59%|█████▉    | 133/224 [02:28<01:38,  1.08s/it]"
          ],
          "name": "stderr"
        },
        {
          "output_type": "stream",
          "text": [
            "True\n",
            "x = 160, y = 148, w = 165, h = 229\n"
          ],
          "name": "stdout"
        },
        {
          "output_type": "stream",
          "text": [
            "\r 60%|█████▉    | 134/224 [02:29<01:38,  1.09s/it]"
          ],
          "name": "stderr"
        },
        {
          "output_type": "stream",
          "text": [
            "True\n",
            "x = 182, y = 114, w = 165, h = 233\n"
          ],
          "name": "stdout"
        },
        {
          "output_type": "stream",
          "text": [
            "\r 60%|██████    | 135/224 [02:30<01:37,  1.09s/it]"
          ],
          "name": "stderr"
        },
        {
          "output_type": "stream",
          "text": [
            "True\n",
            "x = 164, y = 127, w = 161, h = 232\n"
          ],
          "name": "stdout"
        },
        {
          "output_type": "stream",
          "text": [
            "\r 61%|██████    | 136/224 [02:31<01:38,  1.12s/it]"
          ],
          "name": "stderr"
        },
        {
          "output_type": "stream",
          "text": [
            "True\n",
            "x = 162, y = 121, w = 157, h = 238\n"
          ],
          "name": "stdout"
        },
        {
          "output_type": "stream",
          "text": [
            "\r 61%|██████    | 137/224 [02:32<01:35,  1.10s/it]"
          ],
          "name": "stderr"
        },
        {
          "output_type": "stream",
          "text": [
            "True\n",
            "x = 171, y = 130, w = 135, h = 189\n"
          ],
          "name": "stdout"
        },
        {
          "output_type": "stream",
          "text": [
            "\r 62%|██████▏   | 138/224 [02:33<01:31,  1.06s/it]"
          ],
          "name": "stderr"
        },
        {
          "output_type": "stream",
          "text": [
            "True\n",
            "x = 161, y = 142, w = 168, h = 231\n"
          ],
          "name": "stdout"
        },
        {
          "output_type": "stream",
          "text": [
            "\r 62%|██████▏   | 139/224 [02:34<01:34,  1.11s/it]"
          ],
          "name": "stderr"
        },
        {
          "output_type": "stream",
          "text": [
            "True\n",
            "x = 167, y = 109, w = 162, h = 245\n"
          ],
          "name": "stdout"
        },
        {
          "output_type": "stream",
          "text": [
            "\r 62%|██████▎   | 140/224 [02:35<01:30,  1.07s/it]"
          ],
          "name": "stderr"
        },
        {
          "output_type": "stream",
          "text": [
            "True\n",
            "x = 156, y = 145, w = 176, h = 235\n"
          ],
          "name": "stdout"
        },
        {
          "output_type": "stream",
          "text": [
            "\r 63%|██████▎   | 141/224 [02:36<01:29,  1.08s/it]"
          ],
          "name": "stderr"
        },
        {
          "output_type": "stream",
          "text": [
            "True\n",
            "x = 149, y = 121, w = 187, h = 275\n"
          ],
          "name": "stdout"
        },
        {
          "output_type": "stream",
          "text": [
            "\r 63%|██████▎   | 142/224 [02:37<01:27,  1.07s/it]"
          ],
          "name": "stderr"
        },
        {
          "output_type": "stream",
          "text": [
            "True\n",
            "x = 168, y = 190, w = 153, h = 191\n"
          ],
          "name": "stdout"
        },
        {
          "output_type": "stream",
          "text": [
            "\r 64%|██████▍   | 143/224 [02:38<01:27,  1.08s/it]"
          ],
          "name": "stderr"
        },
        {
          "output_type": "stream",
          "text": [
            "True\n",
            "x = 159, y = 157, w = 169, h = 214\n",
            "x = 284, y = 67, w = 59, h = 72\n"
          ],
          "name": "stdout"
        },
        {
          "output_type": "stream",
          "text": [
            "\r 64%|██████▍   | 144/224 [02:39<01:24,  1.05s/it]"
          ],
          "name": "stderr"
        },
        {
          "output_type": "stream",
          "text": [
            "True\n",
            "x = 170, y = 141, w = 138, h = 196\n",
            "x = 13, y = 308, w = 54, h = 62\n"
          ],
          "name": "stdout"
        },
        {
          "output_type": "stream",
          "text": [
            "\r 65%|██████▍   | 145/224 [02:40<01:23,  1.05s/it]"
          ],
          "name": "stderr"
        },
        {
          "output_type": "stream",
          "text": [
            "True\n",
            "x = 179, y = 146, w = 153, h = 205\n"
          ],
          "name": "stdout"
        },
        {
          "output_type": "stream",
          "text": [
            "\r 65%|██████▌   | 146/224 [02:42<01:24,  1.09s/it]"
          ],
          "name": "stderr"
        },
        {
          "output_type": "stream",
          "text": [
            "True\n",
            "x = 168, y = 139, w = 143, h = 211\n"
          ],
          "name": "stdout"
        },
        {
          "output_type": "stream",
          "text": [
            "\r 66%|██████▌   | 147/224 [02:43<01:25,  1.10s/it]"
          ],
          "name": "stderr"
        },
        {
          "output_type": "stream",
          "text": [
            "True\n",
            "x = 191, y = 111, w = 144, h = 213\n"
          ],
          "name": "stdout"
        },
        {
          "output_type": "stream",
          "text": [
            "\r 66%|██████▌   | 148/224 [02:44<01:24,  1.11s/it]"
          ],
          "name": "stderr"
        },
        {
          "output_type": "stream",
          "text": [
            "True\n",
            "x = 161, y = 144, w = 170, h = 225\n"
          ],
          "name": "stdout"
        },
        {
          "output_type": "stream",
          "text": [
            "\r 67%|██████▋   | 149/224 [02:45<01:26,  1.15s/it]"
          ],
          "name": "stderr"
        },
        {
          "output_type": "stream",
          "text": [
            "True\n",
            "x = 188, y = 115, w = 140, h = 198\n"
          ],
          "name": "stdout"
        },
        {
          "output_type": "stream",
          "text": [
            "\r 67%|██████▋   | 150/224 [02:46<01:22,  1.11s/it]"
          ],
          "name": "stderr"
        },
        {
          "output_type": "stream",
          "text": [
            "True\n",
            "x = 167, y = 109, w = 162, h = 245\n"
          ],
          "name": "stdout"
        },
        {
          "output_type": "stream",
          "text": [
            "\r 67%|██████▋   | 151/224 [02:47<01:19,  1.09s/it]"
          ],
          "name": "stderr"
        },
        {
          "output_type": "stream",
          "text": [
            "True\n",
            "x = 177, y = 112, w = 136, h = 179\n"
          ],
          "name": "stdout"
        },
        {
          "output_type": "stream",
          "text": [
            "\r 68%|██████▊   | 152/224 [02:48<01:19,  1.11s/it]"
          ],
          "name": "stderr"
        },
        {
          "output_type": "stream",
          "text": [
            "True\n",
            "x = 159, y = 135, w = 154, h = 195\n"
          ],
          "name": "stdout"
        },
        {
          "output_type": "stream",
          "text": [
            "\r 68%|██████▊   | 153/224 [02:49<01:15,  1.07s/it]"
          ],
          "name": "stderr"
        },
        {
          "output_type": "stream",
          "text": [
            "True\n",
            "x = 164, y = 146, w = 151, h = 204\n"
          ],
          "name": "stdout"
        },
        {
          "output_type": "stream",
          "text": [
            "\r 69%|██████▉   | 154/224 [02:50<01:13,  1.05s/it]"
          ],
          "name": "stderr"
        },
        {
          "output_type": "stream",
          "text": [
            "True\n",
            "x = 170, y = 137, w = 177, h = 247\n"
          ],
          "name": "stdout"
        },
        {
          "output_type": "stream",
          "text": [
            "\r 69%|██████▉   | 155/224 [02:51<01:10,  1.02s/it]"
          ],
          "name": "stderr"
        },
        {
          "output_type": "stream",
          "text": [
            "True\n",
            "x = 168, y = 139, w = 143, h = 211\n"
          ],
          "name": "stdout"
        },
        {
          "output_type": "stream",
          "text": [
            "\r 70%|██████▉   | 156/224 [02:52<01:10,  1.03s/it]"
          ],
          "name": "stderr"
        },
        {
          "output_type": "stream",
          "text": [
            "True\n",
            "x = 153, y = 136, w = 186, h = 254\n"
          ],
          "name": "stdout"
        },
        {
          "output_type": "stream",
          "text": [
            "\r 70%|███████   | 157/224 [02:53<01:08,  1.03s/it]"
          ],
          "name": "stderr"
        },
        {
          "output_type": "stream",
          "text": [
            "True\n",
            "x = 166, y = 125, w = 129, h = 180\n"
          ],
          "name": "stdout"
        },
        {
          "output_type": "stream",
          "text": [
            "\r 71%|███████   | 158/224 [02:54<01:08,  1.04s/it]"
          ],
          "name": "stderr"
        },
        {
          "output_type": "stream",
          "text": [
            "True\n",
            "x = 165, y = 134, w = 159, h = 209\n"
          ],
          "name": "stdout"
        },
        {
          "output_type": "stream",
          "text": [
            "\r 71%|███████   | 159/224 [02:55<01:05,  1.01s/it]"
          ],
          "name": "stderr"
        },
        {
          "output_type": "stream",
          "text": [
            "True\n",
            "x = 145, y = 113, w = 193, h = 264\n"
          ],
          "name": "stdout"
        },
        {
          "output_type": "stream",
          "text": [
            "\r 71%|███████▏  | 160/224 [02:57<01:07,  1.06s/it]"
          ],
          "name": "stderr"
        },
        {
          "output_type": "stream",
          "text": [
            "True\n",
            "x = 150, y = 150, w = 148, h = 205\n"
          ],
          "name": "stdout"
        },
        {
          "output_type": "stream",
          "text": [
            "\r 72%|███████▏  | 161/224 [02:58<01:07,  1.08s/it]"
          ],
          "name": "stderr"
        },
        {
          "output_type": "stream",
          "text": [
            "True\n",
            "x = 156, y = 118, w = 151, h = 234\n"
          ],
          "name": "stdout"
        },
        {
          "output_type": "stream",
          "text": [
            "\r 72%|███████▏  | 162/224 [02:59<01:04,  1.05s/it]"
          ],
          "name": "stderr"
        },
        {
          "output_type": "stream",
          "text": [
            "True\n",
            "x = 174, y = 134, w = 160, h = 247\n"
          ],
          "name": "stdout"
        },
        {
          "output_type": "stream",
          "text": [
            "\r 73%|███████▎  | 163/224 [03:00<01:04,  1.05s/it]"
          ],
          "name": "stderr"
        },
        {
          "output_type": "stream",
          "text": [
            "True\n",
            "x = 159, y = 154, w = 153, h = 220\n"
          ],
          "name": "stdout"
        },
        {
          "output_type": "stream",
          "text": [
            "\r 73%|███████▎  | 164/224 [03:01<01:02,  1.04s/it]"
          ],
          "name": "stderr"
        },
        {
          "output_type": "stream",
          "text": [
            "True\n",
            "x = 164, y = 128, w = 158, h = 237\n"
          ],
          "name": "stdout"
        },
        {
          "output_type": "stream",
          "text": [
            "\r 74%|███████▎  | 165/224 [03:02<01:13,  1.24s/it]"
          ],
          "name": "stderr"
        },
        {
          "output_type": "stream",
          "text": [
            "True\n",
            "x = 137, y = 71, w = 187, h = 260\n"
          ],
          "name": "stdout"
        },
        {
          "output_type": "stream",
          "text": [
            "\r 74%|███████▍  | 166/224 [03:03<01:09,  1.19s/it]"
          ],
          "name": "stderr"
        },
        {
          "output_type": "stream",
          "text": [
            "True\n",
            "x = 171, y = 138, w = 138, h = 182\n"
          ],
          "name": "stdout"
        },
        {
          "output_type": "stream",
          "text": [
            "\r 75%|███████▍  | 167/224 [03:05<01:06,  1.17s/it]"
          ],
          "name": "stderr"
        },
        {
          "output_type": "stream",
          "text": [
            "True\n",
            "x = 172, y = 168, w = 150, h = 207\n"
          ],
          "name": "stdout"
        },
        {
          "output_type": "stream",
          "text": [
            "\r 75%|███████▌  | 168/224 [03:06<01:01,  1.10s/it]"
          ],
          "name": "stderr"
        },
        {
          "output_type": "stream",
          "text": [
            "True\n",
            "x = 149, y = 99, w = 178, h = 270\n"
          ],
          "name": "stdout"
        },
        {
          "output_type": "stream",
          "text": [
            "\r 75%|███████▌  | 169/224 [03:07<00:58,  1.06s/it]"
          ],
          "name": "stderr"
        },
        {
          "output_type": "stream",
          "text": [
            "True\n",
            "x = 160, y = 148, w = 165, h = 229\n"
          ],
          "name": "stdout"
        },
        {
          "output_type": "stream",
          "text": [
            "\r 76%|███████▌  | 170/224 [03:08<00:58,  1.09s/it]"
          ],
          "name": "stderr"
        },
        {
          "output_type": "stream",
          "text": [
            "True\n",
            "x = 185, y = 144, w = 146, h = 187\n"
          ],
          "name": "stdout"
        },
        {
          "output_type": "stream",
          "text": [
            "\r 76%|███████▋  | 171/224 [03:09<00:58,  1.10s/it]"
          ],
          "name": "stderr"
        },
        {
          "output_type": "stream",
          "text": [
            "True\n",
            "x = 169, y = 122, w = 142, h = 203\n"
          ],
          "name": "stdout"
        },
        {
          "output_type": "stream",
          "text": [
            "\r 77%|███████▋  | 172/224 [03:10<00:55,  1.06s/it]"
          ],
          "name": "stderr"
        },
        {
          "output_type": "stream",
          "text": [
            "True\n",
            "x = 159, y = 135, w = 154, h = 195\n"
          ],
          "name": "stdout"
        },
        {
          "output_type": "stream",
          "text": [
            "\r 77%|███████▋  | 173/224 [03:11<00:55,  1.08s/it]"
          ],
          "name": "stderr"
        },
        {
          "output_type": "stream",
          "text": [
            "True\n",
            "x = 149, y = 121, w = 187, h = 275\n"
          ],
          "name": "stdout"
        },
        {
          "output_type": "stream",
          "text": [
            "\r 78%|███████▊  | 174/224 [03:12<00:52,  1.06s/it]"
          ],
          "name": "stderr"
        },
        {
          "output_type": "stream",
          "text": [
            "True\n",
            "x = 161, y = 144, w = 170, h = 225\n"
          ],
          "name": "stdout"
        },
        {
          "output_type": "stream",
          "text": [
            "\r 78%|███████▊  | 175/224 [03:13<00:50,  1.03s/it]"
          ],
          "name": "stderr"
        },
        {
          "output_type": "stream",
          "text": [
            "True\n",
            "x = 170, y = 133, w = 158, h = 222\n"
          ],
          "name": "stdout"
        },
        {
          "output_type": "stream",
          "text": [
            "\r 79%|███████▊  | 176/224 [03:14<00:48,  1.02s/it]"
          ],
          "name": "stderr"
        },
        {
          "output_type": "stream",
          "text": [
            "True\n",
            "x = 153, y = 128, w = 161, h = 236\n"
          ],
          "name": "stdout"
        },
        {
          "output_type": "stream",
          "text": [
            "\r 79%|███████▉  | 177/224 [03:15<00:49,  1.06s/it]"
          ],
          "name": "stderr"
        },
        {
          "output_type": "stream",
          "text": [
            "True\n",
            "x = 168, y = 120, w = 151, h = 199\n"
          ],
          "name": "stdout"
        },
        {
          "output_type": "stream",
          "text": [
            "\r 79%|███████▉  | 178/224 [03:16<00:48,  1.05s/it]"
          ],
          "name": "stderr"
        },
        {
          "output_type": "stream",
          "text": [
            "True\n",
            "x = 185, y = 144, w = 146, h = 187\n"
          ],
          "name": "stdout"
        },
        {
          "output_type": "stream",
          "text": [
            "\r 80%|███████▉  | 179/224 [03:17<00:46,  1.03s/it]"
          ],
          "name": "stderr"
        },
        {
          "output_type": "stream",
          "text": [
            "True\n",
            "x = 158, y = 133, w = 181, h = 243\n"
          ],
          "name": "stdout"
        },
        {
          "output_type": "stream",
          "text": [
            "\r 80%|████████  | 180/224 [03:18<00:46,  1.06s/it]"
          ],
          "name": "stderr"
        },
        {
          "output_type": "stream",
          "text": [
            "True\n",
            "x = 191, y = 111, w = 144, h = 213\n"
          ],
          "name": "stdout"
        },
        {
          "output_type": "stream",
          "text": [
            "\r 81%|████████  | 181/224 [03:19<00:44,  1.04s/it]"
          ],
          "name": "stderr"
        },
        {
          "output_type": "stream",
          "text": [
            "True\n",
            "x = 178, y = 122, w = 143, h = 212\n"
          ],
          "name": "stdout"
        },
        {
          "output_type": "stream",
          "text": [
            "\r 81%|████████▏ | 182/224 [03:20<00:42,  1.01s/it]"
          ],
          "name": "stderr"
        },
        {
          "output_type": "stream",
          "text": [
            "True\n",
            "x = 171, y = 130, w = 135, h = 189\n"
          ],
          "name": "stdout"
        },
        {
          "output_type": "stream",
          "text": [
            "\r 82%|████████▏ | 183/224 [03:21<00:42,  1.03s/it]"
          ],
          "name": "stderr"
        },
        {
          "output_type": "stream",
          "text": [
            "True\n",
            "x = 161, y = 138, w = 154, h = 196\n"
          ],
          "name": "stdout"
        },
        {
          "output_type": "stream",
          "text": [
            "\r 82%|████████▏ | 184/224 [03:22<00:41,  1.05s/it]"
          ],
          "name": "stderr"
        },
        {
          "output_type": "stream",
          "text": [
            "True\n",
            "x = 167, y = 118, w = 164, h = 240\n"
          ],
          "name": "stdout"
        },
        {
          "output_type": "stream",
          "text": [
            "\r 83%|████████▎ | 185/224 [03:23<00:41,  1.07s/it]"
          ],
          "name": "stderr"
        },
        {
          "output_type": "stream",
          "text": [
            "True\n",
            "x = 142, y = 148, w = 168, h = 241\n"
          ],
          "name": "stdout"
        },
        {
          "output_type": "stream",
          "text": [
            "\r 83%|████████▎ | 186/224 [03:24<00:40,  1.06s/it]"
          ],
          "name": "stderr"
        },
        {
          "output_type": "stream",
          "text": [
            "True\n",
            "x = 159, y = 138, w = 152, h = 189\n"
          ],
          "name": "stdout"
        },
        {
          "output_type": "stream",
          "text": [
            "\r 83%|████████▎ | 187/224 [03:26<00:42,  1.14s/it]"
          ],
          "name": "stderr"
        },
        {
          "output_type": "stream",
          "text": [
            "True\n",
            "x = 156, y = 118, w = 151, h = 234\n"
          ],
          "name": "stdout"
        },
        {
          "output_type": "stream",
          "text": [
            "\r 84%|████████▍ | 188/224 [03:27<00:39,  1.09s/it]"
          ],
          "name": "stderr"
        },
        {
          "output_type": "stream",
          "text": [
            "True\n",
            "x = 137, y = 71, w = 187, h = 260\n"
          ],
          "name": "stdout"
        },
        {
          "output_type": "stream",
          "text": [
            "\r 84%|████████▍ | 189/224 [03:28<00:36,  1.04s/it]"
          ],
          "name": "stderr"
        },
        {
          "output_type": "stream",
          "text": [
            "True\n",
            "x = 142, y = 148, w = 168, h = 241\n"
          ],
          "name": "stdout"
        },
        {
          "output_type": "stream",
          "text": [
            "\r 85%|████████▍ | 190/224 [03:29<00:34,  1.02s/it]"
          ],
          "name": "stderr"
        },
        {
          "output_type": "stream",
          "text": [
            "True\n",
            "x = 165, y = 87, w = 185, h = 260\n"
          ],
          "name": "stdout"
        },
        {
          "output_type": "stream",
          "text": [
            "\r 85%|████████▌ | 191/224 [03:30<00:34,  1.05s/it]"
          ],
          "name": "stderr"
        },
        {
          "output_type": "stream",
          "text": [
            "True\n",
            "x = 165, y = 134, w = 159, h = 209\n"
          ],
          "name": "stdout"
        },
        {
          "output_type": "stream",
          "text": [
            "\r 86%|████████▌ | 192/224 [03:31<00:32,  1.02s/it]"
          ],
          "name": "stderr"
        },
        {
          "output_type": "stream",
          "text": [
            "True\n",
            "x = 171, y = 138, w = 138, h = 182\n"
          ],
          "name": "stdout"
        },
        {
          "output_type": "stream",
          "text": [
            "\r 86%|████████▌ | 193/224 [03:32<00:34,  1.11s/it]"
          ],
          "name": "stderr"
        },
        {
          "output_type": "stream",
          "text": [
            "True\n",
            "x = 148, y = 173, w = 156, h = 208\n",
            "x = 400, y = 171, w = 51, h = 67\n"
          ],
          "name": "stdout"
        },
        {
          "output_type": "stream",
          "text": [
            "\r 87%|████████▋ | 194/224 [03:33<00:32,  1.09s/it]"
          ],
          "name": "stderr"
        },
        {
          "output_type": "stream",
          "text": [
            "True\n",
            "x = 197, y = 132, w = 122, h = 176\n"
          ],
          "name": "stdout"
        },
        {
          "output_type": "stream",
          "text": [
            "\r 87%|████████▋ | 195/224 [03:34<00:30,  1.06s/it]"
          ],
          "name": "stderr"
        },
        {
          "output_type": "stream",
          "text": [
            "True\n",
            "x = 161, y = 182, w = 162, h = 204\n"
          ],
          "name": "stdout"
        },
        {
          "output_type": "stream",
          "text": [
            "\r 88%|████████▊ | 196/224 [03:35<00:31,  1.12s/it]"
          ],
          "name": "stderr"
        },
        {
          "output_type": "stream",
          "text": [
            "True\n",
            "x = 165, y = 162, w = 154, h = 212\n"
          ],
          "name": "stdout"
        },
        {
          "output_type": "stream",
          "text": [
            "\r 88%|████████▊ | 197/224 [03:36<00:29,  1.08s/it]"
          ],
          "name": "stderr"
        },
        {
          "output_type": "stream",
          "text": [
            "True\n",
            "x = 169, y = 122, w = 142, h = 203\n"
          ],
          "name": "stdout"
        },
        {
          "output_type": "stream",
          "text": [
            "\r 88%|████████▊ | 198/224 [03:37<00:27,  1.08s/it]"
          ],
          "name": "stderr"
        },
        {
          "output_type": "stream",
          "text": [
            "True\n",
            "x = 188, y = 158, w = 167, h = 207\n"
          ],
          "name": "stdout"
        },
        {
          "output_type": "stream",
          "text": [
            "\r 89%|████████▉ | 199/224 [03:38<00:26,  1.06s/it]"
          ],
          "name": "stderr"
        },
        {
          "output_type": "stream",
          "text": [
            "True\n",
            "x = 147, y = 123, w = 146, h = 201\n"
          ],
          "name": "stdout"
        },
        {
          "output_type": "stream",
          "text": [
            "\r 89%|████████▉ | 200/224 [03:39<00:24,  1.03s/it]"
          ],
          "name": "stderr"
        },
        {
          "output_type": "stream",
          "text": [
            "True\n",
            "x = 168, y = 120, w = 151, h = 199\n"
          ],
          "name": "stdout"
        },
        {
          "output_type": "stream",
          "text": [
            "\r 90%|████████▉ | 201/224 [03:40<00:24,  1.05s/it]"
          ],
          "name": "stderr"
        },
        {
          "output_type": "stream",
          "text": [
            "True\n",
            "x = 178, y = 139, w = 165, h = 242\n"
          ],
          "name": "stdout"
        },
        {
          "output_type": "stream",
          "text": [
            "\r 90%|█████████ | 202/224 [03:42<00:25,  1.17s/it]"
          ],
          "name": "stderr"
        },
        {
          "output_type": "stream",
          "text": [
            "True\n",
            "x = 187, y = 148, w = 146, h = 217\n"
          ],
          "name": "stdout"
        },
        {
          "output_type": "stream",
          "text": [
            "\r 91%|█████████ | 203/224 [03:43<00:23,  1.10s/it]"
          ],
          "name": "stderr"
        },
        {
          "output_type": "stream",
          "text": [
            "True\n",
            "x = 167, y = 118, w = 164, h = 240\n"
          ],
          "name": "stdout"
        },
        {
          "output_type": "stream",
          "text": [
            "\r 91%|█████████ | 204/224 [03:44<00:22,  1.12s/it]"
          ],
          "name": "stderr"
        },
        {
          "output_type": "stream",
          "text": [
            "True\n",
            "x = 146, y = 111, w = 155, h = 230\n"
          ],
          "name": "stdout"
        },
        {
          "output_type": "stream",
          "text": [
            "\r 92%|█████████▏| 205/224 [03:45<00:21,  1.14s/it]"
          ],
          "name": "stderr"
        },
        {
          "output_type": "stream",
          "text": [
            "True\n",
            "x = 159, y = 157, w = 169, h = 214\n",
            "x = 284, y = 67, w = 59, h = 72\n"
          ],
          "name": "stdout"
        },
        {
          "output_type": "stream",
          "text": [
            "\r 92%|█████████▏| 206/224 [03:46<00:19,  1.10s/it]"
          ],
          "name": "stderr"
        },
        {
          "output_type": "stream",
          "text": [
            "True\n",
            "x = 169, y = 130, w = 150, h = 207\n"
          ],
          "name": "stdout"
        },
        {
          "output_type": "stream",
          "text": [
            "\r 92%|█████████▏| 207/224 [03:47<00:18,  1.09s/it]"
          ],
          "name": "stderr"
        },
        {
          "output_type": "stream",
          "text": [
            "True\n",
            "x = 159, y = 147, w = 165, h = 223\n"
          ],
          "name": "stdout"
        },
        {
          "output_type": "stream",
          "text": [
            "\r 93%|█████████▎| 208/224 [03:48<00:17,  1.10s/it]"
          ],
          "name": "stderr"
        },
        {
          "output_type": "stream",
          "text": [
            "True\n",
            "x = 186, y = 142, w = 146, h = 213\n"
          ],
          "name": "stdout"
        },
        {
          "output_type": "stream",
          "text": [
            "\r 93%|█████████▎| 209/224 [03:49<00:15,  1.06s/it]"
          ],
          "name": "stderr"
        },
        {
          "output_type": "stream",
          "text": [
            "True\n",
            "x = 146, y = 111, w = 155, h = 230\n"
          ],
          "name": "stdout"
        },
        {
          "output_type": "stream",
          "text": [
            "\r 94%|█████████▍| 210/224 [03:50<00:14,  1.04s/it]"
          ],
          "name": "stderr"
        },
        {
          "output_type": "stream",
          "text": [
            "True\n",
            "x = 169, y = 116, w = 187, h = 260\n"
          ],
          "name": "stdout"
        },
        {
          "output_type": "stream",
          "text": [
            "\r 94%|█████████▍| 211/224 [03:51<00:13,  1.04s/it]"
          ],
          "name": "stderr"
        },
        {
          "output_type": "stream",
          "text": [
            "True\n",
            "x = 186, y = 134, w = 170, h = 244\n"
          ],
          "name": "stdout"
        },
        {
          "output_type": "stream",
          "text": [
            "\r 95%|█████████▍| 212/224 [03:52<00:12,  1.06s/it]"
          ],
          "name": "stderr"
        },
        {
          "output_type": "stream",
          "text": [
            "True\n",
            "x = 153, y = 187, w = 151, h = 212\n"
          ],
          "name": "stdout"
        },
        {
          "output_type": "stream",
          "text": [
            "\r 95%|█████████▌| 213/224 [03:53<00:11,  1.02s/it]"
          ],
          "name": "stderr"
        },
        {
          "output_type": "stream",
          "text": [
            "True\n",
            "x = 182, y = 114, w = 165, h = 233\n"
          ],
          "name": "stdout"
        },
        {
          "output_type": "stream",
          "text": [
            "\r 96%|█████████▌| 214/224 [03:54<00:10,  1.01s/it]"
          ],
          "name": "stderr"
        },
        {
          "output_type": "stream",
          "text": [
            "True\n",
            "x = 170, y = 132, w = 148, h = 206\n"
          ],
          "name": "stdout"
        },
        {
          "output_type": "stream",
          "text": [
            "\r 96%|█████████▌| 215/224 [03:55<00:09,  1.02s/it]"
          ],
          "name": "stderr"
        },
        {
          "output_type": "stream",
          "text": [
            "True\n",
            "x = 165, y = 162, w = 154, h = 212\n"
          ],
          "name": "stdout"
        },
        {
          "output_type": "stream",
          "text": [
            "\r 96%|█████████▋| 216/224 [03:56<00:08,  1.02s/it]"
          ],
          "name": "stderr"
        },
        {
          "output_type": "stream",
          "text": [
            "True\n",
            "x = 153, y = 135, w = 165, h = 214\n"
          ],
          "name": "stdout"
        },
        {
          "output_type": "stream",
          "text": [
            "\r 97%|█████████▋| 217/224 [03:57<00:07,  1.02s/it]"
          ],
          "name": "stderr"
        },
        {
          "output_type": "stream",
          "text": [
            "True\n",
            "x = 187, y = 148, w = 146, h = 217\n"
          ],
          "name": "stdout"
        },
        {
          "output_type": "stream",
          "text": [
            "\r 97%|█████████▋| 218/224 [03:58<00:06,  1.01s/it]"
          ],
          "name": "stderr"
        },
        {
          "output_type": "stream",
          "text": [
            "True\n",
            "x = 166, y = 125, w = 129, h = 180\n"
          ],
          "name": "stdout"
        },
        {
          "output_type": "stream",
          "text": [
            "\r 98%|█████████▊| 219/224 [03:59<00:05,  1.02s/it]"
          ],
          "name": "stderr"
        },
        {
          "output_type": "stream",
          "text": [
            "True\n",
            "x = 197, y = 132, w = 122, h = 176\n"
          ],
          "name": "stdout"
        },
        {
          "output_type": "stream",
          "text": [
            "\r 98%|█████████▊| 220/224 [04:00<00:04,  1.01s/it]"
          ],
          "name": "stderr"
        },
        {
          "output_type": "stream",
          "text": [
            "True\n",
            "x = 153, y = 187, w = 151, h = 212\n"
          ],
          "name": "stdout"
        },
        {
          "output_type": "stream",
          "text": [
            "\r 99%|█████████▊| 221/224 [04:01<00:02,  1.00it/s]"
          ],
          "name": "stderr"
        },
        {
          "output_type": "stream",
          "text": [
            "True\n",
            "x = 176, y = 137, w = 148, h = 194\n"
          ],
          "name": "stdout"
        },
        {
          "output_type": "stream",
          "text": [
            "\r 99%|█████████▉| 222/224 [04:03<00:02,  1.05s/it]"
          ],
          "name": "stderr"
        },
        {
          "output_type": "stream",
          "text": [
            "True\n",
            "x = 148, y = 173, w = 156, h = 208\n",
            "x = 400, y = 171, w = 51, h = 67\n"
          ],
          "name": "stdout"
        },
        {
          "output_type": "stream",
          "text": [
            "\r100%|█████████▉| 223/224 [04:04<00:01,  1.02s/it]"
          ],
          "name": "stderr"
        },
        {
          "output_type": "stream",
          "text": [
            "True\n",
            "x = 178, y = 122, w = 143, h = 212\n"
          ],
          "name": "stdout"
        },
        {
          "output_type": "stream",
          "text": [
            "100%|██████████| 224/224 [04:05<00:00,  1.09s/it]"
          ],
          "name": "stderr"
        },
        {
          "output_type": "stream",
          "text": [
            "True\n",
            "x = 172, y = 124, w = 134, h = 179\n",
            "c =804\n",
            "b = 804\n",
            "f = 0\n"
          ],
          "name": "stdout"
        },
        {
          "output_type": "stream",
          "text": [
            "\n"
          ],
          "name": "stderr"
        }
      ]
    },
    {
      "cell_type": "code",
      "metadata": {
        "id": "s3u7kviMguCz"
      },
      "source": [
        "# print(X)\n",
        "# print(type(X))"
      ],
      "execution_count": null,
      "outputs": []
    },
    {
      "cell_type": "code",
      "metadata": {
        "id": "AYCGw4AujS_7"
      },
      "source": [
        "from sklearn.preprocessing import LabelEncoder\n",
        "le = LabelEncoder()\n",
        "Y = le.fit_transform(Z)\n",
        "Y = to_categorical(Y, 4)\n",
        "X = np.array(X)\n",
        "X = X.reshape(X.shape[0], X.shape[1], X.shape[2], 1)\n",
        "X = X / 255\n",
        "x_train, x_test, y_train, y_test = train_test_split(X, Y, test_size=0.25, random_state=42)\n",
        "np.random.seed(42)\n",
        "rn.seed(42)\n",
        "tf.random.set_seed(42)\n",
        "# print(x_train)\n",
        "# print(X.shape)\n",
        "# print(x_train.shape)\n",
        "# print(x_test.shape)"
      ],
      "execution_count": null,
      "outputs": []
    },
    {
      "cell_type": "code",
      "metadata": {
        "id": "QQjZoN-brDcZ"
      },
      "source": [
        "# # modelling starts using a CNN.\n",
        "\n",
        "model = Sequential()\n",
        "model.add(Conv2D(filters=32, kernel_size=(5, 5), padding='Same', activation='relu', input_shape=(120, 120, 1)))\n",
        "model.add(MaxPooling2D(pool_size=(2, 2)))\n",
        "\n",
        "model.add(Conv2D(filters=64, kernel_size=(7, 7), padding='Same', activation='relu'))\n",
        "model.add(MaxPooling2D(pool_size=(2, 2), strides=(2, 2)))\n",
        "\n",
        "model.add(Conv2D(filters=96, kernel_size=(7, 7), padding='Same', activation='relu'))\n",
        "model.add(MaxPooling2D(pool_size=(2, 2), strides=(2, 2)))\n",
        "\n",
        "model.add(Conv2D(filters=128, kernel_size=(12, 12), padding='Same', activation= \"relu\"))\n",
        "model.add(BatchNormalization())\n",
        "model.add(MaxPooling2D(pool_size=(2, 2), strides=(2, 2)))\n",
        "\n",
        "model.add(GlobalAveragePooling2D())\n",
        "\n",
        "model.add(Flatten())\n",
        "model.add(Dense(128))\n",
        "model.add(Dropout(0.4))\n",
        "model.add(Activation('relu'))\n",
        "model.add(Dense(4, activation=\"softmax\"))\n"
      ],
      "execution_count": null,
      "outputs": []
    },
    {
      "cell_type": "code",
      "metadata": {
        "id": "fcdSVohIGNfJ",
        "colab": {
          "base_uri": "https://localhost:8080/"
        },
        "outputId": "28288ba2-d42b-403c-b4d8-1db2344da90e"
      },
      "source": [
        "model.summary()"
      ],
      "execution_count": null,
      "outputs": [
        {
          "output_type": "stream",
          "text": [
            "Model: \"sequential\"\n",
            "_________________________________________________________________\n",
            "Layer (type)                 Output Shape              Param #   \n",
            "=================================================================\n",
            "conv2d_12 (Conv2D)           (None, 120, 120, 32)      832       \n",
            "_________________________________________________________________\n",
            "max_pooling2d_6 (MaxPooling2 (None, 60, 60, 32)        0         \n",
            "_________________________________________________________________\n",
            "conv2d_13 (Conv2D)           (None, 60, 60, 64)        100416    \n",
            "_________________________________________________________________\n",
            "max_pooling2d_7 (MaxPooling2 (None, 30, 30, 64)        0         \n",
            "_________________________________________________________________\n",
            "conv2d_14 (Conv2D)           (None, 30, 30, 96)        301152    \n",
            "_________________________________________________________________\n",
            "max_pooling2d_8 (MaxPooling2 (None, 15, 15, 96)        0         \n",
            "_________________________________________________________________\n",
            "conv2d_15 (Conv2D)           (None, 15, 15, 128)       1769600   \n",
            "_________________________________________________________________\n",
            "batch_normalization (BatchNo (None, 15, 15, 128)       512       \n",
            "_________________________________________________________________\n",
            "max_pooling2d_9 (MaxPooling2 (None, 7, 7, 128)         0         \n",
            "_________________________________________________________________\n",
            "global_average_pooling2d (Gl (None, 128)               0         \n",
            "_________________________________________________________________\n",
            "flatten_2 (Flatten)          (None, 128)               0         \n",
            "_________________________________________________________________\n",
            "dense_7 (Dense)              (None, 128)               16512     \n",
            "_________________________________________________________________\n",
            "dropout (Dropout)            (None, 128)               0         \n",
            "_________________________________________________________________\n",
            "activation (Activation)      (None, 128)               0         \n",
            "_________________________________________________________________\n",
            "dense_8 (Dense)              (None, 4)                 516       \n",
            "=================================================================\n",
            "Total params: 2,189,540\n",
            "Trainable params: 2,189,284\n",
            "Non-trainable params: 256\n",
            "_________________________________________________________________\n"
          ],
          "name": "stdout"
        }
      ]
    },
    {
      "cell_type": "code",
      "metadata": {
        "colab": {
          "base_uri": "https://localhost:8080/",
          "height": 1000
        },
        "id": "cNP7UhrxAqva",
        "outputId": "704bf54e-9540-4d84-965b-f6573c4a1d81"
      },
      "source": [
        "batch_size = 32\n",
        "epochs = 200\n",
        "\n",
        "from keras.preprocessing.image import ImageDataGenerator\n",
        "from keras.callbacks import ReduceLROnPlateau\n",
        "\n",
        "datagen = ImageDataGenerator(\n",
        "    featurewise_center=False,  # set input mean to 0 over the dataset\n",
        "    samplewise_center=False,  # set each sample mean to 0\n",
        "    featurewise_std_normalization=False,  # divide inputs by std of the dataset\n",
        "    samplewise_std_normalization=False,  # divide each input by its std\n",
        "    zca_whitening=False,  # apply ZCA whitening\n",
        "    rotation_range=20,  # randomly rotate images in the range (degrees, 0 to 180)\n",
        "    zoom_range=0.1,  # Randomly zoom image\n",
        "    width_shift_range=0.2,  # randomly shift images horizontally (fraction of total width)\n",
        "    height_shift_range=0.2,  # randomly shift images vertically (fraction of total height)\n",
        "    horizontal_flip=True,  # randomly flip images\n",
        "    vertical_flip=False)  # randomly flip images\n",
        "\n",
        "datagen.fit(x_train)\n",
        "model.compile(optimizer=Adam(lr=0.001), loss='categorical_crossentropy', metrics=['accuracy'])\n",
        "model.summary()\n",
        "History = model.fit_generator(datagen.flow(x_train, y_train, batch_size=batch_size),\n",
        "                              epochs=epochs, validation_data=(x_test, y_test),\n",
        "                              verbose=1, steps_per_epoch=x_train.shape[0] // batch_size )\n",
        "plt.plot(History.history['loss'])\n",
        "plt.plot(History.history['val_loss'])\n",
        "plt.title('Model Loss')\n",
        "plt.ylabel('Loss')\n",
        "plt.xlabel('Epochs')\n",
        "plt.legend(['train', 'test'])\n",
        "plt.show()\n",
        "plt.plot(History.history['accuracy'])\n",
        "plt.plot(History.history['val_accuracy'])\n",
        "plt.title('Model Accuracy')\n",
        "plt.ylabel('Accuracy')\n",
        "plt.xlabel('Epochs')\n",
        "plt.legend(['train', 'test'])\n",
        "plt.show()"
      ],
      "execution_count": null,
      "outputs": [
        {
          "output_type": "stream",
          "text": [
            "Model: \"sequential\"\n",
            "_________________________________________________________________\n",
            "Layer (type)                 Output Shape              Param #   \n",
            "=================================================================\n",
            "conv2d_12 (Conv2D)           (None, 120, 120, 32)      832       \n",
            "_________________________________________________________________\n",
            "max_pooling2d_6 (MaxPooling2 (None, 60, 60, 32)        0         \n",
            "_________________________________________________________________\n",
            "conv2d_13 (Conv2D)           (None, 60, 60, 64)        100416    \n",
            "_________________________________________________________________\n",
            "max_pooling2d_7 (MaxPooling2 (None, 30, 30, 64)        0         \n",
            "_________________________________________________________________\n",
            "conv2d_14 (Conv2D)           (None, 30, 30, 96)        301152    \n",
            "_________________________________________________________________\n",
            "max_pooling2d_8 (MaxPooling2 (None, 15, 15, 96)        0         \n",
            "_________________________________________________________________\n",
            "conv2d_15 (Conv2D)           (None, 15, 15, 128)       1769600   \n",
            "_________________________________________________________________\n",
            "batch_normalization (BatchNo (None, 15, 15, 128)       512       \n",
            "_________________________________________________________________\n",
            "max_pooling2d_9 (MaxPooling2 (None, 7, 7, 128)         0         \n",
            "_________________________________________________________________\n",
            "global_average_pooling2d (Gl (None, 128)               0         \n",
            "_________________________________________________________________\n",
            "flatten_2 (Flatten)          (None, 128)               0         \n",
            "_________________________________________________________________\n",
            "dense_7 (Dense)              (None, 128)               16512     \n",
            "_________________________________________________________________\n",
            "dropout (Dropout)            (None, 128)               0         \n",
            "_________________________________________________________________\n",
            "activation (Activation)      (None, 128)               0         \n",
            "_________________________________________________________________\n",
            "dense_8 (Dense)              (None, 4)                 516       \n",
            "=================================================================\n",
            "Total params: 2,189,540\n",
            "Trainable params: 2,189,284\n",
            "Non-trainable params: 256\n",
            "_________________________________________________________________\n",
            "Epoch 1/200\n",
            "18/18 [==============================] - 103s 6s/step - loss: 1.4767 - accuracy: 0.2112 - val_loss: 2.2072 - val_accuracy: 0.3184\n",
            "Epoch 2/200\n",
            "18/18 [==============================] - 100s 6s/step - loss: 1.3846 - accuracy: 0.2791 - val_loss: 2.1731 - val_accuracy: 0.2687\n",
            "Epoch 3/200\n",
            "18/18 [==============================] - 101s 6s/step - loss: 1.3777 - accuracy: 0.2999 - val_loss: 1.5527 - val_accuracy: 0.2687\n",
            "Epoch 4/200\n",
            "18/18 [==============================] - 103s 6s/step - loss: 1.3807 - accuracy: 0.2958 - val_loss: 1.5476 - val_accuracy: 0.2687\n",
            "Epoch 5/200\n",
            "18/18 [==============================] - 100s 6s/step - loss: 1.3669 - accuracy: 0.3026 - val_loss: 1.3623 - val_accuracy: 0.3582\n",
            "Epoch 6/200\n",
            "18/18 [==============================] - 100s 6s/step - loss: 1.3581 - accuracy: 0.3084 - val_loss: 1.3860 - val_accuracy: 0.2786\n",
            "Epoch 7/200\n",
            "18/18 [==============================] - 100s 6s/step - loss: 1.3776 - accuracy: 0.2611 - val_loss: 1.4160 - val_accuracy: 0.2836\n",
            "Epoch 8/200\n",
            "18/18 [==============================] - 101s 6s/step - loss: 1.3768 - accuracy: 0.3014 - val_loss: 1.4071 - val_accuracy: 0.2587\n",
            "Epoch 9/200\n",
            "18/18 [==============================] - 101s 6s/step - loss: 1.3788 - accuracy: 0.3298 - val_loss: 1.3843 - val_accuracy: 0.2687\n",
            "Epoch 10/200\n",
            "18/18 [==============================] - 101s 6s/step - loss: 1.3587 - accuracy: 0.3747 - val_loss: 1.3949 - val_accuracy: 0.2438\n",
            "Epoch 11/200\n",
            "18/18 [==============================] - 102s 6s/step - loss: 1.3483 - accuracy: 0.3532 - val_loss: 1.5607 - val_accuracy: 0.2637\n",
            "Epoch 12/200\n",
            "18/18 [==============================] - 101s 6s/step - loss: 1.3661 - accuracy: 0.3237 - val_loss: 1.3937 - val_accuracy: 0.3682\n",
            "Epoch 13/200\n",
            "18/18 [==============================] - 101s 6s/step - loss: 1.3472 - accuracy: 0.3144 - val_loss: 1.6797 - val_accuracy: 0.2637\n",
            "Epoch 14/200\n",
            "18/18 [==============================] - 101s 6s/step - loss: 1.3461 - accuracy: 0.3499 - val_loss: 1.6566 - val_accuracy: 0.2637\n",
            "Epoch 15/200\n",
            "18/18 [==============================] - 101s 6s/step - loss: 1.2760 - accuracy: 0.4133 - val_loss: 1.5873 - val_accuracy: 0.2637\n",
            "Epoch 16/200\n",
            "18/18 [==============================] - 101s 6s/step - loss: 1.1681 - accuracy: 0.5327 - val_loss: 1.6985 - val_accuracy: 0.2637\n",
            "Epoch 17/200\n",
            "18/18 [==============================] - 100s 6s/step - loss: 1.1153 - accuracy: 0.5049 - val_loss: 1.6140 - val_accuracy: 0.2687\n",
            "Epoch 18/200\n",
            "18/18 [==============================] - 99s 6s/step - loss: 1.0052 - accuracy: 0.5717 - val_loss: 2.6210 - val_accuracy: 0.2985\n",
            "Epoch 19/200\n",
            "18/18 [==============================] - 99s 6s/step - loss: 0.9880 - accuracy: 0.6101 - val_loss: 2.4958 - val_accuracy: 0.2637\n",
            "Epoch 20/200\n",
            "18/18 [==============================] - 99s 6s/step - loss: 0.8907 - accuracy: 0.6682 - val_loss: 1.6899 - val_accuracy: 0.3483\n",
            "Epoch 21/200\n",
            "18/18 [==============================] - 99s 6s/step - loss: 0.9015 - accuracy: 0.6233 - val_loss: 1.6046 - val_accuracy: 0.2587\n",
            "Epoch 22/200\n",
            "18/18 [==============================] - 100s 6s/step - loss: 0.7846 - accuracy: 0.6859 - val_loss: 1.3811 - val_accuracy: 0.3383\n",
            "Epoch 23/200\n",
            "18/18 [==============================] - 100s 6s/step - loss: 0.7785 - accuracy: 0.6679 - val_loss: 1.3378 - val_accuracy: 0.4129\n",
            "Epoch 24/200\n",
            "18/18 [==============================] - 101s 6s/step - loss: 0.7401 - accuracy: 0.7037 - val_loss: 0.9645 - val_accuracy: 0.5572\n",
            "Epoch 25/200\n",
            "18/18 [==============================] - 101s 6s/step - loss: 0.6895 - accuracy: 0.7170 - val_loss: 1.2558 - val_accuracy: 0.3284\n",
            "Epoch 26/200\n",
            "18/18 [==============================] - 101s 6s/step - loss: 0.7288 - accuracy: 0.7112 - val_loss: 1.3415 - val_accuracy: 0.4279\n",
            "Epoch 27/200\n",
            "18/18 [==============================] - 101s 6s/step - loss: 0.7659 - accuracy: 0.6958 - val_loss: 0.9288 - val_accuracy: 0.6020\n",
            "Epoch 28/200\n",
            "18/18 [==============================] - 99s 6s/step - loss: 0.6621 - accuracy: 0.7368 - val_loss: 1.0591 - val_accuracy: 0.5423\n",
            "Epoch 29/200\n",
            "18/18 [==============================] - 100s 6s/step - loss: 0.5968 - accuracy: 0.7723 - val_loss: 0.7719 - val_accuracy: 0.6020\n",
            "Epoch 30/200\n",
            "18/18 [==============================] - 100s 6s/step - loss: 0.5970 - accuracy: 0.7480 - val_loss: 0.7488 - val_accuracy: 0.6667\n",
            "Epoch 31/200\n",
            "18/18 [==============================] - 100s 6s/step - loss: 0.5472 - accuracy: 0.7948 - val_loss: 0.5974 - val_accuracy: 0.7861\n",
            "Epoch 32/200\n",
            "18/18 [==============================] - 100s 6s/step - loss: 0.5107 - accuracy: 0.8198 - val_loss: 0.6530 - val_accuracy: 0.7313\n",
            "Epoch 33/200\n",
            "18/18 [==============================] - 100s 6s/step - loss: 0.5470 - accuracy: 0.7819 - val_loss: 0.8072 - val_accuracy: 0.7065\n",
            "Epoch 34/200\n",
            "18/18 [==============================] - 100s 6s/step - loss: 0.5016 - accuracy: 0.7797 - val_loss: 0.7007 - val_accuracy: 0.7015\n",
            "Epoch 35/200\n",
            "18/18 [==============================] - 100s 6s/step - loss: 0.4637 - accuracy: 0.8084 - val_loss: 0.5242 - val_accuracy: 0.7910\n",
            "Epoch 36/200\n",
            "18/18 [==============================] - 100s 6s/step - loss: 0.4714 - accuracy: 0.8105 - val_loss: 0.5304 - val_accuracy: 0.8308\n",
            "Epoch 37/200\n",
            "18/18 [==============================] - 99s 6s/step - loss: 0.3348 - accuracy: 0.8696 - val_loss: 0.4930 - val_accuracy: 0.8408\n",
            "Epoch 38/200\n",
            "18/18 [==============================] - 100s 6s/step - loss: 0.3872 - accuracy: 0.8600 - val_loss: 0.5230 - val_accuracy: 0.7662\n",
            "Epoch 39/200\n",
            "18/18 [==============================] - 99s 6s/step - loss: 0.3661 - accuracy: 0.8686 - val_loss: 0.4196 - val_accuracy: 0.8308\n",
            "Epoch 40/200\n",
            "18/18 [==============================] - 101s 6s/step - loss: 0.2662 - accuracy: 0.8987 - val_loss: 0.4283 - val_accuracy: 0.8607\n",
            "Epoch 41/200\n",
            "18/18 [==============================] - 101s 6s/step - loss: 0.2780 - accuracy: 0.9100 - val_loss: 0.4611 - val_accuracy: 0.8109\n",
            "Epoch 42/200\n",
            "18/18 [==============================] - 101s 6s/step - loss: 0.3164 - accuracy: 0.8865 - val_loss: 0.5897 - val_accuracy: 0.8109\n",
            "Epoch 43/200\n",
            "18/18 [==============================] - 100s 6s/step - loss: 0.2407 - accuracy: 0.9155 - val_loss: 0.3379 - val_accuracy: 0.8856\n",
            "Epoch 44/200\n",
            "18/18 [==============================] - 101s 6s/step - loss: 0.2407 - accuracy: 0.9148 - val_loss: 0.3519 - val_accuracy: 0.9005\n",
            "Epoch 45/200\n",
            "18/18 [==============================] - 101s 6s/step - loss: 0.2371 - accuracy: 0.9206 - val_loss: 0.2669 - val_accuracy: 0.9154\n",
            "Epoch 46/200\n",
            "18/18 [==============================] - 101s 6s/step - loss: 0.2379 - accuracy: 0.9112 - val_loss: 0.5948 - val_accuracy: 0.8010\n",
            "Epoch 47/200\n",
            "18/18 [==============================] - 101s 6s/step - loss: 0.2590 - accuracy: 0.8980 - val_loss: 0.4303 - val_accuracy: 0.8308\n",
            "Epoch 48/200\n",
            "18/18 [==============================] - 101s 6s/step - loss: 0.2583 - accuracy: 0.9164 - val_loss: 0.2394 - val_accuracy: 0.9204\n",
            "Epoch 49/200\n",
            "18/18 [==============================] - 100s 6s/step - loss: 0.2528 - accuracy: 0.9122 - val_loss: 0.2860 - val_accuracy: 0.9104\n",
            "Epoch 50/200\n",
            "18/18 [==============================] - 101s 6s/step - loss: 0.2553 - accuracy: 0.9096 - val_loss: 0.2008 - val_accuracy: 0.9403\n",
            "Epoch 51/200\n",
            "18/18 [==============================] - 101s 6s/step - loss: 0.2145 - accuracy: 0.9213 - val_loss: 0.4109 - val_accuracy: 0.8706\n",
            "Epoch 52/200\n",
            "18/18 [==============================] - 101s 6s/step - loss: 0.2183 - accuracy: 0.9283 - val_loss: 0.3468 - val_accuracy: 0.8458\n",
            "Epoch 53/200\n",
            "18/18 [==============================] - 101s 6s/step - loss: 0.1435 - accuracy: 0.9535 - val_loss: 0.6545 - val_accuracy: 0.7960\n",
            "Epoch 54/200\n",
            "18/18 [==============================] - 102s 6s/step - loss: 0.1981 - accuracy: 0.9408 - val_loss: 0.2351 - val_accuracy: 0.9104\n",
            "Epoch 55/200\n",
            "18/18 [==============================] - 101s 6s/step - loss: 0.1537 - accuracy: 0.9401 - val_loss: 0.2567 - val_accuracy: 0.9204\n",
            "Epoch 56/200\n",
            "18/18 [==============================] - 101s 6s/step - loss: 0.2012 - accuracy: 0.9441 - val_loss: 0.3387 - val_accuracy: 0.8955\n",
            "Epoch 57/200\n",
            "18/18 [==============================] - 102s 6s/step - loss: 0.2135 - accuracy: 0.9258 - val_loss: 0.2695 - val_accuracy: 0.9005\n",
            "Epoch 58/200\n",
            "18/18 [==============================] - 101s 6s/step - loss: 0.2126 - accuracy: 0.9281 - val_loss: 0.1485 - val_accuracy: 0.9502\n",
            "Epoch 59/200\n",
            "18/18 [==============================] - 101s 6s/step - loss: 0.1423 - accuracy: 0.9521 - val_loss: 0.1412 - val_accuracy: 0.9552\n",
            "Epoch 60/200\n",
            "18/18 [==============================] - 101s 6s/step - loss: 0.1693 - accuracy: 0.9329 - val_loss: 0.1653 - val_accuracy: 0.9602\n",
            "Epoch 61/200\n",
            "18/18 [==============================] - 100s 6s/step - loss: 0.1798 - accuracy: 0.9427 - val_loss: 0.1881 - val_accuracy: 0.9303\n",
            "Epoch 62/200\n",
            "18/18 [==============================] - 100s 6s/step - loss: 0.1351 - accuracy: 0.9502 - val_loss: 0.2088 - val_accuracy: 0.9552\n",
            "Epoch 63/200\n",
            "18/18 [==============================] - 100s 6s/step - loss: 0.1964 - accuracy: 0.9265 - val_loss: 0.5536 - val_accuracy: 0.8259\n",
            "Epoch 64/200\n",
            "18/18 [==============================] - 101s 6s/step - loss: 0.1081 - accuracy: 0.9619 - val_loss: 0.1601 - val_accuracy: 0.9652\n",
            "Epoch 65/200\n",
            "18/18 [==============================] - 100s 6s/step - loss: 0.1036 - accuracy: 0.9524 - val_loss: 0.2042 - val_accuracy: 0.9204\n",
            "Epoch 66/200\n",
            "18/18 [==============================] - 100s 6s/step - loss: 0.2366 - accuracy: 0.9371 - val_loss: 0.1998 - val_accuracy: 0.9602\n",
            "Epoch 67/200\n",
            "18/18 [==============================] - 102s 6s/step - loss: 0.1787 - accuracy: 0.9497 - val_loss: 0.3370 - val_accuracy: 0.9204\n",
            "Epoch 68/200\n",
            "18/18 [==============================] - 100s 6s/step - loss: 0.1233 - accuracy: 0.9535 - val_loss: 0.1802 - val_accuracy: 0.9602\n",
            "Epoch 69/200\n",
            "18/18 [==============================] - 101s 6s/step - loss: 0.1028 - accuracy: 0.9660 - val_loss: 0.2450 - val_accuracy: 0.9552\n",
            "Epoch 70/200\n",
            "18/18 [==============================] - 100s 6s/step - loss: 0.1096 - accuracy: 0.9678 - val_loss: 0.1398 - val_accuracy: 0.9801\n",
            "Epoch 71/200\n",
            "18/18 [==============================] - 100s 6s/step - loss: 0.0872 - accuracy: 0.9815 - val_loss: 0.1327 - val_accuracy: 0.9552\n",
            "Epoch 72/200\n",
            "18/18 [==============================] - 100s 6s/step - loss: 0.0783 - accuracy: 0.9831 - val_loss: 0.0646 - val_accuracy: 0.9701\n",
            "Epoch 73/200\n",
            "18/18 [==============================] - 100s 6s/step - loss: 0.0867 - accuracy: 0.9776 - val_loss: 0.1766 - val_accuracy: 0.9751\n",
            "Epoch 74/200\n",
            "18/18 [==============================] - 100s 6s/step - loss: 0.1259 - accuracy: 0.9600 - val_loss: 0.1285 - val_accuracy: 0.9502\n",
            "Epoch 75/200\n",
            "18/18 [==============================] - 100s 6s/step - loss: 0.1056 - accuracy: 0.9617 - val_loss: 0.1913 - val_accuracy: 0.9403\n",
            "Epoch 76/200\n",
            "18/18 [==============================] - 101s 6s/step - loss: 0.1029 - accuracy: 0.9637 - val_loss: 0.1793 - val_accuracy: 0.9701\n",
            "Epoch 77/200\n",
            "18/18 [==============================] - 101s 6s/step - loss: 0.0871 - accuracy: 0.9863 - val_loss: 0.2921 - val_accuracy: 0.9353\n",
            "Epoch 78/200\n",
            "18/18 [==============================] - 101s 6s/step - loss: 0.0837 - accuracy: 0.9730 - val_loss: 0.1981 - val_accuracy: 0.9652\n",
            "Epoch 79/200\n",
            "18/18 [==============================] - 101s 6s/step - loss: 0.0631 - accuracy: 0.9701 - val_loss: 0.1878 - val_accuracy: 0.9552\n",
            "Epoch 80/200\n",
            "18/18 [==============================] - 100s 6s/step - loss: 0.1046 - accuracy: 0.9661 - val_loss: 0.1596 - val_accuracy: 0.9701\n",
            "Epoch 81/200\n",
            "18/18 [==============================] - 100s 6s/step - loss: 0.0858 - accuracy: 0.9668 - val_loss: 0.1204 - val_accuracy: 0.9701\n",
            "Epoch 82/200\n",
            "18/18 [==============================] - 101s 6s/step - loss: 0.0678 - accuracy: 0.9755 - val_loss: 0.0906 - val_accuracy: 0.9701\n",
            "Epoch 83/200\n",
            "18/18 [==============================] - 100s 6s/step - loss: 0.0693 - accuracy: 0.9810 - val_loss: 0.1255 - val_accuracy: 0.9602\n",
            "Epoch 84/200\n",
            "18/18 [==============================] - 100s 6s/step - loss: 0.0540 - accuracy: 0.9835 - val_loss: 0.0905 - val_accuracy: 0.9652\n",
            "Epoch 85/200\n",
            "18/18 [==============================] - 99s 6s/step - loss: 0.0883 - accuracy: 0.9739 - val_loss: 0.1628 - val_accuracy: 0.9602\n",
            "Epoch 86/200\n",
            "18/18 [==============================] - 99s 6s/step - loss: 0.0923 - accuracy: 0.9775 - val_loss: 0.1580 - val_accuracy: 0.9701\n",
            "Epoch 87/200\n",
            "18/18 [==============================] - 100s 6s/step - loss: 0.0760 - accuracy: 0.9730 - val_loss: 0.2339 - val_accuracy: 0.9254\n",
            "Epoch 88/200\n",
            "18/18 [==============================] - 100s 6s/step - loss: 0.0815 - accuracy: 0.9796 - val_loss: 0.1171 - val_accuracy: 0.9701\n",
            "Epoch 89/200\n",
            "18/18 [==============================] - 99s 6s/step - loss: 0.0742 - accuracy: 0.9690 - val_loss: 0.0741 - val_accuracy: 0.9652\n",
            "Epoch 90/200\n",
            "18/18 [==============================] - 99s 6s/step - loss: 0.0608 - accuracy: 0.9845 - val_loss: 0.2148 - val_accuracy: 0.9403\n",
            "Epoch 91/200\n",
            "18/18 [==============================] - 99s 6s/step - loss: 0.0630 - accuracy: 0.9761 - val_loss: 0.3022 - val_accuracy: 0.9254\n",
            "Epoch 92/200\n",
            "18/18 [==============================] - 100s 6s/step - loss: 0.0773 - accuracy: 0.9735 - val_loss: 0.1760 - val_accuracy: 0.9403\n",
            "Epoch 93/200\n",
            "18/18 [==============================] - 99s 6s/step - loss: 0.0756 - accuracy: 0.9782 - val_loss: 0.2212 - val_accuracy: 0.9254\n",
            "Epoch 94/200\n",
            "18/18 [==============================] - 100s 6s/step - loss: 0.0948 - accuracy: 0.9682 - val_loss: 0.0556 - val_accuracy: 0.9801\n",
            "Epoch 95/200\n",
            "18/18 [==============================] - 100s 6s/step - loss: 0.0677 - accuracy: 0.9695 - val_loss: 0.0475 - val_accuracy: 0.9701\n",
            "Epoch 96/200\n",
            "18/18 [==============================] - 100s 6s/step - loss: 0.0377 - accuracy: 0.9899 - val_loss: 0.1091 - val_accuracy: 0.9801\n",
            "Epoch 97/200\n",
            "18/18 [==============================] - 99s 6s/step - loss: 0.0466 - accuracy: 0.9800 - val_loss: 0.0897 - val_accuracy: 0.9652\n",
            "Epoch 98/200\n",
            "18/18 [==============================] - 99s 6s/step - loss: 0.0522 - accuracy: 0.9797 - val_loss: 0.2365 - val_accuracy: 0.9204\n",
            "Epoch 99/200\n",
            "18/18 [==============================] - 99s 6s/step - loss: 0.0815 - accuracy: 0.9712 - val_loss: 0.1187 - val_accuracy: 0.9701\n",
            "Epoch 100/200\n",
            "18/18 [==============================] - 99s 6s/step - loss: 0.0484 - accuracy: 0.9833 - val_loss: 0.0737 - val_accuracy: 0.9801\n",
            "Epoch 101/200\n",
            "18/18 [==============================] - 99s 6s/step - loss: 0.0552 - accuracy: 0.9889 - val_loss: 0.1997 - val_accuracy: 0.9801\n",
            "Epoch 102/200\n",
            "18/18 [==============================] - 100s 6s/step - loss: 0.0702 - accuracy: 0.9779 - val_loss: 0.0877 - val_accuracy: 0.9701\n",
            "Epoch 103/200\n",
            "18/18 [==============================] - 99s 6s/step - loss: 0.0683 - accuracy: 0.9837 - val_loss: 0.0463 - val_accuracy: 0.9751\n",
            "Epoch 104/200\n",
            "18/18 [==============================] - 99s 6s/step - loss: 0.0574 - accuracy: 0.9712 - val_loss: 0.1075 - val_accuracy: 0.9602\n",
            "Epoch 105/200\n",
            "18/18 [==============================] - 99s 6s/step - loss: 0.0702 - accuracy: 0.9760 - val_loss: 0.1263 - val_accuracy: 0.9453\n",
            "Epoch 106/200\n",
            "18/18 [==============================] - 99s 6s/step - loss: 0.0465 - accuracy: 0.9797 - val_loss: 0.0806 - val_accuracy: 0.9801\n",
            "Epoch 107/200\n",
            "18/18 [==============================] - 99s 6s/step - loss: 0.0413 - accuracy: 0.9893 - val_loss: 0.1050 - val_accuracy: 0.9801\n",
            "Epoch 108/200\n",
            "18/18 [==============================] - 99s 6s/step - loss: 0.0389 - accuracy: 0.9903 - val_loss: 0.1031 - val_accuracy: 0.9701\n",
            "Epoch 109/200\n",
            "18/18 [==============================] - 99s 6s/step - loss: 0.0449 - accuracy: 0.9891 - val_loss: 0.1066 - val_accuracy: 0.9751\n",
            "Epoch 110/200\n",
            "18/18 [==============================] - 99s 6s/step - loss: 0.0785 - accuracy: 0.9737 - val_loss: 0.1336 - val_accuracy: 0.9701\n",
            "Epoch 111/200\n",
            "18/18 [==============================] - 99s 6s/step - loss: 0.0289 - accuracy: 0.9950 - val_loss: 0.1602 - val_accuracy: 0.9701\n",
            "Epoch 112/200\n",
            "18/18 [==============================] - 100s 6s/step - loss: 0.0534 - accuracy: 0.9797 - val_loss: 0.1539 - val_accuracy: 0.9701\n",
            "Epoch 113/200\n",
            "18/18 [==============================] - 100s 6s/step - loss: 0.0200 - accuracy: 0.9961 - val_loss: 0.0724 - val_accuracy: 0.9652\n",
            "Epoch 114/200\n",
            "18/18 [==============================] - 100s 6s/step - loss: 0.0740 - accuracy: 0.9719 - val_loss: 0.1522 - val_accuracy: 0.9701\n",
            "Epoch 115/200\n",
            "18/18 [==============================] - 100s 6s/step - loss: 0.0829 - accuracy: 0.9643 - val_loss: 0.1890 - val_accuracy: 0.9453\n",
            "Epoch 116/200\n",
            "18/18 [==============================] - 100s 6s/step - loss: 0.0771 - accuracy: 0.9699 - val_loss: 0.0898 - val_accuracy: 0.9751\n",
            "Epoch 117/200\n",
            "18/18 [==============================] - 99s 6s/step - loss: 0.0538 - accuracy: 0.9830 - val_loss: 0.0621 - val_accuracy: 0.9801\n",
            "Epoch 118/200\n",
            "18/18 [==============================] - 99s 6s/step - loss: 0.0767 - accuracy: 0.9725 - val_loss: 0.0287 - val_accuracy: 0.9900\n",
            "Epoch 119/200\n",
            "18/18 [==============================] - 99s 6s/step - loss: 0.0563 - accuracy: 0.9804 - val_loss: 0.1224 - val_accuracy: 0.9652\n",
            "Epoch 120/200\n",
            "18/18 [==============================] - 99s 6s/step - loss: 0.0878 - accuracy: 0.9722 - val_loss: 0.0650 - val_accuracy: 0.9751\n",
            "Epoch 121/200\n",
            "18/18 [==============================] - 99s 6s/step - loss: 0.0381 - accuracy: 0.9911 - val_loss: 0.1036 - val_accuracy: 0.9602\n",
            "Epoch 122/200\n",
            "18/18 [==============================] - 99s 6s/step - loss: 0.0308 - accuracy: 0.9921 - val_loss: 0.0630 - val_accuracy: 0.9701\n",
            "Epoch 123/200\n",
            "18/18 [==============================] - 99s 6s/step - loss: 0.0204 - accuracy: 0.9954 - val_loss: 0.1313 - val_accuracy: 0.9701\n",
            "Epoch 124/200\n",
            "18/18 [==============================] - 100s 6s/step - loss: 0.0500 - accuracy: 0.9844 - val_loss: 0.1135 - val_accuracy: 0.9701\n",
            "Epoch 125/200\n",
            "18/18 [==============================] - 100s 6s/step - loss: 0.0331 - accuracy: 0.9884 - val_loss: 0.2302 - val_accuracy: 0.9502\n",
            "Epoch 126/200\n",
            "18/18 [==============================] - 100s 6s/step - loss: 0.0392 - accuracy: 0.9875 - val_loss: 0.1070 - val_accuracy: 0.9701\n",
            "Epoch 127/200\n",
            "18/18 [==============================] - 101s 6s/step - loss: 0.0636 - accuracy: 0.9802 - val_loss: 0.1317 - val_accuracy: 0.9751\n",
            "Epoch 128/200\n",
            "18/18 [==============================] - 99s 6s/step - loss: 0.0249 - accuracy: 0.9909 - val_loss: 0.1121 - val_accuracy: 0.9701\n",
            "Epoch 129/200\n",
            "18/18 [==============================] - 99s 6s/step - loss: 0.0375 - accuracy: 0.9864 - val_loss: 0.0706 - val_accuracy: 0.9602\n",
            "Epoch 130/200\n",
            "18/18 [==============================] - 99s 6s/step - loss: 0.0212 - accuracy: 0.9950 - val_loss: 0.0472 - val_accuracy: 0.9900\n",
            "Epoch 131/200\n",
            "18/18 [==============================] - 99s 6s/step - loss: 0.0266 - accuracy: 0.9857 - val_loss: 0.0693 - val_accuracy: 0.9701\n",
            "Epoch 132/200\n",
            "18/18 [==============================] - 99s 6s/step - loss: 0.0177 - accuracy: 0.9970 - val_loss: 0.1024 - val_accuracy: 0.9701\n",
            "Epoch 133/200\n",
            "18/18 [==============================] - 99s 6s/step - loss: 0.0335 - accuracy: 0.9870 - val_loss: 0.0458 - val_accuracy: 0.9900\n",
            "Epoch 134/200\n",
            "18/18 [==============================] - 99s 6s/step - loss: 0.0171 - accuracy: 0.9996 - val_loss: 0.0181 - val_accuracy: 0.9801\n",
            "Epoch 135/200\n",
            "18/18 [==============================] - 100s 6s/step - loss: 0.0737 - accuracy: 0.9810 - val_loss: 0.0737 - val_accuracy: 0.9751\n",
            "Epoch 136/200\n",
            "18/18 [==============================] - 100s 6s/step - loss: 0.0587 - accuracy: 0.9750 - val_loss: 0.1845 - val_accuracy: 0.9552\n",
            "Epoch 137/200\n",
            "18/18 [==============================] - 100s 6s/step - loss: 0.0518 - accuracy: 0.9823 - val_loss: 0.0992 - val_accuracy: 0.9602\n",
            "Epoch 138/200\n",
            "18/18 [==============================] - 99s 6s/step - loss: 0.0396 - accuracy: 0.9904 - val_loss: 0.0775 - val_accuracy: 0.9701\n",
            "Epoch 139/200\n",
            "18/18 [==============================] - 100s 6s/step - loss: 0.0396 - accuracy: 0.9865 - val_loss: 0.0541 - val_accuracy: 0.9701\n",
            "Epoch 140/200\n",
            "18/18 [==============================] - 100s 6s/step - loss: 0.0313 - accuracy: 0.9898 - val_loss: 0.2103 - val_accuracy: 0.9652\n",
            "Epoch 141/200\n",
            "18/18 [==============================] - 99s 6s/step - loss: 0.0419 - accuracy: 0.9803 - val_loss: 0.2477 - val_accuracy: 0.9552\n",
            "Epoch 142/200\n",
            "18/18 [==============================] - 99s 6s/step - loss: 0.0378 - accuracy: 0.9825 - val_loss: 0.1313 - val_accuracy: 0.9602\n",
            "Epoch 143/200\n",
            "18/18 [==============================] - 99s 6s/step - loss: 0.0248 - accuracy: 0.9960 - val_loss: 0.0941 - val_accuracy: 0.9801\n",
            "Epoch 144/200\n",
            "18/18 [==============================] - 99s 6s/step - loss: 0.0144 - accuracy: 0.9969 - val_loss: 0.1460 - val_accuracy: 0.9701\n",
            "Epoch 145/200\n",
            "18/18 [==============================] - 99s 6s/step - loss: 0.0135 - accuracy: 0.9974 - val_loss: 0.1523 - val_accuracy: 0.9602\n",
            "Epoch 146/200\n",
            "18/18 [==============================] - 99s 5s/step - loss: 0.0464 - accuracy: 0.9838 - val_loss: 0.2538 - val_accuracy: 0.9652\n",
            "Epoch 147/200\n",
            "18/18 [==============================] - 100s 6s/step - loss: 0.0737 - accuracy: 0.9803 - val_loss: 0.1501 - val_accuracy: 0.9652\n",
            "Epoch 148/200\n",
            "18/18 [==============================] - 102s 6s/step - loss: 0.0715 - accuracy: 0.9834 - val_loss: 0.8551 - val_accuracy: 0.8458\n",
            "Epoch 149/200\n",
            "18/18 [==============================] - 101s 6s/step - loss: 0.0580 - accuracy: 0.9832 - val_loss: 0.2899 - val_accuracy: 0.9254\n",
            "Epoch 150/200\n",
            "18/18 [==============================] - 100s 6s/step - loss: 0.0797 - accuracy: 0.9818 - val_loss: 0.0694 - val_accuracy: 0.9801\n",
            "Epoch 151/200\n",
            "18/18 [==============================] - 100s 6s/step - loss: 0.0317 - accuracy: 0.9859 - val_loss: 0.1597 - val_accuracy: 0.9701\n",
            "Epoch 152/200\n",
            "18/18 [==============================] - 100s 6s/step - loss: 0.0329 - accuracy: 0.9915 - val_loss: 0.0611 - val_accuracy: 0.9652\n",
            "Epoch 153/200\n",
            "18/18 [==============================] - 101s 6s/step - loss: 0.0386 - accuracy: 0.9936 - val_loss: 0.1352 - val_accuracy: 0.9701\n",
            "Epoch 154/200\n",
            "18/18 [==============================] - 100s 6s/step - loss: 0.0425 - accuracy: 0.9941 - val_loss: 0.0660 - val_accuracy: 0.9751\n",
            "Epoch 155/200\n",
            "18/18 [==============================] - 100s 6s/step - loss: 0.0294 - accuracy: 0.9866 - val_loss: 0.2366 - val_accuracy: 0.9801\n",
            "Epoch 156/200\n",
            "18/18 [==============================] - 100s 6s/step - loss: 0.0436 - accuracy: 0.9898 - val_loss: 0.1694 - val_accuracy: 0.9701\n",
            "Epoch 157/200\n",
            "18/18 [==============================] - 100s 6s/step - loss: 0.0365 - accuracy: 0.9891 - val_loss: 0.0658 - val_accuracy: 0.9801\n",
            "Epoch 158/200\n",
            "18/18 [==============================] - 101s 6s/step - loss: 0.0398 - accuracy: 0.9841 - val_loss: 0.1206 - val_accuracy: 0.9751\n",
            "Epoch 159/200\n",
            "18/18 [==============================] - 100s 6s/step - loss: 0.0287 - accuracy: 0.9915 - val_loss: 0.0937 - val_accuracy: 0.9602\n",
            "Epoch 160/200\n",
            "18/18 [==============================] - 100s 6s/step - loss: 0.0354 - accuracy: 0.9892 - val_loss: 0.2132 - val_accuracy: 0.9502\n",
            "Epoch 161/200\n",
            "18/18 [==============================] - 101s 6s/step - loss: 0.0558 - accuracy: 0.9782 - val_loss: 0.0611 - val_accuracy: 0.9701\n",
            "Epoch 162/200\n",
            "18/18 [==============================] - 101s 6s/step - loss: 0.0310 - accuracy: 0.9936 - val_loss: 0.1178 - val_accuracy: 0.9652\n",
            "Epoch 163/200\n",
            "18/18 [==============================] - 100s 6s/step - loss: 0.0361 - accuracy: 0.9854 - val_loss: 0.0564 - val_accuracy: 0.9751\n",
            "Epoch 164/200\n",
            "18/18 [==============================] - 100s 6s/step - loss: 0.0242 - accuracy: 0.9930 - val_loss: 0.0528 - val_accuracy: 0.9701\n",
            "Epoch 165/200\n",
            "18/18 [==============================] - 99s 6s/step - loss: 0.0196 - accuracy: 0.9959 - val_loss: 0.0640 - val_accuracy: 0.9751\n",
            "Epoch 166/200\n",
            "18/18 [==============================] - 99s 6s/step - loss: 0.0483 - accuracy: 0.9835 - val_loss: 0.3777 - val_accuracy: 0.9254\n",
            "Epoch 167/200\n",
            "18/18 [==============================] - 100s 6s/step - loss: 0.0406 - accuracy: 0.9849 - val_loss: 0.1836 - val_accuracy: 0.9602\n",
            "Epoch 168/200\n",
            "18/18 [==============================] - 100s 6s/step - loss: 0.0590 - accuracy: 0.9792 - val_loss: 0.1974 - val_accuracy: 0.9701\n",
            "Epoch 169/200\n",
            "18/18 [==============================] - 101s 6s/step - loss: 0.0689 - accuracy: 0.9766 - val_loss: 0.1657 - val_accuracy: 0.9602\n",
            "Epoch 170/200\n",
            "18/18 [==============================] - 100s 6s/step - loss: 0.0393 - accuracy: 0.9816 - val_loss: 0.2085 - val_accuracy: 0.9453\n",
            "Epoch 171/200\n",
            "18/18 [==============================] - 100s 6s/step - loss: 0.0837 - accuracy: 0.9753 - val_loss: 0.1043 - val_accuracy: 0.9701\n",
            "Epoch 172/200\n",
            "18/18 [==============================] - 100s 6s/step - loss: 0.0775 - accuracy: 0.9639 - val_loss: 0.3544 - val_accuracy: 0.9055\n",
            "Epoch 173/200\n",
            "18/18 [==============================] - 102s 6s/step - loss: 0.0771 - accuracy: 0.9795 - val_loss: 0.1058 - val_accuracy: 0.9751\n",
            "Epoch 174/200\n",
            "18/18 [==============================] - 100s 6s/step - loss: 0.0535 - accuracy: 0.9864 - val_loss: 0.1920 - val_accuracy: 0.9552\n",
            "Epoch 175/200\n",
            "18/18 [==============================] - 100s 6s/step - loss: 0.0501 - accuracy: 0.9812 - val_loss: 0.0940 - val_accuracy: 0.9602\n",
            "Epoch 176/200\n",
            "18/18 [==============================] - 100s 6s/step - loss: 0.0419 - accuracy: 0.9836 - val_loss: 0.2216 - val_accuracy: 0.9652\n",
            "Epoch 177/200\n",
            "18/18 [==============================] - 100s 6s/step - loss: 0.0396 - accuracy: 0.9808 - val_loss: 0.1246 - val_accuracy: 0.9801\n",
            "Epoch 178/200\n",
            "18/18 [==============================] - 99s 6s/step - loss: 0.0280 - accuracy: 0.9911 - val_loss: 0.0968 - val_accuracy: 0.9453\n",
            "Epoch 179/200\n",
            "18/18 [==============================] - 100s 6s/step - loss: 0.0337 - accuracy: 0.9873 - val_loss: 0.1473 - val_accuracy: 0.9751\n",
            "Epoch 180/200\n",
            "18/18 [==============================] - 99s 6s/step - loss: 0.0103 - accuracy: 1.0000 - val_loss: 0.0488 - val_accuracy: 0.9900\n",
            "Epoch 181/200\n",
            "18/18 [==============================] - 99s 6s/step - loss: 0.0272 - accuracy: 0.9847 - val_loss: 0.1100 - val_accuracy: 0.9801\n",
            "Epoch 182/200\n",
            "18/18 [==============================] - 100s 6s/step - loss: 0.0502 - accuracy: 0.9821 - val_loss: 0.1239 - val_accuracy: 0.9652\n",
            "Epoch 183/200\n",
            "18/18 [==============================] - 100s 6s/step - loss: 0.0159 - accuracy: 0.9987 - val_loss: 0.1014 - val_accuracy: 0.9701\n",
            "Epoch 184/200\n",
            "18/18 [==============================] - 100s 6s/step - loss: 0.0125 - accuracy: 0.9976 - val_loss: 0.2361 - val_accuracy: 0.9652\n",
            "Epoch 185/200\n",
            "18/18 [==============================] - 100s 6s/step - loss: 0.0248 - accuracy: 0.9895 - val_loss: 0.0895 - val_accuracy: 0.9801\n",
            "Epoch 186/200\n",
            "18/18 [==============================] - 100s 6s/step - loss: 0.0280 - accuracy: 0.9955 - val_loss: 0.1212 - val_accuracy: 0.9701\n",
            "Epoch 187/200\n",
            "18/18 [==============================] - 99s 5s/step - loss: 0.0309 - accuracy: 0.9877 - val_loss: 0.0826 - val_accuracy: 0.9851\n",
            "Epoch 188/200\n",
            "18/18 [==============================] - 98s 5s/step - loss: 0.0174 - accuracy: 0.9949 - val_loss: 0.1413 - val_accuracy: 0.9751\n",
            "Epoch 189/200\n",
            "18/18 [==============================] - 99s 6s/step - loss: 0.0595 - accuracy: 0.9846 - val_loss: 0.1171 - val_accuracy: 0.9701\n",
            "Epoch 190/200\n",
            "18/18 [==============================] - 99s 6s/step - loss: 0.0192 - accuracy: 0.9895 - val_loss: 0.1201 - val_accuracy: 0.9751\n",
            "Epoch 191/200\n",
            "18/18 [==============================] - 99s 6s/step - loss: 0.0244 - accuracy: 0.9910 - val_loss: 0.2230 - val_accuracy: 0.9552\n",
            "Epoch 192/200\n",
            "18/18 [==============================] - 99s 6s/step - loss: 0.0184 - accuracy: 0.9952 - val_loss: 0.1339 - val_accuracy: 0.9652\n",
            "Epoch 193/200\n",
            "18/18 [==============================] - 99s 6s/step - loss: 0.0262 - accuracy: 0.9916 - val_loss: 0.1880 - val_accuracy: 0.9701\n",
            "Epoch 194/200\n",
            "18/18 [==============================] - 99s 6s/step - loss: 0.0432 - accuracy: 0.9851 - val_loss: 0.0625 - val_accuracy: 0.9701\n",
            "Epoch 195/200\n",
            "18/18 [==============================] - 99s 6s/step - loss: 0.0379 - accuracy: 0.9873 - val_loss: 0.1261 - val_accuracy: 0.9751\n",
            "Epoch 196/200\n",
            "18/18 [==============================] - 100s 6s/step - loss: 0.0164 - accuracy: 0.9907 - val_loss: 0.1311 - val_accuracy: 0.9602\n",
            "Epoch 197/200\n",
            "18/18 [==============================] - 99s 6s/step - loss: 0.0437 - accuracy: 0.9831 - val_loss: 0.0692 - val_accuracy: 0.9652\n",
            "Epoch 198/200\n",
            "18/18 [==============================] - 99s 6s/step - loss: 0.0243 - accuracy: 0.9886 - val_loss: 0.1400 - val_accuracy: 0.9602\n",
            "Epoch 199/200\n",
            "18/18 [==============================] - 99s 6s/step - loss: 0.0243 - accuracy: 0.9922 - val_loss: 0.1014 - val_accuracy: 0.9701\n",
            "Epoch 200/200\n",
            "18/18 [==============================] - 100s 6s/step - loss: 0.0109 - accuracy: 0.9971 - val_loss: 0.0716 - val_accuracy: 0.9801\n"
          ],
          "name": "stdout"
        },
        {
          "output_type": "display_data",
          "data": {
            "image/png": "[encoded data removed]",
            "text/plain": [
              "<Figure size 432x288 with 1 Axes>"
            ]
          },
          "metadata": {
            "tags": []
          }
        },
        {
          "output_type": "display_data",
          "data": {
            "image/png": "[encoded data removed]",
            "text/plain": [
              "<Figure size 432x288 with 1 Axes>"
            ]
          },
          "metadata": {
            "tags": []
          }
        }
      ]
    },
    {
      "cell_type": "code",
      "metadata": {
        "id": "0lw7JxS5_u0L"
      },
      "source": [
        "# To save CNN model\n",
        "# model.save('My_Final_model.h5')"
      ],
      "execution_count": null,
      "outputs": []
    },
    {
      "cell_type": "code",
      "metadata": {
        "id": "K-CuITBlAC_6"
      },
      "source": [
        "# from keras.models import load_model\n",
        "# new_model1= load_model('/content/My_Final_model.h5')"
      ],
      "execution_count": null,
      "outputs": []
    },
    {
      "cell_type": "code",
      "metadata": {
        "id": "XkdPqwhmAmY0"
      },
      "source": [
        "# new_model1.get_weights()"
      ],
      "execution_count": null,
      "outputs": []
    },
    {
      "cell_type": "code",
      "metadata": {
        "id": "odE3ALRGA5s7",
        "colab": {
          "base_uri": "https://localhost:8080/"
        },
        "outputId": "9e8e6826-4dd5-45a3-f93c-ef7611c4106f"
      },
      "source": [
        "model.evaluate(x_test,y_test)"
      ],
      "execution_count": null,
      "outputs": [
        {
          "output_type": "stream",
          "text": [
            "7/7 [==============================] - 7s 1s/step - loss: 0.0716 - accuracy: 0.9801\n"
          ],
          "name": "stdout"
        },
        {
          "output_type": "execute_result",
          "data": {
            "text/plain": [
              "[0.07155361771583557, 0.9800994992256165]"
            ]
          },
          "metadata": {
            "tags": []
          },
          "execution_count": 20
        }
      ]
    },
    {
      "cell_type": "code",
      "metadata": {
        "id": "W05AYVAeR67K"
      },
      "source": [
        "y_pred = model.predict(x_test)>0.5\n",
        "# y_pred=np.argmax(y_pred, axis=1)"
      ],
      "execution_count": null,
      "outputs": []
    },
    {
      "cell_type": "code",
      "metadata": {
        "id": "jcyydEjITXYd"
      },
      "source": [
        "from sklearn.metrics import classification_report"
      ],
      "execution_count": null,
      "outputs": []
    },
    {
      "cell_type": "code",
      "metadata": {
        "colab": {
          "base_uri": "https://localhost:8080/"
        },
        "id": "t0lPJOXnSl_G",
        "outputId": "7d58d878-195a-4102-e604-4c276b9c2916"
      },
      "source": [
        "print(\"Classification Report: \\n\\n\", classification_report(y_test, y_pred))\n",
        "# print(\"Confusion Matrix: \\n\", metrics.confusion_matrix(y_test, y_pred))\n"
      ],
      "execution_count": null,
      "outputs": [
        {
          "output_type": "stream",
          "text": [
            "Classification Report: \n",
            "\n",
            "               precision    recall  f1-score   support\n",
            "\n",
            "           0       1.00      0.95      0.97        38\n",
            "           1       1.00      0.96      0.98        54\n",
            "           2       0.93      1.00      0.96        53\n",
            "           3       1.00      1.00      1.00        56\n",
            "\n",
            "   micro avg       0.98      0.98      0.98       201\n",
            "   macro avg       0.98      0.98      0.98       201\n",
            "weighted avg       0.98      0.98      0.98       201\n",
            " samples avg       0.98      0.98      0.98       201\n",
            "\n"
          ],
          "name": "stdout"
        }
      ]
    },
    {
      "cell_type": "code",
      "metadata": {
        "colab": {
          "base_uri": "https://localhost:8080/"
        },
        "id": "xRlAKbsQcGl4",
        "outputId": "04ed6f4c-c937-4fa0-80d4-94eb61b83148"
      },
      "source": [
        "rounded_predictions = model.predict_classes(x_test, batch_size=32, verbose=0)\n",
        "rounded_predictions[1]"
      ],
      "execution_count": null,
      "outputs": [
        {
          "output_type": "execute_result",
          "data": {
            "text/plain": [
              "3"
            ]
          },
          "metadata": {
            "tags": []
          },
          "execution_count": 33
        }
      ]
    },
    {
      "cell_type": "code",
      "metadata": {
        "colab": {
          "base_uri": "https://localhost:8080/"
        },
        "id": "cvp8e2gKe-h_",
        "outputId": "ef432a69-ace2-41b3-f83a-8aeef165acac"
      },
      "source": [
        "import numpy as np\n",
        "rounded_labels=np.argmax(y_test, axis=1)\n",
        "rounded_labels[1]"
      ],
      "execution_count": null,
      "outputs": [
        {
          "output_type": "execute_result",
          "data": {
            "text/plain": [
              "3"
            ]
          },
          "metadata": {
            "tags": []
          },
          "execution_count": 34
        }
      ]
    },
    {
      "cell_type": "code",
      "metadata": {
        "colab": {
          "base_uri": "https://localhost:8080/"
        },
        "id": "1DLGnYoxg3Gq",
        "outputId": "9d7ef152-0928-42b5-c4bc-cffd65802918"
      },
      "source": [
        "from sklearn.metrics import confusion_matrix\n",
        "cm = confusion_matrix(rounded_labels, rounded_predictions)\n",
        "cm"
      ],
      "execution_count": null,
      "outputs": [
        {
          "output_type": "execute_result",
          "data": {
            "text/plain": [
              "array([[36,  0,  2,  0],\n",
              "       [ 0, 52,  2,  0],\n",
              "       [ 0,  0, 53,  0],\n",
              "       [ 0,  0,  0, 56]])"
            ]
          },
          "metadata": {
            "tags": []
          },
          "execution_count": 35
        }
      ]
    },
    {
      "cell_type": "code",
      "metadata": {
        "colab": {
          "base_uri": "https://localhost:8080/",
          "height": 310
        },
        "id": "v0aIfEzlhCdP",
        "outputId": "16a7c8e9-2d88-4ebd-a15b-c4c729803054"
      },
      "source": [
        "plt.figure(figsize=(6,4))\n",
        "sns.heatmap(cm, annot=True, annot_kws={\"size\": 22}, fmt = \"d\")"
      ],
      "execution_count": null,
      "outputs": [
        {
          "output_type": "execute_result",
          "data": {
            "text/plain": [
              "<matplotlib.axes._subplots.AxesSubplot at 0x7f1df6752810>"
            ]
          },
          "metadata": {
            "tags": []
          },
          "execution_count": 36
        },
        {
          "output_type": "display_data",
          "data": {
            "image/png": "[encoded data removed]",
            "text/plain": [
              "<Figure size 432x288 with 2 Axes>"
            ]
          },
          "metadata": {
            "tags": []
          }
        }
      ]
    },
    {
      "cell_type": "code",
      "metadata": {
        "id": "OqOIRaCChRem"
      },
      "source": [
        ""
      ],
      "execution_count": null,
      "outputs": []
    }
  ]
}