{
 "cells": [
  {
   "cell_type": "code",
   "execution_count": 1,
   "metadata": {},
   "outputs": [
    {
     "name": "stderr",
     "output_type": "stream",
     "text": [
      "Using TensorFlow backend.\n"
     ]
    }
   ],
   "source": [
    "import os\n",
    "import cv2\n",
    "from cv2 import imread\n",
    "from cv2 import imshow\n",
    "from cv2 import CascadeClassifier\n",
    "from cv2 import rectangle\n",
    "import numpy as np\n",
    "import pandas as pd\n",
    "import imutils \n",
    "from imutils import paths\n",
    "from skimage.feature import hog, greycomatrix, greycoprops\n",
    "from skimage import data, segmentation, color, filters, exposure, restoration\n",
    "from skimage.util import img_as_ubyte\n",
    "from skimage.morphology import erosion, dilation, opening, closing, white_tophat\n",
    "from skimage.morphology import black_tophat, skeletonize, convex_hull_image\n",
    "from skimage.morphology import disk\n",
    "import matplotlib.pyplot as plt\n",
    "\n",
    "from scipy.signal import convolve2d as conv2\n",
    "from scipy import ndimage as ndi\n",
    "\n",
    "from sklearn import metrics\n",
    "from skimage.data import gravel\n",
    "from skimage.filters import difference_of_gaussians, window\n",
    "from scipy.fftpack import fftn, fftshift\n",
    "from sklearn.model_selection import GridSearchCV\n",
    "from sklearn.metrics import recall_score, f1_score, accuracy_score, precision_score\n",
    "from sklearn.metrics import classification_report, confusion_matrix, precision_recall_fscore_support\n",
    "from sklearn.ensemble import RandomForestClassifier, GradientBoostingClassifier, AdaBoostClassifier\n",
    "from sklearn.tree import DecisionTreeClassifier\n",
    "from sklearn.neighbors import KNeighborsClassifier\n",
    "from sklearn.naive_bayes import GaussianNB\n",
    "from sklearn.linear_model import LogisticRegression\n",
    "from xgboost import XGBClassifier\n",
    "from sklearn import svm\n",
    "from sklearn.svm import SVC \n",
    "from sklearn.model_selection import train_test_split\n",
    "\n",
    "from mtcnn.mtcnn import MTCNN\n",
    "from matplotlib.patches import Rectangle\n",
    "import tensorflow as tf\n",
    "from zipfile import ZipFile\n",
    "import pickle\n",
    "from matplotlib import style\n",
    "import seaborn as sns\n",
    "\n",
    "# from skimage import data\n",
    "# from skimage.color import rgb2gray\n"
   ]
  },
  {
   "cell_type": "code",
   "execution_count": 2,
   "metadata": {},
   "outputs": [
    {
     "name": "stdout",
     "output_type": "stream",
     "text": [
      "Requirement already satisfied: mtcnn in c:\\users\\habib\\anaconda3\\lib\\site-packages (0.1.0)\n",
      "Requirement already satisfied: opencv-python>=4.1.0 in c:\\users\\habib\\anaconda3\\lib\\site-packages (from mtcnn) (4.4.0.46)\n",
      "Requirement already satisfied: keras>=2.0.0 in c:\\users\\habib\\anaconda3\\lib\\site-packages (from mtcnn) (2.3.1)\n",
      "Requirement already satisfied: numpy>=1.9.1 in c:\\users\\habib\\anaconda3\\lib\\site-packages (from keras>=2.0.0->mtcnn) (1.19.4)\n",
      "Requirement already satisfied: scipy>=0.14 in c:\\users\\habib\\anaconda3\\lib\\site-packages (from keras>=2.0.0->mtcnn) (1.5.2)\n",
      "Requirement already satisfied: six>=1.9.0 in c:\\users\\habib\\anaconda3\\lib\\site-packages (from keras>=2.0.0->mtcnn) (1.15.0)\n",
      "Requirement already satisfied: pyyaml in c:\\users\\habib\\anaconda3\\lib\\site-packages (from keras>=2.0.0->mtcnn) (5.3.1)\n",
      "Requirement already satisfied: h5py in c:\\users\\habib\\anaconda3\\lib\\site-packages (from keras>=2.0.0->mtcnn) (2.8.0)\n",
      "Requirement already satisfied: keras_applications>=1.0.6 in c:\\users\\habib\\anaconda3\\lib\\site-packages (from keras>=2.0.0->mtcnn) (1.0.8)\n",
      "Requirement already satisfied: keras_preprocessing>=1.0.5 in c:\\users\\habib\\anaconda3\\lib\\site-packages (from keras>=2.0.0->mtcnn) (1.1.0)\n"
     ]
    }
   ],
   "source": [
    "!pip install mtcnn"
   ]
  },
  {
   "cell_type": "code",
   "execution_count": 3,
   "metadata": {},
   "outputs": [
    {
     "name": "stdout",
     "output_type": "stream",
     "text": [
      "angry: c=160, b=160, f=0\n",
      "happy: c=376, b=376, f=0\n",
      "sad: c=580, b=580, f=0\n",
      "surprised: c=804, b=804, f=0\n"
     ]
    }
   ],
   "source": [
    "with tf.device('/device:GPU:0'):\n",
    "    \n",
    "    detector = MTCNN()\n",
    "\n",
    "    base_path = 'I:/Thesis/dataset/final/train_modi - copy'\n",
    "    categories = ['angry' ,'happy', 'sad', 'surprised']\n",
    "    '''\n",
    "    fig, axes = plt.subplots(ncols=3, figsize=(15, 3.5))\n",
    "    ax = axes.ravel()\n",
    "    ax[0] = plt.subplot(1, 3, 1)\n",
    "    ax[1] = plt.subplot(1, 3, 2)\n",
    "    ax[2] = plt.subplot(1, 3, 3)\n",
    "    '''\n",
    "    def bgr2rgb(img):\n",
    "        return cv2.cvtColor(img.copy(), cv2.COLOR_BGR2RGB)\n",
    "    # resize image\n",
    "    def image_to_feature_vector(images, size=(150, 150)):\n",
    "        return cv2.resize(images, size).flatten()\n",
    "\n",
    "    def make(rc_img):\n",
    "        '''\n",
    "        fig, axes = plt.subplots(ncols=3, figsize=(15, 3.5))\n",
    "        ax = axes.ravel()\n",
    "        ax[0] = plt.subplot(1, 3, 1)\n",
    "        ax[1] = plt.subplot(1, 3, 2)\n",
    "        ax[2] = plt.subplot(1, 3, 3)\n",
    "        '''\n",
    "        selem = disk(20)\n",
    "        eroded = erosion(rc_img, selem)\n",
    "        roi = rc_img - eroded\n",
    "\n",
    "\n",
    "#         h_gram = extract_color_histogram(roi)\n",
    "        pixels = image_to_feature_vector(roi)\n",
    "\n",
    "        rawImages.append(pixels)                   # features\n",
    "        labels.append(cat)\n",
    "#         features.append(h_gram)\n",
    "        '''       \n",
    "        ax[0].imshow(rc_img)\n",
    "        ax[0].set_title('Original')\n",
    "        ax[0].axis('off')\n",
    "\n",
    "        ax[1].imshow(eroded)\n",
    "        ax[1].set_title('Segmented pic')\n",
    "        ax[1].axis('off')\n",
    "\n",
    "    #     ax[2].hist(out.ravel(),256,[0,256], color='r')\n",
    "    #     ax[2].set_title('Histogram')\n",
    "\n",
    "        ax[2].imshow(roi, cmap=plt.cm.gray)\n",
    "        ax[2].axis('off')\n",
    "\n",
    "        plt.show()\n",
    "        '''    \n",
    "\n",
    "\n",
    "    labels = []\n",
    "    rawImages = []\n",
    "#     features = []\n",
    "\n",
    "    c, b, f = 0,0,0\n",
    "#     c = total number of images\n",
    "#     b = detected human face\n",
    "#     f = human face not found\n",
    "\n",
    "    for cat in categories:\n",
    "\n",
    "        image_dir = os.path.join(base_path, cat)\n",
    "        imagePaths = list(paths.list_images(image_dir))\n",
    "\n",
    "        for (i, imagePath) in enumerate(imagePaths):\n",
    "            c=c+1\n",
    "            '''\n",
    "            fig, axes = plt.subplots(ncols=3, figsize=(15, 3.5))\n",
    "            ax = axes.ravel()\n",
    "            ax[0] = plt.subplot(1, 3, 1)\n",
    "            ax[1] = plt.subplot(1, 3, 2)\n",
    "            ax[2] = plt.subplot(1, 3, 3)\n",
    "            '''\n",
    "\n",
    "            image = cv2.imread(imagePath)[:,:,::-1]\n",
    "\n",
    "            # perform face detection\n",
    "            bboxes = detector.detect_faces(image)\n",
    "    #         ax[2] = plt.gca()\n",
    "            if list(bboxes):\n",
    "                b=b+1\n",
    "\n",
    "                # print bounding box for each detected face\n",
    "                twidth, theight = 0, 0\n",
    "                for box in bboxes:\n",
    "                    x, y, width, height = box['box']\n",
    "\n",
    "                    if width > twidth and height > theight:\n",
    "                        twidth, theight = width, height\n",
    "                        x2, y2 = x + twidth, y + theight\n",
    "                        # draw a rectangle over the pixels\n",
    "                        roi_image=image[y:y2, x:x2]\n",
    "                        roi_image=roi_image[:,:,::-1]\n",
    "                        roi_gray = cv2.cvtColor(roi_image, cv2.COLOR_BGR2GRAY)\n",
    "\n",
    "    #                     rectangle(image, (x, y), (x2, y2), (0,255,0), 3)\n",
    "    #                     rect = Rectangle((x, y),twidth, theight, fill=False, color='yellow')\n",
    "                    else:\n",
    "                        continue\n",
    "\n",
    "                make(roi_gray)\n",
    "                roi_flip = cv2.flip(roi_gray, 1)\n",
    "                make(roi_flip)\n",
    "#                 roi_rotate = cv2.rotate(roi_gray, cv2.cv2.ROTATE_90_CLOCKWISE)\n",
    "#                 roi_rotate = imutils.rotate(roi_gray, angle=90)\n",
    "#                 make(roi_rotate)\n",
    "\n",
    "            else:\n",
    "                f=f+1\n",
    "                \n",
    "        print(f\"{cat}: c={c}, b={b}, f={f}\")\n",
    "\n",
    "    rawImages = np.array(rawImages)               # show some information on the memory consumed by the raw images matrix and features matrix\n",
    "    labels = np.array(labels)\n",
    "#     features = np.array(features)\n"
   ]
  },
  {
   "cell_type": "code",
   "execution_count": 4,
   "metadata": {},
   "outputs": [
    {
     "data": {
      "text/plain": [
       "36180000"
      ]
     },
     "execution_count": 4,
     "metadata": {},
     "output_type": "execute_result"
    }
   ],
   "source": [
    "rawImages.size"
   ]
  },
  {
   "cell_type": "code",
   "execution_count": 5,
   "metadata": {},
   "outputs": [],
   "source": [
    "X_train, X_test, y_train, y_test = train_test_split(rawImages, labels, test_size=0.25, random_state=30)\n",
    "#     (train_Feat, test_Feat, train_Labels, test_Labels) = train_test_split(features, labels, test_size=0.25, random_state=30)"
   ]
  },
  {
   "cell_type": "markdown",
   "metadata": {},
   "source": [
    "# Classifier before tuning"
   ]
  },
  {
   "cell_type": "code",
   "execution_count": 12,
   "metadata": {},
   "outputs": [],
   "source": [
    "def train_model(model, name):\n",
    "    model.fit(X_train,y_train)\n",
    "\n",
    "    test_prediction = model.predict(X_test)\n",
    "    train_prediction= model.predict(X_train)\n",
    "    \n",
    "    print(\"\\n\"+ name + \"Classifier: \\n\")\n",
    "\n",
    "    test_matrics = confusion_matrix(y_test, test_prediction)\n",
    "    print(\"Confusion Matrix:\\n\", test_matrics)\n",
    "\n",
    "    test_report = classification_report(y_test, test_prediction)\n",
    "    print(\"Classification Report : \\n\", test_report)\n",
    "    \n",
    "    test_acc = accuracy_score(y_test, test_prediction)                     # test accuracy\n",
    "    train_acc = accuracy_score(y_train, train_prediction)\n",
    "    \n",
    "    print(\"Accuracy of \" + name + \" : \\n\")\n",
    "          \n",
    "    print('Train Accuracy : {:.5f} %'.format(train_acc * 100))\n",
    "    print('Test Accuracy : {:.5f} % \\n'.format(test_acc * 100))\n",
    "          \n",
    "    print('Train Recall : ', recall_score(y_train, train_prediction, average='weighted'))\n",
    "    print(\"Test Recall : \", recall_score(y_test, test_prediction, average='weighted'), '\\n')\n",
    "          \n",
    "    print(\"Test F1 : \", f1_score(y_test, test_prediction, average='weighted'))\n",
    "    print(\"Test precison : \", precision_score(y_test, test_prediction, average='weighted'))\n",
    "    \n",
    "\n",
    "    style.use('fivethirtyeight')\n",
    "    sns.set(style='whitegrid', color_codes=True, font_scale=1.2)    # 'font_scale' = size of label \n",
    "    \n",
    "    plt.figure(figsize=(6,4))\n",
    "    sns.heatmap(test_matrics, annot=True, annot_kws={\"size\": 17}, fmt = \"d\")\n",
    "    plt.show()\n",
    "\n",
    "    return test_acc"
   ]
  },
  {
   "cell_type": "code",
   "execution_count": 18,
   "metadata": {
    "scrolled": true
   },
   "outputs": [
    {
     "name": "stdout",
     "output_type": "stream",
     "text": [
      "\n",
      "Decision TreeClassifier: \n",
      "\n",
      "Confusion Matrix:\n",
      " [[31 13 30  3]\n",
      " [ 7 86 20  2]\n",
      " [12  5 80  0]\n",
      " [ 6 24 24 59]]\n",
      "Classification Report : \n",
      "               precision    recall  f1-score   support\n",
      "\n",
      "       angry       0.55      0.40      0.47        77\n",
      "       happy       0.67      0.75      0.71       115\n",
      "         sad       0.52      0.82      0.64        97\n",
      "   surprised       0.92      0.52      0.67       113\n",
      "\n",
      "    accuracy                           0.64       402\n",
      "   macro avg       0.67      0.62      0.62       402\n",
      "weighted avg       0.68      0.64      0.63       402\n",
      "\n",
      "Accuracy of Decision Tree : \n",
      "\n",
      "Train Accuracy : 68.90547 %\n",
      "Test Accuracy : 63.68159 % \n",
      "\n",
      "Train Recall :  0.6890547263681592\n",
      "Test Recall :  0.6368159203980099 \n",
      "\n",
      "Test F1 :  0.6329848667982095\n",
      "Test precison :  0.6827166925114686\n"
     ]
    },
    {
     "data": {
      "image/png": "[encoded data removed]",
      "text/plain": [
       "<Figure size 576x288 with 2 Axes>"
      ]
     },
     "metadata": {},
     "output_type": "display_data"
    },
    {
     "name": "stderr",
     "output_type": "stream",
     "text": [
      "C:\\Users\\Habib\\Anaconda3\\lib\\site-packages\\sklearn\\linear_model\\_logistic.py:764: ConvergenceWarning: lbfgs failed to converge (status=1):\n",
      "STOP: TOTAL NO. of ITERATIONS REACHED LIMIT.\n",
      "\n",
      "Increase the number of iterations (max_iter) or scale the data as shown in:\n",
      "    https://scikit-learn.org/stable/modules/preprocessing.html\n",
      "Please also refer to the documentation for alternative solver options:\n",
      "    https://scikit-learn.org/stable/modules/linear_model.html#logistic-regression\n",
      "  extra_warning_msg=_LOGISTIC_SOLVER_CONVERGENCE_MSG)\n"
     ]
    },
    {
     "name": "stdout",
     "output_type": "stream",
     "text": [
      "\n",
      "Logistic RegressionClassifier: \n",
      "\n",
      "Confusion Matrix:\n",
      " [[ 71   2   2   2]\n",
      " [  2 107   2   4]\n",
      " [  0   0  97   0]\n",
      " [  2   2   0 109]]\n",
      "Classification Report : \n",
      "               precision    recall  f1-score   support\n",
      "\n",
      "       angry       0.95      0.92      0.93        77\n",
      "       happy       0.96      0.93      0.95       115\n",
      "         sad       0.96      1.00      0.98        97\n",
      "   surprised       0.95      0.96      0.96       113\n",
      "\n",
      "    accuracy                           0.96       402\n",
      "   macro avg       0.95      0.95      0.95       402\n",
      "weighted avg       0.96      0.96      0.96       402\n",
      "\n",
      "Accuracy of Logistic Regression : \n",
      "\n",
      "Train Accuracy : 100.00000 %\n",
      "Test Accuracy : 95.52239 % \n",
      "\n",
      "Train Recall :  1.0\n",
      "Test Recall :  0.9552238805970149 \n",
      "\n",
      "Test F1 :  0.9550056704616348\n",
      "Test precison :  0.9552536140717919\n"
     ]
    },
    {
     "data": {
      "image/png": "[encoded data removed]",
      "text/plain": [
       "<Figure size 576x288 with 2 Axes>"
      ]
     },
     "metadata": {},
     "output_type": "display_data"
    },
    {
     "name": "stdout",
     "output_type": "stream",
     "text": [
      "\n",
      "SVMClassifier: \n",
      "\n",
      "Confusion Matrix:\n",
      " [[ 73   4   0   0]\n",
      " [  2 109   2   2]\n",
      " [  0   0  97   0]\n",
      " [  4   0   0 109]]\n",
      "Classification Report : \n",
      "               precision    recall  f1-score   support\n",
      "\n",
      "       angry       0.92      0.95      0.94        77\n",
      "       happy       0.96      0.95      0.96       115\n",
      "         sad       0.98      1.00      0.99        97\n",
      "   surprised       0.98      0.96      0.97       113\n",
      "\n",
      "    accuracy                           0.97       402\n",
      "   macro avg       0.96      0.97      0.96       402\n",
      "weighted avg       0.97      0.97      0.97       402\n",
      "\n",
      "Accuracy of SVM : \n",
      "\n",
      "Train Accuracy : 100.00000 %\n",
      "Test Accuracy : 96.51741 % \n",
      "\n",
      "Train Recall :  1.0\n",
      "Test Recall :  0.9651741293532339 \n",
      "\n",
      "Test F1 :  0.9651832370207131\n",
      "Test precison :  0.9653867419859906\n"
     ]
    },
    {
     "data": {
      "image/png": "[encoded data removed]",
      "text/plain": [
       "<Figure size 576x288 with 2 Axes>"
      ]
     },
     "metadata": {},
     "output_type": "display_data"
    },
    {
     "name": "stdout",
     "output_type": "stream",
     "text": [
      "\n",
      "Random ForestClassifier: \n",
      "\n",
      "Confusion Matrix:\n",
      " [[ 71   6   0   0]\n",
      " [  6 107   0   2]\n",
      " [  0   0  94   3]\n",
      " [  2   0   0 111]]\n",
      "Classification Report : \n",
      "               precision    recall  f1-score   support\n",
      "\n",
      "       angry       0.90      0.92      0.91        77\n",
      "       happy       0.95      0.93      0.94       115\n",
      "         sad       1.00      0.97      0.98        97\n",
      "   surprised       0.96      0.98      0.97       113\n",
      "\n",
      "    accuracy                           0.95       402\n",
      "   macro avg       0.95      0.95      0.95       402\n",
      "weighted avg       0.95      0.95      0.95       402\n",
      "\n",
      "Accuracy of Random Forest : \n",
      "\n",
      "Train Accuracy : 100.00000 %\n",
      "Test Accuracy : 95.27363 % \n",
      "\n",
      "Train Recall :  1.0\n",
      "Test Recall :  0.9527363184079602 \n",
      "\n",
      "Test F1 :  0.9528622671640096\n",
      "Test precison :  0.9532976300998303\n"
     ]
    },
    {
     "data": {
      "image/png": "[encoded data removed]",
      "text/plain": [
       "<Figure size 576x288 with 2 Axes>"
      ]
     },
     "metadata": {},
     "output_type": "display_data"
    },
    {
     "name": "stdout",
     "output_type": "stream",
     "text": [
      "\n",
      "Naive BayesClassifier: \n",
      "\n",
      "Confusion Matrix:\n",
      " [[44 12 11 10]\n",
      " [23 72 11  9]\n",
      " [31  6 52  8]\n",
      " [28  7  7 71]]\n",
      "Classification Report : \n",
      "               precision    recall  f1-score   support\n",
      "\n",
      "       angry       0.35      0.57      0.43        77\n",
      "       happy       0.74      0.63      0.68       115\n",
      "         sad       0.64      0.54      0.58        97\n",
      "   surprised       0.72      0.63      0.67       113\n",
      "\n",
      "    accuracy                           0.59       402\n",
      "   macro avg       0.61      0.59      0.59       402\n",
      "weighted avg       0.64      0.59      0.61       402\n",
      "\n",
      "Accuracy of Naive Bayes : \n",
      "\n",
      "Train Accuracy : 68.49088 %\n",
      "Test Accuracy : 59.45274 % \n",
      "\n",
      "Train Recall :  0.6849087893864013\n",
      "Test Recall :  0.5945273631840796 \n",
      "\n",
      "Test F1 :  0.6074976829858137\n",
      "Test precison :  0.6377827500204081\n"
     ]
    },
    {
     "data": {
      "image/png": "[encoded data removed]",
      "text/plain": [
       "<Figure size 576x288 with 2 Axes>"
      ]
     },
     "metadata": {},
     "output_type": "display_data"
    },
    {
     "name": "stdout",
     "output_type": "stream",
     "text": [
      "\n",
      "xgBootsClassifier: \n",
      "\n",
      "Confusion Matrix:\n",
      " [[ 55   9   7   6]\n",
      " [  4 100   6   5]\n",
      " [  0   5  90   2]\n",
      " [  0   6   4 103]]\n",
      "Classification Report : \n",
      "               precision    recall  f1-score   support\n",
      "\n",
      "       angry       0.93      0.71      0.81        77\n",
      "       happy       0.83      0.87      0.85       115\n",
      "         sad       0.84      0.93      0.88        97\n",
      "   surprised       0.89      0.91      0.90       113\n",
      "\n",
      "    accuracy                           0.87       402\n",
      "   macro avg       0.87      0.86      0.86       402\n",
      "weighted avg       0.87      0.87      0.86       402\n",
      "\n",
      "Accuracy of xgBoots : \n",
      "\n",
      "Train Accuracy : 97.42952 %\n",
      "Test Accuracy : 86.56716 % \n",
      "\n",
      "Train Recall :  0.9742951907131011\n",
      "Test Recall :  0.8656716417910447 \n",
      "\n",
      "Test F1 :  0.8641558271298245\n",
      "Test precison :  0.869497478342197\n"
     ]
    },
    {
     "data": {
      "image/png": "[encoded data removed]",
      "text/plain": [
       "<Figure size 576x288 with 2 Axes>"
      ]
     },
     "metadata": {},
     "output_type": "display_data"
    },
    {
     "name": "stdout",
     "output_type": "stream",
     "text": [
      "\n",
      " ADABoostClassifier: \n",
      "\n",
      "Confusion Matrix:\n",
      " [[38 16 19  4]\n",
      " [31 77  5  2]\n",
      " [30  5 57  5]\n",
      " [17  5 16 75]]\n",
      "Classification Report : \n",
      "               precision    recall  f1-score   support\n",
      "\n",
      "       angry       0.33      0.49      0.39        77\n",
      "       happy       0.75      0.67      0.71       115\n",
      "         sad       0.59      0.59      0.59        97\n",
      "   surprised       0.87      0.66      0.75       113\n",
      "\n",
      "    accuracy                           0.61       402\n",
      "   macro avg       0.63      0.60      0.61       402\n",
      "weighted avg       0.66      0.61      0.63       402\n",
      "\n",
      "Accuracy of  ADABoost : \n",
      "\n",
      "Train Accuracy : 76.69983 %\n",
      "Test Accuracy : 61.44279 % \n",
      "\n",
      "Train Recall :  0.7669983416252073\n",
      "Test Recall :  0.6144278606965174 \n",
      "\n",
      "Test F1 :  0.6311832214686386\n",
      "Test precison :  0.6635361277247492\n"
     ]
    },
    {
     "data": {
      "image/png": "[encoded data removed]",
      "text/plain": [
       "<Figure size 576x288 with 2 Axes>"
      ]
     },
     "metadata": {},
     "output_type": "display_data"
    },
    {
     "name": "stdout",
     "output_type": "stream",
     "text": [
      "\n",
      "Gradient BoostClassifier: \n",
      "\n",
      "Confusion Matrix:\n",
      " [[ 71   4   0   2]\n",
      " [  4 103   6   2]\n",
      " [  3   0  94   0]\n",
      " [  0   0   2 111]]\n",
      "Classification Report : \n",
      "               precision    recall  f1-score   support\n",
      "\n",
      "       angry       0.91      0.92      0.92        77\n",
      "       happy       0.96      0.90      0.93       115\n",
      "         sad       0.92      0.97      0.94        97\n",
      "   surprised       0.97      0.98      0.97       113\n",
      "\n",
      "    accuracy                           0.94       402\n",
      "   macro avg       0.94      0.94      0.94       402\n",
      "weighted avg       0.94      0.94      0.94       402\n",
      "\n",
      "Accuracy of Gradient Boost : \n",
      "\n",
      "Train Accuracy : 100.00000 %\n",
      "Test Accuracy : 94.27861 % \n",
      "\n",
      "Train Recall :  1.0\n",
      "Test Recall :  0.9427860696517413 \n",
      "\n",
      "Test F1 :  0.9425824724871399\n",
      "Test precison :  0.9434139309684558\n"
     ]
    },
    {
     "data": {
      "image/png": "[encoded data removed]",
      "text/plain": [
       "<Figure size 576x288 with 2 Axes>"
      ]
     },
     "metadata": {},
     "output_type": "display_data"
    },
    {
     "name": "stdout",
     "output_type": "stream",
     "text": [
      "\n",
      "KNN classifier ( k = 5)\n",
      "\n",
      "\n",
      "KNNClassifier: \n",
      "\n",
      "Confusion Matrix:\n",
      " [[35 23 17  2]\n",
      " [26 59 20 10]\n",
      " [18 19 57  3]\n",
      " [15 35 27 36]]\n",
      "Classification Report : \n",
      "               precision    recall  f1-score   support\n",
      "\n",
      "       angry       0.37      0.45      0.41        77\n",
      "       happy       0.43      0.51      0.47       115\n",
      "         sad       0.47      0.59      0.52        97\n",
      "   surprised       0.71      0.32      0.44       113\n",
      "\n",
      "    accuracy                           0.47       402\n",
      "   macro avg       0.50      0.47      0.46       402\n",
      "weighted avg       0.51      0.47      0.46       402\n",
      "\n",
      "Accuracy of KNN : \n",
      "\n",
      "Train Accuracy : 70.48093 %\n",
      "Test Accuracy : 46.51741 % \n",
      "\n",
      "Train Recall :  0.7048092868988391\n",
      "Test Recall :  0.4651741293532338 \n",
      "\n",
      "Test F1 :  0.4624844268555733\n",
      "Test precison :  0.5075095507629263\n"
     ]
    },
    {
     "data": {
      "image/png": "[encoded data removed]",
      "text/plain": [
       "<Figure size 576x288 with 2 Axes>"
      ]
     },
     "metadata": {},
     "output_type": "display_data"
    },
    {
     "name": "stdout",
     "output_type": "stream",
     "text": [
      "\n",
      "KNN classifier ( k = 7)\n",
      "\n",
      "\n",
      "KNNClassifier: \n",
      "\n",
      "Confusion Matrix:\n",
      " [[36 18 19  4]\n",
      " [20 70 19  6]\n",
      " [23 17 50  7]\n",
      " [10 37 18 48]]\n",
      "Classification Report : \n",
      "               precision    recall  f1-score   support\n",
      "\n",
      "       angry       0.40      0.47      0.43        77\n",
      "       happy       0.49      0.61      0.54       115\n",
      "         sad       0.47      0.52      0.49        97\n",
      "   surprised       0.74      0.42      0.54       113\n",
      "\n",
      "    accuracy                           0.51       402\n",
      "   macro avg       0.53      0.50      0.50       402\n",
      "weighted avg       0.54      0.51      0.51       402\n",
      "\n",
      "Accuracy of KNN : \n",
      "\n",
      "Train Accuracy : 68.98839 %\n",
      "Test Accuracy : 50.74627 % \n",
      "\n",
      "Train Recall :  0.6898839137645107\n",
      "Test Recall :  0.5074626865671642 \n",
      "\n",
      "Test F1 :  0.5093795428223361\n",
      "Test precison :  0.5398932315624047\n"
     ]
    },
    {
     "data": {
      "image/png": "[encoded data removed]",
      "text/plain": [
       "<Figure size 576x288 with 2 Axes>"
      ]
     },
     "metadata": {},
     "output_type": "display_data"
    },
    {
     "name": "stdout",
     "output_type": "stream",
     "text": [
      "\n",
      "KNN classifier ( k = 9)\n",
      "\n",
      "\n",
      "KNNClassifier: \n",
      "\n",
      "Confusion Matrix:\n",
      " [[29 24 18  6]\n",
      " [15 69 26  5]\n",
      " [24 15 54  4]\n",
      " [ 9 31 20 53]]\n",
      "Classification Report : \n",
      "               precision    recall  f1-score   support\n",
      "\n",
      "       angry       0.38      0.38      0.38        77\n",
      "       happy       0.50      0.60      0.54       115\n",
      "         sad       0.46      0.56      0.50        97\n",
      "   surprised       0.78      0.47      0.59       113\n",
      "\n",
      "    accuracy                           0.51       402\n",
      "   macro avg       0.53      0.50      0.50       402\n",
      "weighted avg       0.54      0.51      0.51       402\n",
      "\n",
      "Accuracy of KNN : \n",
      "\n",
      "Train Accuracy : 62.52073 %\n",
      "Test Accuracy : 50.99502 % \n",
      "\n",
      "Train Recall :  0.6252072968490879\n",
      "Test Recall :  0.5099502487562189 \n",
      "\n",
      "Test F1 :  0.5133897809355454\n",
      "Test precison :  0.5436559474017191\n"
     ]
    },
    {
     "data": {
      "image/png": "[encoded data removed]",
      "text/plain": [
       "<Figure size 576x288 with 2 Axes>"
      ]
     },
     "metadata": {},
     "output_type": "display_data"
    },
    {
     "name": "stdout",
     "output_type": "stream",
     "text": [
      "\n",
      "KNN classifier ( k = 19)\n",
      "\n",
      "\n",
      "KNNClassifier: \n",
      "\n",
      "Confusion Matrix:\n",
      " [[26 26 19  6]\n",
      " [11 75 23  6]\n",
      " [15 19 58  5]\n",
      " [ 4 33 24 52]]\n",
      "Classification Report : \n",
      "               precision    recall  f1-score   support\n",
      "\n",
      "       angry       0.46      0.34      0.39        77\n",
      "       happy       0.49      0.65      0.56       115\n",
      "         sad       0.47      0.60      0.52        97\n",
      "   surprised       0.75      0.46      0.57       113\n",
      "\n",
      "    accuracy                           0.52       402\n",
      "   macro avg       0.54      0.51      0.51       402\n",
      "weighted avg       0.55      0.52      0.52       402\n",
      "\n",
      "Accuracy of KNN : \n",
      "\n",
      "Train Accuracy : 59.36982 %\n",
      "Test Accuracy : 52.48756 % \n",
      "\n",
      "Train Recall :  0.593698175787728\n",
      "Test Recall :  0.5248756218905473 \n",
      "\n",
      "Test F1 :  0.5222795784090438\n",
      "Test precison :  0.5538630274910408\n"
     ]
    },
    {
     "data": {
      "image/png": "[encoded data removed]",
      "text/plain": [
       "<Figure size 576x288 with 2 Axes>"
      ]
     },
     "metadata": {},
     "output_type": "display_data"
    }
   ],
   "source": [
    "# Decision Tree Classifier:............................................................................\n",
    "\n",
    "name = \"Decision Tree\"\n",
    "dt = DecisionTreeClassifier(criterion=\"entropy\", max_depth=5)\n",
    "dt_acc = train_model(dt, name)\n",
    "\n",
    "\n",
    "# Logistic Regression Final:..........................................................................\n",
    "\n",
    "name = \"Logistic Regression\"\n",
    "lr = LogisticRegression()\n",
    "lr_acc = train_model(lr, name)\n",
    "\n",
    "\n",
    "# SVM Classifier:.....................................................................................\n",
    "\n",
    "name = \"SVM\"\n",
    "svm = SVC(kernel='linear')\n",
    "svm_acc = train_model(svm, name)\n",
    "\n",
    "\n",
    "# Random Forest Classifier:..................................................................................\n",
    "\n",
    "name = \"Random Forest\"\n",
    "rn = RandomForestClassifier(n_estimators=90)\n",
    "rn_acc = train_model(rn, name)\n",
    "\n",
    "\n",
    "# Naive Bayes Classifier:........................................................................\n",
    "\n",
    "name = \"Naive Bayes\"\n",
    "nb = GaussianNB()\n",
    "nb_acc = train_model(nb, name)\n",
    "\n",
    "\n",
    "# xgBoost classifier:.........................................................................\n",
    "\n",
    "name = \"xgBoots\"\n",
    "xgb = XGBClassifier(n_estimators=10,objective ='binary:logistic',colsample_bytree = 0.3, learning_rate = 0.1,\n",
    "                max_depth = 5, alpha = 10,)\n",
    "xgb_acc = train_model(xgb, name)\n",
    "\n",
    "\n",
    "# ADABoost Classifier:.......................................\n",
    "\n",
    "name = \" ADABoost\"\n",
    "adab = AdaBoostClassifier()\n",
    "adab_acc = train_model(adab, name)\n",
    "\n",
    "\n",
    "# GradientBoost Classifier:.......................................\n",
    "\n",
    "name = \"Gradient Boost\"\n",
    "gb = GradientBoostingClassifier()\n",
    "gb_acc = train_model(gb, name)\n",
    "\n",
    "# Knn Classifier:..................................................................................\n",
    "\n",
    "name = \"KNN\"\n",
    "neighbors = [5, 7, 9, 19,]\n",
    "k_pred = []\n",
    "\n",
    "for k in neighbors:\n",
    "    print(f\"\\nKNN classifier ( k = {k})\\n\")\n",
    "    knn = KNeighborsClassifier(n_neighbors= k)\n",
    "    knn_acc = train_model(knn, name)\n",
    "    k_pred.append(knn_acc)\n",
    "    \n"
   ]
  },
  {
   "cell_type": "code",
   "execution_count": 20,
   "metadata": {},
   "outputs": [
    {
     "data": {
      "image/png": "[encoded data removed]",
      "text/plain": [
       "<Figure size 1440x864 with 1 Axes>"
      ]
     },
     "metadata": {},
     "output_type": "display_data"
    }
   ],
   "source": [
    "# Make a plot...........................................................................................\n",
    "\n",
    "height = [dt_acc*100, lr_acc*100, rn_acc*100, nb_acc*100, svm_acc*100, xgb_acc*100, adab_acc*100,\n",
    "          gb_acc*100]\n",
    "bars = ('Decision tree', 'Logistic','Random', 'Naive Bayes','SVM', 'xGBoost', 'ADABoost',\n",
    "        'GradientBoost')\n",
    "\n",
    "y_pos = np.arange(len(bars))\n",
    "\n",
    "plt.figure(figsize=(20, 12))\n",
    "plt.bar(y_pos, height, color=['red', 'pink', 'palegreen', 'green', 'blue', 'yellow', 'brown','magenta'])\n",
    "plt.xticks(y_pos, bars)\n",
    "plt.title('Accuracy Comparision', size = 30)\n",
    "plt.show()"
   ]
  },
  {
   "cell_type": "code",
   "execution_count": null,
   "metadata": {},
   "outputs": [],
   "source": []
  },
  {
   "cell_type": "markdown",
   "metadata": {},
   "source": [
    "# Classifier after tuning"
   ]
  },
  {
   "cell_type": "code",
   "execution_count": 6,
   "metadata": {},
   "outputs": [],
   "source": [
    "def test(model, name):\n",
    "    train_pred = model.predict(X_train)\n",
    "    test_pred = model.predict(X_test)\n",
    "    \n",
    "    print(\"\\n\"+ name + \" Classifier: \\n\")\n",
    "\n",
    "    test_matrics = confusion_matrix(y_test, test_pred)\n",
    "    print(\"Confusion Matrix:\\n\", test_matrics)\n",
    "\n",
    "    test_report = classification_report(y_test, test_pred)\n",
    "    print(\"Classification Report : \\n\", test_report)\n",
    "    \n",
    "    test_acc = accuracy_score(y_test, test_pred)                     # test accuracy\n",
    "    train_acc = accuracy_score(y_train, train_pred)\n",
    "    \n",
    "    print(\"Accuracy of \" + name + \" : \\n\")\n",
    "          \n",
    "    print('Train Accuracy : {:.5f} %'.format(train_acc * 100))\n",
    "    print('Test Accuracy : {:.5f} % \\n'.format(test_acc * 100))\n",
    "\n",
    "    print('Train recall: ', recall_score(y_train, train_pred, average='macro'))\n",
    "    print(\"Test recall:\", recall_score(y_test, test_pred, average='macro'), '\\n')\n",
    "    \n",
    "    print(\"Test f1:\", f1_score(y_test, test_pred, average='macro'))\n",
    "    print(\"Test precison : \", precision_score(y_test, test_pred, average='weighted'))\n",
    "    \n",
    "    style.use('fivethirtyeight')\n",
    "    sns.set(style='whitegrid', color_codes=True, font_scale=1.2)   # 'font_scale' = size of label \n",
    "    \n",
    "    plt.figure(figsize=(6,4))\n",
    "    sns.heatmap(test_matrics, annot=True, annot_kws={\"size\": 17}, fmt = \"d\")\n",
    "    plt.show()\n",
    "\n",
    "    return test_acc\n",
    "\n",
    "    \n",
    "def save_model(model, name):\n",
    "    with open(name, 'wb') as f:\n",
    "        pickle.dump(model, f)\n",
    "        print(\"model saved\")"
   ]
  },
  {
   "cell_type": "code",
   "execution_count": 22,
   "metadata": {
    "scrolled": true
   },
   "outputs": [
    {
     "name": "stdout",
     "output_type": "stream",
     "text": [
      "\n",
      "Decision Tree Classifier: \n",
      "\n",
      "Confusion Matrix:\n",
      " [[67  2  6  2]\n",
      " [ 2 99  6  8]\n",
      " [ 0  0 91  6]\n",
      " [10  6  2 95]]\n",
      "Classification Report : \n",
      "               precision    recall  f1-score   support\n",
      "\n",
      "       angry       0.85      0.87      0.86        77\n",
      "       happy       0.93      0.86      0.89       115\n",
      "         sad       0.87      0.94      0.90        97\n",
      "   surprised       0.86      0.84      0.85       113\n",
      "\n",
      "    accuracy                           0.88       402\n",
      "   macro avg       0.87      0.88      0.88       402\n",
      "weighted avg       0.88      0.88      0.88       402\n",
      "\n",
      "Accuracy of Decision Tree : \n",
      "\n",
      "Train Accuracy : 100.00000 %\n",
      "Test Accuracy : 87.56219 % \n",
      "\n",
      "Train recall:  1.0\n",
      "Test recall: 0.8774629324614847 \n",
      "\n",
      "Test f1: 0.8750176588976094\n",
      "Test precison :  0.8768259826010231\n"
     ]
    },
    {
     "data": {
      "image/png": "[encoded data removed]",
      "text/plain": [
       "<Figure size 576x288 with 2 Axes>"
      ]
     },
     "metadata": {},
     "output_type": "display_data"
    }
   ],
   "source": [
    "# ******************** Decision TreeFinal ******************\n",
    "\n",
    "name = \"Decision Tree\"\n",
    "dt_estimator = DecisionTreeClassifier(criterion='entropy', max_depth=15, max_features=8,\n",
    "                       random_state=1)\n",
    "dt_model = dt_estimator.fit(X_train, y_train)\n",
    "\n",
    "dt_acc = test(dt_model, name)\n",
    "# save_model(dt_model, 'model_decision_tree.pickle')"
   ]
  },
  {
   "cell_type": "code",
   "execution_count": 23,
   "metadata": {
    "scrolled": true
   },
   "outputs": [
    {
     "name": "stdout",
     "output_type": "stream",
     "text": [
      "\n",
      "Logistic Regression Classifier: \n",
      "\n",
      "Confusion Matrix:\n",
      " [[ 77   0   0   0]\n",
      " [  2 109   2   2]\n",
      " [  0   0  97   0]\n",
      " [  4   0   0 109]]\n",
      "Classification Report : \n",
      "               precision    recall  f1-score   support\n",
      "\n",
      "       angry       0.93      1.00      0.96        77\n",
      "       happy       1.00      0.95      0.97       115\n",
      "         sad       0.98      1.00      0.99        97\n",
      "   surprised       0.98      0.96      0.97       113\n",
      "\n",
      "    accuracy                           0.98       402\n",
      "   macro avg       0.97      0.98      0.97       402\n",
      "weighted avg       0.98      0.98      0.98       402\n",
      "\n",
      "Accuracy of Logistic Regression : \n",
      "\n",
      "Train Accuracy : 100.00000 %\n",
      "Test Accuracy : 97.51244 % \n",
      "\n",
      "Train recall:  1.0\n",
      "Test recall: 0.9781069642170065 \n",
      "\n",
      "Test f1: 0.9746811224489795\n",
      "Test precison :  0.9762141864281767\n"
     ]
    },
    {
     "data": {
      "image/png": "[encoded data removed]",
      "text/plain": [
       "<Figure size 576x288 with 2 Axes>"
      ]
     },
     "metadata": {},
     "output_type": "display_data"
    }
   ],
   "source": [
    "# ********************* Logistic Regression Final *****************************\n",
    "\n",
    "name = \"Logistic Regression\"\n",
    "lr_estimetor = LogisticRegression(C=0.6, solver='liblinear')\n",
    "\n",
    "lr_model = lr_estimetor.fit(X_train, y_train)\n",
    "\n",
    "lr_acc = test(lr_model, name)\n",
    "# save_model(lr_model, 'model_logistic_regression.pickle')"
   ]
  },
  {
   "cell_type": "code",
   "execution_count": 8,
   "metadata": {
    "scrolled": true
   },
   "outputs": [
    {
     "name": "stdout",
     "output_type": "stream",
     "text": [
      "\n",
      "SVM Classifier: \n",
      "\n",
      "Confusion Matrix:\n",
      " [[ 73   4   0   0]\n",
      " [  2 109   2   2]\n",
      " [  0   0  97   0]\n",
      " [  4   0   0 109]]\n",
      "Classification Report : \n",
      "               precision    recall  f1-score   support\n",
      "\n",
      "       angry       0.92      0.95      0.94        77\n",
      "       happy       0.96      0.95      0.96       115\n",
      "         sad       0.98      1.00      0.99        97\n",
      "   surprised       0.98      0.96      0.97       113\n",
      "\n",
      "    accuracy                           0.97       402\n",
      "   macro avg       0.96      0.97      0.96       402\n",
      "weighted avg       0.97      0.97      0.97       402\n",
      "\n",
      "Accuracy of SVM : \n",
      "\n",
      "Train Accuracy : 100.00000 %\n",
      "Test Accuracy : 96.51741 % \n",
      "\n",
      "Train recall:  1.0\n",
      "Test recall: 0.9651199512299935 \n",
      "\n",
      "Test f1: 0.9637619977140653\n",
      "Test precison :  0.9653867419859906\n"
     ]
    },
    {
     "data": {
      "image/png": "[encoded data removed]",
      "text/plain": [
       "<Figure size 576x288 with 2 Axes>"
      ]
     },
     "metadata": {},
     "output_type": "display_data"
    },
    {
     "name": "stdout",
     "output_type": "stream",
     "text": [
      "model saved\n"
     ]
    }
   ],
   "source": [
    "# ******************** SVM Final ******************\n",
    "\n",
    "name = \"SVM\"\n",
    "svm_estimetor = SVC(C=0.0001, break_ties=False, cache_size=200, class_weight=None, coef0=0.0,\n",
    "    decision_function_shape='ovr', degree=3, gamma=7, kernel='linear',\n",
    "    max_iter=-1, probability=False, random_state=None, shrinking=True,\n",
    "    tol=0.001, verbose=False)\n",
    "\n",
    "svm_estimetor.probability = True\n",
    "svm_model = svm_estimetor.fit(X_train, y_train)\n",
    "\n",
    "svm_acc = test(svm_model, name)\n",
    "# save_model(svm_model, 'model_svm.pickle')"
   ]
  },
  {
   "cell_type": "code",
   "execution_count": 26,
   "metadata": {
    "scrolled": true
   },
   "outputs": [
    {
     "name": "stdout",
     "output_type": "stream",
     "text": [
      "\n",
      "Random Forest Classifier: \n",
      "\n",
      "Confusion Matrix:\n",
      " [[ 71   4   0   2]\n",
      " [  4 107   4   0]\n",
      " [  0   0  97   0]\n",
      " [  2   0   0 111]]\n",
      "Classification Report : \n",
      "               precision    recall  f1-score   support\n",
      "\n",
      "       angry       0.92      0.92      0.92        77\n",
      "       happy       0.96      0.93      0.95       115\n",
      "         sad       0.96      1.00      0.98        97\n",
      "   surprised       0.98      0.98      0.98       113\n",
      "\n",
      "    accuracy                           0.96       402\n",
      "   macro avg       0.96      0.96      0.96       402\n",
      "weighted avg       0.96      0.96      0.96       402\n",
      "\n",
      "Accuracy of Random Forest : \n",
      "\n",
      "Train Accuracy : 100.00000 %\n",
      "Test Accuracy : 96.01990 % \n",
      "\n",
      "Train recall:  1.0\n",
      "Test recall: 0.9587033974105924 \n",
      "\n",
      "Test f1: 0.9577698604247277\n",
      "Test precison :  0.9602345067100497\n"
     ]
    },
    {
     "data": {
      "image/png": "[encoded data removed]",
      "text/plain": [
       "<Figure size 576x288 with 2 Axes>"
      ]
     },
     "metadata": {},
     "output_type": "display_data"
    }
   ],
   "source": [
    "# ******************** Random Forest Final ******************\n",
    "\n",
    "name = \"Random Forest\"\n",
    "rf_estimetor = RandomForestClassifier(max_depth=10, min_samples_leaf=4, n_estimators=94,\n",
    "                       random_state=137)\n",
    "\n",
    "rf_model = rf_estimetor.fit(X_train, y_train)\n",
    "\n",
    "rf_acc = test(rf_model, name)\n",
    "# save_model(rf_model, 'model_random_forest.pickle')"
   ]
  },
  {
   "cell_type": "code",
   "execution_count": 27,
   "metadata": {
    "scrolled": true
   },
   "outputs": [
    {
     "name": "stdout",
     "output_type": "stream",
     "text": [
      "\n",
      "xgBoost Classifier: \n",
      "\n",
      "Confusion Matrix:\n",
      " [[ 73   4   0   0]\n",
      " [  4 107   2   2]\n",
      " [  3   0  94   0]\n",
      " [  0   0   2 111]]\n",
      "Classification Report : \n",
      "               precision    recall  f1-score   support\n",
      "\n",
      "       angry       0.91      0.95      0.93        77\n",
      "       happy       0.96      0.93      0.95       115\n",
      "         sad       0.96      0.97      0.96        97\n",
      "   surprised       0.98      0.98      0.98       113\n",
      "\n",
      "    accuracy                           0.96       402\n",
      "   macro avg       0.95      0.96      0.96       402\n",
      "weighted avg       0.96      0.96      0.96       402\n",
      "\n",
      "Accuracy of xgBoost : \n",
      "\n",
      "Train Accuracy : 100.00000 %\n",
      "Test Accuracy : 95.77114 % \n",
      "\n",
      "Train recall:  1.0\n",
      "Test recall: 0.9574649451412124 \n",
      "\n",
      "Test f1: 0.9558106024145142\n",
      "Test precison :  0.9581073934885235\n"
     ]
    },
    {
     "data": {
      "image/png": "[encoded data removed]",
      "text/plain": [
       "<Figure size 576x288 with 2 Axes>"
      ]
     },
     "metadata": {},
     "output_type": "display_data"
    }
   ],
   "source": [
    "# ******************** xgBoost Final ******************\n",
    "\n",
    "name = \"xgBoost\"\n",
    "xgb_estimetor = XGBClassifier(base_score=0.5, booster=None, class_weight='balanced',\n",
    "        colsample_bylevel=1, colsample_bynode=1, colsample_bytree=0.8, gamma=0, gpu_id=-1,\n",
    "        importance_type='gain', interaction_constraints=None, learning_rate=0.1, max_delta_step=0,\n",
    "        max_depth=10, min_child_weight=1, monotone_constraints=None, n_estimators=50, n_jobs=1,\n",
    "        nthread=1, num_parallel_tree=1, objective='multi:softprob', random_state=0, reg_alpha=0,\n",
    "        reg_lambda=1, scale_pos_weight=None, silent=True, subsample=0.5, tree_method=None,\n",
    "        validate_parameters=False, verbosity=None)\n",
    "\n",
    "xgb_model = xgb_estimetor.fit(X_train, y_train)\n",
    "\n",
    "xgb_acc = test(xgb_model, name)\n",
    "# save_model(rf_model, 'model_xgBoost.pickle')"
   ]
  },
  {
   "cell_type": "code",
   "execution_count": 29,
   "metadata": {
    "scrolled": true
   },
   "outputs": [
    {
     "name": "stdout",
     "output_type": "stream",
     "text": [
      "\n",
      "Gradient Boosting Machine Classifier: \n",
      "\n",
      "Confusion Matrix:\n",
      " [[ 71   2   2   2]\n",
      " [  2 105   6   2]\n",
      " [  3   0  94   0]\n",
      " [  2   0   0 111]]\n",
      "Classification Report : \n",
      "               precision    recall  f1-score   support\n",
      "\n",
      "       angry       0.91      0.92      0.92        77\n",
      "       happy       0.98      0.91      0.95       115\n",
      "         sad       0.92      0.97      0.94        97\n",
      "   surprised       0.97      0.98      0.97       113\n",
      "\n",
      "    accuracy                           0.95       402\n",
      "   macro avg       0.94      0.95      0.95       402\n",
      "weighted avg       0.95      0.95      0.95       402\n",
      "\n",
      "Accuracy of Gradient Boosting Machine : \n",
      "\n",
      "Train Accuracy : 100.00000 %\n",
      "Test Accuracy : 94.77612 % \n",
      "\n",
      "Train recall:  1.0\n",
      "Test recall: 0.9466236125607493 \n",
      "\n",
      "Test f1: 0.9451207017051947\n",
      "Test precison :  0.9487610272626856\n"
     ]
    },
    {
     "data": {
      "image/png": "[encoded data removed]",
      "text/plain": [
       "<Figure size 576x288 with 2 Axes>"
      ]
     },
     "metadata": {},
     "output_type": "display_data"
    }
   ],
   "source": [
    "# ******************** Gradient Boosting MachineFinal ******************\n",
    "\n",
    "name = \"Gradient Boosting Machine\"\n",
    "gbm_estimetor = GradientBoostingClassifier(learning_rate=0.2, max_depth=2, n_estimators=120)\n",
    "\n",
    "gbm_model = gbm_estimetor.fit(X_train, y_train)\n",
    "\n",
    "gbm_acc = test(gbm_model, name)\n",
    "# save_model(gbm_model, 'model_gradient_boosting_machine.pickle')"
   ]
  },
  {
   "cell_type": "code",
   "execution_count": 30,
   "metadata": {
    "scrolled": true
   },
   "outputs": [
    {
     "name": "stdout",
     "output_type": "stream",
     "text": [
      "\n",
      "ADABoost Classifier: \n",
      "\n",
      "Confusion Matrix:\n",
      " [[60  8  7  2]\n",
      " [25 86  4  0]\n",
      " [23  0 73  1]\n",
      " [ 8  3  7 95]]\n",
      "Classification Report : \n",
      "               precision    recall  f1-score   support\n",
      "\n",
      "       angry       0.52      0.78      0.62        77\n",
      "       happy       0.89      0.75      0.81       115\n",
      "         sad       0.80      0.75      0.78        97\n",
      "   surprised       0.97      0.84      0.90       113\n",
      "\n",
      "    accuracy                           0.78       402\n",
      "   macro avg       0.79      0.78      0.78       402\n",
      "weighted avg       0.82      0.78      0.79       402\n",
      "\n",
      "Accuracy of ADABoost : \n",
      "\n",
      "Train Accuracy : 88.64013 %\n",
      "Test Accuracy : 78.10945 % \n",
      "\n",
      "Train recall:  0.8827369754656638\n",
      "Test recall: 0.780083037591675 \n",
      "\n",
      "Test f1: 0.7775380227695523\n",
      "Test precison :  0.8187570951074923\n"
     ]
    },
    {
     "data": {
      "image/png": "[encoded data removed]",
      "text/plain": [
       "<Figure size 576x288 with 2 Axes>"
      ]
     },
     "metadata": {},
     "output_type": "display_data"
    }
   ],
   "source": [
    "# ******************** ADABoost Final ******************\n",
    "\n",
    "name = \"ADABoost\"\n",
    "adab_estimetor = AdaBoostClassifier(n_estimators=120, random_state=10)\n",
    "\n",
    "adab_model = adab_estimetor.fit(X_train, y_train)\n",
    "\n",
    "adab_acc = test(adab_model, name)\n",
    "# save_model(gbm_model, 'model_gradient_boosting_machine.pickle')"
   ]
  },
  {
   "cell_type": "code",
   "execution_count": 31,
   "metadata": {
    "scrolled": true
   },
   "outputs": [
    {
     "name": "stdout",
     "output_type": "stream",
     "text": [
      "\n",
      "Naive Bayes Classifier: \n",
      "\n",
      "Confusion Matrix:\n",
      " [[44 12 11 10]\n",
      " [23 74 11  7]\n",
      " [31  6 53  7]\n",
      " [28  7  7 71]]\n",
      "Classification Report : \n",
      "               precision    recall  f1-score   support\n",
      "\n",
      "       angry       0.35      0.57      0.43        77\n",
      "       happy       0.75      0.64      0.69       115\n",
      "         sad       0.65      0.55      0.59        97\n",
      "   surprised       0.75      0.63      0.68       113\n",
      "\n",
      "    accuracy                           0.60       402\n",
      "   macro avg       0.62      0.60      0.60       402\n",
      "weighted avg       0.65      0.60      0.62       402\n",
      "\n",
      "Accuracy of Naive Bayes : \n",
      "\n",
      "Train Accuracy : 68.32504 %\n",
      "Test Accuracy : 60.19900 % \n",
      "\n",
      "Train recall:  0.6826029847317188\n",
      "Test recall: 0.5974042922365631 \n",
      "\n",
      "Test f1: 0.5999893501586426\n",
      "Test precison :  0.6467568118871933\n"
     ]
    },
    {
     "data": {
      "image/png": "[encoded data removed]",
      "text/plain": [
       "<Figure size 576x288 with 2 Axes>"
      ]
     },
     "metadata": {},
     "output_type": "display_data"
    }
   ],
   "source": [
    "# ******************** Naive Bayes Final ******************\n",
    "\n",
    "name = \"Naive Bayes\"\n",
    "nb_estimetor = GaussianNB(var_smoothing=0.01)\n",
    "\n",
    "nb_model = nb_estimetor.fit(X_train, y_train)\n",
    "\n",
    "nb_acc = test(nb_model, name)\n",
    "# save_model(knn_model, 'model_knn.pickle')"
   ]
  },
  {
   "cell_type": "code",
   "execution_count": 32,
   "metadata": {
    "scrolled": true
   },
   "outputs": [
    {
     "name": "stdout",
     "output_type": "stream",
     "text": [
      "\n",
      "KNN Classifier: \n",
      "\n",
      "Confusion Matrix:\n",
      " [[28 25 19  5]\n",
      " [ 8 76 23  8]\n",
      " [18 20 56  3]\n",
      " [ 5 30 24 54]]\n",
      "Classification Report : \n",
      "               precision    recall  f1-score   support\n",
      "\n",
      "       angry       0.47      0.36      0.41        77\n",
      "       happy       0.50      0.66      0.57       115\n",
      "         sad       0.46      0.58      0.51        97\n",
      "   surprised       0.77      0.48      0.59       113\n",
      "\n",
      "    accuracy                           0.53       402\n",
      "   macro avg       0.55      0.52      0.52       402\n",
      "weighted avg       0.56      0.53      0.53       402\n",
      "\n",
      "Accuracy of KNN : \n",
      "\n",
      "Train Accuracy : 61.60862 %\n",
      "Test Accuracy : 53.23383 % \n",
      "\n",
      "Train recall:  0.6092995734476012\n",
      "Test recall: 0.5199254056693278 \n",
      "\n",
      "Test f1: 0.5211931842128272\n",
      "Test precison :  0.562485538106233\n"
     ]
    },
    {
     "data": {
      "image/png": "[encoded data removed]",
      "text/plain": [
       "<Figure size 576x288 with 2 Axes>"
      ]
     },
     "metadata": {},
     "output_type": "display_data"
    }
   ],
   "source": [
    "# ******************** KNN Final ******************\n",
    "\n",
    "name = \"KNN\"\n",
    "knn_estimetor = KNeighborsClassifier(metric='manhattan', n_neighbors=17)\n",
    "\n",
    "knn_model = knn_estimetor.fit(X_train, y_train)\n",
    "\n",
    "knn_acc = test(knn_model, name)\n",
    "# save_model(knn_model, 'model_knn.pickle')"
   ]
  },
  {
   "cell_type": "code",
   "execution_count": 33,
   "metadata": {
    "scrolled": true
   },
   "outputs": [
    {
     "data": {
      "image/png": "[encoded data removed]",
      "text/plain": [
       "<Figure size 1440x864 with 1 Axes>"
      ]
     },
     "metadata": {},
     "output_type": "display_data"
    }
   ],
   "source": [
    "# Make a plot...........................................................................................\n",
    "\n",
    "height = [dt_acc*100, lr_acc*100, rn_acc*100, nb_acc*100, svm_acc*100, xgb_acc*100, adab_acc*100, gbm_acc*100]\n",
    "\n",
    "bars = ('Decision tree', 'Logistic', 'Random', 'Naive Bayes','SVM', 'xGBoost', 'ADABoost', 'GradientBoost')\n",
    "\n",
    "y_pos = np.arange(len(bars))\n",
    "\n",
    "plt.figure(figsize=(20, 12))\n",
    "plt.bar(y_pos, height, color=['red', 'pink', 'palegreen', 'green', 'blue', 'yellow', 'brown', 'magenta'])\n",
    "plt.xticks(y_pos, bars)\n",
    "plt.title('Accuracy Comparision', size = 30)\n",
    "plt.show()"
   ]
  },
  {
   "cell_type": "markdown",
   "metadata": {},
   "source": [
    "# Tuning process section"
   ]
  },
  {
   "cell_type": "code",
   "execution_count": null,
   "metadata": {},
   "outputs": [],
   "source": [
    "def test_tuning(grid_tree.best_estimator_):\n",
    "    train_pred = grid_tree.best_estimator_.predict(X_train)\n",
    "    y_pred = grid_tree.best_estimator_.predict(X_test)\n",
    "\n",
    "    print('Train Accuracy: ', accuracy_score(y_train, train_pred ))\n",
    "    print(\"Test Accuracy:\", accuracy_score(y_test, y_pred), '\\n')\n",
    "    print('Train recall: ', recall_score(y_train, train_pred, average='macro'))\n",
    "    print(\"Test recall:\", recall_score(y_test, y_pred, average='macro'), '\\n')\n",
    "    print(\"Test f1:\", f1_score(y_test, y_pred, average='macro'))"
   ]
  },
  {
   "cell_type": "markdown",
   "metadata": {},
   "source": [
    "# Decision Tree - OK"
   ]
  },
  {
   "cell_type": "code",
   "execution_count": null,
   "metadata": {},
   "outputs": [],
   "source": [
    "\n",
    "decision_tree = DecisionTreeClassifier(random_state=1)\n",
    "\n",
    "# creating our parameters to test\n",
    "param_dict={'max_depth': [14,15,17], 'min_samples_leaf':range(1,30,2), 'criterion': ['gini','entropy'],\n",
    "           'max_features': range(0,9)}\n",
    "\n",
    "#create the instance of GridSearchCV using the recall metric for our scoring. \n",
    "grid_tree= GridSearchCV(decision_tree, param_dict, cv=5, scoring='accuracy', verbose=1, n_jobs=-1)\n",
    "\n",
    "#fit the Gridsearch to our data\n",
    "grid_tree.fit(X_train,y_train)"
   ]
  },
  {
   "cell_type": "code",
   "execution_count": null,
   "metadata": {},
   "outputs": [],
   "source": [
    "print(grid_tree.best_score_)\n",
    "print(grid_tree.best_params_)\n",
    "print(grid_tree.best_estimator_)\n",
    "print(\"n\")"
   ]
  },
  {
   "cell_type": "code",
   "execution_count": null,
   "metadata": {},
   "outputs": [],
   "source": [
    "test_tuning(grid_tree.best_estimator_)\n",
    "\n",
    "model_dt = grid_tree.best_estimator_"
   ]
  },
  {
   "cell_type": "markdown",
   "metadata": {},
   "source": [
    "# Logistic Regression - OK"
   ]
  },
  {
   "cell_type": "code",
   "execution_count": null,
   "metadata": {},
   "outputs": [],
   "source": [
    "# Logistic Regression*****************************\n",
    "\n",
    "with tf.device('/device:GPU:0'):\n",
    "\n",
    "    lr = LogisticRegression()  # instantiate the model object\n",
    "    #'newton-cg', 'lbfgs', 'liblinear'', 'sag', 'saga'\n",
    "    param_dict={'solver':[ 'lbfgs', 'liblinear', 'sag', 'saga'], 'C': [0.5, 0.6, 0.7], \n",
    "               'penalty': ['l1', 'l2', 'elasticnet']}  # set parameters to be searched through GridSearch\n",
    "\n",
    "    #create the instance of GridSearchCV using the recall metric for our scoring. \n",
    "    grid_tree= GridSearchCV(lr, param_dict, cv=5, scoring='accuracy', verbose=1, n_jobs=-1)\n",
    "    #fit the Gridsearch to our data\n",
    "    grid_tree.fit(X_train,y_train)\n",
    "  "
   ]
  },
  {
   "cell_type": "code",
   "execution_count": null,
   "metadata": {},
   "outputs": [],
   "source": [
    "print(grid_tree.best_score_)  # outputs the best metric score\n",
    "print(grid_tree.best_params_)  # outputs the parameters with best result\n",
    "print(grid_tree.best_estimator_)  # outputs the model with the best parameters"
   ]
  },
  {
   "cell_type": "code",
   "execution_count": null,
   "metadata": {},
   "outputs": [],
   "source": [
    "test_tuning(grid_tree.best_estimator_)"
   ]
  },
  {
   "cell_type": "markdown",
   "metadata": {},
   "source": [
    "# SVM - OK"
   ]
  },
  {
   "cell_type": "code",
   "execution_count": null,
   "metadata": {},
   "outputs": [],
   "source": [
    "# SVM ******************************** 'sigmoid', 'precomputed'\n",
    "\n",
    "svm = SVC()\n",
    "# defining parameter range \n",
    "param_grid = {'C': [0.0001, 0.001, 0.01], 'gamma': [8,7,6], 'kernel': ['rbf','linear','poly']}\n",
    "\n",
    "grid_tree=GridSearchCV(svm, param_grid, cv=5, scoring='accuracy', verbose=1, n_jobs=-1)\n",
    "svm_model = grid_tree.fit(X_train, y_train)"
   ]
  },
  {
   "cell_type": "code",
   "execution_count": null,
   "metadata": {},
   "outputs": [],
   "source": [
    "print(grid_tree.best_score_)\n",
    "print(grid_tree.best_params_)\n",
    "print(grid_tree.best_estimator_)"
   ]
  },
  {
   "cell_type": "code",
   "execution_count": null,
   "metadata": {},
   "outputs": [],
   "source": [
    "test_tuning(grid_tree.best_estimator_)"
   ]
  },
  {
   "cell_type": "markdown",
   "metadata": {},
   "source": [
    "# Random Forest - OK"
   ]
  },
  {
   "cell_type": "code",
   "execution_count": null,
   "metadata": {},
   "outputs": [],
   "source": [
    "rfcc = RandomForestClassifier(random_state=137)\n",
    "param_grid = {'max_depth':[8,9,10], 'n_estimators': [90,94,97 ], \n",
    "              'max_features': ['auto', 'log2', 'sqrt'], 'criterion': [ 'gini', 'entropy'],\n",
    "              'min_samples_split': [ 2,3,4,5],'min_samples_leaf': [4,5,8]}\n",
    "\n",
    "grid_tree=GridSearchCV(rfcc, param_grid, cv=5, scoring='accuracy', verbose=1, n_jobs=-1)\n",
    "model = grid_tree.fit(X_train, y_train)"
   ]
  },
  {
   "cell_type": "code",
   "execution_count": null,
   "metadata": {},
   "outputs": [],
   "source": [
    "print(grid_tree.best_score_)\n",
    "print(grid_tree.best_params_)\n",
    "print(grid_tree.best_estimator_)"
   ]
  },
  {
   "cell_type": "code",
   "execution_count": null,
   "metadata": {},
   "outputs": [],
   "source": [
    "test_tuning(grid_tree.best_estimator_)"
   ]
  },
  {
   "cell_type": "code",
   "execution_count": null,
   "metadata": {},
   "outputs": [],
   "source": [
    "print(\"Classification Report: \\n\\n\", classification_report(y_test, y_pred))\n",
    "print(\"Confusion Matrix: \\n\", metrics.confusion_matrix(y_test, y_pred))"
   ]
  },
  {
   "cell_type": "markdown",
   "metadata": {},
   "source": [
    "# xgBoost - OK"
   ]
  },
  {
   "cell_type": "code",
   "execution_count": null,
   "metadata": {},
   "outputs": [],
   "source": [
    "xgb = XGBClassifier(class_weight='balanced', objective='binary:logistic',silent=True, nthread=1)\n",
    "# A parameter grid for XGBoost\n",
    "param_grid = {\n",
    "        'min_child_weight': [1], 'subsample': [0.5],'colsample_bytree': [0.8],\n",
    "        'max_depth': [10], 'learning_rate': [0.1],'n_estimators':[50],\n",
    "        # n_estimators=10, learning_rate= 0.02, 'gamma': [ 1],\n",
    "        }\n",
    "grid_tree=GridSearchCV(xgb, param_grid, cv=5, scoring='accuracy', verbose=1, n_jobs=-1)\n",
    "grid_tree.fit(X_train, y_train)"
   ]
  },
  {
   "cell_type": "code",
   "execution_count": null,
   "metadata": {},
   "outputs": [],
   "source": [
    "print(grid_tree.best_score_)\n",
    "print(grid_tree.best_params_)\n",
    "print(grid_tree.best_estimator_)"
   ]
  },
  {
   "cell_type": "code",
   "execution_count": null,
   "metadata": {},
   "outputs": [],
   "source": [
    "test_tuning(grid_tree.best_estimator_)"
   ]
  },
  {
   "cell_type": "markdown",
   "metadata": {},
   "source": [
    "# Gradient Boosting Machine - OK"
   ]
  },
  {
   "cell_type": "code",
   "execution_count": null,
   "metadata": {},
   "outputs": [],
   "source": [
    "gb = GradientBoostingClassifier()\n",
    "param_grid = [{'n_estimators': [120], 'learning_rate':[0.2],'max_depth': [2],\n",
    "                   'min_samples_split': [2]}]\n",
    "\n",
    "grid_tree=GridSearchCV(gb, param_grid, cv=5, scoring='accuracy', verbose=1, n_jobs=-1)\n",
    "grid_tree.fit(X_train, y_train.ravel())"
   ]
  },
  {
   "cell_type": "code",
   "execution_count": null,
   "metadata": {},
   "outputs": [],
   "source": [
    "print(grid_tree.best_score_)\n",
    "print(grid_tree.best_params_)\n",
    "print(grid_tree.best_estimator_)"
   ]
  },
  {
   "cell_type": "code",
   "execution_count": null,
   "metadata": {},
   "outputs": [],
   "source": [
    "test_tuning(grid_tree.best_estimator_)\n",
    "gb = grid_tree.best_estimator_"
   ]
  },
  {
   "cell_type": "markdown",
   "metadata": {},
   "source": [
    "# ADABoost - OK"
   ]
  },
  {
   "cell_type": "code",
   "execution_count": null,
   "metadata": {},
   "outputs": [],
   "source": [
    "\n",
    "ada = AdaBoostClassifier()\n",
    "param_grid = {'n_estimators': [100,120], 'algorithm': ['SAMME','SAMME.R'],\n",
    "              'learning_rate': [1.0], 'random_state':[10,20]}\n",
    "grid_tree=GridSearchCV(ada, param_grid, cv=5, scoring='accuracy', verbose=1, n_jobs=-1)\n",
    "grid_tree.fit(X_train, y_train)"
   ]
  },
  {
   "cell_type": "code",
   "execution_count": null,
   "metadata": {},
   "outputs": [],
   "source": [
    "print(grid_tree.best_score_)\n",
    "print(grid_tree.best_params_)\n",
    "print(grid_tree.best_estimator_)"
   ]
  },
  {
   "cell_type": "code",
   "execution_count": null,
   "metadata": {},
   "outputs": [],
   "source": [
    "test_tuning(grid_tree.best_estimator_)"
   ]
  },
  {
   "cell_type": "markdown",
   "metadata": {},
   "source": [
    "# Naive Bayes - OK"
   ]
  },
  {
   "cell_type": "code",
   "execution_count": null,
   "metadata": {},
   "outputs": [],
   "source": [
    "with tf.device('/device:GPU:0'):\n",
    "    gnb = GaussianNB()\n",
    "    # defining parameter range \n",
    "    param_grid = {'var_smoothing':[0.01,0.1,0.2]}\n",
    "    grid_tree=GridSearchCV(gnb, param_grid, cv=5, scoring='accuracy', verbose=1, n_jobs=-1)\n",
    "    grid_tree.fit(X_train, y_train)"
   ]
  },
  {
   "cell_type": "code",
   "execution_count": null,
   "metadata": {},
   "outputs": [],
   "source": [
    "print(grid_tree.best_score_)\n",
    "print(grid_tree.best_params_)\n",
    "print(grid_tree.best_estimator_)"
   ]
  },
  {
   "cell_type": "markdown",
   "metadata": {},
   "source": [
    "test_tuning(grid_tree.best_estimator_)\n",
    "nb= grid_tree.best_estimator_"
   ]
  },
  {
   "cell_type": "markdown",
   "metadata": {},
   "source": [
    "# KNN - OK"
   ]
  },
  {
   "cell_type": "code",
   "execution_count": null,
   "metadata": {},
   "outputs": [],
   "source": [
    "knn = KNeighborsClassifier()\n",
    "param_dict = {'n_neighbors': range(3,30, 2), 'metric': ['manhattan','euclidean','minkowski'],\n",
    "              'algorithm': ['auto', 'ball_tree', 'kd_tree', 'brute']}\n",
    "grid_tree= GridSearchCV(knn, param_dict, cv=5, scoring='accuracy', verbose=1, n_jobs=-1)\n",
    "grid_tree.fit(X_train, y_train)"
   ]
  },
  {
   "cell_type": "code",
   "execution_count": null,
   "metadata": {},
   "outputs": [],
   "source": [
    "print(grid_tree.best_score_)\n",
    "print(grid_tree.best_params_)\n",
    "print(grid_tree.best_estimator_)"
   ]
  },
  {
   "cell_type": "code",
   "execution_count": null,
   "metadata": {},
   "outputs": [],
   "source": [
    "test_tuning(grid_tree.best_estimator_)\n",
    "kn= grid_tree.best_estimator_"
   ]
  },
  {
   "cell_type": "code",
   "execution_count": null,
   "metadata": {},
   "outputs": [],
   "source": []
  }
 ],
 "metadata": {
  "kernelspec": {
   "display_name": "Python 3",
   "language": "python",
   "name": "python3"
  },
  "language_info": {
   "codemirror_mode": {
    "name": "ipython",
    "version": 3
   },
   "file_extension": ".py",
   "mimetype": "text/x-python",
   "name": "python",
   "nbconvert_exporter": "python",
   "pygments_lexer": "ipython3",
   "version": "3.7.3"
  }
 },
 "nbformat": 4,
 "nbformat_minor": 4
}
